{
 "cells": [
  {
   "cell_type": "markdown",
   "id": "4d439919-7321-4d53-b5f9-7c6350cc5d21",
   "metadata": {},
   "source": [
    "# IMPORT LIBRARY"
   ]
  },
  {
   "cell_type": "code",
   "execution_count": 1,
   "id": "17662a05-1c64-41f4-b0cb-5347a3678f1e",
   "metadata": {
    "tags": []
   },
   "outputs": [],
   "source": [
    "import pandas as pd\n",
    "import numpy as np\n",
    "import matplotlib.pyplot as plt\n",
    "import seaborn as sns\n",
    "\n",
    "# Library for handle warning\n",
    "import warnings\n",
    "warnings.filterwarnings(\"ignore\")"
   ]
  },
  {
   "cell_type": "markdown",
   "id": "a777eacc-1357-407f-8217-1a08934e5fcd",
   "metadata": {},
   "source": [
    "# IMPORT DATA"
   ]
  },
  {
   "cell_type": "markdown",
   "id": "e5613990-b14c-4067-8bcd-f4f212b5b30b",
   "metadata": {},
   "source": [
    "**Melakukan import data .csv from data preprocessing yang sudah bersih**"
   ]
  },
  {
   "cell_type": "code",
   "execution_count": 2,
   "id": "71de0bb2-da94-4f3c-96d5-322728619942",
   "metadata": {
    "tags": []
   },
   "outputs": [],
   "source": [
    "df = pd.read_csv('D:\\MyProject\\Telco Churn Prediction\\DATA\\data_clean.csv')"
   ]
  },
  {
   "cell_type": "code",
   "execution_count": 3,
   "id": "17fec7b9-2acd-4c82-964c-ff73f258a475",
   "metadata": {
    "tags": []
   },
   "outputs": [
    {
     "data": {
      "text/html": [
       "<div>\n",
       "<style scoped>\n",
       "    .dataframe tbody tr th:only-of-type {\n",
       "        vertical-align: middle;\n",
       "    }\n",
       "\n",
       "    .dataframe tbody tr th {\n",
       "        vertical-align: top;\n",
       "    }\n",
       "\n",
       "    .dataframe thead th {\n",
       "        text-align: right;\n",
       "    }\n",
       "</style>\n",
       "<table border=\"1\" class=\"dataframe\">\n",
       "  <thead>\n",
       "    <tr style=\"text-align: right;\">\n",
       "      <th></th>\n",
       "      <th>Unnamed: 0</th>\n",
       "      <th>SeniorCitizen</th>\n",
       "      <th>MonthlyCharges</th>\n",
       "      <th>TotalCharges</th>\n",
       "      <th>gender_Female</th>\n",
       "      <th>gender_Male</th>\n",
       "      <th>Partner_No</th>\n",
       "      <th>Partner_Yes</th>\n",
       "      <th>Dependents_No</th>\n",
       "      <th>Dependents_Yes</th>\n",
       "      <th>...</th>\n",
       "      <th>PaymentMethod_Credit card (automatic)</th>\n",
       "      <th>PaymentMethod_Electronic check</th>\n",
       "      <th>PaymentMethod_Mailed check</th>\n",
       "      <th>tenure_group_1 - 12</th>\n",
       "      <th>tenure_group_13 - 24</th>\n",
       "      <th>tenure_group_25 - 36</th>\n",
       "      <th>tenure_group_37 - 48</th>\n",
       "      <th>tenure_group_49 - 60</th>\n",
       "      <th>tenure_group_61 - 72</th>\n",
       "      <th>Churn</th>\n",
       "    </tr>\n",
       "  </thead>\n",
       "  <tbody>\n",
       "    <tr>\n",
       "      <th>0</th>\n",
       "      <td>0</td>\n",
       "      <td>0</td>\n",
       "      <td>29.85</td>\n",
       "      <td>29.85</td>\n",
       "      <td>1</td>\n",
       "      <td>0</td>\n",
       "      <td>0</td>\n",
       "      <td>1</td>\n",
       "      <td>1</td>\n",
       "      <td>0</td>\n",
       "      <td>...</td>\n",
       "      <td>0</td>\n",
       "      <td>1</td>\n",
       "      <td>0</td>\n",
       "      <td>1</td>\n",
       "      <td>0</td>\n",
       "      <td>0</td>\n",
       "      <td>0</td>\n",
       "      <td>0</td>\n",
       "      <td>0</td>\n",
       "      <td>0</td>\n",
       "    </tr>\n",
       "    <tr>\n",
       "      <th>1</th>\n",
       "      <td>1</td>\n",
       "      <td>0</td>\n",
       "      <td>56.95</td>\n",
       "      <td>1889.50</td>\n",
       "      <td>0</td>\n",
       "      <td>1</td>\n",
       "      <td>1</td>\n",
       "      <td>0</td>\n",
       "      <td>1</td>\n",
       "      <td>0</td>\n",
       "      <td>...</td>\n",
       "      <td>0</td>\n",
       "      <td>0</td>\n",
       "      <td>1</td>\n",
       "      <td>0</td>\n",
       "      <td>0</td>\n",
       "      <td>1</td>\n",
       "      <td>0</td>\n",
       "      <td>0</td>\n",
       "      <td>0</td>\n",
       "      <td>0</td>\n",
       "    </tr>\n",
       "    <tr>\n",
       "      <th>2</th>\n",
       "      <td>2</td>\n",
       "      <td>0</td>\n",
       "      <td>53.85</td>\n",
       "      <td>108.15</td>\n",
       "      <td>0</td>\n",
       "      <td>1</td>\n",
       "      <td>1</td>\n",
       "      <td>0</td>\n",
       "      <td>1</td>\n",
       "      <td>0</td>\n",
       "      <td>...</td>\n",
       "      <td>0</td>\n",
       "      <td>0</td>\n",
       "      <td>1</td>\n",
       "      <td>1</td>\n",
       "      <td>0</td>\n",
       "      <td>0</td>\n",
       "      <td>0</td>\n",
       "      <td>0</td>\n",
       "      <td>0</td>\n",
       "      <td>1</td>\n",
       "    </tr>\n",
       "    <tr>\n",
       "      <th>3</th>\n",
       "      <td>3</td>\n",
       "      <td>0</td>\n",
       "      <td>42.30</td>\n",
       "      <td>1840.75</td>\n",
       "      <td>0</td>\n",
       "      <td>1</td>\n",
       "      <td>1</td>\n",
       "      <td>0</td>\n",
       "      <td>1</td>\n",
       "      <td>0</td>\n",
       "      <td>...</td>\n",
       "      <td>0</td>\n",
       "      <td>0</td>\n",
       "      <td>0</td>\n",
       "      <td>0</td>\n",
       "      <td>0</td>\n",
       "      <td>0</td>\n",
       "      <td>1</td>\n",
       "      <td>0</td>\n",
       "      <td>0</td>\n",
       "      <td>0</td>\n",
       "    </tr>\n",
       "    <tr>\n",
       "      <th>4</th>\n",
       "      <td>4</td>\n",
       "      <td>0</td>\n",
       "      <td>70.70</td>\n",
       "      <td>151.65</td>\n",
       "      <td>1</td>\n",
       "      <td>0</td>\n",
       "      <td>1</td>\n",
       "      <td>0</td>\n",
       "      <td>1</td>\n",
       "      <td>0</td>\n",
       "      <td>...</td>\n",
       "      <td>0</td>\n",
       "      <td>1</td>\n",
       "      <td>0</td>\n",
       "      <td>1</td>\n",
       "      <td>0</td>\n",
       "      <td>0</td>\n",
       "      <td>0</td>\n",
       "      <td>0</td>\n",
       "      <td>0</td>\n",
       "      <td>1</td>\n",
       "    </tr>\n",
       "  </tbody>\n",
       "</table>\n",
       "<p>5 rows × 52 columns</p>\n",
       "</div>"
      ],
      "text/plain": [
       "   Unnamed: 0  SeniorCitizen  MonthlyCharges  TotalCharges  gender_Female  \\\n",
       "0           0              0           29.85         29.85              1   \n",
       "1           1              0           56.95       1889.50              0   \n",
       "2           2              0           53.85        108.15              0   \n",
       "3           3              0           42.30       1840.75              0   \n",
       "4           4              0           70.70        151.65              1   \n",
       "\n",
       "   gender_Male  Partner_No  Partner_Yes  Dependents_No  Dependents_Yes  ...  \\\n",
       "0            0           0            1              1               0  ...   \n",
       "1            1           1            0              1               0  ...   \n",
       "2            1           1            0              1               0  ...   \n",
       "3            1           1            0              1               0  ...   \n",
       "4            0           1            0              1               0  ...   \n",
       "\n",
       "   PaymentMethod_Credit card (automatic)  PaymentMethod_Electronic check  \\\n",
       "0                                      0                               1   \n",
       "1                                      0                               0   \n",
       "2                                      0                               0   \n",
       "3                                      0                               0   \n",
       "4                                      0                               1   \n",
       "\n",
       "   PaymentMethod_Mailed check  tenure_group_1 - 12  tenure_group_13 - 24  \\\n",
       "0                           0                    1                     0   \n",
       "1                           1                    0                     0   \n",
       "2                           1                    1                     0   \n",
       "3                           0                    0                     0   \n",
       "4                           0                    1                     0   \n",
       "\n",
       "   tenure_group_25 - 36  tenure_group_37 - 48  tenure_group_49 - 60  \\\n",
       "0                     0                     0                     0   \n",
       "1                     1                     0                     0   \n",
       "2                     0                     0                     0   \n",
       "3                     0                     1                     0   \n",
       "4                     0                     0                     0   \n",
       "\n",
       "   tenure_group_61 - 72  Churn  \n",
       "0                     0      0  \n",
       "1                     0      0  \n",
       "2                     0      1  \n",
       "3                     0      0  \n",
       "4                     0      1  \n",
       "\n",
       "[5 rows x 52 columns]"
      ]
     },
     "execution_count": 3,
     "metadata": {},
     "output_type": "execute_result"
    }
   ],
   "source": [
    "df.head()"
   ]
  },
  {
   "cell_type": "code",
   "execution_count": 4,
   "id": "0ee4f21d-e2f6-4273-b043-5c343300cd60",
   "metadata": {
    "tags": []
   },
   "outputs": [
    {
     "data": {
      "text/html": [
       "<div>\n",
       "<style scoped>\n",
       "    .dataframe tbody tr th:only-of-type {\n",
       "        vertical-align: middle;\n",
       "    }\n",
       "\n",
       "    .dataframe tbody tr th {\n",
       "        vertical-align: top;\n",
       "    }\n",
       "\n",
       "    .dataframe thead th {\n",
       "        text-align: right;\n",
       "    }\n",
       "</style>\n",
       "<table border=\"1\" class=\"dataframe\">\n",
       "  <thead>\n",
       "    <tr style=\"text-align: right;\">\n",
       "      <th></th>\n",
       "      <th>SeniorCitizen</th>\n",
       "      <th>MonthlyCharges</th>\n",
       "      <th>TotalCharges</th>\n",
       "      <th>gender_Female</th>\n",
       "      <th>gender_Male</th>\n",
       "      <th>Partner_No</th>\n",
       "      <th>Partner_Yes</th>\n",
       "      <th>Dependents_No</th>\n",
       "      <th>Dependents_Yes</th>\n",
       "      <th>PhoneService_No</th>\n",
       "      <th>...</th>\n",
       "      <th>PaymentMethod_Credit card (automatic)</th>\n",
       "      <th>PaymentMethod_Electronic check</th>\n",
       "      <th>PaymentMethod_Mailed check</th>\n",
       "      <th>tenure_group_1 - 12</th>\n",
       "      <th>tenure_group_13 - 24</th>\n",
       "      <th>tenure_group_25 - 36</th>\n",
       "      <th>tenure_group_37 - 48</th>\n",
       "      <th>tenure_group_49 - 60</th>\n",
       "      <th>tenure_group_61 - 72</th>\n",
       "      <th>Churn</th>\n",
       "    </tr>\n",
       "  </thead>\n",
       "  <tbody>\n",
       "    <tr>\n",
       "      <th>0</th>\n",
       "      <td>0</td>\n",
       "      <td>29.85</td>\n",
       "      <td>29.85</td>\n",
       "      <td>1</td>\n",
       "      <td>0</td>\n",
       "      <td>0</td>\n",
       "      <td>1</td>\n",
       "      <td>1</td>\n",
       "      <td>0</td>\n",
       "      <td>1</td>\n",
       "      <td>...</td>\n",
       "      <td>0</td>\n",
       "      <td>1</td>\n",
       "      <td>0</td>\n",
       "      <td>1</td>\n",
       "      <td>0</td>\n",
       "      <td>0</td>\n",
       "      <td>0</td>\n",
       "      <td>0</td>\n",
       "      <td>0</td>\n",
       "      <td>0</td>\n",
       "    </tr>\n",
       "    <tr>\n",
       "      <th>1</th>\n",
       "      <td>0</td>\n",
       "      <td>56.95</td>\n",
       "      <td>1889.50</td>\n",
       "      <td>0</td>\n",
       "      <td>1</td>\n",
       "      <td>1</td>\n",
       "      <td>0</td>\n",
       "      <td>1</td>\n",
       "      <td>0</td>\n",
       "      <td>0</td>\n",
       "      <td>...</td>\n",
       "      <td>0</td>\n",
       "      <td>0</td>\n",
       "      <td>1</td>\n",
       "      <td>0</td>\n",
       "      <td>0</td>\n",
       "      <td>1</td>\n",
       "      <td>0</td>\n",
       "      <td>0</td>\n",
       "      <td>0</td>\n",
       "      <td>0</td>\n",
       "    </tr>\n",
       "    <tr>\n",
       "      <th>2</th>\n",
       "      <td>0</td>\n",
       "      <td>53.85</td>\n",
       "      <td>108.15</td>\n",
       "      <td>0</td>\n",
       "      <td>1</td>\n",
       "      <td>1</td>\n",
       "      <td>0</td>\n",
       "      <td>1</td>\n",
       "      <td>0</td>\n",
       "      <td>0</td>\n",
       "      <td>...</td>\n",
       "      <td>0</td>\n",
       "      <td>0</td>\n",
       "      <td>1</td>\n",
       "      <td>1</td>\n",
       "      <td>0</td>\n",
       "      <td>0</td>\n",
       "      <td>0</td>\n",
       "      <td>0</td>\n",
       "      <td>0</td>\n",
       "      <td>1</td>\n",
       "    </tr>\n",
       "    <tr>\n",
       "      <th>3</th>\n",
       "      <td>0</td>\n",
       "      <td>42.30</td>\n",
       "      <td>1840.75</td>\n",
       "      <td>0</td>\n",
       "      <td>1</td>\n",
       "      <td>1</td>\n",
       "      <td>0</td>\n",
       "      <td>1</td>\n",
       "      <td>0</td>\n",
       "      <td>1</td>\n",
       "      <td>...</td>\n",
       "      <td>0</td>\n",
       "      <td>0</td>\n",
       "      <td>0</td>\n",
       "      <td>0</td>\n",
       "      <td>0</td>\n",
       "      <td>0</td>\n",
       "      <td>1</td>\n",
       "      <td>0</td>\n",
       "      <td>0</td>\n",
       "      <td>0</td>\n",
       "    </tr>\n",
       "    <tr>\n",
       "      <th>4</th>\n",
       "      <td>0</td>\n",
       "      <td>70.70</td>\n",
       "      <td>151.65</td>\n",
       "      <td>1</td>\n",
       "      <td>0</td>\n",
       "      <td>1</td>\n",
       "      <td>0</td>\n",
       "      <td>1</td>\n",
       "      <td>0</td>\n",
       "      <td>0</td>\n",
       "      <td>...</td>\n",
       "      <td>0</td>\n",
       "      <td>1</td>\n",
       "      <td>0</td>\n",
       "      <td>1</td>\n",
       "      <td>0</td>\n",
       "      <td>0</td>\n",
       "      <td>0</td>\n",
       "      <td>0</td>\n",
       "      <td>0</td>\n",
       "      <td>1</td>\n",
       "    </tr>\n",
       "  </tbody>\n",
       "</table>\n",
       "<p>5 rows × 51 columns</p>\n",
       "</div>"
      ],
      "text/plain": [
       "   SeniorCitizen  MonthlyCharges  TotalCharges  gender_Female  gender_Male  \\\n",
       "0              0           29.85         29.85              1            0   \n",
       "1              0           56.95       1889.50              0            1   \n",
       "2              0           53.85        108.15              0            1   \n",
       "3              0           42.30       1840.75              0            1   \n",
       "4              0           70.70        151.65              1            0   \n",
       "\n",
       "   Partner_No  Partner_Yes  Dependents_No  Dependents_Yes  PhoneService_No  \\\n",
       "0           0            1              1               0                1   \n",
       "1           1            0              1               0                0   \n",
       "2           1            0              1               0                0   \n",
       "3           1            0              1               0                1   \n",
       "4           1            0              1               0                0   \n",
       "\n",
       "   ...  PaymentMethod_Credit card (automatic)  PaymentMethod_Electronic check  \\\n",
       "0  ...                                      0                               1   \n",
       "1  ...                                      0                               0   \n",
       "2  ...                                      0                               0   \n",
       "3  ...                                      0                               0   \n",
       "4  ...                                      0                               1   \n",
       "\n",
       "   PaymentMethod_Mailed check  tenure_group_1 - 12  tenure_group_13 - 24  \\\n",
       "0                           0                    1                     0   \n",
       "1                           1                    0                     0   \n",
       "2                           1                    1                     0   \n",
       "3                           0                    0                     0   \n",
       "4                           0                    1                     0   \n",
       "\n",
       "   tenure_group_25 - 36  tenure_group_37 - 48  tenure_group_49 - 60  \\\n",
       "0                     0                     0                     0   \n",
       "1                     1                     0                     0   \n",
       "2                     0                     0                     0   \n",
       "3                     0                     1                     0   \n",
       "4                     0                     0                     0   \n",
       "\n",
       "   tenure_group_61 - 72  Churn  \n",
       "0                     0      0  \n",
       "1                     0      0  \n",
       "2                     0      1  \n",
       "3                     0      0  \n",
       "4                     0      1  \n",
       "\n",
       "[5 rows x 51 columns]"
      ]
     },
     "execution_count": 4,
     "metadata": {},
     "output_type": "execute_result"
    }
   ],
   "source": [
    "# drop kolom Unnamed\n",
    "\n",
    "df = df.drop(['Unnamed: 0'], axis=1)\n",
    "df.head()"
   ]
  },
  {
   "cell_type": "markdown",
   "id": "5b8abb8d-f5cb-459e-833b-875f17f52491",
   "metadata": {},
   "source": [
    "# SPLITTING DATA"
   ]
  },
  {
   "cell_type": "code",
   "execution_count": 5,
   "id": "e71ff2ca-2c44-4370-9743-a0662aa29f7c",
   "metadata": {
    "tags": []
   },
   "outputs": [],
   "source": [
    "# Splitting Dataset into train and test set\n",
    "\n",
    "X = df.drop('Churn', axis=1)\n",
    "y = df['Churn']"
   ]
  },
  {
   "cell_type": "code",
   "execution_count": 6,
   "id": "85c70d0d-b596-4556-906e-dc75de6b9481",
   "metadata": {
    "tags": []
   },
   "outputs": [
    {
     "name": "stdout",
     "output_type": "stream",
     "text": [
      "(5625, 50)\n",
      "(1407, 50)\n"
     ]
    }
   ],
   "source": [
    "from sklearn.model_selection import train_test_split # import train test split\n",
    "\n",
    "X_train, X_test, y_train, y_test = train_test_split(X, y, test_size=0.2, random_state = 0)\n",
    "print(X_train.shape)\n",
    "print(X_test.shape)"
   ]
  },
  {
   "cell_type": "markdown",
   "id": "241790dc-1818-443c-956a-39d11d5d9a78",
   "metadata": {},
   "source": [
    "# MODELLING"
   ]
  },
  {
   "cell_type": "markdown",
   "id": "4379a7b6-411b-4cf8-9202-ac7f24c930ec",
   "metadata": {
    "tags": []
   },
   "source": [
    "## RANDOM FOREST"
   ]
  },
  {
   "cell_type": "code",
   "execution_count": 13,
   "id": "bd3db18b-b610-4d46-a36f-f81ec3698615",
   "metadata": {
    "tags": []
   },
   "outputs": [],
   "source": [
    "from sklearn.ensemble import RandomForestClassifier # import library for call random forest algorithm\n",
    "\n",
    "clf = RandomForestClassifier(n_estimators=700,criterion='gini', max_depth=10, max_features='log2', random_state=0)\n",
    "\n",
    "#Train the model using the training sets y_pred=clf.predict(X_test)\n",
    "rfc = clf.fit(X_train,y_train)\n",
    "y_pred = rfc.predict(X_test)"
   ]
  },
  {
   "cell_type": "code",
   "execution_count": 14,
   "id": "9b29bd8c-0747-4098-8bcb-5ef51cd2ba96",
   "metadata": {
    "tags": []
   },
   "outputs": [
    {
     "data": {
      "text/html": [
       "<style>#sk-container-id-1 {color: black;}#sk-container-id-1 pre{padding: 0;}#sk-container-id-1 div.sk-toggleable {background-color: white;}#sk-container-id-1 label.sk-toggleable__label {cursor: pointer;display: block;width: 100%;margin-bottom: 0;padding: 0.3em;box-sizing: border-box;text-align: center;}#sk-container-id-1 label.sk-toggleable__label-arrow:before {content: \"▸\";float: left;margin-right: 0.25em;color: #696969;}#sk-container-id-1 label.sk-toggleable__label-arrow:hover:before {color: black;}#sk-container-id-1 div.sk-estimator:hover label.sk-toggleable__label-arrow:before {color: black;}#sk-container-id-1 div.sk-toggleable__content {max-height: 0;max-width: 0;overflow: hidden;text-align: left;background-color: #f0f8ff;}#sk-container-id-1 div.sk-toggleable__content pre {margin: 0.2em;color: black;border-radius: 0.25em;background-color: #f0f8ff;}#sk-container-id-1 input.sk-toggleable__control:checked~div.sk-toggleable__content {max-height: 200px;max-width: 100%;overflow: auto;}#sk-container-id-1 input.sk-toggleable__control:checked~label.sk-toggleable__label-arrow:before {content: \"▾\";}#sk-container-id-1 div.sk-estimator input.sk-toggleable__control:checked~label.sk-toggleable__label {background-color: #d4ebff;}#sk-container-id-1 div.sk-label input.sk-toggleable__control:checked~label.sk-toggleable__label {background-color: #d4ebff;}#sk-container-id-1 input.sk-hidden--visually {border: 0;clip: rect(1px 1px 1px 1px);clip: rect(1px, 1px, 1px, 1px);height: 1px;margin: -1px;overflow: hidden;padding: 0;position: absolute;width: 1px;}#sk-container-id-1 div.sk-estimator {font-family: monospace;background-color: #f0f8ff;border: 1px dotted black;border-radius: 0.25em;box-sizing: border-box;margin-bottom: 0.5em;}#sk-container-id-1 div.sk-estimator:hover {background-color: #d4ebff;}#sk-container-id-1 div.sk-parallel-item::after {content: \"\";width: 100%;border-bottom: 1px solid gray;flex-grow: 1;}#sk-container-id-1 div.sk-label:hover label.sk-toggleable__label {background-color: #d4ebff;}#sk-container-id-1 div.sk-serial::before {content: \"\";position: absolute;border-left: 1px solid gray;box-sizing: border-box;top: 0;bottom: 0;left: 50%;z-index: 0;}#sk-container-id-1 div.sk-serial {display: flex;flex-direction: column;align-items: center;background-color: white;padding-right: 0.2em;padding-left: 0.2em;position: relative;}#sk-container-id-1 div.sk-item {position: relative;z-index: 1;}#sk-container-id-1 div.sk-parallel {display: flex;align-items: stretch;justify-content: center;background-color: white;position: relative;}#sk-container-id-1 div.sk-item::before, #sk-container-id-1 div.sk-parallel-item::before {content: \"\";position: absolute;border-left: 1px solid gray;box-sizing: border-box;top: 0;bottom: 0;left: 50%;z-index: -1;}#sk-container-id-1 div.sk-parallel-item {display: flex;flex-direction: column;z-index: 1;position: relative;background-color: white;}#sk-container-id-1 div.sk-parallel-item:first-child::after {align-self: flex-end;width: 50%;}#sk-container-id-1 div.sk-parallel-item:last-child::after {align-self: flex-start;width: 50%;}#sk-container-id-1 div.sk-parallel-item:only-child::after {width: 0;}#sk-container-id-1 div.sk-dashed-wrapped {border: 1px dashed gray;margin: 0 0.4em 0.5em 0.4em;box-sizing: border-box;padding-bottom: 0.4em;background-color: white;}#sk-container-id-1 div.sk-label label {font-family: monospace;font-weight: bold;display: inline-block;line-height: 1.2em;}#sk-container-id-1 div.sk-label-container {text-align: center;}#sk-container-id-1 div.sk-container {/* jupyter's `normalize.less` sets `[hidden] { display: none; }` but bootstrap.min.css set `[hidden] { display: none !important; }` so we also need the `!important` here to be able to override the default hidden behavior on the sphinx rendered scikit-learn.org. See: https://github.com/scikit-learn/scikit-learn/issues/21755 */display: inline-block !important;position: relative;}#sk-container-id-1 div.sk-text-repr-fallback {display: none;}</style><div id=\"sk-container-id-1\" class=\"sk-top-container\"><div class=\"sk-text-repr-fallback\"><pre>RandomForestClassifier(max_depth=10, max_features=&#x27;log2&#x27;, n_estimators=700,\n",
       "                       random_state=0)</pre><b>In a Jupyter environment, please rerun this cell to show the HTML representation or trust the notebook. <br />On GitHub, the HTML representation is unable to render, please try loading this page with nbviewer.org.</b></div><div class=\"sk-container\" hidden><div class=\"sk-item\"><div class=\"sk-estimator sk-toggleable\"><input class=\"sk-toggleable__control sk-hidden--visually\" id=\"sk-estimator-id-1\" type=\"checkbox\" checked><label for=\"sk-estimator-id-1\" class=\"sk-toggleable__label sk-toggleable__label-arrow\">RandomForestClassifier</label><div class=\"sk-toggleable__content\"><pre>RandomForestClassifier(max_depth=10, max_features=&#x27;log2&#x27;, n_estimators=700,\n",
       "                       random_state=0)</pre></div></div></div></div></div>"
      ],
      "text/plain": [
       "RandomForestClassifier(max_depth=10, max_features='log2', n_estimators=700,\n",
       "                       random_state=0)"
      ]
     },
     "execution_count": 14,
     "metadata": {},
     "output_type": "execute_result"
    }
   ],
   "source": [
    "# Training Model\n",
    "rfc.fit(X_train, y_train)"
   ]
  },
  {
   "cell_type": "code",
   "execution_count": 15,
   "id": "729beba0-0bd7-465b-8816-31d0cea2e1ad",
   "metadata": {
    "tags": []
   },
   "outputs": [],
   "source": [
    "# Making Prediction\n",
    "pred_rf = rfc.predict(X_test)"
   ]
  },
  {
   "cell_type": "code",
   "execution_count": 27,
   "id": "45ba3d13-facb-4af8-be4d-bc20c23a249c",
   "metadata": {
    "tags": []
   },
   "outputs": [
    {
     "name": "stdout",
     "output_type": "stream",
     "text": [
      "Accuracy : 80.03 %\n",
      "Precision : 78.83 %\n",
      "Recall : 80.03 %\n",
      "f1-score : 78.94 %\n"
     ]
    }
   ],
   "source": [
    "from sklearn.metrics import confusion_matrix # algorithm for confusion matrix\n",
    "from sklearn.metrics import classification_report # algorithm for classification report\n",
    "from sklearn.metrics import accuracy_score, precision_score, recall_score, f1_score # algorithm for call accuracy_score, precision_score, recall score and f1-score\n",
    "\n",
    "# Calculating Accuracy Score\n",
    "print('Accuracy :', round(accuracy_score(y_test, pred_rf)*100,2),\"%\")\n",
    "print('Precision :', round(precision_score(y_test, pred_rf, average='weighted', zero_division=0)*100,2),\"%\")\n",
    "print('Recall :', round(recall_score(y_test, pred_rf, average='weighted', zero_division=0)*100,2),\"%\")\n",
    "print('f1-score :', round(f1_score(y_test,\tpred_rf, average='weighted', zero_division=0)*100,2), \"%\")"
   ]
  },
  {
   "cell_type": "code",
   "execution_count": 28,
   "id": "4205db9b-70af-4221-af9d-44b83236c70f",
   "metadata": {
    "tags": []
   },
   "outputs": [
    {
     "name": "stdout",
     "output_type": "stream",
     "text": [
      "              precision    recall  f1-score   support\n",
      "\n",
      "           0       0.83      0.91      0.87      1038\n",
      "           1       0.66      0.49      0.56       369\n",
      "\n",
      "    accuracy                           0.80      1407\n",
      "   macro avg       0.75      0.70      0.72      1407\n",
      "weighted avg       0.79      0.80      0.79      1407\n",
      "\n"
     ]
    }
   ],
   "source": [
    "print(classification_report(y_test,pred_rf))"
   ]
  },
  {
   "cell_type": "code",
   "execution_count": 29,
   "id": "9867c530-1ee1-473a-b22e-edae5c1f44d7",
   "metadata": {
    "tags": []
   },
   "outputs": [
    {
     "data": {
      "image/png": "[encoded data removed]",
      "text/plain": [
       "<Figure size 640x480 with 2 Axes>"
      ]
     },
     "metadata": {},
     "output_type": "display_data"
    }
   ],
   "source": [
    "# confusion Maxtrix\n",
    "cm3 = confusion_matrix(y_test, pred_rf)\n",
    "sns.heatmap(cm3/np.sum(cm3), annot = True, fmt=  '0.2%', cmap = 'Reds')\n",
    "plt.title(\"RandomForest Classifier Confusion Matrix\",fontsize=12)\n",
    "plt.show()"
   ]
  },
  {
   "cell_type": "markdown",
   "id": "8982bd4b-7e84-4cca-811b-431608b64761",
   "metadata": {
    "jp-MarkdownHeadingCollapsed": true,
    "tags": []
   },
   "source": [
    "## DECISION TREE"
   ]
  },
  {
   "cell_type": "code",
   "execution_count": 19,
   "id": "d84daac9-e1cf-43f5-8cad-6f6d387a5c36",
   "metadata": {
    "tags": []
   },
   "outputs": [
    {
     "name": "stdout",
     "output_type": "stream",
     "text": [
      "Fitting 3 folds for each of 120 candidates, totalling 360 fits\n",
      "[CV 1/3] END criterion=gini, max_depth=10, max_features=auto, splitter=best;, score=nan total time=   0.0s\n",
      "[CV 2/3] END criterion=gini, max_depth=10, max_features=auto, splitter=best;, score=nan total time=   0.0s\n",
      "[CV 3/3] END criterion=gini, max_depth=10, max_features=auto, splitter=best;, score=nan total time=   0.0s\n",
      "[CV 1/3] END criterion=gini, max_depth=10, max_features=auto, splitter=random;, score=nan total time=   0.0s\n",
      "[CV 2/3] END criterion=gini, max_depth=10, max_features=auto, splitter=random;, score=nan total time=   0.0s\n",
      "[CV 3/3] END criterion=gini, max_depth=10, max_features=auto, splitter=random;, score=nan total time=   0.0s\n",
      "[CV 1/3] END criterion=gini, max_depth=10, max_features=sqrt, splitter=best;, score=0.775 total time=   0.0s\n",
      "[CV 2/3] END criterion=gini, max_depth=10, max_features=sqrt, splitter=best;, score=0.763 total time=   0.0s\n",
      "[CV 3/3] END criterion=gini, max_depth=10, max_features=sqrt, splitter=best;, score=0.776 total time=   0.0s\n",
      "[CV 1/3] END criterion=gini, max_depth=10, max_features=sqrt, splitter=random;, score=0.765 total time=   0.0s\n",
      "[CV 2/3] END criterion=gini, max_depth=10, max_features=sqrt, splitter=random;, score=0.756 total time=   0.0s\n",
      "[CV 3/3] END criterion=gini, max_depth=10, max_features=sqrt, splitter=random;, score=0.771 total time=   0.0s\n",
      "[CV 1/3] END criterion=gini, max_depth=10, max_features=log2, splitter=best;, score=0.764 total time=   0.0s\n",
      "[CV 2/3] END criterion=gini, max_depth=10, max_features=log2, splitter=best;, score=0.763 total time=   0.0s\n",
      "[CV 3/3] END criterion=gini, max_depth=10, max_features=log2, splitter=best;, score=0.772 total time=   0.0s\n",
      "[CV 1/3] END criterion=gini, max_depth=10, max_features=log2, splitter=random;, score=0.779 total time=   0.0s\n",
      "[CV 2/3] END criterion=gini, max_depth=10, max_features=log2, splitter=random;, score=0.759 total time=   0.0s\n",
      "[CV 3/3] END criterion=gini, max_depth=10, max_features=log2, splitter=random;, score=0.773 total time=   0.0s\n",
      "[CV 1/3] END criterion=gini, max_depth=20, max_features=auto, splitter=best;, score=nan total time=   0.0s\n",
      "[CV 2/3] END criterion=gini, max_depth=20, max_features=auto, splitter=best;, score=nan total time=   0.0s\n",
      "[CV 3/3] END criterion=gini, max_depth=20, max_features=auto, splitter=best;, score=nan total time=   0.0s\n",
      "[CV 1/3] END criterion=gini, max_depth=20, max_features=auto, splitter=random;, score=nan total time=   0.0s\n",
      "[CV 2/3] END criterion=gini, max_depth=20, max_features=auto, splitter=random;, score=nan total time=   0.0s\n",
      "[CV 3/3] END criterion=gini, max_depth=20, max_features=auto, splitter=random;, score=nan total time=   0.0s\n",
      "[CV 1/3] END criterion=gini, max_depth=20, max_features=sqrt, splitter=best;, score=0.717 total time=   0.0s\n",
      "[CV 2/3] END criterion=gini, max_depth=20, max_features=sqrt, splitter=best;, score=0.722 total time=   0.0s\n",
      "[CV 3/3] END criterion=gini, max_depth=20, max_features=sqrt, splitter=best;, score=0.737 total time=   0.0s\n",
      "[CV 1/3] END criterion=gini, max_depth=20, max_features=sqrt, splitter=random;, score=0.733 total time=   0.0s\n",
      "[CV 2/3] END criterion=gini, max_depth=20, max_features=sqrt, splitter=random;, score=0.709 total time=   0.0s\n",
      "[CV 3/3] END criterion=gini, max_depth=20, max_features=sqrt, splitter=random;, score=0.720 total time=   0.0s\n",
      "[CV 1/3] END criterion=gini, max_depth=20, max_features=log2, splitter=best;, score=0.716 total time=   0.0s\n",
      "[CV 2/3] END criterion=gini, max_depth=20, max_features=log2, splitter=best;, score=0.725 total time=   0.0s\n",
      "[CV 3/3] END criterion=gini, max_depth=20, max_features=log2, splitter=best;, score=0.725 total time=   0.0s\n",
      "[CV 1/3] END criterion=gini, max_depth=20, max_features=log2, splitter=random;, score=0.718 total time=   0.0s\n",
      "[CV 2/3] END criterion=gini, max_depth=20, max_features=log2, splitter=random;, score=0.719 total time=   0.0s\n",
      "[CV 3/3] END criterion=gini, max_depth=20, max_features=log2, splitter=random;, score=0.718 total time=   0.0s\n",
      "[CV 1/3] END criterion=gini, max_depth=30, max_features=auto, splitter=best;, score=nan total time=   0.0s\n",
      "[CV 2/3] END criterion=gini, max_depth=30, max_features=auto, splitter=best;, score=nan total time=   0.0s\n",
      "[CV 3/3] END criterion=gini, max_depth=30, max_features=auto, splitter=best;, score=nan total time=   0.0s\n",
      "[CV 1/3] END criterion=gini, max_depth=30, max_features=auto, splitter=random;, score=nan total time=   0.0s\n",
      "[CV 2/3] END criterion=gini, max_depth=30, max_features=auto, splitter=random;, score=nan total time=   0.0s\n",
      "[CV 3/3] END criterion=gini, max_depth=30, max_features=auto, splitter=random;, score=nan total time=   0.0s\n",
      "[CV 1/3] END criterion=gini, max_depth=30, max_features=sqrt, splitter=best;, score=0.722 total time=   0.0s\n",
      "[CV 2/3] END criterion=gini, max_depth=30, max_features=sqrt, splitter=best;, score=0.722 total time=   0.0s\n",
      "[CV 3/3] END criterion=gini, max_depth=30, max_features=sqrt, splitter=best;, score=0.723 total time=   0.0s\n",
      "[CV 1/3] END criterion=gini, max_depth=30, max_features=sqrt, splitter=random;, score=0.738 total time=   0.0s\n",
      "[CV 2/3] END criterion=gini, max_depth=30, max_features=sqrt, splitter=random;, score=0.716 total time=   0.0s\n",
      "[CV 3/3] END criterion=gini, max_depth=30, max_features=sqrt, splitter=random;, score=0.709 total time=   0.0s\n",
      "[CV 1/3] END criterion=gini, max_depth=30, max_features=log2, splitter=best;, score=0.726 total time=   0.0s\n",
      "[CV 2/3] END criterion=gini, max_depth=30, max_features=log2, splitter=best;, score=0.726 total time=   0.0s\n",
      "[CV 3/3] END criterion=gini, max_depth=30, max_features=log2, splitter=best;, score=0.745 total time=   0.0s\n",
      "[CV 1/3] END criterion=gini, max_depth=30, max_features=log2, splitter=random;, score=0.708 total time=   0.0s\n",
      "[CV 2/3] END criterion=gini, max_depth=30, max_features=log2, splitter=random;, score=0.718 total time=   0.0s\n",
      "[CV 3/3] END criterion=gini, max_depth=30, max_features=log2, splitter=random;, score=0.716 total time=   0.0s\n",
      "[CV 1/3] END criterion=gini, max_depth=40, max_features=auto, splitter=best;, score=nan total time=   0.0s\n",
      "[CV 2/3] END criterion=gini, max_depth=40, max_features=auto, splitter=best;, score=nan total time=   0.0s\n",
      "[CV 3/3] END criterion=gini, max_depth=40, max_features=auto, splitter=best;, score=nan total time=   0.0s\n",
      "[CV 1/3] END criterion=gini, max_depth=40, max_features=auto, splitter=random;, score=nan total time=   0.0s\n",
      "[CV 2/3] END criterion=gini, max_depth=40, max_features=auto, splitter=random;, score=nan total time=   0.0s\n",
      "[CV 3/3] END criterion=gini, max_depth=40, max_features=auto, splitter=random;, score=nan total time=   0.0s\n",
      "[CV 1/3] END criterion=gini, max_depth=40, max_features=sqrt, splitter=best;, score=0.722 total time=   0.0s\n",
      "[CV 2/3] END criterion=gini, max_depth=40, max_features=sqrt, splitter=best;, score=0.722 total time=   0.0s\n",
      "[CV 3/3] END criterion=gini, max_depth=40, max_features=sqrt, splitter=best;, score=0.723 total time=   0.0s\n",
      "[CV 1/3] END criterion=gini, max_depth=40, max_features=sqrt, splitter=random;, score=0.738 total time=   0.0s\n",
      "[CV 2/3] END criterion=gini, max_depth=40, max_features=sqrt, splitter=random;, score=0.716 total time=   0.0s\n",
      "[CV 3/3] END criterion=gini, max_depth=40, max_features=sqrt, splitter=random;, score=0.709 total time=   0.0s\n",
      "[CV 1/3] END criterion=gini, max_depth=40, max_features=log2, splitter=best;, score=0.726 total time=   0.0s\n",
      "[CV 2/3] END criterion=gini, max_depth=40, max_features=log2, splitter=best;, score=0.726 total time=   0.0s\n",
      "[CV 3/3] END criterion=gini, max_depth=40, max_features=log2, splitter=best;, score=0.745 total time=   0.0s\n",
      "[CV 1/3] END criterion=gini, max_depth=40, max_features=log2, splitter=random;, score=0.708 total time=   0.0s\n",
      "[CV 2/3] END criterion=gini, max_depth=40, max_features=log2, splitter=random;, score=0.718 total time=   0.0s\n",
      "[CV 3/3] END criterion=gini, max_depth=40, max_features=log2, splitter=random;, score=0.716 total time=   0.0s\n",
      "[CV 1/3] END criterion=gini, max_depth=50, max_features=auto, splitter=best;, score=nan total time=   0.0s\n",
      "[CV 2/3] END criterion=gini, max_depth=50, max_features=auto, splitter=best;, score=nan total time=   0.0s\n",
      "[CV 3/3] END criterion=gini, max_depth=50, max_features=auto, splitter=best;, score=nan total time=   0.0s\n",
      "[CV 1/3] END criterion=gini, max_depth=50, max_features=auto, splitter=random;, score=nan total time=   0.0s\n",
      "[CV 2/3] END criterion=gini, max_depth=50, max_features=auto, splitter=random;, score=nan total time=   0.0s\n",
      "[CV 3/3] END criterion=gini, max_depth=50, max_features=auto, splitter=random;, score=nan total time=   0.0s\n",
      "[CV 1/3] END criterion=gini, max_depth=50, max_features=sqrt, splitter=best;, score=0.722 total time=   0.0s\n",
      "[CV 2/3] END criterion=gini, max_depth=50, max_features=sqrt, splitter=best;, score=0.722 total time=   0.0s\n",
      "[CV 3/3] END criterion=gini, max_depth=50, max_features=sqrt, splitter=best;, score=0.723 total time=   0.0s\n",
      "[CV 1/3] END criterion=gini, max_depth=50, max_features=sqrt, splitter=random;, score=0.738 total time=   0.0s\n",
      "[CV 2/3] END criterion=gini, max_depth=50, max_features=sqrt, splitter=random;, score=0.716 total time=   0.0s\n",
      "[CV 3/3] END criterion=gini, max_depth=50, max_features=sqrt, splitter=random;, score=0.709 total time=   0.0s\n",
      "[CV 1/3] END criterion=gini, max_depth=50, max_features=log2, splitter=best;, score=0.726 total time=   0.0s\n",
      "[CV 2/3] END criterion=gini, max_depth=50, max_features=log2, splitter=best;, score=0.726 total time=   0.0s\n",
      "[CV 3/3] END criterion=gini, max_depth=50, max_features=log2, splitter=best;, score=0.745 total time=   0.0s\n",
      "[CV 1/3] END criterion=gini, max_depth=50, max_features=log2, splitter=random;, score=0.708 total time=   0.0s\n",
      "[CV 2/3] END criterion=gini, max_depth=50, max_features=log2, splitter=random;, score=0.718 total time=   0.0s\n",
      "[CV 3/3] END criterion=gini, max_depth=50, max_features=log2, splitter=random;, score=0.716 total time=   0.0s\n",
      "[CV 1/3] END criterion=gini, max_depth=60, max_features=auto, splitter=best;, score=nan total time=   0.0s\n",
      "[CV 2/3] END criterion=gini, max_depth=60, max_features=auto, splitter=best;, score=nan total time=   0.0s\n",
      "[CV 3/3] END criterion=gini, max_depth=60, max_features=auto, splitter=best;, score=nan total time=   0.0s\n",
      "[CV 1/3] END criterion=gini, max_depth=60, max_features=auto, splitter=random;, score=nan total time=   0.0s\n",
      "[CV 2/3] END criterion=gini, max_depth=60, max_features=auto, splitter=random;, score=nan total time=   0.0s\n",
      "[CV 3/3] END criterion=gini, max_depth=60, max_features=auto, splitter=random;, score=nan total time=   0.0s\n",
      "[CV 1/3] END criterion=gini, max_depth=60, max_features=sqrt, splitter=best;, score=0.722 total time=   0.0s\n",
      "[CV 2/3] END criterion=gini, max_depth=60, max_features=sqrt, splitter=best;, score=0.722 total time=   0.0s\n",
      "[CV 3/3] END criterion=gini, max_depth=60, max_features=sqrt, splitter=best;, score=0.723 total time=   0.0s\n",
      "[CV 1/3] END criterion=gini, max_depth=60, max_features=sqrt, splitter=random;, score=0.738 total time=   0.0s\n",
      "[CV 2/3] END criterion=gini, max_depth=60, max_features=sqrt, splitter=random;, score=0.716 total time=   0.0s\n",
      "[CV 3/3] END criterion=gini, max_depth=60, max_features=sqrt, splitter=random;, score=0.709 total time=   0.0s\n",
      "[CV 1/3] END criterion=gini, max_depth=60, max_features=log2, splitter=best;, score=0.726 total time=   0.0s\n",
      "[CV 2/3] END criterion=gini, max_depth=60, max_features=log2, splitter=best;, score=0.726 total time=   0.0s\n",
      "[CV 3/3] END criterion=gini, max_depth=60, max_features=log2, splitter=best;, score=0.745 total time=   0.0s\n",
      "[CV 1/3] END criterion=gini, max_depth=60, max_features=log2, splitter=random;, score=0.708 total time=   0.0s\n",
      "[CV 2/3] END criterion=gini, max_depth=60, max_features=log2, splitter=random;, score=0.718 total time=   0.0s\n",
      "[CV 3/3] END criterion=gini, max_depth=60, max_features=log2, splitter=random;, score=0.716 total time=   0.0s\n",
      "[CV 1/3] END criterion=gini, max_depth=70, max_features=auto, splitter=best;, score=nan total time=   0.0s\n",
      "[CV 2/3] END criterion=gini, max_depth=70, max_features=auto, splitter=best;, score=nan total time=   0.0s\n",
      "[CV 3/3] END criterion=gini, max_depth=70, max_features=auto, splitter=best;, score=nan total time=   0.0s\n",
      "[CV 1/3] END criterion=gini, max_depth=70, max_features=auto, splitter=random;, score=nan total time=   0.0s\n",
      "[CV 2/3] END criterion=gini, max_depth=70, max_features=auto, splitter=random;, score=nan total time=   0.0s\n",
      "[CV 3/3] END criterion=gini, max_depth=70, max_features=auto, splitter=random;, score=nan total time=   0.0s\n",
      "[CV 1/3] END criterion=gini, max_depth=70, max_features=sqrt, splitter=best;, score=0.722 total time=   0.0s\n",
      "[CV 2/3] END criterion=gini, max_depth=70, max_features=sqrt, splitter=best;, score=0.722 total time=   0.0s\n",
      "[CV 3/3] END criterion=gini, max_depth=70, max_features=sqrt, splitter=best;, score=0.723 total time=   0.0s\n",
      "[CV 1/3] END criterion=gini, max_depth=70, max_features=sqrt, splitter=random;, score=0.738 total time=   0.0s\n",
      "[CV 2/3] END criterion=gini, max_depth=70, max_features=sqrt, splitter=random;, score=0.716 total time=   0.0s\n",
      "[CV 3/3] END criterion=gini, max_depth=70, max_features=sqrt, splitter=random;, score=0.709 total time=   0.0s\n",
      "[CV 1/3] END criterion=gini, max_depth=70, max_features=log2, splitter=best;, score=0.726 total time=   0.0s\n",
      "[CV 2/3] END criterion=gini, max_depth=70, max_features=log2, splitter=best;, score=0.726 total time=   0.0s\n",
      "[CV 3/3] END criterion=gini, max_depth=70, max_features=log2, splitter=best;, score=0.745 total time=   0.0s\n",
      "[CV 1/3] END criterion=gini, max_depth=70, max_features=log2, splitter=random;, score=0.708 total time=   0.0s\n",
      "[CV 2/3] END criterion=gini, max_depth=70, max_features=log2, splitter=random;, score=0.718 total time=   0.0s\n",
      "[CV 3/3] END criterion=gini, max_depth=70, max_features=log2, splitter=random;, score=0.716 total time=   0.0s\n",
      "[CV 1/3] END criterion=gini, max_depth=80, max_features=auto, splitter=best;, score=nan total time=   0.0s\n",
      "[CV 2/3] END criterion=gini, max_depth=80, max_features=auto, splitter=best;, score=nan total time=   0.0s\n",
      "[CV 3/3] END criterion=gini, max_depth=80, max_features=auto, splitter=best;, score=nan total time=   0.0s\n",
      "[CV 1/3] END criterion=gini, max_depth=80, max_features=auto, splitter=random;, score=nan total time=   0.0s\n",
      "[CV 2/3] END criterion=gini, max_depth=80, max_features=auto, splitter=random;, score=nan total time=   0.0s\n",
      "[CV 3/3] END criterion=gini, max_depth=80, max_features=auto, splitter=random;, score=nan total time=   0.0s\n",
      "[CV 1/3] END criterion=gini, max_depth=80, max_features=sqrt, splitter=best;, score=0.722 total time=   0.0s\n",
      "[CV 2/3] END criterion=gini, max_depth=80, max_features=sqrt, splitter=best;, score=0.722 total time=   0.0s\n",
      "[CV 3/3] END criterion=gini, max_depth=80, max_features=sqrt, splitter=best;, score=0.723 total time=   0.0s\n",
      "[CV 1/3] END criterion=gini, max_depth=80, max_features=sqrt, splitter=random;, score=0.738 total time=   0.0s\n",
      "[CV 2/3] END criterion=gini, max_depth=80, max_features=sqrt, splitter=random;, score=0.716 total time=   0.0s\n",
      "[CV 3/3] END criterion=gini, max_depth=80, max_features=sqrt, splitter=random;, score=0.709 total time=   0.0s\n",
      "[CV 1/3] END criterion=gini, max_depth=80, max_features=log2, splitter=best;, score=0.726 total time=   0.0s\n",
      "[CV 2/3] END criterion=gini, max_depth=80, max_features=log2, splitter=best;, score=0.726 total time=   0.0s\n",
      "[CV 3/3] END criterion=gini, max_depth=80, max_features=log2, splitter=best;, score=0.745 total time=   0.0s\n",
      "[CV 1/3] END criterion=gini, max_depth=80, max_features=log2, splitter=random;, score=0.708 total time=   0.0s\n",
      "[CV 2/3] END criterion=gini, max_depth=80, max_features=log2, splitter=random;, score=0.718 total time=   0.0s\n",
      "[CV 3/3] END criterion=gini, max_depth=80, max_features=log2, splitter=random;, score=0.716 total time=   0.0s\n",
      "[CV 1/3] END criterion=gini, max_depth=90, max_features=auto, splitter=best;, score=nan total time=   0.0s\n",
      "[CV 2/3] END criterion=gini, max_depth=90, max_features=auto, splitter=best;, score=nan total time=   0.0s\n",
      "[CV 3/3] END criterion=gini, max_depth=90, max_features=auto, splitter=best;, score=nan total time=   0.0s\n",
      "[CV 1/3] END criterion=gini, max_depth=90, max_features=auto, splitter=random;, score=nan total time=   0.0s\n",
      "[CV 2/3] END criterion=gini, max_depth=90, max_features=auto, splitter=random;, score=nan total time=   0.0s\n",
      "[CV 3/3] END criterion=gini, max_depth=90, max_features=auto, splitter=random;, score=nan total time=   0.0s\n",
      "[CV 1/3] END criterion=gini, max_depth=90, max_features=sqrt, splitter=best;, score=0.722 total time=   0.0s\n",
      "[CV 2/3] END criterion=gini, max_depth=90, max_features=sqrt, splitter=best;, score=0.722 total time=   0.0s\n",
      "[CV 3/3] END criterion=gini, max_depth=90, max_features=sqrt, splitter=best;, score=0.723 total time=   0.0s\n",
      "[CV 1/3] END criterion=gini, max_depth=90, max_features=sqrt, splitter=random;, score=0.738 total time=   0.0s\n",
      "[CV 2/3] END criterion=gini, max_depth=90, max_features=sqrt, splitter=random;, score=0.716 total time=   0.0s\n",
      "[CV 3/3] END criterion=gini, max_depth=90, max_features=sqrt, splitter=random;, score=0.709 total time=   0.0s\n",
      "[CV 1/3] END criterion=gini, max_depth=90, max_features=log2, splitter=best;, score=0.726 total time=   0.0s\n",
      "[CV 2/3] END criterion=gini, max_depth=90, max_features=log2, splitter=best;, score=0.726 total time=   0.0s\n",
      "[CV 3/3] END criterion=gini, max_depth=90, max_features=log2, splitter=best;, score=0.745 total time=   0.0s\n",
      "[CV 1/3] END criterion=gini, max_depth=90, max_features=log2, splitter=random;, score=0.708 total time=   0.0s\n",
      "[CV 2/3] END criterion=gini, max_depth=90, max_features=log2, splitter=random;, score=0.718 total time=   0.0s\n",
      "[CV 3/3] END criterion=gini, max_depth=90, max_features=log2, splitter=random;, score=0.716 total time=   0.0s\n",
      "[CV 1/3] END criterion=gini, max_depth=100, max_features=auto, splitter=best;, score=nan total time=   0.0s\n",
      "[CV 2/3] END criterion=gini, max_depth=100, max_features=auto, splitter=best;, score=nan total time=   0.0s\n",
      "[CV 3/3] END criterion=gini, max_depth=100, max_features=auto, splitter=best;, score=nan total time=   0.0s\n",
      "[CV 1/3] END criterion=gini, max_depth=100, max_features=auto, splitter=random;, score=nan total time=   0.0s\n",
      "[CV 2/3] END criterion=gini, max_depth=100, max_features=auto, splitter=random;, score=nan total time=   0.0s\n",
      "[CV 3/3] END criterion=gini, max_depth=100, max_features=auto, splitter=random;, score=nan total time=   0.0s\n",
      "[CV 1/3] END criterion=gini, max_depth=100, max_features=sqrt, splitter=best;, score=0.722 total time=   0.0s\n",
      "[CV 2/3] END criterion=gini, max_depth=100, max_features=sqrt, splitter=best;, score=0.722 total time=   0.0s\n",
      "[CV 3/3] END criterion=gini, max_depth=100, max_features=sqrt, splitter=best;, score=0.723 total time=   0.0s\n",
      "[CV 1/3] END criterion=gini, max_depth=100, max_features=sqrt, splitter=random;, score=0.738 total time=   0.0s\n",
      "[CV 2/3] END criterion=gini, max_depth=100, max_features=sqrt, splitter=random;, score=0.716 total time=   0.0s\n",
      "[CV 3/3] END criterion=gini, max_depth=100, max_features=sqrt, splitter=random;, score=0.709 total time=   0.0s\n",
      "[CV 1/3] END criterion=gini, max_depth=100, max_features=log2, splitter=best;, score=0.726 total time=   0.0s\n",
      "[CV 2/3] END criterion=gini, max_depth=100, max_features=log2, splitter=best;, score=0.726 total time=   0.0s\n",
      "[CV 3/3] END criterion=gini, max_depth=100, max_features=log2, splitter=best;, score=0.745 total time=   0.0s\n",
      "[CV 1/3] END criterion=gini, max_depth=100, max_features=log2, splitter=random;, score=0.708 total time=   0.0s\n",
      "[CV 2/3] END criterion=gini, max_depth=100, max_features=log2, splitter=random;, score=0.718 total time=   0.0s\n",
      "[CV 3/3] END criterion=gini, max_depth=100, max_features=log2, splitter=random;, score=0.716 total time=   0.0s\n",
      "[CV 1/3] END criterion=entropy, max_depth=10, max_features=auto, splitter=best;, score=nan total time=   0.0s\n",
      "[CV 2/3] END criterion=entropy, max_depth=10, max_features=auto, splitter=best;, score=nan total time=   0.0s\n",
      "[CV 3/3] END criterion=entropy, max_depth=10, max_features=auto, splitter=best;, score=nan total time=   0.0s\n",
      "[CV 1/3] END criterion=entropy, max_depth=10, max_features=auto, splitter=random;, score=nan total time=   0.0s\n",
      "[CV 2/3] END criterion=entropy, max_depth=10, max_features=auto, splitter=random;, score=nan total time=   0.0s\n",
      "[CV 3/3] END criterion=entropy, max_depth=10, max_features=auto, splitter=random;, score=nan total time=   0.0s\n",
      "[CV 1/3] END criterion=entropy, max_depth=10, max_features=sqrt, splitter=best;, score=0.771 total time=   0.0s\n",
      "[CV 2/3] END criterion=entropy, max_depth=10, max_features=sqrt, splitter=best;, score=0.747 total time=   0.0s\n",
      "[CV 3/3] END criterion=entropy, max_depth=10, max_features=sqrt, splitter=best;, score=0.770 total time=   0.0s\n",
      "[CV 1/3] END criterion=entropy, max_depth=10, max_features=sqrt, splitter=random;, score=0.759 total time=   0.0s\n",
      "[CV 2/3] END criterion=entropy, max_depth=10, max_features=sqrt, splitter=random;, score=0.757 total time=   0.0s\n",
      "[CV 3/3] END criterion=entropy, max_depth=10, max_features=sqrt, splitter=random;, score=0.761 total time=   0.0s\n",
      "[CV 1/3] END criterion=entropy, max_depth=10, max_features=log2, splitter=best;, score=0.770 total time=   0.0s\n",
      "[CV 2/3] END criterion=entropy, max_depth=10, max_features=log2, splitter=best;, score=0.755 total time=   0.0s\n",
      "[CV 3/3] END criterion=entropy, max_depth=10, max_features=log2, splitter=best;, score=0.777 total time=   0.0s\n",
      "[CV 1/3] END criterion=entropy, max_depth=10, max_features=log2, splitter=random;, score=0.782 total time=   0.0s\n",
      "[CV 2/3] END criterion=entropy, max_depth=10, max_features=log2, splitter=random;, score=0.763 total time=   0.0s\n",
      "[CV 3/3] END criterion=entropy, max_depth=10, max_features=log2, splitter=random;, score=0.775 total time=   0.0s\n",
      "[CV 1/3] END criterion=entropy, max_depth=20, max_features=auto, splitter=best;, score=nan total time=   0.0s\n",
      "[CV 2/3] END criterion=entropy, max_depth=20, max_features=auto, splitter=best;, score=nan total time=   0.0s\n",
      "[CV 3/3] END criterion=entropy, max_depth=20, max_features=auto, splitter=best;, score=nan total time=   0.0s\n",
      "[CV 1/3] END criterion=entropy, max_depth=20, max_features=auto, splitter=random;, score=nan total time=   0.0s\n",
      "[CV 2/3] END criterion=entropy, max_depth=20, max_features=auto, splitter=random;, score=nan total time=   0.0s\n",
      "[CV 3/3] END criterion=entropy, max_depth=20, max_features=auto, splitter=random;, score=nan total time=   0.0s\n",
      "[CV 1/3] END criterion=entropy, max_depth=20, max_features=sqrt, splitter=best;, score=0.724 total time=   0.0s\n",
      "[CV 2/3] END criterion=entropy, max_depth=20, max_features=sqrt, splitter=best;, score=0.712 total time=   0.0s\n",
      "[CV 3/3] END criterion=entropy, max_depth=20, max_features=sqrt, splitter=best;, score=0.727 total time=   0.0s\n",
      "[CV 1/3] END criterion=entropy, max_depth=20, max_features=sqrt, splitter=random;, score=0.740 total time=   0.0s\n",
      "[CV 2/3] END criterion=entropy, max_depth=20, max_features=sqrt, splitter=random;, score=0.710 total time=   0.0s\n",
      "[CV 3/3] END criterion=entropy, max_depth=20, max_features=sqrt, splitter=random;, score=0.730 total time=   0.0s\n",
      "[CV 1/3] END criterion=entropy, max_depth=20, max_features=log2, splitter=best;, score=0.732 total time=   0.0s\n",
      "[CV 2/3] END criterion=entropy, max_depth=20, max_features=log2, splitter=best;, score=0.725 total time=   0.0s\n",
      "[CV 3/3] END criterion=entropy, max_depth=20, max_features=log2, splitter=best;, score=0.723 total time=   0.0s\n",
      "[CV 1/3] END criterion=entropy, max_depth=20, max_features=log2, splitter=random;, score=0.725 total time=   0.0s\n",
      "[CV 2/3] END criterion=entropy, max_depth=20, max_features=log2, splitter=random;, score=0.727 total time=   0.0s\n",
      "[CV 3/3] END criterion=entropy, max_depth=20, max_features=log2, splitter=random;, score=0.719 total time=   0.0s\n",
      "[CV 1/3] END criterion=entropy, max_depth=30, max_features=auto, splitter=best;, score=nan total time=   0.0s\n",
      "[CV 2/3] END criterion=entropy, max_depth=30, max_features=auto, splitter=best;, score=nan total time=   0.0s\n",
      "[CV 3/3] END criterion=entropy, max_depth=30, max_features=auto, splitter=best;, score=nan total time=   0.0s\n",
      "[CV 1/3] END criterion=entropy, max_depth=30, max_features=auto, splitter=random;, score=nan total time=   0.0s\n",
      "[CV 2/3] END criterion=entropy, max_depth=30, max_features=auto, splitter=random;, score=nan total time=   0.0s\n",
      "[CV 3/3] END criterion=entropy, max_depth=30, max_features=auto, splitter=random;, score=nan total time=   0.0s\n",
      "[CV 1/3] END criterion=entropy, max_depth=30, max_features=sqrt, splitter=best;, score=0.729 total time=   0.0s\n",
      "[CV 2/3] END criterion=entropy, max_depth=30, max_features=sqrt, splitter=best;, score=0.729 total time=   0.0s\n",
      "[CV 3/3] END criterion=entropy, max_depth=30, max_features=sqrt, splitter=best;, score=0.732 total time=   0.0s\n",
      "[CV 1/3] END criterion=entropy, max_depth=30, max_features=sqrt, splitter=random;, score=0.721 total time=   0.0s\n",
      "[CV 2/3] END criterion=entropy, max_depth=30, max_features=sqrt, splitter=random;, score=0.723 total time=   0.0s\n",
      "[CV 3/3] END criterion=entropy, max_depth=30, max_features=sqrt, splitter=random;, score=0.734 total time=   0.0s\n",
      "[CV 1/3] END criterion=entropy, max_depth=30, max_features=log2, splitter=best;, score=0.716 total time=   0.0s\n",
      "[CV 2/3] END criterion=entropy, max_depth=30, max_features=log2, splitter=best;, score=0.735 total time=   0.0s\n",
      "[CV 3/3] END criterion=entropy, max_depth=30, max_features=log2, splitter=best;, score=0.738 total time=   0.0s\n",
      "[CV 1/3] END criterion=entropy, max_depth=30, max_features=log2, splitter=random;, score=0.729 total time=   0.0s\n",
      "[CV 2/3] END criterion=entropy, max_depth=30, max_features=log2, splitter=random;, score=0.725 total time=   0.0s\n",
      "[CV 3/3] END criterion=entropy, max_depth=30, max_features=log2, splitter=random;, score=0.722 total time=   0.0s\n",
      "[CV 1/3] END criterion=entropy, max_depth=40, max_features=auto, splitter=best;, score=nan total time=   0.0s\n",
      "[CV 2/3] END criterion=entropy, max_depth=40, max_features=auto, splitter=best;, score=nan total time=   0.0s\n",
      "[CV 3/3] END criterion=entropy, max_depth=40, max_features=auto, splitter=best;, score=nan total time=   0.0s\n",
      "[CV 1/3] END criterion=entropy, max_depth=40, max_features=auto, splitter=random;, score=nan total time=   0.0s\n",
      "[CV 2/3] END criterion=entropy, max_depth=40, max_features=auto, splitter=random;, score=nan total time=   0.0s\n",
      "[CV 3/3] END criterion=entropy, max_depth=40, max_features=auto, splitter=random;, score=nan total time=   0.0s\n",
      "[CV 1/3] END criterion=entropy, max_depth=40, max_features=sqrt, splitter=best;, score=0.729 total time=   0.0s\n",
      "[CV 2/3] END criterion=entropy, max_depth=40, max_features=sqrt, splitter=best;, score=0.729 total time=   0.0s\n",
      "[CV 3/3] END criterion=entropy, max_depth=40, max_features=sqrt, splitter=best;, score=0.732 total time=   0.0s\n",
      "[CV 1/3] END criterion=entropy, max_depth=40, max_features=sqrt, splitter=random;, score=0.721 total time=   0.0s\n",
      "[CV 2/3] END criterion=entropy, max_depth=40, max_features=sqrt, splitter=random;, score=0.723 total time=   0.0s\n",
      "[CV 3/3] END criterion=entropy, max_depth=40, max_features=sqrt, splitter=random;, score=0.734 total time=   0.0s\n",
      "[CV 1/3] END criterion=entropy, max_depth=40, max_features=log2, splitter=best;, score=0.716 total time=   0.0s\n",
      "[CV 2/3] END criterion=entropy, max_depth=40, max_features=log2, splitter=best;, score=0.735 total time=   0.0s\n",
      "[CV 3/3] END criterion=entropy, max_depth=40, max_features=log2, splitter=best;, score=0.738 total time=   0.0s\n",
      "[CV 1/3] END criterion=entropy, max_depth=40, max_features=log2, splitter=random;, score=0.729 total time=   0.0s\n",
      "[CV 2/3] END criterion=entropy, max_depth=40, max_features=log2, splitter=random;, score=0.725 total time=   0.0s\n",
      "[CV 3/3] END criterion=entropy, max_depth=40, max_features=log2, splitter=random;, score=0.722 total time=   0.0s\n",
      "[CV 1/3] END criterion=entropy, max_depth=50, max_features=auto, splitter=best;, score=nan total time=   0.0s\n",
      "[CV 2/3] END criterion=entropy, max_depth=50, max_features=auto, splitter=best;, score=nan total time=   0.0s\n",
      "[CV 3/3] END criterion=entropy, max_depth=50, max_features=auto, splitter=best;, score=nan total time=   0.0s\n",
      "[CV 1/3] END criterion=entropy, max_depth=50, max_features=auto, splitter=random;, score=nan total time=   0.0s\n",
      "[CV 2/3] END criterion=entropy, max_depth=50, max_features=auto, splitter=random;, score=nan total time=   0.0s\n",
      "[CV 3/3] END criterion=entropy, max_depth=50, max_features=auto, splitter=random;, score=nan total time=   0.0s\n",
      "[CV 1/3] END criterion=entropy, max_depth=50, max_features=sqrt, splitter=best;, score=0.729 total time=   0.0s\n",
      "[CV 2/3] END criterion=entropy, max_depth=50, max_features=sqrt, splitter=best;, score=0.729 total time=   0.0s\n",
      "[CV 3/3] END criterion=entropy, max_depth=50, max_features=sqrt, splitter=best;, score=0.732 total time=   0.0s\n",
      "[CV 1/3] END criterion=entropy, max_depth=50, max_features=sqrt, splitter=random;, score=0.721 total time=   0.0s\n",
      "[CV 2/3] END criterion=entropy, max_depth=50, max_features=sqrt, splitter=random;, score=0.723 total time=   0.0s\n",
      "[CV 3/3] END criterion=entropy, max_depth=50, max_features=sqrt, splitter=random;, score=0.734 total time=   0.0s\n",
      "[CV 1/3] END criterion=entropy, max_depth=50, max_features=log2, splitter=best;, score=0.716 total time=   0.0s\n",
      "[CV 2/3] END criterion=entropy, max_depth=50, max_features=log2, splitter=best;, score=0.735 total time=   0.0s\n",
      "[CV 3/3] END criterion=entropy, max_depth=50, max_features=log2, splitter=best;, score=0.738 total time=   0.0s\n",
      "[CV 1/3] END criterion=entropy, max_depth=50, max_features=log2, splitter=random;, score=0.729 total time=   0.0s\n",
      "[CV 2/3] END criterion=entropy, max_depth=50, max_features=log2, splitter=random;, score=0.725 total time=   0.0s\n",
      "[CV 3/3] END criterion=entropy, max_depth=50, max_features=log2, splitter=random;, score=0.722 total time=   0.0s\n",
      "[CV 1/3] END criterion=entropy, max_depth=60, max_features=auto, splitter=best;, score=nan total time=   0.0s\n",
      "[CV 2/3] END criterion=entropy, max_depth=60, max_features=auto, splitter=best;, score=nan total time=   0.0s\n",
      "[CV 3/3] END criterion=entropy, max_depth=60, max_features=auto, splitter=best;, score=nan total time=   0.0s\n",
      "[CV 1/3] END criterion=entropy, max_depth=60, max_features=auto, splitter=random;, score=nan total time=   0.0s\n",
      "[CV 2/3] END criterion=entropy, max_depth=60, max_features=auto, splitter=random;, score=nan total time=   0.0s\n",
      "[CV 3/3] END criterion=entropy, max_depth=60, max_features=auto, splitter=random;, score=nan total time=   0.0s\n",
      "[CV 1/3] END criterion=entropy, max_depth=60, max_features=sqrt, splitter=best;, score=0.729 total time=   0.0s\n",
      "[CV 2/3] END criterion=entropy, max_depth=60, max_features=sqrt, splitter=best;, score=0.729 total time=   0.0s\n",
      "[CV 3/3] END criterion=entropy, max_depth=60, max_features=sqrt, splitter=best;, score=0.732 total time=   0.0s\n",
      "[CV 1/3] END criterion=entropy, max_depth=60, max_features=sqrt, splitter=random;, score=0.721 total time=   0.0s\n",
      "[CV 2/3] END criterion=entropy, max_depth=60, max_features=sqrt, splitter=random;, score=0.723 total time=   0.0s\n",
      "[CV 3/3] END criterion=entropy, max_depth=60, max_features=sqrt, splitter=random;, score=0.734 total time=   0.0s\n",
      "[CV 1/3] END criterion=entropy, max_depth=60, max_features=log2, splitter=best;, score=0.716 total time=   0.0s\n",
      "[CV 2/3] END criterion=entropy, max_depth=60, max_features=log2, splitter=best;, score=0.735 total time=   0.0s\n",
      "[CV 3/3] END criterion=entropy, max_depth=60, max_features=log2, splitter=best;, score=0.738 total time=   0.0s\n",
      "[CV 1/3] END criterion=entropy, max_depth=60, max_features=log2, splitter=random;, score=0.729 total time=   0.0s\n",
      "[CV 2/3] END criterion=entropy, max_depth=60, max_features=log2, splitter=random;, score=0.725 total time=   0.0s\n",
      "[CV 3/3] END criterion=entropy, max_depth=60, max_features=log2, splitter=random;, score=0.722 total time=   0.0s\n",
      "[CV 1/3] END criterion=entropy, max_depth=70, max_features=auto, splitter=best;, score=nan total time=   0.0s\n",
      "[CV 2/3] END criterion=entropy, max_depth=70, max_features=auto, splitter=best;, score=nan total time=   0.0s\n",
      "[CV 3/3] END criterion=entropy, max_depth=70, max_features=auto, splitter=best;, score=nan total time=   0.0s\n",
      "[CV 1/3] END criterion=entropy, max_depth=70, max_features=auto, splitter=random;, score=nan total time=   0.0s\n",
      "[CV 2/3] END criterion=entropy, max_depth=70, max_features=auto, splitter=random;, score=nan total time=   0.0s\n",
      "[CV 3/3] END criterion=entropy, max_depth=70, max_features=auto, splitter=random;, score=nan total time=   0.0s\n",
      "[CV 1/3] END criterion=entropy, max_depth=70, max_features=sqrt, splitter=best;, score=0.729 total time=   0.0s\n",
      "[CV 2/3] END criterion=entropy, max_depth=70, max_features=sqrt, splitter=best;, score=0.729 total time=   0.0s\n",
      "[CV 3/3] END criterion=entropy, max_depth=70, max_features=sqrt, splitter=best;, score=0.732 total time=   0.0s\n",
      "[CV 1/3] END criterion=entropy, max_depth=70, max_features=sqrt, splitter=random;, score=0.721 total time=   0.0s\n",
      "[CV 2/3] END criterion=entropy, max_depth=70, max_features=sqrt, splitter=random;, score=0.723 total time=   0.0s\n",
      "[CV 3/3] END criterion=entropy, max_depth=70, max_features=sqrt, splitter=random;, score=0.734 total time=   0.0s\n",
      "[CV 1/3] END criterion=entropy, max_depth=70, max_features=log2, splitter=best;, score=0.716 total time=   0.0s\n",
      "[CV 2/3] END criterion=entropy, max_depth=70, max_features=log2, splitter=best;, score=0.735 total time=   0.0s\n",
      "[CV 3/3] END criterion=entropy, max_depth=70, max_features=log2, splitter=best;, score=0.738 total time=   0.0s\n",
      "[CV 1/3] END criterion=entropy, max_depth=70, max_features=log2, splitter=random;, score=0.729 total time=   0.0s\n",
      "[CV 2/3] END criterion=entropy, max_depth=70, max_features=log2, splitter=random;, score=0.725 total time=   0.0s\n",
      "[CV 3/3] END criterion=entropy, max_depth=70, max_features=log2, splitter=random;, score=0.722 total time=   0.0s\n",
      "[CV 1/3] END criterion=entropy, max_depth=80, max_features=auto, splitter=best;, score=nan total time=   0.0s\n",
      "[CV 2/3] END criterion=entropy, max_depth=80, max_features=auto, splitter=best;, score=nan total time=   0.0s\n",
      "[CV 3/3] END criterion=entropy, max_depth=80, max_features=auto, splitter=best;, score=nan total time=   0.0s\n",
      "[CV 1/3] END criterion=entropy, max_depth=80, max_features=auto, splitter=random;, score=nan total time=   0.0s\n",
      "[CV 2/3] END criterion=entropy, max_depth=80, max_features=auto, splitter=random;, score=nan total time=   0.0s\n",
      "[CV 3/3] END criterion=entropy, max_depth=80, max_features=auto, splitter=random;, score=nan total time=   0.0s\n",
      "[CV 1/3] END criterion=entropy, max_depth=80, max_features=sqrt, splitter=best;, score=0.729 total time=   0.0s\n",
      "[CV 2/3] END criterion=entropy, max_depth=80, max_features=sqrt, splitter=best;, score=0.729 total time=   0.0s\n",
      "[CV 3/3] END criterion=entropy, max_depth=80, max_features=sqrt, splitter=best;, score=0.732 total time=   0.0s\n",
      "[CV 1/3] END criterion=entropy, max_depth=80, max_features=sqrt, splitter=random;, score=0.721 total time=   0.0s\n",
      "[CV 2/3] END criterion=entropy, max_depth=80, max_features=sqrt, splitter=random;, score=0.723 total time=   0.0s\n",
      "[CV 3/3] END criterion=entropy, max_depth=80, max_features=sqrt, splitter=random;, score=0.734 total time=   0.0s\n",
      "[CV 1/3] END criterion=entropy, max_depth=80, max_features=log2, splitter=best;, score=0.716 total time=   0.0s\n",
      "[CV 2/3] END criterion=entropy, max_depth=80, max_features=log2, splitter=best;, score=0.735 total time=   0.0s\n",
      "[CV 3/3] END criterion=entropy, max_depth=80, max_features=log2, splitter=best;, score=0.738 total time=   0.0s\n",
      "[CV 1/3] END criterion=entropy, max_depth=80, max_features=log2, splitter=random;, score=0.729 total time=   0.0s\n",
      "[CV 2/3] END criterion=entropy, max_depth=80, max_features=log2, splitter=random;, score=0.725 total time=   0.0s\n",
      "[CV 3/3] END criterion=entropy, max_depth=80, max_features=log2, splitter=random;, score=0.722 total time=   0.0s\n",
      "[CV 1/3] END criterion=entropy, max_depth=90, max_features=auto, splitter=best;, score=nan total time=   0.0s\n",
      "[CV 2/3] END criterion=entropy, max_depth=90, max_features=auto, splitter=best;, score=nan total time=   0.0s\n",
      "[CV 3/3] END criterion=entropy, max_depth=90, max_features=auto, splitter=best;, score=nan total time=   0.0s\n",
      "[CV 1/3] END criterion=entropy, max_depth=90, max_features=auto, splitter=random;, score=nan total time=   0.0s\n",
      "[CV 2/3] END criterion=entropy, max_depth=90, max_features=auto, splitter=random;, score=nan total time=   0.0s\n",
      "[CV 3/3] END criterion=entropy, max_depth=90, max_features=auto, splitter=random;, score=nan total time=   0.0s\n",
      "[CV 1/3] END criterion=entropy, max_depth=90, max_features=sqrt, splitter=best;, score=0.729 total time=   0.0s\n",
      "[CV 2/3] END criterion=entropy, max_depth=90, max_features=sqrt, splitter=best;, score=0.729 total time=   0.0s\n",
      "[CV 3/3] END criterion=entropy, max_depth=90, max_features=sqrt, splitter=best;, score=0.732 total time=   0.0s\n",
      "[CV 1/3] END criterion=entropy, max_depth=90, max_features=sqrt, splitter=random;, score=0.721 total time=   0.0s\n",
      "[CV 2/3] END criterion=entropy, max_depth=90, max_features=sqrt, splitter=random;, score=0.723 total time=   0.0s\n",
      "[CV 3/3] END criterion=entropy, max_depth=90, max_features=sqrt, splitter=random;, score=0.734 total time=   0.0s\n",
      "[CV 1/3] END criterion=entropy, max_depth=90, max_features=log2, splitter=best;, score=0.716 total time=   0.0s\n",
      "[CV 2/3] END criterion=entropy, max_depth=90, max_features=log2, splitter=best;, score=0.735 total time=   0.0s\n",
      "[CV 3/3] END criterion=entropy, max_depth=90, max_features=log2, splitter=best;, score=0.738 total time=   0.0s\n",
      "[CV 1/3] END criterion=entropy, max_depth=90, max_features=log2, splitter=random;, score=0.729 total time=   0.0s\n",
      "[CV 2/3] END criterion=entropy, max_depth=90, max_features=log2, splitter=random;, score=0.725 total time=   0.0s\n",
      "[CV 3/3] END criterion=entropy, max_depth=90, max_features=log2, splitter=random;, score=0.722 total time=   0.0s\n",
      "[CV 1/3] END criterion=entropy, max_depth=100, max_features=auto, splitter=best;, score=nan total time=   0.0s\n",
      "[CV 2/3] END criterion=entropy, max_depth=100, max_features=auto, splitter=best;, score=nan total time=   0.0s\n",
      "[CV 3/3] END criterion=entropy, max_depth=100, max_features=auto, splitter=best;, score=nan total time=   0.0s\n",
      "[CV 1/3] END criterion=entropy, max_depth=100, max_features=auto, splitter=random;, score=nan total time=   0.0s\n",
      "[CV 2/3] END criterion=entropy, max_depth=100, max_features=auto, splitter=random;, score=nan total time=   0.0s\n",
      "[CV 3/3] END criterion=entropy, max_depth=100, max_features=auto, splitter=random;, score=nan total time=   0.0s\n",
      "[CV 1/3] END criterion=entropy, max_depth=100, max_features=sqrt, splitter=best;, score=0.729 total time=   0.0s\n",
      "[CV 2/3] END criterion=entropy, max_depth=100, max_features=sqrt, splitter=best;, score=0.729 total time=   0.0s\n",
      "[CV 3/3] END criterion=entropy, max_depth=100, max_features=sqrt, splitter=best;, score=0.732 total time=   0.0s\n",
      "[CV 1/3] END criterion=entropy, max_depth=100, max_features=sqrt, splitter=random;, score=0.721 total time=   0.0s\n",
      "[CV 2/3] END criterion=entropy, max_depth=100, max_features=sqrt, splitter=random;, score=0.723 total time=   0.0s\n",
      "[CV 3/3] END criterion=entropy, max_depth=100, max_features=sqrt, splitter=random;, score=0.734 total time=   0.0s\n",
      "[CV 1/3] END criterion=entropy, max_depth=100, max_features=log2, splitter=best;, score=0.716 total time=   0.0s\n",
      "[CV 2/3] END criterion=entropy, max_depth=100, max_features=log2, splitter=best;, score=0.735 total time=   0.0s\n",
      "[CV 3/3] END criterion=entropy, max_depth=100, max_features=log2, splitter=best;, score=0.738 total time=   0.0s\n",
      "[CV 1/3] END criterion=entropy, max_depth=100, max_features=log2, splitter=random;, score=0.729 total time=   0.0s\n",
      "[CV 2/3] END criterion=entropy, max_depth=100, max_features=log2, splitter=random;, score=0.725 total time=   0.0s\n",
      "[CV 3/3] END criterion=entropy, max_depth=100, max_features=log2, splitter=random;, score=0.722 total time=   0.0s\n"
     ]
    },
    {
     "data": {
      "text/plain": [
       "{'criterion': 'entropy',\n",
       " 'max_depth': 10,\n",
       " 'max_features': 'log2',\n",
       " 'splitter': 'random'}"
      ]
     },
     "execution_count": 19,
     "metadata": {},
     "output_type": "execute_result"
    }
   ],
   "source": [
    "from sklearn.tree import DecisionTreeClassifier\n",
    "\n",
    "param_grid = {\n",
    "  'splitter' : ['best', 'random'],\n",
    "  'max_features': ['auto', 'sqrt', 'log2'],\n",
    "  'max_depth' : [10, 20, 30, 40, 50, 60, 70, 80, 90, 100],\n",
    "  'criterion' :['gini', 'entropy']\n",
    "}\n",
    "\n",
    "dfc=DecisionTreeClassifier(random_state=0)\n",
    "CV_dfc = GridSearchCV(estimator=dfc, verbose=3, param_grid=param_grid, cv = 3)\n",
    "CV_dfc.fit(X_train, y_train)\n",
    "CV_dfc.best_params_"
   ]
  },
  {
   "cell_type": "code",
   "execution_count": 20,
   "id": "731f8b4b-23f0-47e1-83e0-0c0d759edbcf",
   "metadata": {
    "tags": []
   },
   "outputs": [],
   "source": [
    "clf = DecisionTreeClassifier(splitter='random',criterion='entropy', max_depth=10, max_features='log2', random_state=0)\n",
    "\n",
    "#Train the model using the training sets y_pred=clf.predict(X_test)\n",
    "dfc = clf.fit(X_train,y_train)\n",
    "y_pred = dfc.predict(X_test)"
   ]
  },
  {
   "cell_type": "code",
   "execution_count": 21,
   "id": "58ad39a6-f5e9-42f9-9f2f-b5915a3d6615",
   "metadata": {
    "tags": []
   },
   "outputs": [
    {
     "data": {
      "text/html": [
       "<style>#sk-container-id-2 {color: black;}#sk-container-id-2 pre{padding: 0;}#sk-container-id-2 div.sk-toggleable {background-color: white;}#sk-container-id-2 label.sk-toggleable__label {cursor: pointer;display: block;width: 100%;margin-bottom: 0;padding: 0.3em;box-sizing: border-box;text-align: center;}#sk-container-id-2 label.sk-toggleable__label-arrow:before {content: \"▸\";float: left;margin-right: 0.25em;color: #696969;}#sk-container-id-2 label.sk-toggleable__label-arrow:hover:before {color: black;}#sk-container-id-2 div.sk-estimator:hover label.sk-toggleable__label-arrow:before {color: black;}#sk-container-id-2 div.sk-toggleable__content {max-height: 0;max-width: 0;overflow: hidden;text-align: left;background-color: #f0f8ff;}#sk-container-id-2 div.sk-toggleable__content pre {margin: 0.2em;color: black;border-radius: 0.25em;background-color: #f0f8ff;}#sk-container-id-2 input.sk-toggleable__control:checked~div.sk-toggleable__content {max-height: 200px;max-width: 100%;overflow: auto;}#sk-container-id-2 input.sk-toggleable__control:checked~label.sk-toggleable__label-arrow:before {content: \"▾\";}#sk-container-id-2 div.sk-estimator input.sk-toggleable__control:checked~label.sk-toggleable__label {background-color: #d4ebff;}#sk-container-id-2 div.sk-label input.sk-toggleable__control:checked~label.sk-toggleable__label {background-color: #d4ebff;}#sk-container-id-2 input.sk-hidden--visually {border: 0;clip: rect(1px 1px 1px 1px);clip: rect(1px, 1px, 1px, 1px);height: 1px;margin: -1px;overflow: hidden;padding: 0;position: absolute;width: 1px;}#sk-container-id-2 div.sk-estimator {font-family: monospace;background-color: #f0f8ff;border: 1px dotted black;border-radius: 0.25em;box-sizing: border-box;margin-bottom: 0.5em;}#sk-container-id-2 div.sk-estimator:hover {background-color: #d4ebff;}#sk-container-id-2 div.sk-parallel-item::after {content: \"\";width: 100%;border-bottom: 1px solid gray;flex-grow: 1;}#sk-container-id-2 div.sk-label:hover label.sk-toggleable__label {background-color: #d4ebff;}#sk-container-id-2 div.sk-serial::before {content: \"\";position: absolute;border-left: 1px solid gray;box-sizing: border-box;top: 0;bottom: 0;left: 50%;z-index: 0;}#sk-container-id-2 div.sk-serial {display: flex;flex-direction: column;align-items: center;background-color: white;padding-right: 0.2em;padding-left: 0.2em;position: relative;}#sk-container-id-2 div.sk-item {position: relative;z-index: 1;}#sk-container-id-2 div.sk-parallel {display: flex;align-items: stretch;justify-content: center;background-color: white;position: relative;}#sk-container-id-2 div.sk-item::before, #sk-container-id-2 div.sk-parallel-item::before {content: \"\";position: absolute;border-left: 1px solid gray;box-sizing: border-box;top: 0;bottom: 0;left: 50%;z-index: -1;}#sk-container-id-2 div.sk-parallel-item {display: flex;flex-direction: column;z-index: 1;position: relative;background-color: white;}#sk-container-id-2 div.sk-parallel-item:first-child::after {align-self: flex-end;width: 50%;}#sk-container-id-2 div.sk-parallel-item:last-child::after {align-self: flex-start;width: 50%;}#sk-container-id-2 div.sk-parallel-item:only-child::after {width: 0;}#sk-container-id-2 div.sk-dashed-wrapped {border: 1px dashed gray;margin: 0 0.4em 0.5em 0.4em;box-sizing: border-box;padding-bottom: 0.4em;background-color: white;}#sk-container-id-2 div.sk-label label {font-family: monospace;font-weight: bold;display: inline-block;line-height: 1.2em;}#sk-container-id-2 div.sk-label-container {text-align: center;}#sk-container-id-2 div.sk-container {/* jupyter's `normalize.less` sets `[hidden] { display: none; }` but bootstrap.min.css set `[hidden] { display: none !important; }` so we also need the `!important` here to be able to override the default hidden behavior on the sphinx rendered scikit-learn.org. See: https://github.com/scikit-learn/scikit-learn/issues/21755 */display: inline-block !important;position: relative;}#sk-container-id-2 div.sk-text-repr-fallback {display: none;}</style><div id=\"sk-container-id-2\" class=\"sk-top-container\"><div class=\"sk-text-repr-fallback\"><pre>DecisionTreeClassifier(criterion=&#x27;entropy&#x27;, max_depth=10, max_features=&#x27;log2&#x27;,\n",
       "                       random_state=0, splitter=&#x27;random&#x27;)</pre><b>In a Jupyter environment, please rerun this cell to show the HTML representation or trust the notebook. <br />On GitHub, the HTML representation is unable to render, please try loading this page with nbviewer.org.</b></div><div class=\"sk-container\" hidden><div class=\"sk-item\"><div class=\"sk-estimator sk-toggleable\"><input class=\"sk-toggleable__control sk-hidden--visually\" id=\"sk-estimator-id-2\" type=\"checkbox\" checked><label for=\"sk-estimator-id-2\" class=\"sk-toggleable__label sk-toggleable__label-arrow\">DecisionTreeClassifier</label><div class=\"sk-toggleable__content\"><pre>DecisionTreeClassifier(criterion=&#x27;entropy&#x27;, max_depth=10, max_features=&#x27;log2&#x27;,\n",
       "                       random_state=0, splitter=&#x27;random&#x27;)</pre></div></div></div></div></div>"
      ],
      "text/plain": [
       "DecisionTreeClassifier(criterion='entropy', max_depth=10, max_features='log2',\n",
       "                       random_state=0, splitter='random')"
      ]
     },
     "execution_count": 21,
     "metadata": {},
     "output_type": "execute_result"
    }
   ],
   "source": [
    "# Training Model\n",
    "dfc.fit(X_train, y_train)"
   ]
  },
  {
   "cell_type": "code",
   "execution_count": 22,
   "id": "70ff0c98-bc0e-4443-8655-cdfe66fe4038",
   "metadata": {
    "tags": []
   },
   "outputs": [],
   "source": [
    "# Making Prediction\n",
    "pred_dt = dfc.predict(X_test)"
   ]
  },
  {
   "cell_type": "code",
   "execution_count": 30,
   "id": "f59abf88-c01c-412c-b9bd-96724cd06dd8",
   "metadata": {
    "tags": []
   },
   "outputs": [
    {
     "name": "stdout",
     "output_type": "stream",
     "text": [
      "Accuracy : 77.83 %\n",
      "Precision : 76.54 %\n",
      "Recall : 77.83 %\n",
      "f1-score : 76.89 %\n"
     ]
    }
   ],
   "source": [
    "from sklearn.metrics import confusion_matrix # algorithm for confusion matrix\n",
    "from sklearn.metrics import classification_report # algorithm for classification report\n",
    "from sklearn.metrics import accuracy_score, precision_score, recall_score, f1_score # algorithm for call accuracy_score, precision_score, recall score and f1-score\n",
    "\n",
    "# Calculating Accuracy Score\n",
    "print('Accuracy :', round(accuracy_score(y_test, pred_dt)*100,2),\"%\")\n",
    "print('Precision :', round(precision_score(y_test, pred_dt, average='weighted', zero_division=0)*100,2),\"%\")\n",
    "print('Recall :', round(recall_score(y_test, pred_dt, average='weighted', zero_division=0)*100,2),\"%\")\n",
    "print('f1-score :', round(f1_score(y_test,\tpred_dt, average='weighted', zero_division=0)*100,2), \"%\")"
   ]
  },
  {
   "cell_type": "code",
   "execution_count": 31,
   "id": "577dc9e0-14d2-4020-91da-5f63a769e3a8",
   "metadata": {
    "tags": []
   },
   "outputs": [
    {
     "name": "stdout",
     "output_type": "stream",
     "text": [
      "              precision    recall  f1-score   support\n",
      "\n",
      "           0       0.82      0.89      0.86      1038\n",
      "           1       0.60      0.47      0.53       369\n",
      "\n",
      "    accuracy                           0.78      1407\n",
      "   macro avg       0.71      0.68      0.69      1407\n",
      "weighted avg       0.77      0.78      0.77      1407\n",
      "\n"
     ]
    }
   ],
   "source": [
    "print(classification_report(y_test,pred_dt))"
   ]
  },
  {
   "cell_type": "code",
   "execution_count": 32,
   "id": "26a436e6-10af-4d3d-b65e-f7b3eb347aa0",
   "metadata": {
    "tags": []
   },
   "outputs": [
    {
     "data": {
      "image/png": "[encoded data removed]",
      "text/plain": [
       "<Figure size 640x480 with 2 Axes>"
      ]
     },
     "metadata": {},
     "output_type": "display_data"
    }
   ],
   "source": [
    "# confusion Maxtrix\n",
    "cm3 = confusion_matrix(y_test, pred_dt)\n",
    "sns.heatmap(cm3/np.sum(cm3), annot = True, fmt=  '0.2%', cmap = 'Reds')\n",
    "plt.title(\"Decision Tree Classifier Confusion Matrix\",fontsize=12)\n",
    "plt.show()"
   ]
  },
  {
   "cell_type": "markdown",
   "id": "ff9556f4-015d-455b-8828-afea0acc9629",
   "metadata": {
    "tags": []
   },
   "source": [
    "## SVM"
   ]
  },
  {
   "cell_type": "code",
   "execution_count": 33,
   "id": "cd18192b-ee79-4b3b-835f-ff26c1ea9088",
   "metadata": {
    "tags": []
   },
   "outputs": [
    {
     "name": "stdout",
     "output_type": "stream",
     "text": [
      "Fitting 3 folds for each of 9 candidates, totalling 27 fits\n",
      "[CV 1/3] END .....C=0.0001, gamma=1, kernel=rbf;, score=0.733 total time=   1.9s\n",
      "[CV 2/3] END .....C=0.0001, gamma=1, kernel=rbf;, score=0.733 total time=   1.8s\n",
      "[CV 3/3] END .....C=0.0001, gamma=1, kernel=rbf;, score=0.733 total time=   2.1s\n",
      "[CV 1/3] END ....C=0.0001, gamma=10, kernel=rbf;, score=0.733 total time=   2.2s\n",
      "[CV 2/3] END ....C=0.0001, gamma=10, kernel=rbf;, score=0.733 total time=   2.1s\n",
      "[CV 3/3] END ....C=0.0001, gamma=10, kernel=rbf;, score=0.733 total time=   2.0s\n",
      "[CV 1/3] END ...C=0.0001, gamma=100, kernel=rbf;, score=0.733 total time=   1.8s\n",
      "[CV 2/3] END ...C=0.0001, gamma=100, kernel=rbf;, score=0.733 total time=   2.1s\n",
      "[CV 3/3] END ...C=0.0001, gamma=100, kernel=rbf;, score=0.733 total time=   2.1s\n",
      "[CV 1/3] END ..........C=1, gamma=1, kernel=rbf;, score=0.738 total time=   3.8s\n",
      "[CV 2/3] END ..........C=1, gamma=1, kernel=rbf;, score=0.741 total time=   4.2s\n",
      "[CV 3/3] END ..........C=1, gamma=1, kernel=rbf;, score=0.738 total time=   3.8s\n",
      "[CV 1/3] END .........C=1, gamma=10, kernel=rbf;, score=0.735 total time=   3.4s\n",
      "[CV 2/3] END .........C=1, gamma=10, kernel=rbf;, score=0.735 total time=   3.5s\n",
      "[CV 3/3] END .........C=1, gamma=10, kernel=rbf;, score=0.733 total time=   3.8s\n",
      "[CV 1/3] END ........C=1, gamma=100, kernel=rbf;, score=0.734 total time=   3.8s\n",
      "[CV 2/3] END ........C=1, gamma=100, kernel=rbf;, score=0.735 total time=   3.6s\n",
      "[CV 3/3] END ........C=1, gamma=100, kernel=rbf;, score=0.732 total time=   3.6s\n",
      "[CV 1/3] END .........C=10, gamma=1, kernel=rbf;, score=0.737 total time=   4.4s\n",
      "[CV 2/3] END .........C=10, gamma=1, kernel=rbf;, score=0.741 total time=   3.8s\n",
      "[CV 3/3] END .........C=10, gamma=1, kernel=rbf;, score=0.738 total time=   3.8s\n",
      "[CV 1/3] END ........C=10, gamma=10, kernel=rbf;, score=0.736 total time=   3.8s\n",
      "[CV 2/3] END ........C=10, gamma=10, kernel=rbf;, score=0.737 total time=   3.8s\n",
      "[CV 3/3] END ........C=10, gamma=10, kernel=rbf;, score=0.733 total time=   4.5s\n",
      "[CV 1/3] END .......C=10, gamma=100, kernel=rbf;, score=0.735 total time=   3.8s\n",
      "[CV 2/3] END .......C=10, gamma=100, kernel=rbf;, score=0.735 total time=   4.5s\n",
      "[CV 3/3] END .......C=10, gamma=100, kernel=rbf;, score=0.732 total time=   4.7s\n"
     ]
    },
    {
     "data": {
      "text/plain": [
       "{'C': 1, 'gamma': 1, 'kernel': 'rbf'}"
      ]
     },
     "execution_count": 33,
     "metadata": {},
     "output_type": "execute_result"
    }
   ],
   "source": [
    "from sklearn.svm import SVC\n",
    "\n",
    "param_grid = {\n",
    "    'kernel':['rbf'], \n",
    "    'C':[0.0001, 1, 10], \n",
    "    'gamma':[1, 10, 100]\n",
    "}\n",
    "\n",
    "sv = SVC(random_state=0)\n",
    "CV_sv = GridSearchCV(estimator=sv, verbose = 3, param_grid=param_grid, cv= 3)\n",
    "CV_sv.fit(X_train, y_train)\n",
    "CV_sv.best_params_"
   ]
  },
  {
   "cell_type": "code",
   "execution_count": 34,
   "id": "325c9b1a-b2f4-4677-80dd-1237ccd629c9",
   "metadata": {
    "tags": []
   },
   "outputs": [],
   "source": [
    "model_svm = SVC(C = 1, kernel='rbf', gamma = 1, random_state=0)"
   ]
  },
  {
   "cell_type": "code",
   "execution_count": 35,
   "id": "beff275d-7a4f-4fc6-9ad6-143cf0cfe8c4",
   "metadata": {
    "tags": []
   },
   "outputs": [
    {
     "data": {
      "text/html": [
       "<style>#sk-container-id-3 {color: black;}#sk-container-id-3 pre{padding: 0;}#sk-container-id-3 div.sk-toggleable {background-color: white;}#sk-container-id-3 label.sk-toggleable__label {cursor: pointer;display: block;width: 100%;margin-bottom: 0;padding: 0.3em;box-sizing: border-box;text-align: center;}#sk-container-id-3 label.sk-toggleable__label-arrow:before {content: \"▸\";float: left;margin-right: 0.25em;color: #696969;}#sk-container-id-3 label.sk-toggleable__label-arrow:hover:before {color: black;}#sk-container-id-3 div.sk-estimator:hover label.sk-toggleable__label-arrow:before {color: black;}#sk-container-id-3 div.sk-toggleable__content {max-height: 0;max-width: 0;overflow: hidden;text-align: left;background-color: #f0f8ff;}#sk-container-id-3 div.sk-toggleable__content pre {margin: 0.2em;color: black;border-radius: 0.25em;background-color: #f0f8ff;}#sk-container-id-3 input.sk-toggleable__control:checked~div.sk-toggleable__content {max-height: 200px;max-width: 100%;overflow: auto;}#sk-container-id-3 input.sk-toggleable__control:checked~label.sk-toggleable__label-arrow:before {content: \"▾\";}#sk-container-id-3 div.sk-estimator input.sk-toggleable__control:checked~label.sk-toggleable__label {background-color: #d4ebff;}#sk-container-id-3 div.sk-label input.sk-toggleable__control:checked~label.sk-toggleable__label {background-color: #d4ebff;}#sk-container-id-3 input.sk-hidden--visually {border: 0;clip: rect(1px 1px 1px 1px);clip: rect(1px, 1px, 1px, 1px);height: 1px;margin: -1px;overflow: hidden;padding: 0;position: absolute;width: 1px;}#sk-container-id-3 div.sk-estimator {font-family: monospace;background-color: #f0f8ff;border: 1px dotted black;border-radius: 0.25em;box-sizing: border-box;margin-bottom: 0.5em;}#sk-container-id-3 div.sk-estimator:hover {background-color: #d4ebff;}#sk-container-id-3 div.sk-parallel-item::after {content: \"\";width: 100%;border-bottom: 1px solid gray;flex-grow: 1;}#sk-container-id-3 div.sk-label:hover label.sk-toggleable__label {background-color: #d4ebff;}#sk-container-id-3 div.sk-serial::before {content: \"\";position: absolute;border-left: 1px solid gray;box-sizing: border-box;top: 0;bottom: 0;left: 50%;z-index: 0;}#sk-container-id-3 div.sk-serial {display: flex;flex-direction: column;align-items: center;background-color: white;padding-right: 0.2em;padding-left: 0.2em;position: relative;}#sk-container-id-3 div.sk-item {position: relative;z-index: 1;}#sk-container-id-3 div.sk-parallel {display: flex;align-items: stretch;justify-content: center;background-color: white;position: relative;}#sk-container-id-3 div.sk-item::before, #sk-container-id-3 div.sk-parallel-item::before {content: \"\";position: absolute;border-left: 1px solid gray;box-sizing: border-box;top: 0;bottom: 0;left: 50%;z-index: -1;}#sk-container-id-3 div.sk-parallel-item {display: flex;flex-direction: column;z-index: 1;position: relative;background-color: white;}#sk-container-id-3 div.sk-parallel-item:first-child::after {align-self: flex-end;width: 50%;}#sk-container-id-3 div.sk-parallel-item:last-child::after {align-self: flex-start;width: 50%;}#sk-container-id-3 div.sk-parallel-item:only-child::after {width: 0;}#sk-container-id-3 div.sk-dashed-wrapped {border: 1px dashed gray;margin: 0 0.4em 0.5em 0.4em;box-sizing: border-box;padding-bottom: 0.4em;background-color: white;}#sk-container-id-3 div.sk-label label {font-family: monospace;font-weight: bold;display: inline-block;line-height: 1.2em;}#sk-container-id-3 div.sk-label-container {text-align: center;}#sk-container-id-3 div.sk-container {/* jupyter's `normalize.less` sets `[hidden] { display: none; }` but bootstrap.min.css set `[hidden] { display: none !important; }` so we also need the `!important` here to be able to override the default hidden behavior on the sphinx rendered scikit-learn.org. See: https://github.com/scikit-learn/scikit-learn/issues/21755 */display: inline-block !important;position: relative;}#sk-container-id-3 div.sk-text-repr-fallback {display: none;}</style><div id=\"sk-container-id-3\" class=\"sk-top-container\"><div class=\"sk-text-repr-fallback\"><pre>SVC(C=1, gamma=1, random_state=0)</pre><b>In a Jupyter environment, please rerun this cell to show the HTML representation or trust the notebook. <br />On GitHub, the HTML representation is unable to render, please try loading this page with nbviewer.org.</b></div><div class=\"sk-container\" hidden><div class=\"sk-item\"><div class=\"sk-estimator sk-toggleable\"><input class=\"sk-toggleable__control sk-hidden--visually\" id=\"sk-estimator-id-3\" type=\"checkbox\" checked><label for=\"sk-estimator-id-3\" class=\"sk-toggleable__label sk-toggleable__label-arrow\">SVC</label><div class=\"sk-toggleable__content\"><pre>SVC(C=1, gamma=1, random_state=0)</pre></div></div></div></div></div>"
      ],
      "text/plain": [
       "SVC(C=1, gamma=1, random_state=0)"
      ]
     },
     "execution_count": 35,
     "metadata": {},
     "output_type": "execute_result"
    }
   ],
   "source": [
    "model_svm.fit(X_train, y_train)"
   ]
  },
  {
   "cell_type": "code",
   "execution_count": 36,
   "id": "13926300-63ef-4ff2-8b44-b82cd4403bcf",
   "metadata": {
    "tags": []
   },
   "outputs": [],
   "source": [
    "# Making Prediction\n",
    "pred_svm = model_svm.predict(X_test)"
   ]
  },
  {
   "cell_type": "code",
   "execution_count": 37,
   "id": "20cd38cb-6510-4afd-aaf6-0bdc5ba5924d",
   "metadata": {
    "tags": []
   },
   "outputs": [
    {
     "name": "stdout",
     "output_type": "stream",
     "text": [
      "Accuracy : 74.48 %\n",
      "Precision : 72.85 %\n",
      "Recall : 74.48 %\n",
      "f1-score : 65.33 %\n"
     ]
    }
   ],
   "source": [
    "# Calculating Accuracy Score\n",
    "print('Accuracy :', round(accuracy_score(y_test, pred_svm)*100,2),\"%\")\n",
    "print('Precision :', round(precision_score(y_test, pred_svm, average='weighted', zero_division=0)*100,2),\"%\")\n",
    "print('Recall :', round(recall_score(y_test, pred_svm, average='weighted', zero_division=0)*100,2),\"%\")\n",
    "print('f1-score :', round(f1_score(y_test,\tpred_svm, average='weighted', zero_division=0)*100,2), \"%\")"
   ]
  },
  {
   "cell_type": "code",
   "execution_count": 38,
   "id": "c5c36e3d-374b-40d7-b943-b098b5d2a0da",
   "metadata": {
    "tags": []
   },
   "outputs": [
    {
     "name": "stdout",
     "output_type": "stream",
     "text": [
      "              precision    recall  f1-score   support\n",
      "\n",
      "           0       0.75      0.99      0.85      1038\n",
      "           1       0.68      0.05      0.10       369\n",
      "\n",
      "    accuracy                           0.74      1407\n",
      "   macro avg       0.71      0.52      0.47      1407\n",
      "weighted avg       0.73      0.74      0.65      1407\n",
      "\n"
     ]
    }
   ],
   "source": [
    "print(classification_report(y_test,pred_svm))"
   ]
  },
  {
   "cell_type": "code",
   "execution_count": 39,
   "id": "5c2c268f-aa25-4853-9f9a-9634515c80a9",
   "metadata": {
    "tags": []
   },
   "outputs": [
    {
     "data": {
      "image/png": "[encoded data removed]",
      "text/plain": [
       "<Figure size 640x480 with 2 Axes>"
      ]
     },
     "metadata": {},
     "output_type": "display_data"
    }
   ],
   "source": [
    "# confusion Maxtrix\n",
    "cm6 = confusion_matrix(y_test, pred_svm)\n",
    "sns.heatmap(cm6/np.sum(cm6), annot = True, fmt=  '0.2%', cmap = 'Reds')\n",
    "plt.title(\"SVM Classifier Confusion Matrix\",fontsize=12)\n",
    "plt.show()"
   ]
  },
  {
   "cell_type": "markdown",
   "id": "f99e064c-c3ef-4193-b8dc-914425a268ce",
   "metadata": {},
   "source": [
    "**Seperti yang Anda lihat, akurasinya cukup rendah, dan karena ini merupakan kumpulan data yang tidak seimbang, kita tidak boleh menganggap Akurasi sebagai metrik untuk mengukur model, karena Akurasi dikutuk dalam kumpulan data yang tidak seimbang.\n",
    "Oleh karena itu, kita perlu memeriksa skor recall, presisi & f1 untuk kelas minoritas, dan cukup jelas bahwa skor presisi, recall & f1 terlalu rendah untuk Kelas 1, yaitu pelanggan yang churn.\n",
    "Oleh karena itu, selanjutnya memanggil SMOTEENN (UpSampling + ENN)**"
   ]
  },
  {
   "cell_type": "markdown",
   "id": "c986c2ef-4c6d-4441-9dcd-5ce193547026",
   "metadata": {},
   "source": [
    "# MODELLING USING SMOOTE FOR IMBALANCE DATA"
   ]
  },
  {
   "cell_type": "code",
   "execution_count": 42,
   "id": "dc00967f-7b8b-4ad1-a7b8-168851d5fb8a",
   "metadata": {
    "tags": []
   },
   "outputs": [],
   "source": [
    "from imblearn.combine import SMOTEENN\n",
    "\n",
    "sm = SMOTEENN()\n",
    "\n",
    "X_resampling, y_resampling = sm.fit_resample(X,y)"
   ]
  },
  {
   "cell_type": "code",
   "execution_count": 43,
   "id": "9e31ea21-81c9-4610-85f8-bf74504975d6",
   "metadata": {
    "tags": []
   },
   "outputs": [
    {
     "data": {
      "text/plain": [
       "((5900, 50), (5900,))"
      ]
     },
     "execution_count": 43,
     "metadata": {},
     "output_type": "execute_result"
    }
   ],
   "source": [
    "X_resampling.shape, y_resampling.shape"
   ]
  },
  {
   "cell_type": "code",
   "execution_count": 44,
   "id": "efbe66fa-db04-40c8-b78e-715490e16bcc",
   "metadata": {
    "tags": []
   },
   "outputs": [],
   "source": [
    "X_trains, X_tests, y_trains, y_tests = train_test_split(X_resampling, y_resampling, test_size=0.2, random_state=0)"
   ]
  },
  {
   "cell_type": "markdown",
   "id": "72897148-aaec-479c-a502-8a98ce977711",
   "metadata": {
    "jp-MarkdownHeadingCollapsed": true,
    "tags": []
   },
   "source": [
    "## RANDOM FOREST USING SMOOTE "
   ]
  },
  {
   "cell_type": "code",
   "execution_count": 47,
   "id": "88c747d0-91ac-40f0-94a2-e504e9a0b0e8",
   "metadata": {
    "tags": []
   },
   "outputs": [
    {
     "name": "stdout",
     "output_type": "stream",
     "text": [
      "Fitting 3 folds for each of 60 candidates, totalling 180 fits\n",
      "[CV 1/3] END criterion=gini, max_depth=10, max_features=sqrt, n_estimators=200;, score=0.949 total time=   1.6s\n",
      "[CV 2/3] END criterion=gini, max_depth=10, max_features=sqrt, n_estimators=200;, score=0.950 total time=   1.3s\n",
      "[CV 3/3] END criterion=gini, max_depth=10, max_features=sqrt, n_estimators=200;, score=0.950 total time=   1.3s\n",
      "[CV 1/3] END criterion=gini, max_depth=10, max_features=sqrt, n_estimators=500;, score=0.951 total time=   3.5s\n",
      "[CV 2/3] END criterion=gini, max_depth=10, max_features=sqrt, n_estimators=500;, score=0.951 total time=   3.2s\n",
      "[CV 3/3] END criterion=gini, max_depth=10, max_features=sqrt, n_estimators=500;, score=0.951 total time=   3.1s\n",
      "[CV 1/3] END criterion=gini, max_depth=10, max_features=sqrt, n_estimators=700;, score=0.950 total time=   4.3s\n",
      "[CV 2/3] END criterion=gini, max_depth=10, max_features=sqrt, n_estimators=700;, score=0.951 total time=   4.5s\n",
      "[CV 3/3] END criterion=gini, max_depth=10, max_features=sqrt, n_estimators=700;, score=0.951 total time=   4.4s\n",
      "[CV 1/3] END criterion=gini, max_depth=10, max_features=log2, n_estimators=200;, score=0.947 total time=   1.0s\n",
      "[CV 2/3] END criterion=gini, max_depth=10, max_features=log2, n_estimators=200;, score=0.949 total time=   1.0s\n",
      "[CV 3/3] END criterion=gini, max_depth=10, max_features=log2, n_estimators=200;, score=0.951 total time=   1.0s\n",
      "[CV 1/3] END criterion=gini, max_depth=10, max_features=log2, n_estimators=500;, score=0.949 total time=   2.7s\n",
      "[CV 2/3] END criterion=gini, max_depth=10, max_features=log2, n_estimators=500;, score=0.948 total time=   2.7s\n",
      "[CV 3/3] END criterion=gini, max_depth=10, max_features=log2, n_estimators=500;, score=0.951 total time=   3.0s\n",
      "[CV 1/3] END criterion=gini, max_depth=10, max_features=log2, n_estimators=700;, score=0.948 total time=   4.0s\n",
      "[CV 2/3] END criterion=gini, max_depth=10, max_features=log2, n_estimators=700;, score=0.948 total time=   3.8s\n",
      "[CV 3/3] END criterion=gini, max_depth=10, max_features=log2, n_estimators=700;, score=0.951 total time=   3.8s\n",
      "[CV 1/3] END criterion=gini, max_depth=20, max_features=sqrt, n_estimators=200;, score=0.952 total time=   1.4s\n",
      "[CV 2/3] END criterion=gini, max_depth=20, max_features=sqrt, n_estimators=200;, score=0.952 total time=   1.4s\n",
      "[CV 3/3] END criterion=gini, max_depth=20, max_features=sqrt, n_estimators=200;, score=0.954 total time=   1.5s\n",
      "[CV 1/3] END criterion=gini, max_depth=20, max_features=sqrt, n_estimators=500;, score=0.952 total time=   3.7s\n",
      "[CV 2/3] END criterion=gini, max_depth=20, max_features=sqrt, n_estimators=500;, score=0.952 total time=   3.5s\n",
      "[CV 3/3] END criterion=gini, max_depth=20, max_features=sqrt, n_estimators=500;, score=0.955 total time=   3.7s\n",
      "[CV 1/3] END criterion=gini, max_depth=20, max_features=sqrt, n_estimators=700;, score=0.952 total time=   5.3s\n",
      "[CV 2/3] END criterion=gini, max_depth=20, max_features=sqrt, n_estimators=700;, score=0.953 total time=   5.0s\n",
      "[CV 3/3] END criterion=gini, max_depth=20, max_features=sqrt, n_estimators=700;, score=0.954 total time=   5.0s\n",
      "[CV 1/3] END criterion=gini, max_depth=20, max_features=log2, n_estimators=200;, score=0.954 total time=   1.2s\n",
      "[CV 2/3] END criterion=gini, max_depth=20, max_features=log2, n_estimators=200;, score=0.950 total time=   1.2s\n",
      "[CV 3/3] END criterion=gini, max_depth=20, max_features=log2, n_estimators=200;, score=0.956 total time=   1.4s\n",
      "[CV 1/3] END criterion=gini, max_depth=20, max_features=log2, n_estimators=500;, score=0.951 total time=   3.4s\n",
      "[CV 2/3] END criterion=gini, max_depth=20, max_features=log2, n_estimators=500;, score=0.951 total time=   3.1s\n",
      "[CV 3/3] END criterion=gini, max_depth=20, max_features=log2, n_estimators=500;, score=0.957 total time=   3.2s\n",
      "[CV 1/3] END criterion=gini, max_depth=20, max_features=log2, n_estimators=700;, score=0.950 total time=   4.7s\n",
      "[CV 2/3] END criterion=gini, max_depth=20, max_features=log2, n_estimators=700;, score=0.952 total time=   4.8s\n",
      "[CV 3/3] END criterion=gini, max_depth=20, max_features=log2, n_estimators=700;, score=0.957 total time=   4.6s\n",
      "[CV 1/3] END criterion=gini, max_depth=30, max_features=sqrt, n_estimators=200;, score=0.952 total time=   1.4s\n",
      "[CV 2/3] END criterion=gini, max_depth=30, max_features=sqrt, n_estimators=200;, score=0.952 total time=   1.4s\n",
      "[CV 3/3] END criterion=gini, max_depth=30, max_features=sqrt, n_estimators=200;, score=0.952 total time=   1.4s\n",
      "[CV 1/3] END criterion=gini, max_depth=30, max_features=sqrt, n_estimators=500;, score=0.952 total time=   3.7s\n",
      "[CV 2/3] END criterion=gini, max_depth=30, max_features=sqrt, n_estimators=500;, score=0.951 total time=   3.6s\n",
      "[CV 3/3] END criterion=gini, max_depth=30, max_features=sqrt, n_estimators=500;, score=0.954 total time=   3.7s\n",
      "[CV 1/3] END criterion=gini, max_depth=30, max_features=sqrt, n_estimators=700;, score=0.952 total time=   5.1s\n",
      "[CV 2/3] END criterion=gini, max_depth=30, max_features=sqrt, n_estimators=700;, score=0.951 total time=   5.2s\n",
      "[CV 3/3] END criterion=gini, max_depth=30, max_features=sqrt, n_estimators=700;, score=0.953 total time=   5.0s\n",
      "[CV 1/3] END criterion=gini, max_depth=30, max_features=log2, n_estimators=200;, score=0.954 total time=   1.2s\n",
      "[CV 2/3] END criterion=gini, max_depth=30, max_features=log2, n_estimators=200;, score=0.951 total time=   1.2s\n",
      "[CV 3/3] END criterion=gini, max_depth=30, max_features=log2, n_estimators=200;, score=0.956 total time=   1.2s\n",
      "[CV 1/3] END criterion=gini, max_depth=30, max_features=log2, n_estimators=500;, score=0.952 total time=   3.3s\n",
      "[CV 2/3] END criterion=gini, max_depth=30, max_features=log2, n_estimators=500;, score=0.952 total time=   3.3s\n",
      "[CV 3/3] END criterion=gini, max_depth=30, max_features=log2, n_estimators=500;, score=0.957 total time=   3.2s\n",
      "[CV 1/3] END criterion=gini, max_depth=30, max_features=log2, n_estimators=700;, score=0.953 total time=   4.4s\n",
      "[CV 2/3] END criterion=gini, max_depth=30, max_features=log2, n_estimators=700;, score=0.952 total time=   4.5s\n",
      "[CV 3/3] END criterion=gini, max_depth=30, max_features=log2, n_estimators=700;, score=0.958 total time=   4.9s\n",
      "[CV 1/3] END criterion=gini, max_depth=40, max_features=sqrt, n_estimators=200;, score=0.952 total time=   1.4s\n",
      "[CV 2/3] END criterion=gini, max_depth=40, max_features=sqrt, n_estimators=200;, score=0.952 total time=   1.5s\n",
      "[CV 3/3] END criterion=gini, max_depth=40, max_features=sqrt, n_estimators=200;, score=0.952 total time=   1.4s\n",
      "[CV 1/3] END criterion=gini, max_depth=40, max_features=sqrt, n_estimators=500;, score=0.952 total time=   3.7s\n",
      "[CV 2/3] END criterion=gini, max_depth=40, max_features=sqrt, n_estimators=500;, score=0.951 total time=   3.6s\n",
      "[CV 3/3] END criterion=gini, max_depth=40, max_features=sqrt, n_estimators=500;, score=0.954 total time=   3.8s\n",
      "[CV 1/3] END criterion=gini, max_depth=40, max_features=sqrt, n_estimators=700;, score=0.952 total time=   5.0s\n",
      "[CV 2/3] END criterion=gini, max_depth=40, max_features=sqrt, n_estimators=700;, score=0.951 total time=   5.0s\n",
      "[CV 3/3] END criterion=gini, max_depth=40, max_features=sqrt, n_estimators=700;, score=0.953 total time=   5.4s\n",
      "[CV 1/3] END criterion=gini, max_depth=40, max_features=log2, n_estimators=200;, score=0.954 total time=   1.5s\n",
      "[CV 2/3] END criterion=gini, max_depth=40, max_features=log2, n_estimators=200;, score=0.951 total time=   1.3s\n",
      "[CV 3/3] END criterion=gini, max_depth=40, max_features=log2, n_estimators=200;, score=0.956 total time=   1.4s\n",
      "[CV 1/3] END criterion=gini, max_depth=40, max_features=log2, n_estimators=500;, score=0.952 total time=   3.3s\n",
      "[CV 2/3] END criterion=gini, max_depth=40, max_features=log2, n_estimators=500;, score=0.952 total time=   3.2s\n",
      "[CV 3/3] END criterion=gini, max_depth=40, max_features=log2, n_estimators=500;, score=0.957 total time=   3.4s\n",
      "[CV 1/3] END criterion=gini, max_depth=40, max_features=log2, n_estimators=700;, score=0.953 total time=   4.7s\n",
      "[CV 2/3] END criterion=gini, max_depth=40, max_features=log2, n_estimators=700;, score=0.952 total time=   4.5s\n",
      "[CV 3/3] END criterion=gini, max_depth=40, max_features=log2, n_estimators=700;, score=0.958 total time=   4.6s\n",
      "[CV 1/3] END criterion=gini, max_depth=50, max_features=sqrt, n_estimators=200;, score=0.952 total time=   1.4s\n",
      "[CV 2/3] END criterion=gini, max_depth=50, max_features=sqrt, n_estimators=200;, score=0.952 total time=   1.4s\n",
      "[CV 3/3] END criterion=gini, max_depth=50, max_features=sqrt, n_estimators=200;, score=0.952 total time=   1.4s\n",
      "[CV 1/3] END criterion=gini, max_depth=50, max_features=sqrt, n_estimators=500;, score=0.952 total time=   3.8s\n",
      "[CV 2/3] END criterion=gini, max_depth=50, max_features=sqrt, n_estimators=500;, score=0.951 total time=   3.8s\n",
      "[CV 3/3] END criterion=gini, max_depth=50, max_features=sqrt, n_estimators=500;, score=0.954 total time=   3.9s\n",
      "[CV 1/3] END criterion=gini, max_depth=50, max_features=sqrt, n_estimators=700;, score=0.952 total time=   5.0s\n",
      "[CV 2/3] END criterion=gini, max_depth=50, max_features=sqrt, n_estimators=700;, score=0.951 total time=   5.1s\n",
      "[CV 3/3] END criterion=gini, max_depth=50, max_features=sqrt, n_estimators=700;, score=0.953 total time=   5.3s\n",
      "[CV 1/3] END criterion=gini, max_depth=50, max_features=log2, n_estimators=200;, score=0.954 total time=   1.4s\n",
      "[CV 2/3] END criterion=gini, max_depth=50, max_features=log2, n_estimators=200;, score=0.951 total time=   1.2s\n",
      "[CV 3/3] END criterion=gini, max_depth=50, max_features=log2, n_estimators=200;, score=0.956 total time=   1.3s\n",
      "[CV 1/3] END criterion=gini, max_depth=50, max_features=log2, n_estimators=500;, score=0.952 total time=   3.2s\n",
      "[CV 2/3] END criterion=gini, max_depth=50, max_features=log2, n_estimators=500;, score=0.952 total time=   3.4s\n",
      "[CV 3/3] END criterion=gini, max_depth=50, max_features=log2, n_estimators=500;, score=0.957 total time=   3.2s\n",
      "[CV 1/3] END criterion=gini, max_depth=50, max_features=log2, n_estimators=700;, score=0.953 total time=   4.7s\n",
      "[CV 2/3] END criterion=gini, max_depth=50, max_features=log2, n_estimators=700;, score=0.952 total time=   4.7s\n",
      "[CV 3/3] END criterion=gini, max_depth=50, max_features=log2, n_estimators=700;, score=0.958 total time=   4.5s\n",
      "[CV 1/3] END criterion=entropy, max_depth=10, max_features=sqrt, n_estimators=200;, score=0.950 total time=   1.3s\n",
      "[CV 2/3] END criterion=entropy, max_depth=10, max_features=sqrt, n_estimators=200;, score=0.948 total time=   1.4s\n",
      "[CV 3/3] END criterion=entropy, max_depth=10, max_features=sqrt, n_estimators=200;, score=0.952 total time=   1.5s\n",
      "[CV 1/3] END criterion=entropy, max_depth=10, max_features=sqrt, n_estimators=500;, score=0.950 total time=   3.4s\n",
      "[CV 2/3] END criterion=entropy, max_depth=10, max_features=sqrt, n_estimators=500;, score=0.950 total time=   3.4s\n",
      "[CV 3/3] END criterion=entropy, max_depth=10, max_features=sqrt, n_estimators=500;, score=0.952 total time=   3.4s\n",
      "[CV 1/3] END criterion=entropy, max_depth=10, max_features=sqrt, n_estimators=700;, score=0.950 total time=   4.7s\n",
      "[CV 2/3] END criterion=entropy, max_depth=10, max_features=sqrt, n_estimators=700;, score=0.948 total time=   4.5s\n",
      "[CV 3/3] END criterion=entropy, max_depth=10, max_features=sqrt, n_estimators=700;, score=0.952 total time=   4.6s\n",
      "[CV 1/3] END criterion=entropy, max_depth=10, max_features=log2, n_estimators=200;, score=0.952 total time=   1.1s\n",
      "[CV 2/3] END criterion=entropy, max_depth=10, max_features=log2, n_estimators=200;, score=0.949 total time=   1.1s\n",
      "[CV 3/3] END criterion=entropy, max_depth=10, max_features=log2, n_estimators=200;, score=0.951 total time=   1.1s\n",
      "[CV 1/3] END criterion=entropy, max_depth=10, max_features=log2, n_estimators=500;, score=0.948 total time=   3.0s\n",
      "[CV 2/3] END criterion=entropy, max_depth=10, max_features=log2, n_estimators=500;, score=0.949 total time=   2.8s\n",
      "[CV 3/3] END criterion=entropy, max_depth=10, max_features=log2, n_estimators=500;, score=0.950 total time=   2.8s\n",
      "[CV 1/3] END criterion=entropy, max_depth=10, max_features=log2, n_estimators=700;, score=0.946 total time=   4.0s\n",
      "[CV 2/3] END criterion=entropy, max_depth=10, max_features=log2, n_estimators=700;, score=0.950 total time=   4.0s\n",
      "[CV 3/3] END criterion=entropy, max_depth=10, max_features=log2, n_estimators=700;, score=0.952 total time=   4.1s\n",
      "[CV 1/3] END criterion=entropy, max_depth=20, max_features=sqrt, n_estimators=200;, score=0.954 total time=   1.4s\n",
      "[CV 2/3] END criterion=entropy, max_depth=20, max_features=sqrt, n_estimators=200;, score=0.952 total time=   1.4s\n",
      "[CV 3/3] END criterion=entropy, max_depth=20, max_features=sqrt, n_estimators=200;, score=0.954 total time=   1.5s\n",
      "[CV 1/3] END criterion=entropy, max_depth=20, max_features=sqrt, n_estimators=500;, score=0.954 total time=   3.7s\n",
      "[CV 2/3] END criterion=entropy, max_depth=20, max_features=sqrt, n_estimators=500;, score=0.953 total time=   3.7s\n",
      "[CV 3/3] END criterion=entropy, max_depth=20, max_features=sqrt, n_estimators=500;, score=0.954 total time=   3.9s\n",
      "[CV 1/3] END criterion=entropy, max_depth=20, max_features=sqrt, n_estimators=700;, score=0.955 total time=   5.1s\n",
      "[CV 2/3] END criterion=entropy, max_depth=20, max_features=sqrt, n_estimators=700;, score=0.954 total time=   5.2s\n",
      "[CV 3/3] END criterion=entropy, max_depth=20, max_features=sqrt, n_estimators=700;, score=0.955 total time=   5.4s\n",
      "[CV 1/3] END criterion=entropy, max_depth=20, max_features=log2, n_estimators=200;, score=0.954 total time=   1.3s\n",
      "[CV 2/3] END criterion=entropy, max_depth=20, max_features=log2, n_estimators=200;, score=0.954 total time=   1.2s\n",
      "[CV 3/3] END criterion=entropy, max_depth=20, max_features=log2, n_estimators=200;, score=0.954 total time=   1.4s\n",
      "[CV 1/3] END criterion=entropy, max_depth=20, max_features=log2, n_estimators=500;, score=0.954 total time=   3.3s\n",
      "[CV 2/3] END criterion=entropy, max_depth=20, max_features=log2, n_estimators=500;, score=0.953 total time=   3.2s\n",
      "[CV 3/3] END criterion=entropy, max_depth=20, max_features=log2, n_estimators=500;, score=0.953 total time=   3.5s\n",
      "[CV 1/3] END criterion=entropy, max_depth=20, max_features=log2, n_estimators=700;, score=0.954 total time=   4.6s\n",
      "[CV 2/3] END criterion=entropy, max_depth=20, max_features=log2, n_estimators=700;, score=0.951 total time=   4.7s\n",
      "[CV 3/3] END criterion=entropy, max_depth=20, max_features=log2, n_estimators=700;, score=0.955 total time=   4.9s\n",
      "[CV 1/3] END criterion=entropy, max_depth=30, max_features=sqrt, n_estimators=200;, score=0.952 total time=   1.5s\n",
      "[CV 2/3] END criterion=entropy, max_depth=30, max_features=sqrt, n_estimators=200;, score=0.952 total time=   1.4s\n",
      "[CV 3/3] END criterion=entropy, max_depth=30, max_features=sqrt, n_estimators=200;, score=0.953 total time=   1.5s\n",
      "[CV 1/3] END criterion=entropy, max_depth=30, max_features=sqrt, n_estimators=500;, score=0.954 total time=   3.7s\n",
      "[CV 2/3] END criterion=entropy, max_depth=30, max_features=sqrt, n_estimators=500;, score=0.952 total time=   3.6s\n",
      "[CV 3/3] END criterion=entropy, max_depth=30, max_features=sqrt, n_estimators=500;, score=0.953 total time=   3.9s\n",
      "[CV 1/3] END criterion=entropy, max_depth=30, max_features=sqrt, n_estimators=700;, score=0.954 total time=   5.1s\n",
      "[CV 2/3] END criterion=entropy, max_depth=30, max_features=sqrt, n_estimators=700;, score=0.953 total time=   5.2s\n",
      "[CV 3/3] END criterion=entropy, max_depth=30, max_features=sqrt, n_estimators=700;, score=0.954 total time=   5.4s\n",
      "[CV 1/3] END criterion=entropy, max_depth=30, max_features=log2, n_estimators=200;, score=0.956 total time=   1.3s\n",
      "[CV 2/3] END criterion=entropy, max_depth=30, max_features=log2, n_estimators=200;, score=0.955 total time=   1.3s\n",
      "[CV 3/3] END criterion=entropy, max_depth=30, max_features=log2, n_estimators=200;, score=0.956 total time=   1.3s\n",
      "[CV 1/3] END criterion=entropy, max_depth=30, max_features=log2, n_estimators=500;, score=0.954 total time=   3.4s\n",
      "[CV 2/3] END criterion=entropy, max_depth=30, max_features=log2, n_estimators=500;, score=0.952 total time=   3.3s\n",
      "[CV 3/3] END criterion=entropy, max_depth=30, max_features=log2, n_estimators=500;, score=0.953 total time=   3.4s\n",
      "[CV 1/3] END criterion=entropy, max_depth=30, max_features=log2, n_estimators=700;, score=0.954 total time=   4.9s\n",
      "[CV 2/3] END criterion=entropy, max_depth=30, max_features=log2, n_estimators=700;, score=0.951 total time=   4.7s\n",
      "[CV 3/3] END criterion=entropy, max_depth=30, max_features=log2, n_estimators=700;, score=0.954 total time=   4.8s\n",
      "[CV 1/3] END criterion=entropy, max_depth=40, max_features=sqrt, n_estimators=200;, score=0.952 total time=   1.4s\n",
      "[CV 2/3] END criterion=entropy, max_depth=40, max_features=sqrt, n_estimators=200;, score=0.952 total time=   1.5s\n",
      "[CV 3/3] END criterion=entropy, max_depth=40, max_features=sqrt, n_estimators=200;, score=0.953 total time=   1.5s\n",
      "[CV 1/3] END criterion=entropy, max_depth=40, max_features=sqrt, n_estimators=500;, score=0.954 total time=   3.7s\n",
      "[CV 2/3] END criterion=entropy, max_depth=40, max_features=sqrt, n_estimators=500;, score=0.952 total time=   3.6s\n",
      "[CV 3/3] END criterion=entropy, max_depth=40, max_features=sqrt, n_estimators=500;, score=0.953 total time=   3.7s\n",
      "[CV 1/3] END criterion=entropy, max_depth=40, max_features=sqrt, n_estimators=700;, score=0.954 total time=   5.4s\n",
      "[CV 2/3] END criterion=entropy, max_depth=40, max_features=sqrt, n_estimators=700;, score=0.953 total time=   5.1s\n",
      "[CV 3/3] END criterion=entropy, max_depth=40, max_features=sqrt, n_estimators=700;, score=0.954 total time=   5.2s\n",
      "[CV 1/3] END criterion=entropy, max_depth=40, max_features=log2, n_estimators=200;, score=0.956 total time=   1.3s\n",
      "[CV 2/3] END criterion=entropy, max_depth=40, max_features=log2, n_estimators=200;, score=0.955 total time=   1.3s\n",
      "[CV 3/3] END criterion=entropy, max_depth=40, max_features=log2, n_estimators=200;, score=0.956 total time=   1.3s\n",
      "[CV 1/3] END criterion=entropy, max_depth=40, max_features=log2, n_estimators=500;, score=0.954 total time=   3.4s\n",
      "[CV 2/3] END criterion=entropy, max_depth=40, max_features=log2, n_estimators=500;, score=0.952 total time=   3.3s\n",
      "[CV 3/3] END criterion=entropy, max_depth=40, max_features=log2, n_estimators=500;, score=0.953 total time=   3.4s\n",
      "[CV 1/3] END criterion=entropy, max_depth=40, max_features=log2, n_estimators=700;, score=0.954 total time=   4.8s\n",
      "[CV 2/3] END criterion=entropy, max_depth=40, max_features=log2, n_estimators=700;, score=0.951 total time=   4.8s\n",
      "[CV 3/3] END criterion=entropy, max_depth=40, max_features=log2, n_estimators=700;, score=0.954 total time=   4.7s\n",
      "[CV 1/3] END criterion=entropy, max_depth=50, max_features=sqrt, n_estimators=200;, score=0.952 total time=   1.4s\n",
      "[CV 2/3] END criterion=entropy, max_depth=50, max_features=sqrt, n_estimators=200;, score=0.952 total time=   1.4s\n",
      "[CV 3/3] END criterion=entropy, max_depth=50, max_features=sqrt, n_estimators=200;, score=0.953 total time=   1.8s\n",
      "[CV 1/3] END criterion=entropy, max_depth=50, max_features=sqrt, n_estimators=500;, score=0.954 total time=   5.2s\n",
      "[CV 2/3] END criterion=entropy, max_depth=50, max_features=sqrt, n_estimators=500;, score=0.952 total time=   4.2s\n",
      "[CV 3/3] END criterion=entropy, max_depth=50, max_features=sqrt, n_estimators=500;, score=0.953 total time=   4.1s\n",
      "[CV 1/3] END criterion=entropy, max_depth=50, max_features=sqrt, n_estimators=700;, score=0.954 total time=   6.7s\n",
      "[CV 2/3] END criterion=entropy, max_depth=50, max_features=sqrt, n_estimators=700;, score=0.953 total time=   5.7s\n",
      "[CV 3/3] END criterion=entropy, max_depth=50, max_features=sqrt, n_estimators=700;, score=0.954 total time=   6.3s\n",
      "[CV 1/3] END criterion=entropy, max_depth=50, max_features=log2, n_estimators=200;, score=0.956 total time=   1.8s\n",
      "[CV 2/3] END criterion=entropy, max_depth=50, max_features=log2, n_estimators=200;, score=0.955 total time=   1.4s\n",
      "[CV 3/3] END criterion=entropy, max_depth=50, max_features=log2, n_estimators=200;, score=0.956 total time=   1.4s\n",
      "[CV 1/3] END criterion=entropy, max_depth=50, max_features=log2, n_estimators=500;, score=0.954 total time=   3.7s\n",
      "[CV 2/3] END criterion=entropy, max_depth=50, max_features=log2, n_estimators=500;, score=0.952 total time=   3.6s\n",
      "[CV 3/3] END criterion=entropy, max_depth=50, max_features=log2, n_estimators=500;, score=0.953 total time=   5.2s\n",
      "[CV 1/3] END criterion=entropy, max_depth=50, max_features=log2, n_estimators=700;, score=0.954 total time=   5.4s\n",
      "[CV 2/3] END criterion=entropy, max_depth=50, max_features=log2, n_estimators=700;, score=0.951 total time=   5.1s\n",
      "[CV 3/3] END criterion=entropy, max_depth=50, max_features=log2, n_estimators=700;, score=0.954 total time=   6.1s\n"
     ]
    },
    {
     "data": {
      "text/plain": [
       "{'criterion': 'entropy',\n",
       " 'max_depth': 30,\n",
       " 'max_features': 'log2',\n",
       " 'n_estimators': 200}"
      ]
     },
     "execution_count": 47,
     "metadata": {},
     "output_type": "execute_result"
    }
   ],
   "source": [
    "param_grid = {\n",
    " 'n_estimators': [200, 500, 700],\n",
    " 'max_features': ['sqrt', 'log2'],\n",
    " 'max_depth' : [10,20,30,40,50],\n",
    " 'criterion' :['gini', 'entropy'],\n",
    "}\n",
    "\n",
    "rfc=RandomForestClassifier(random_state=0)\n",
    "CV_rfc = GridSearchCV(estimator=rfc, verbose=3, param_grid=param_grid, cv = 3)\n",
    "CV_rfc.fit(X_trains, y_trains)\n",
    "CV_rfc.best_params_"
   ]
  },
  {
   "cell_type": "code",
   "execution_count": 52,
   "id": "958102ea-f01d-4c2f-8b1c-432ded91d4db",
   "metadata": {
    "tags": []
   },
   "outputs": [],
   "source": [
    "clf_smt = RandomForestClassifier(criterion='entropy', n_estimators=200, max_depth=30, max_features='log2', random_state=0)\n",
    "\n",
    "#Train the model using the training sets y_pred=clf.predict(X_test)\n",
    "rfc_smt = clf_smt.fit(X_trains, y_trains)\n",
    "y_pred = rfc_smt.predict(X_tests)"
   ]
  },
  {
   "cell_type": "code",
   "execution_count": 53,
   "id": "1e80ef2a-af95-4288-a14e-435adc457372",
   "metadata": {
    "tags": []
   },
   "outputs": [
    {
     "data": {
      "text/html": [
       "<style>#sk-container-id-6 {color: black;}#sk-container-id-6 pre{padding: 0;}#sk-container-id-6 div.sk-toggleable {background-color: white;}#sk-container-id-6 label.sk-toggleable__label {cursor: pointer;display: block;width: 100%;margin-bottom: 0;padding: 0.3em;box-sizing: border-box;text-align: center;}#sk-container-id-6 label.sk-toggleable__label-arrow:before {content: \"▸\";float: left;margin-right: 0.25em;color: #696969;}#sk-container-id-6 label.sk-toggleable__label-arrow:hover:before {color: black;}#sk-container-id-6 div.sk-estimator:hover label.sk-toggleable__label-arrow:before {color: black;}#sk-container-id-6 div.sk-toggleable__content {max-height: 0;max-width: 0;overflow: hidden;text-align: left;background-color: #f0f8ff;}#sk-container-id-6 div.sk-toggleable__content pre {margin: 0.2em;color: black;border-radius: 0.25em;background-color: #f0f8ff;}#sk-container-id-6 input.sk-toggleable__control:checked~div.sk-toggleable__content {max-height: 200px;max-width: 100%;overflow: auto;}#sk-container-id-6 input.sk-toggleable__control:checked~label.sk-toggleable__label-arrow:before {content: \"▾\";}#sk-container-id-6 div.sk-estimator input.sk-toggleable__control:checked~label.sk-toggleable__label {background-color: #d4ebff;}#sk-container-id-6 div.sk-label input.sk-toggleable__control:checked~label.sk-toggleable__label {background-color: #d4ebff;}#sk-container-id-6 input.sk-hidden--visually {border: 0;clip: rect(1px 1px 1px 1px);clip: rect(1px, 1px, 1px, 1px);height: 1px;margin: -1px;overflow: hidden;padding: 0;position: absolute;width: 1px;}#sk-container-id-6 div.sk-estimator {font-family: monospace;background-color: #f0f8ff;border: 1px dotted black;border-radius: 0.25em;box-sizing: border-box;margin-bottom: 0.5em;}#sk-container-id-6 div.sk-estimator:hover {background-color: #d4ebff;}#sk-container-id-6 div.sk-parallel-item::after {content: \"\";width: 100%;border-bottom: 1px solid gray;flex-grow: 1;}#sk-container-id-6 div.sk-label:hover label.sk-toggleable__label {background-color: #d4ebff;}#sk-container-id-6 div.sk-serial::before {content: \"\";position: absolute;border-left: 1px solid gray;box-sizing: border-box;top: 0;bottom: 0;left: 50%;z-index: 0;}#sk-container-id-6 div.sk-serial {display: flex;flex-direction: column;align-items: center;background-color: white;padding-right: 0.2em;padding-left: 0.2em;position: relative;}#sk-container-id-6 div.sk-item {position: relative;z-index: 1;}#sk-container-id-6 div.sk-parallel {display: flex;align-items: stretch;justify-content: center;background-color: white;position: relative;}#sk-container-id-6 div.sk-item::before, #sk-container-id-6 div.sk-parallel-item::before {content: \"\";position: absolute;border-left: 1px solid gray;box-sizing: border-box;top: 0;bottom: 0;left: 50%;z-index: -1;}#sk-container-id-6 div.sk-parallel-item {display: flex;flex-direction: column;z-index: 1;position: relative;background-color: white;}#sk-container-id-6 div.sk-parallel-item:first-child::after {align-self: flex-end;width: 50%;}#sk-container-id-6 div.sk-parallel-item:last-child::after {align-self: flex-start;width: 50%;}#sk-container-id-6 div.sk-parallel-item:only-child::after {width: 0;}#sk-container-id-6 div.sk-dashed-wrapped {border: 1px dashed gray;margin: 0 0.4em 0.5em 0.4em;box-sizing: border-box;padding-bottom: 0.4em;background-color: white;}#sk-container-id-6 div.sk-label label {font-family: monospace;font-weight: bold;display: inline-block;line-height: 1.2em;}#sk-container-id-6 div.sk-label-container {text-align: center;}#sk-container-id-6 div.sk-container {/* jupyter's `normalize.less` sets `[hidden] { display: none; }` but bootstrap.min.css set `[hidden] { display: none !important; }` so we also need the `!important` here to be able to override the default hidden behavior on the sphinx rendered scikit-learn.org. See: https://github.com/scikit-learn/scikit-learn/issues/21755 */display: inline-block !important;position: relative;}#sk-container-id-6 div.sk-text-repr-fallback {display: none;}</style><div id=\"sk-container-id-6\" class=\"sk-top-container\"><div class=\"sk-text-repr-fallback\"><pre>RandomForestClassifier(criterion=&#x27;entropy&#x27;, max_depth=30, max_features=&#x27;log2&#x27;,\n",
       "                       n_estimators=200, random_state=0)</pre><b>In a Jupyter environment, please rerun this cell to show the HTML representation or trust the notebook. <br />On GitHub, the HTML representation is unable to render, please try loading this page with nbviewer.org.</b></div><div class=\"sk-container\" hidden><div class=\"sk-item\"><div class=\"sk-estimator sk-toggleable\"><input class=\"sk-toggleable__control sk-hidden--visually\" id=\"sk-estimator-id-6\" type=\"checkbox\" checked><label for=\"sk-estimator-id-6\" class=\"sk-toggleable__label sk-toggleable__label-arrow\">RandomForestClassifier</label><div class=\"sk-toggleable__content\"><pre>RandomForestClassifier(criterion=&#x27;entropy&#x27;, max_depth=30, max_features=&#x27;log2&#x27;,\n",
       "                       n_estimators=200, random_state=0)</pre></div></div></div></div></div>"
      ],
      "text/plain": [
       "RandomForestClassifier(criterion='entropy', max_depth=30, max_features='log2',\n",
       "                       n_estimators=200, random_state=0)"
      ]
     },
     "execution_count": 53,
     "metadata": {},
     "output_type": "execute_result"
    }
   ],
   "source": [
    "# Training Model\n",
    "rfc_smt.fit(X_trains, y_trains)"
   ]
  },
  {
   "cell_type": "code",
   "execution_count": 54,
   "id": "1a46f132-64a4-410f-b079-c8f1a1b492c0",
   "metadata": {
    "tags": []
   },
   "outputs": [],
   "source": [
    "# Making Prediction\n",
    "pred_rf_smt = rfc_smt.predict(X_tests)"
   ]
  },
  {
   "cell_type": "code",
   "execution_count": 55,
   "id": "7d36e31b-b9b3-4269-8890-938d3355bc5e",
   "metadata": {
    "tags": []
   },
   "outputs": [
    {
     "name": "stdout",
     "output_type": "stream",
     "text": [
      "Accuracy : 95.51 %\n",
      "Precision : 95.51 %\n",
      "Recall : 95.51 %\n",
      "f1-score : 95.5 %\n"
     ]
    }
   ],
   "source": [
    "# Calculating Accuracy Score\n",
    "print('Accuracy :', round(accuracy_score(y_tests, pred_rf_smt)*100,2),\"%\")\n",
    "print('Precision :', round(precision_score(y_tests, pred_rf_smt, average='weighted', zero_division=0)*100,2),\"%\")\n",
    "print('Recall :', round(recall_score(y_tests, pred_rf_smt, average='weighted', zero_division=0)*100,2),\"%\")\n",
    "print('f1-score :', round(f1_score(y_tests,\tpred_rf_smt, average='weighted', zero_division=0)*100,2), \"%\")"
   ]
  },
  {
   "cell_type": "code",
   "execution_count": 64,
   "id": "9c20152d-5ffa-4f64-9044-262ac49abcf4",
   "metadata": {
    "tags": []
   },
   "outputs": [
    {
     "name": "stdout",
     "output_type": "stream",
     "text": [
      "              precision    recall  f1-score   support\n",
      "\n",
      "           0       0.96      0.94      0.95       533\n",
      "           1       0.95      0.97      0.96       647\n",
      "\n",
      "    accuracy                           0.96      1180\n",
      "   macro avg       0.96      0.95      0.95      1180\n",
      "weighted avg       0.96      0.96      0.96      1180\n",
      "\n"
     ]
    }
   ],
   "source": [
    "print(classification_report(y_tests,pred_rf_smt))"
   ]
  },
  {
   "cell_type": "code",
   "execution_count": 58,
   "id": "5802684b-65f1-4857-adb1-ef552ebc74fe",
   "metadata": {
    "tags": []
   },
   "outputs": [
    {
     "data": {
      "image/png": "[encoded data removed]",
      "text/plain": [
       "<Figure size 640x480 with 2 Axes>"
      ]
     },
     "metadata": {},
     "output_type": "display_data"
    }
   ],
   "source": [
    "# confusion Maxtrix\n",
    "cm3 = confusion_matrix(y_tests, pred_rf_smt)\n",
    "sns.heatmap(cm3/np.sum(cm3), annot = True, fmt=  '0.2%', cmap = 'Reds')\n",
    "plt.title(\"RandomForest Classifier Confusion Matrix\",fontsize=12)\n",
    "plt.show()"
   ]
  },
  {
   "cell_type": "markdown",
   "id": "7d102895-9833-4638-a56b-079e1e3e3f74",
   "metadata": {
    "tags": []
   },
   "source": [
    "## DECISION TREE USING SMOOTE"
   ]
  },
  {
   "cell_type": "code",
   "execution_count": 56,
   "id": "24c98f6b-1608-4653-b174-6690870a2e40",
   "metadata": {
    "tags": []
   },
   "outputs": [
    {
     "name": "stdout",
     "output_type": "stream",
     "text": [
      "Fitting 3 folds for each of 120 candidates, totalling 360 fits\n",
      "[CV 1/3] END criterion=gini, max_depth=10, max_features=auto, splitter=best;, score=nan total time=   0.0s\n",
      "[CV 2/3] END criterion=gini, max_depth=10, max_features=auto, splitter=best;, score=nan total time=   0.0s\n",
      "[CV 3/3] END criterion=gini, max_depth=10, max_features=auto, splitter=best;, score=nan total time=   0.0s\n",
      "[CV 1/3] END criterion=gini, max_depth=10, max_features=auto, splitter=random;, score=nan total time=   0.0s\n",
      "[CV 2/3] END criterion=gini, max_depth=10, max_features=auto, splitter=random;, score=nan total time=   0.0s\n",
      "[CV 3/3] END criterion=gini, max_depth=10, max_features=auto, splitter=random;, score=nan total time=   0.0s\n",
      "[CV 1/3] END criterion=gini, max_depth=10, max_features=sqrt, splitter=best;, score=0.909 total time=   0.0s\n",
      "[CV 2/3] END criterion=gini, max_depth=10, max_features=sqrt, splitter=best;, score=0.903 total time=   0.0s\n",
      "[CV 3/3] END criterion=gini, max_depth=10, max_features=sqrt, splitter=best;, score=0.931 total time=   0.0s\n",
      "[CV 1/3] END criterion=gini, max_depth=10, max_features=sqrt, splitter=random;, score=0.911 total time=   0.0s\n",
      "[CV 2/3] END criterion=gini, max_depth=10, max_features=sqrt, splitter=random;, score=0.905 total time=   0.0s\n",
      "[CV 3/3] END criterion=gini, max_depth=10, max_features=sqrt, splitter=random;, score=0.921 total time=   0.0s\n",
      "[CV 1/3] END criterion=gini, max_depth=10, max_features=log2, splitter=best;, score=0.910 total time=   0.0s\n",
      "[CV 2/3] END criterion=gini, max_depth=10, max_features=log2, splitter=best;, score=0.908 total time=   0.0s\n",
      "[CV 3/3] END criterion=gini, max_depth=10, max_features=log2, splitter=best;, score=0.921 total time=   0.0s\n",
      "[CV 1/3] END criterion=gini, max_depth=10, max_features=log2, splitter=random;, score=0.903 total time=   0.0s\n",
      "[CV 2/3] END criterion=gini, max_depth=10, max_features=log2, splitter=random;, score=0.908 total time=   0.0s\n",
      "[CV 3/3] END criterion=gini, max_depth=10, max_features=log2, splitter=random;, score=0.916 total time=   0.0s\n",
      "[CV 1/3] END criterion=gini, max_depth=20, max_features=auto, splitter=best;, score=nan total time=   0.0s\n",
      "[CV 2/3] END criterion=gini, max_depth=20, max_features=auto, splitter=best;, score=nan total time=   0.0s\n",
      "[CV 3/3] END criterion=gini, max_depth=20, max_features=auto, splitter=best;, score=nan total time=   0.0s\n",
      "[CV 1/3] END criterion=gini, max_depth=20, max_features=auto, splitter=random;, score=nan total time=   0.0s\n",
      "[CV 2/3] END criterion=gini, max_depth=20, max_features=auto, splitter=random;, score=nan total time=   0.0s\n",
      "[CV 3/3] END criterion=gini, max_depth=20, max_features=auto, splitter=random;, score=nan total time=   0.0s\n",
      "[CV 1/3] END criterion=gini, max_depth=20, max_features=sqrt, splitter=best;, score=0.921 total time=   0.0s\n",
      "[CV 2/3] END criterion=gini, max_depth=20, max_features=sqrt, splitter=best;, score=0.912 total time=   0.0s\n",
      "[CV 3/3] END criterion=gini, max_depth=20, max_features=sqrt, splitter=best;, score=0.925 total time=   0.0s\n",
      "[CV 1/3] END criterion=gini, max_depth=20, max_features=sqrt, splitter=random;, score=0.905 total time=   0.0s\n",
      "[CV 2/3] END criterion=gini, max_depth=20, max_features=sqrt, splitter=random;, score=0.900 total time=   0.0s\n",
      "[CV 3/3] END criterion=gini, max_depth=20, max_features=sqrt, splitter=random;, score=0.927 total time=   0.0s\n",
      "[CV 1/3] END criterion=gini, max_depth=20, max_features=log2, splitter=best;, score=0.920 total time=   0.0s\n",
      "[CV 2/3] END criterion=gini, max_depth=20, max_features=log2, splitter=best;, score=0.912 total time=   0.0s\n",
      "[CV 3/3] END criterion=gini, max_depth=20, max_features=log2, splitter=best;, score=0.921 total time=   0.0s\n",
      "[CV 1/3] END criterion=gini, max_depth=20, max_features=log2, splitter=random;, score=0.910 total time=   0.0s\n",
      "[CV 2/3] END criterion=gini, max_depth=20, max_features=log2, splitter=random;, score=0.900 total time=   0.0s\n",
      "[CV 3/3] END criterion=gini, max_depth=20, max_features=log2, splitter=random;, score=0.914 total time=   0.0s\n",
      "[CV 1/3] END criterion=gini, max_depth=30, max_features=auto, splitter=best;, score=nan total time=   0.0s\n",
      "[CV 2/3] END criterion=gini, max_depth=30, max_features=auto, splitter=best;, score=nan total time=   0.0s\n",
      "[CV 3/3] END criterion=gini, max_depth=30, max_features=auto, splitter=best;, score=nan total time=   0.0s\n",
      "[CV 1/3] END criterion=gini, max_depth=30, max_features=auto, splitter=random;, score=nan total time=   0.0s\n",
      "[CV 2/3] END criterion=gini, max_depth=30, max_features=auto, splitter=random;, score=nan total time=   0.0s\n",
      "[CV 3/3] END criterion=gini, max_depth=30, max_features=auto, splitter=random;, score=nan total time=   0.0s\n",
      "[CV 1/3] END criterion=gini, max_depth=30, max_features=sqrt, splitter=best;, score=0.928 total time=   0.0s\n",
      "[CV 2/3] END criterion=gini, max_depth=30, max_features=sqrt, splitter=best;, score=0.907 total time=   0.0s\n",
      "[CV 3/3] END criterion=gini, max_depth=30, max_features=sqrt, splitter=best;, score=0.927 total time=   0.0s\n",
      "[CV 1/3] END criterion=gini, max_depth=30, max_features=sqrt, splitter=random;, score=0.907 total time=   0.0s\n",
      "[CV 2/3] END criterion=gini, max_depth=30, max_features=sqrt, splitter=random;, score=0.907 total time=   0.0s\n",
      "[CV 3/3] END criterion=gini, max_depth=30, max_features=sqrt, splitter=random;, score=0.925 total time=   0.0s\n",
      "[CV 1/3] END criterion=gini, max_depth=30, max_features=log2, splitter=best;, score=0.922 total time=   0.0s\n",
      "[CV 2/3] END criterion=gini, max_depth=30, max_features=log2, splitter=best;, score=0.904 total time=   0.0s\n",
      "[CV 3/3] END criterion=gini, max_depth=30, max_features=log2, splitter=best;, score=0.921 total time=   0.0s\n",
      "[CV 1/3] END criterion=gini, max_depth=30, max_features=log2, splitter=random;, score=0.905 total time=   0.0s\n",
      "[CV 2/3] END criterion=gini, max_depth=30, max_features=log2, splitter=random;, score=0.900 total time=   0.0s\n",
      "[CV 3/3] END criterion=gini, max_depth=30, max_features=log2, splitter=random;, score=0.908 total time=   0.0s\n",
      "[CV 1/3] END criterion=gini, max_depth=40, max_features=auto, splitter=best;, score=nan total time=   0.0s\n",
      "[CV 2/3] END criterion=gini, max_depth=40, max_features=auto, splitter=best;, score=nan total time=   0.0s\n",
      "[CV 3/3] END criterion=gini, max_depth=40, max_features=auto, splitter=best;, score=nan total time=   0.0s\n",
      "[CV 1/3] END criterion=gini, max_depth=40, max_features=auto, splitter=random;, score=nan total time=   0.0s\n",
      "[CV 2/3] END criterion=gini, max_depth=40, max_features=auto, splitter=random;, score=nan total time=   0.0s\n",
      "[CV 3/3] END criterion=gini, max_depth=40, max_features=auto, splitter=random;, score=nan total time=   0.0s\n",
      "[CV 1/3] END criterion=gini, max_depth=40, max_features=sqrt, splitter=best;, score=0.928 total time=   0.0s\n",
      "[CV 2/3] END criterion=gini, max_depth=40, max_features=sqrt, splitter=best;, score=0.907 total time=   0.0s\n",
      "[CV 3/3] END criterion=gini, max_depth=40, max_features=sqrt, splitter=best;, score=0.927 total time=   0.0s\n",
      "[CV 1/3] END criterion=gini, max_depth=40, max_features=sqrt, splitter=random;, score=0.907 total time=   0.0s\n",
      "[CV 2/3] END criterion=gini, max_depth=40, max_features=sqrt, splitter=random;, score=0.907 total time=   0.0s\n",
      "[CV 3/3] END criterion=gini, max_depth=40, max_features=sqrt, splitter=random;, score=0.925 total time=   0.0s\n",
      "[CV 1/3] END criterion=gini, max_depth=40, max_features=log2, splitter=best;, score=0.922 total time=   0.0s\n",
      "[CV 2/3] END criterion=gini, max_depth=40, max_features=log2, splitter=best;, score=0.904 total time=   0.0s\n",
      "[CV 3/3] END criterion=gini, max_depth=40, max_features=log2, splitter=best;, score=0.921 total time=   0.0s\n",
      "[CV 1/3] END criterion=gini, max_depth=40, max_features=log2, splitter=random;, score=0.905 total time=   0.0s\n",
      "[CV 2/3] END criterion=gini, max_depth=40, max_features=log2, splitter=random;, score=0.900 total time=   0.0s\n",
      "[CV 3/3] END criterion=gini, max_depth=40, max_features=log2, splitter=random;, score=0.908 total time=   0.0s\n",
      "[CV 1/3] END criterion=gini, max_depth=50, max_features=auto, splitter=best;, score=nan total time=   0.0s\n",
      "[CV 2/3] END criterion=gini, max_depth=50, max_features=auto, splitter=best;, score=nan total time=   0.0s\n",
      "[CV 3/3] END criterion=gini, max_depth=50, max_features=auto, splitter=best;, score=nan total time=   0.0s\n",
      "[CV 1/3] END criterion=gini, max_depth=50, max_features=auto, splitter=random;, score=nan total time=   0.0s\n",
      "[CV 2/3] END criterion=gini, max_depth=50, max_features=auto, splitter=random;, score=nan total time=   0.0s\n",
      "[CV 3/3] END criterion=gini, max_depth=50, max_features=auto, splitter=random;, score=nan total time=   0.0s\n",
      "[CV 1/3] END criterion=gini, max_depth=50, max_features=sqrt, splitter=best;, score=0.928 total time=   0.0s\n",
      "[CV 2/3] END criterion=gini, max_depth=50, max_features=sqrt, splitter=best;, score=0.907 total time=   0.0s\n",
      "[CV 3/3] END criterion=gini, max_depth=50, max_features=sqrt, splitter=best;, score=0.927 total time=   0.0s\n",
      "[CV 1/3] END criterion=gini, max_depth=50, max_features=sqrt, splitter=random;, score=0.907 total time=   0.0s\n",
      "[CV 2/3] END criterion=gini, max_depth=50, max_features=sqrt, splitter=random;, score=0.907 total time=   0.0s\n",
      "[CV 3/3] END criterion=gini, max_depth=50, max_features=sqrt, splitter=random;, score=0.925 total time=   0.0s\n",
      "[CV 1/3] END criterion=gini, max_depth=50, max_features=log2, splitter=best;, score=0.922 total time=   0.0s\n",
      "[CV 2/3] END criterion=gini, max_depth=50, max_features=log2, splitter=best;, score=0.904 total time=   0.0s\n",
      "[CV 3/3] END criterion=gini, max_depth=50, max_features=log2, splitter=best;, score=0.921 total time=   0.0s\n",
      "[CV 1/3] END criterion=gini, max_depth=50, max_features=log2, splitter=random;, score=0.905 total time=   0.0s\n",
      "[CV 2/3] END criterion=gini, max_depth=50, max_features=log2, splitter=random;, score=0.900 total time=   0.0s\n",
      "[CV 3/3] END criterion=gini, max_depth=50, max_features=log2, splitter=random;, score=0.908 total time=   0.0s\n",
      "[CV 1/3] END criterion=gini, max_depth=60, max_features=auto, splitter=best;, score=nan total time=   0.0s\n",
      "[CV 2/3] END criterion=gini, max_depth=60, max_features=auto, splitter=best;, score=nan total time=   0.0s\n",
      "[CV 3/3] END criterion=gini, max_depth=60, max_features=auto, splitter=best;, score=nan total time=   0.0s\n",
      "[CV 1/3] END criterion=gini, max_depth=60, max_features=auto, splitter=random;, score=nan total time=   0.0s\n",
      "[CV 2/3] END criterion=gini, max_depth=60, max_features=auto, splitter=random;, score=nan total time=   0.0s\n",
      "[CV 3/3] END criterion=gini, max_depth=60, max_features=auto, splitter=random;, score=nan total time=   0.0s\n",
      "[CV 1/3] END criterion=gini, max_depth=60, max_features=sqrt, splitter=best;, score=0.928 total time=   0.0s\n",
      "[CV 2/3] END criterion=gini, max_depth=60, max_features=sqrt, splitter=best;, score=0.907 total time=   0.0s\n",
      "[CV 3/3] END criterion=gini, max_depth=60, max_features=sqrt, splitter=best;, score=0.927 total time=   0.0s\n",
      "[CV 1/3] END criterion=gini, max_depth=60, max_features=sqrt, splitter=random;, score=0.907 total time=   0.0s\n",
      "[CV 2/3] END criterion=gini, max_depth=60, max_features=sqrt, splitter=random;, score=0.907 total time=   0.0s\n",
      "[CV 3/3] END criterion=gini, max_depth=60, max_features=sqrt, splitter=random;, score=0.925 total time=   0.0s\n",
      "[CV 1/3] END criterion=gini, max_depth=60, max_features=log2, splitter=best;, score=0.922 total time=   0.0s\n",
      "[CV 2/3] END criterion=gini, max_depth=60, max_features=log2, splitter=best;, score=0.904 total time=   0.0s\n",
      "[CV 3/3] END criterion=gini, max_depth=60, max_features=log2, splitter=best;, score=0.921 total time=   0.0s\n",
      "[CV 1/3] END criterion=gini, max_depth=60, max_features=log2, splitter=random;, score=0.905 total time=   0.0s\n",
      "[CV 2/3] END criterion=gini, max_depth=60, max_features=log2, splitter=random;, score=0.900 total time=   0.0s\n",
      "[CV 3/3] END criterion=gini, max_depth=60, max_features=log2, splitter=random;, score=0.908 total time=   0.0s\n",
      "[CV 1/3] END criterion=gini, max_depth=70, max_features=auto, splitter=best;, score=nan total time=   0.0s\n",
      "[CV 2/3] END criterion=gini, max_depth=70, max_features=auto, splitter=best;, score=nan total time=   0.0s\n",
      "[CV 3/3] END criterion=gini, max_depth=70, max_features=auto, splitter=best;, score=nan total time=   0.0s\n",
      "[CV 1/3] END criterion=gini, max_depth=70, max_features=auto, splitter=random;, score=nan total time=   0.0s\n",
      "[CV 2/3] END criterion=gini, max_depth=70, max_features=auto, splitter=random;, score=nan total time=   0.0s\n",
      "[CV 3/3] END criterion=gini, max_depth=70, max_features=auto, splitter=random;, score=nan total time=   0.0s\n",
      "[CV 1/3] END criterion=gini, max_depth=70, max_features=sqrt, splitter=best;, score=0.928 total time=   0.0s\n",
      "[CV 2/3] END criterion=gini, max_depth=70, max_features=sqrt, splitter=best;, score=0.907 total time=   0.0s\n",
      "[CV 3/3] END criterion=gini, max_depth=70, max_features=sqrt, splitter=best;, score=0.927 total time=   0.0s\n",
      "[CV 1/3] END criterion=gini, max_depth=70, max_features=sqrt, splitter=random;, score=0.907 total time=   0.0s\n",
      "[CV 2/3] END criterion=gini, max_depth=70, max_features=sqrt, splitter=random;, score=0.907 total time=   0.0s\n",
      "[CV 3/3] END criterion=gini, max_depth=70, max_features=sqrt, splitter=random;, score=0.925 total time=   0.0s\n",
      "[CV 1/3] END criterion=gini, max_depth=70, max_features=log2, splitter=best;, score=0.922 total time=   0.0s\n",
      "[CV 2/3] END criterion=gini, max_depth=70, max_features=log2, splitter=best;, score=0.904 total time=   0.0s\n",
      "[CV 3/3] END criterion=gini, max_depth=70, max_features=log2, splitter=best;, score=0.921 total time=   0.0s\n",
      "[CV 1/3] END criterion=gini, max_depth=70, max_features=log2, splitter=random;, score=0.905 total time=   0.0s\n",
      "[CV 2/3] END criterion=gini, max_depth=70, max_features=log2, splitter=random;, score=0.900 total time=   0.0s\n",
      "[CV 3/3] END criterion=gini, max_depth=70, max_features=log2, splitter=random;, score=0.908 total time=   0.0s\n",
      "[CV 1/3] END criterion=gini, max_depth=80, max_features=auto, splitter=best;, score=nan total time=   0.0s\n",
      "[CV 2/3] END criterion=gini, max_depth=80, max_features=auto, splitter=best;, score=nan total time=   0.0s\n",
      "[CV 3/3] END criterion=gini, max_depth=80, max_features=auto, splitter=best;, score=nan total time=   0.0s\n",
      "[CV 1/3] END criterion=gini, max_depth=80, max_features=auto, splitter=random;, score=nan total time=   0.0s\n",
      "[CV 2/3] END criterion=gini, max_depth=80, max_features=auto, splitter=random;, score=nan total time=   0.0s\n",
      "[CV 3/3] END criterion=gini, max_depth=80, max_features=auto, splitter=random;, score=nan total time=   0.0s\n",
      "[CV 1/3] END criterion=gini, max_depth=80, max_features=sqrt, splitter=best;, score=0.928 total time=   0.0s\n",
      "[CV 2/3] END criterion=gini, max_depth=80, max_features=sqrt, splitter=best;, score=0.907 total time=   0.0s\n",
      "[CV 3/3] END criterion=gini, max_depth=80, max_features=sqrt, splitter=best;, score=0.927 total time=   0.0s\n",
      "[CV 1/3] END criterion=gini, max_depth=80, max_features=sqrt, splitter=random;, score=0.907 total time=   0.0s\n",
      "[CV 2/3] END criterion=gini, max_depth=80, max_features=sqrt, splitter=random;, score=0.907 total time=   0.0s\n",
      "[CV 3/3] END criterion=gini, max_depth=80, max_features=sqrt, splitter=random;, score=0.925 total time=   0.0s\n",
      "[CV 1/3] END criterion=gini, max_depth=80, max_features=log2, splitter=best;, score=0.922 total time=   0.0s\n",
      "[CV 2/3] END criterion=gini, max_depth=80, max_features=log2, splitter=best;, score=0.904 total time=   0.0s\n",
      "[CV 3/3] END criterion=gini, max_depth=80, max_features=log2, splitter=best;, score=0.921 total time=   0.0s\n",
      "[CV 1/3] END criterion=gini, max_depth=80, max_features=log2, splitter=random;, score=0.905 total time=   0.0s\n",
      "[CV 2/3] END criterion=gini, max_depth=80, max_features=log2, splitter=random;, score=0.900 total time=   0.0s\n",
      "[CV 3/3] END criterion=gini, max_depth=80, max_features=log2, splitter=random;, score=0.908 total time=   0.0s\n",
      "[CV 1/3] END criterion=gini, max_depth=90, max_features=auto, splitter=best;, score=nan total time=   0.0s\n",
      "[CV 2/3] END criterion=gini, max_depth=90, max_features=auto, splitter=best;, score=nan total time=   0.0s\n",
      "[CV 3/3] END criterion=gini, max_depth=90, max_features=auto, splitter=best;, score=nan total time=   0.0s\n",
      "[CV 1/3] END criterion=gini, max_depth=90, max_features=auto, splitter=random;, score=nan total time=   0.0s\n",
      "[CV 2/3] END criterion=gini, max_depth=90, max_features=auto, splitter=random;, score=nan total time=   0.0s\n",
      "[CV 3/3] END criterion=gini, max_depth=90, max_features=auto, splitter=random;, score=nan total time=   0.0s\n",
      "[CV 1/3] END criterion=gini, max_depth=90, max_features=sqrt, splitter=best;, score=0.928 total time=   0.0s\n",
      "[CV 2/3] END criterion=gini, max_depth=90, max_features=sqrt, splitter=best;, score=0.907 total time=   0.0s\n",
      "[CV 3/3] END criterion=gini, max_depth=90, max_features=sqrt, splitter=best;, score=0.927 total time=   0.0s\n",
      "[CV 1/3] END criterion=gini, max_depth=90, max_features=sqrt, splitter=random;, score=0.907 total time=   0.0s\n",
      "[CV 2/3] END criterion=gini, max_depth=90, max_features=sqrt, splitter=random;, score=0.907 total time=   0.0s\n",
      "[CV 3/3] END criterion=gini, max_depth=90, max_features=sqrt, splitter=random;, score=0.925 total time=   0.0s\n",
      "[CV 1/3] END criterion=gini, max_depth=90, max_features=log2, splitter=best;, score=0.922 total time=   0.0s\n",
      "[CV 2/3] END criterion=gini, max_depth=90, max_features=log2, splitter=best;, score=0.904 total time=   0.0s\n",
      "[CV 3/3] END criterion=gini, max_depth=90, max_features=log2, splitter=best;, score=0.921 total time=   0.0s\n",
      "[CV 1/3] END criterion=gini, max_depth=90, max_features=log2, splitter=random;, score=0.905 total time=   0.0s\n",
      "[CV 2/3] END criterion=gini, max_depth=90, max_features=log2, splitter=random;, score=0.900 total time=   0.0s\n",
      "[CV 3/3] END criterion=gini, max_depth=90, max_features=log2, splitter=random;, score=0.908 total time=   0.0s\n",
      "[CV 1/3] END criterion=gini, max_depth=100, max_features=auto, splitter=best;, score=nan total time=   0.0s\n",
      "[CV 2/3] END criterion=gini, max_depth=100, max_features=auto, splitter=best;, score=nan total time=   0.0s\n",
      "[CV 3/3] END criterion=gini, max_depth=100, max_features=auto, splitter=best;, score=nan total time=   0.0s\n",
      "[CV 1/3] END criterion=gini, max_depth=100, max_features=auto, splitter=random;, score=nan total time=   0.0s\n",
      "[CV 2/3] END criterion=gini, max_depth=100, max_features=auto, splitter=random;, score=nan total time=   0.0s\n",
      "[CV 3/3] END criterion=gini, max_depth=100, max_features=auto, splitter=random;, score=nan total time=   0.0s\n",
      "[CV 1/3] END criterion=gini, max_depth=100, max_features=sqrt, splitter=best;, score=0.928 total time=   0.0s\n",
      "[CV 2/3] END criterion=gini, max_depth=100, max_features=sqrt, splitter=best;, score=0.907 total time=   0.0s\n",
      "[CV 3/3] END criterion=gini, max_depth=100, max_features=sqrt, splitter=best;, score=0.927 total time=   0.0s\n",
      "[CV 1/3] END criterion=gini, max_depth=100, max_features=sqrt, splitter=random;, score=0.907 total time=   0.0s\n",
      "[CV 2/3] END criterion=gini, max_depth=100, max_features=sqrt, splitter=random;, score=0.907 total time=   0.0s\n",
      "[CV 3/3] END criterion=gini, max_depth=100, max_features=sqrt, splitter=random;, score=0.925 total time=   0.0s\n",
      "[CV 1/3] END criterion=gini, max_depth=100, max_features=log2, splitter=best;, score=0.922 total time=   0.0s\n",
      "[CV 2/3] END criterion=gini, max_depth=100, max_features=log2, splitter=best;, score=0.904 total time=   0.0s\n",
      "[CV 3/3] END criterion=gini, max_depth=100, max_features=log2, splitter=best;, score=0.921 total time=   0.0s\n",
      "[CV 1/3] END criterion=gini, max_depth=100, max_features=log2, splitter=random;, score=0.905 total time=   0.0s\n",
      "[CV 2/3] END criterion=gini, max_depth=100, max_features=log2, splitter=random;, score=0.900 total time=   0.0s\n",
      "[CV 3/3] END criterion=gini, max_depth=100, max_features=log2, splitter=random;, score=0.908 total time=   0.0s\n",
      "[CV 1/3] END criterion=entropy, max_depth=10, max_features=auto, splitter=best;, score=nan total time=   0.0s\n",
      "[CV 2/3] END criterion=entropy, max_depth=10, max_features=auto, splitter=best;, score=nan total time=   0.0s\n",
      "[CV 3/3] END criterion=entropy, max_depth=10, max_features=auto, splitter=best;, score=nan total time=   0.0s\n",
      "[CV 1/3] END criterion=entropy, max_depth=10, max_features=auto, splitter=random;, score=nan total time=   0.0s\n",
      "[CV 2/3] END criterion=entropy, max_depth=10, max_features=auto, splitter=random;, score=nan total time=   0.0s\n",
      "[CV 3/3] END criterion=entropy, max_depth=10, max_features=auto, splitter=random;, score=nan total time=   0.0s\n",
      "[CV 1/3] END criterion=entropy, max_depth=10, max_features=sqrt, splitter=best;, score=0.921 total time=   0.0s\n",
      "[CV 2/3] END criterion=entropy, max_depth=10, max_features=sqrt, splitter=best;, score=0.918 total time=   0.0s\n",
      "[CV 3/3] END criterion=entropy, max_depth=10, max_features=sqrt, splitter=best;, score=0.924 total time=   0.0s\n",
      "[CV 1/3] END criterion=entropy, max_depth=10, max_features=sqrt, splitter=random;, score=0.908 total time=   0.0s\n",
      "[CV 2/3] END criterion=entropy, max_depth=10, max_features=sqrt, splitter=random;, score=0.917 total time=   0.0s\n",
      "[CV 3/3] END criterion=entropy, max_depth=10, max_features=sqrt, splitter=random;, score=0.917 total time=   0.0s\n",
      "[CV 1/3] END criterion=entropy, max_depth=10, max_features=log2, splitter=best;, score=0.913 total time=   0.0s\n",
      "[CV 2/3] END criterion=entropy, max_depth=10, max_features=log2, splitter=best;, score=0.914 total time=   0.0s\n",
      "[CV 3/3] END criterion=entropy, max_depth=10, max_features=log2, splitter=best;, score=0.927 total time=   0.0s\n",
      "[CV 1/3] END criterion=entropy, max_depth=10, max_features=log2, splitter=random;, score=0.891 total time=   0.0s\n",
      "[CV 2/3] END criterion=entropy, max_depth=10, max_features=log2, splitter=random;, score=0.896 total time=   0.0s\n",
      "[CV 3/3] END criterion=entropy, max_depth=10, max_features=log2, splitter=random;, score=0.904 total time=   0.0s\n",
      "[CV 1/3] END criterion=entropy, max_depth=20, max_features=auto, splitter=best;, score=nan total time=   0.0s\n",
      "[CV 2/3] END criterion=entropy, max_depth=20, max_features=auto, splitter=best;, score=nan total time=   0.0s\n",
      "[CV 3/3] END criterion=entropy, max_depth=20, max_features=auto, splitter=best;, score=nan total time=   0.0s\n",
      "[CV 1/3] END criterion=entropy, max_depth=20, max_features=auto, splitter=random;, score=nan total time=   0.0s\n",
      "[CV 2/3] END criterion=entropy, max_depth=20, max_features=auto, splitter=random;, score=nan total time=   0.0s\n",
      "[CV 3/3] END criterion=entropy, max_depth=20, max_features=auto, splitter=random;, score=nan total time=   0.0s\n",
      "[CV 1/3] END criterion=entropy, max_depth=20, max_features=sqrt, splitter=best;, score=0.929 total time=   0.0s\n",
      "[CV 2/3] END criterion=entropy, max_depth=20, max_features=sqrt, splitter=best;, score=0.909 total time=   0.0s\n",
      "[CV 3/3] END criterion=entropy, max_depth=20, max_features=sqrt, splitter=best;, score=0.928 total time=   0.0s\n",
      "[CV 1/3] END criterion=entropy, max_depth=20, max_features=sqrt, splitter=random;, score=0.914 total time=   0.0s\n",
      "[CV 2/3] END criterion=entropy, max_depth=20, max_features=sqrt, splitter=random;, score=0.923 total time=   0.0s\n",
      "[CV 3/3] END criterion=entropy, max_depth=20, max_features=sqrt, splitter=random;, score=0.928 total time=   0.0s\n",
      "[CV 1/3] END criterion=entropy, max_depth=20, max_features=log2, splitter=best;, score=0.909 total time=   0.0s\n",
      "[CV 2/3] END criterion=entropy, max_depth=20, max_features=log2, splitter=best;, score=0.918 total time=   0.0s\n",
      "[CV 3/3] END criterion=entropy, max_depth=20, max_features=log2, splitter=best;, score=0.921 total time=   0.0s\n",
      "[CV 1/3] END criterion=entropy, max_depth=20, max_features=log2, splitter=random;, score=0.912 total time=   0.0s\n",
      "[CV 2/3] END criterion=entropy, max_depth=20, max_features=log2, splitter=random;, score=0.896 total time=   0.0s\n",
      "[CV 3/3] END criterion=entropy, max_depth=20, max_features=log2, splitter=random;, score=0.912 total time=   0.0s\n",
      "[CV 1/3] END criterion=entropy, max_depth=30, max_features=auto, splitter=best;, score=nan total time=   0.0s\n",
      "[CV 2/3] END criterion=entropy, max_depth=30, max_features=auto, splitter=best;, score=nan total time=   0.0s\n",
      "[CV 3/3] END criterion=entropy, max_depth=30, max_features=auto, splitter=best;, score=nan total time=   0.0s\n",
      "[CV 1/3] END criterion=entropy, max_depth=30, max_features=auto, splitter=random;, score=nan total time=   0.0s\n",
      "[CV 2/3] END criterion=entropy, max_depth=30, max_features=auto, splitter=random;, score=nan total time=   0.0s\n",
      "[CV 3/3] END criterion=entropy, max_depth=30, max_features=auto, splitter=random;, score=nan total time=   0.0s\n",
      "[CV 1/3] END criterion=entropy, max_depth=30, max_features=sqrt, splitter=best;, score=0.924 total time=   0.0s\n",
      "[CV 2/3] END criterion=entropy, max_depth=30, max_features=sqrt, splitter=best;, score=0.907 total time=   0.0s\n",
      "[CV 3/3] END criterion=entropy, max_depth=30, max_features=sqrt, splitter=best;, score=0.917 total time=   0.0s\n",
      "[CV 1/3] END criterion=entropy, max_depth=30, max_features=sqrt, splitter=random;, score=0.918 total time=   0.0s\n",
      "[CV 2/3] END criterion=entropy, max_depth=30, max_features=sqrt, splitter=random;, score=0.923 total time=   0.0s\n",
      "[CV 3/3] END criterion=entropy, max_depth=30, max_features=sqrt, splitter=random;, score=0.924 total time=   0.0s\n",
      "[CV 1/3] END criterion=entropy, max_depth=30, max_features=log2, splitter=best;, score=0.905 total time=   0.0s\n",
      "[CV 2/3] END criterion=entropy, max_depth=30, max_features=log2, splitter=best;, score=0.918 total time=   0.0s\n",
      "[CV 3/3] END criterion=entropy, max_depth=30, max_features=log2, splitter=best;, score=0.922 total time=   0.0s\n",
      "[CV 1/3] END criterion=entropy, max_depth=30, max_features=log2, splitter=random;, score=0.907 total time=   0.0s\n",
      "[CV 2/3] END criterion=entropy, max_depth=30, max_features=log2, splitter=random;, score=0.913 total time=   0.0s\n",
      "[CV 3/3] END criterion=entropy, max_depth=30, max_features=log2, splitter=random;, score=0.921 total time=   0.0s\n",
      "[CV 1/3] END criterion=entropy, max_depth=40, max_features=auto, splitter=best;, score=nan total time=   0.0s\n",
      "[CV 2/3] END criterion=entropy, max_depth=40, max_features=auto, splitter=best;, score=nan total time=   0.0s\n",
      "[CV 3/3] END criterion=entropy, max_depth=40, max_features=auto, splitter=best;, score=nan total time=   0.0s\n",
      "[CV 1/3] END criterion=entropy, max_depth=40, max_features=auto, splitter=random;, score=nan total time=   0.0s\n",
      "[CV 2/3] END criterion=entropy, max_depth=40, max_features=auto, splitter=random;, score=nan total time=   0.0s\n",
      "[CV 3/3] END criterion=entropy, max_depth=40, max_features=auto, splitter=random;, score=nan total time=   0.0s\n",
      "[CV 1/3] END criterion=entropy, max_depth=40, max_features=sqrt, splitter=best;, score=0.924 total time=   0.0s\n",
      "[CV 2/3] END criterion=entropy, max_depth=40, max_features=sqrt, splitter=best;, score=0.907 total time=   0.0s\n",
      "[CV 3/3] END criterion=entropy, max_depth=40, max_features=sqrt, splitter=best;, score=0.917 total time=   0.0s\n",
      "[CV 1/3] END criterion=entropy, max_depth=40, max_features=sqrt, splitter=random;, score=0.918 total time=   0.0s\n",
      "[CV 2/3] END criterion=entropy, max_depth=40, max_features=sqrt, splitter=random;, score=0.923 total time=   0.0s\n",
      "[CV 3/3] END criterion=entropy, max_depth=40, max_features=sqrt, splitter=random;, score=0.924 total time=   0.0s\n",
      "[CV 1/3] END criterion=entropy, max_depth=40, max_features=log2, splitter=best;, score=0.905 total time=   0.0s\n",
      "[CV 2/3] END criterion=entropy, max_depth=40, max_features=log2, splitter=best;, score=0.918 total time=   0.0s\n",
      "[CV 3/3] END criterion=entropy, max_depth=40, max_features=log2, splitter=best;, score=0.922 total time=   0.0s\n",
      "[CV 1/3] END criterion=entropy, max_depth=40, max_features=log2, splitter=random;, score=0.907 total time=   0.0s\n",
      "[CV 2/3] END criterion=entropy, max_depth=40, max_features=log2, splitter=random;, score=0.913 total time=   0.0s\n",
      "[CV 3/3] END criterion=entropy, max_depth=40, max_features=log2, splitter=random;, score=0.921 total time=   0.0s\n",
      "[CV 1/3] END criterion=entropy, max_depth=50, max_features=auto, splitter=best;, score=nan total time=   0.0s\n",
      "[CV 2/3] END criterion=entropy, max_depth=50, max_features=auto, splitter=best;, score=nan total time=   0.0s\n",
      "[CV 3/3] END criterion=entropy, max_depth=50, max_features=auto, splitter=best;, score=nan total time=   0.0s\n",
      "[CV 1/3] END criterion=entropy, max_depth=50, max_features=auto, splitter=random;, score=nan total time=   0.0s\n",
      "[CV 2/3] END criterion=entropy, max_depth=50, max_features=auto, splitter=random;, score=nan total time=   0.0s\n",
      "[CV 3/3] END criterion=entropy, max_depth=50, max_features=auto, splitter=random;, score=nan total time=   0.0s\n",
      "[CV 1/3] END criterion=entropy, max_depth=50, max_features=sqrt, splitter=best;, score=0.924 total time=   0.0s\n",
      "[CV 2/3] END criterion=entropy, max_depth=50, max_features=sqrt, splitter=best;, score=0.907 total time=   0.0s\n",
      "[CV 3/3] END criterion=entropy, max_depth=50, max_features=sqrt, splitter=best;, score=0.917 total time=   0.0s\n",
      "[CV 1/3] END criterion=entropy, max_depth=50, max_features=sqrt, splitter=random;, score=0.918 total time=   0.0s\n",
      "[CV 2/3] END criterion=entropy, max_depth=50, max_features=sqrt, splitter=random;, score=0.923 total time=   0.0s\n",
      "[CV 3/3] END criterion=entropy, max_depth=50, max_features=sqrt, splitter=random;, score=0.924 total time=   0.0s\n",
      "[CV 1/3] END criterion=entropy, max_depth=50, max_features=log2, splitter=best;, score=0.905 total time=   0.0s\n",
      "[CV 2/3] END criterion=entropy, max_depth=50, max_features=log2, splitter=best;, score=0.918 total time=   0.0s\n",
      "[CV 3/3] END criterion=entropy, max_depth=50, max_features=log2, splitter=best;, score=0.922 total time=   0.0s\n",
      "[CV 1/3] END criterion=entropy, max_depth=50, max_features=log2, splitter=random;, score=0.907 total time=   0.0s\n",
      "[CV 2/3] END criterion=entropy, max_depth=50, max_features=log2, splitter=random;, score=0.913 total time=   0.0s\n",
      "[CV 3/3] END criterion=entropy, max_depth=50, max_features=log2, splitter=random;, score=0.921 total time=   0.0s\n",
      "[CV 1/3] END criterion=entropy, max_depth=60, max_features=auto, splitter=best;, score=nan total time=   0.0s\n",
      "[CV 2/3] END criterion=entropy, max_depth=60, max_features=auto, splitter=best;, score=nan total time=   0.0s\n",
      "[CV 3/3] END criterion=entropy, max_depth=60, max_features=auto, splitter=best;, score=nan total time=   0.0s\n",
      "[CV 1/3] END criterion=entropy, max_depth=60, max_features=auto, splitter=random;, score=nan total time=   0.0s\n",
      "[CV 2/3] END criterion=entropy, max_depth=60, max_features=auto, splitter=random;, score=nan total time=   0.0s\n",
      "[CV 3/3] END criterion=entropy, max_depth=60, max_features=auto, splitter=random;, score=nan total time=   0.0s\n",
      "[CV 1/3] END criterion=entropy, max_depth=60, max_features=sqrt, splitter=best;, score=0.924 total time=   0.0s\n",
      "[CV 2/3] END criterion=entropy, max_depth=60, max_features=sqrt, splitter=best;, score=0.907 total time=   0.0s\n",
      "[CV 3/3] END criterion=entropy, max_depth=60, max_features=sqrt, splitter=best;, score=0.917 total time=   0.0s\n",
      "[CV 1/3] END criterion=entropy, max_depth=60, max_features=sqrt, splitter=random;, score=0.918 total time=   0.0s\n",
      "[CV 2/3] END criterion=entropy, max_depth=60, max_features=sqrt, splitter=random;, score=0.923 total time=   0.0s\n",
      "[CV 3/3] END criterion=entropy, max_depth=60, max_features=sqrt, splitter=random;, score=0.924 total time=   0.0s\n",
      "[CV 1/3] END criterion=entropy, max_depth=60, max_features=log2, splitter=best;, score=0.905 total time=   0.0s\n",
      "[CV 2/3] END criterion=entropy, max_depth=60, max_features=log2, splitter=best;, score=0.918 total time=   0.0s\n",
      "[CV 3/3] END criterion=entropy, max_depth=60, max_features=log2, splitter=best;, score=0.922 total time=   0.0s\n",
      "[CV 1/3] END criterion=entropy, max_depth=60, max_features=log2, splitter=random;, score=0.907 total time=   0.0s\n",
      "[CV 2/3] END criterion=entropy, max_depth=60, max_features=log2, splitter=random;, score=0.913 total time=   0.0s\n",
      "[CV 3/3] END criterion=entropy, max_depth=60, max_features=log2, splitter=random;, score=0.921 total time=   0.0s\n",
      "[CV 1/3] END criterion=entropy, max_depth=70, max_features=auto, splitter=best;, score=nan total time=   0.0s\n",
      "[CV 2/3] END criterion=entropy, max_depth=70, max_features=auto, splitter=best;, score=nan total time=   0.0s\n",
      "[CV 3/3] END criterion=entropy, max_depth=70, max_features=auto, splitter=best;, score=nan total time=   0.0s\n",
      "[CV 1/3] END criterion=entropy, max_depth=70, max_features=auto, splitter=random;, score=nan total time=   0.0s\n",
      "[CV 2/3] END criterion=entropy, max_depth=70, max_features=auto, splitter=random;, score=nan total time=   0.0s\n",
      "[CV 3/3] END criterion=entropy, max_depth=70, max_features=auto, splitter=random;, score=nan total time=   0.0s\n",
      "[CV 1/3] END criterion=entropy, max_depth=70, max_features=sqrt, splitter=best;, score=0.924 total time=   0.1s\n",
      "[CV 2/3] END criterion=entropy, max_depth=70, max_features=sqrt, splitter=best;, score=0.907 total time=   0.0s\n",
      "[CV 3/3] END criterion=entropy, max_depth=70, max_features=sqrt, splitter=best;, score=0.917 total time=   0.0s\n",
      "[CV 1/3] END criterion=entropy, max_depth=70, max_features=sqrt, splitter=random;, score=0.918 total time=   0.0s\n",
      "[CV 2/3] END criterion=entropy, max_depth=70, max_features=sqrt, splitter=random;, score=0.923 total time=   0.0s\n",
      "[CV 3/3] END criterion=entropy, max_depth=70, max_features=sqrt, splitter=random;, score=0.924 total time=   0.0s\n",
      "[CV 1/3] END criterion=entropy, max_depth=70, max_features=log2, splitter=best;, score=0.905 total time=   0.0s\n",
      "[CV 2/3] END criterion=entropy, max_depth=70, max_features=log2, splitter=best;, score=0.918 total time=   0.0s\n",
      "[CV 3/3] END criterion=entropy, max_depth=70, max_features=log2, splitter=best;, score=0.922 total time=   0.0s\n",
      "[CV 1/3] END criterion=entropy, max_depth=70, max_features=log2, splitter=random;, score=0.907 total time=   0.0s\n",
      "[CV 2/3] END criterion=entropy, max_depth=70, max_features=log2, splitter=random;, score=0.913 total time=   0.0s\n",
      "[CV 3/3] END criterion=entropy, max_depth=70, max_features=log2, splitter=random;, score=0.921 total time=   0.0s\n",
      "[CV 1/3] END criterion=entropy, max_depth=80, max_features=auto, splitter=best;, score=nan total time=   0.0s\n",
      "[CV 2/3] END criterion=entropy, max_depth=80, max_features=auto, splitter=best;, score=nan total time=   0.0s\n",
      "[CV 3/3] END criterion=entropy, max_depth=80, max_features=auto, splitter=best;, score=nan total time=   0.0s\n",
      "[CV 1/3] END criterion=entropy, max_depth=80, max_features=auto, splitter=random;, score=nan total time=   0.0s\n",
      "[CV 2/3] END criterion=entropy, max_depth=80, max_features=auto, splitter=random;, score=nan total time=   0.0s\n",
      "[CV 3/3] END criterion=entropy, max_depth=80, max_features=auto, splitter=random;, score=nan total time=   0.0s\n",
      "[CV 1/3] END criterion=entropy, max_depth=80, max_features=sqrt, splitter=best;, score=0.924 total time=   0.0s\n",
      "[CV 2/3] END criterion=entropy, max_depth=80, max_features=sqrt, splitter=best;, score=0.907 total time=   0.0s\n",
      "[CV 3/3] END criterion=entropy, max_depth=80, max_features=sqrt, splitter=best;, score=0.917 total time=   0.0s\n",
      "[CV 1/3] END criterion=entropy, max_depth=80, max_features=sqrt, splitter=random;, score=0.918 total time=   0.0s\n",
      "[CV 2/3] END criterion=entropy, max_depth=80, max_features=sqrt, splitter=random;, score=0.923 total time=   0.0s\n",
      "[CV 3/3] END criterion=entropy, max_depth=80, max_features=sqrt, splitter=random;, score=0.924 total time=   0.0s\n",
      "[CV 1/3] END criterion=entropy, max_depth=80, max_features=log2, splitter=best;, score=0.905 total time=   0.0s\n",
      "[CV 2/3] END criterion=entropy, max_depth=80, max_features=log2, splitter=best;, score=0.918 total time=   0.0s\n",
      "[CV 3/3] END criterion=entropy, max_depth=80, max_features=log2, splitter=best;, score=0.922 total time=   0.0s\n",
      "[CV 1/3] END criterion=entropy, max_depth=80, max_features=log2, splitter=random;, score=0.907 total time=   0.0s\n",
      "[CV 2/3] END criterion=entropy, max_depth=80, max_features=log2, splitter=random;, score=0.913 total time=   0.0s\n",
      "[CV 3/3] END criterion=entropy, max_depth=80, max_features=log2, splitter=random;, score=0.921 total time=   0.0s\n",
      "[CV 1/3] END criterion=entropy, max_depth=90, max_features=auto, splitter=best;, score=nan total time=   0.0s\n",
      "[CV 2/3] END criterion=entropy, max_depth=90, max_features=auto, splitter=best;, score=nan total time=   0.0s\n",
      "[CV 3/3] END criterion=entropy, max_depth=90, max_features=auto, splitter=best;, score=nan total time=   0.0s\n",
      "[CV 1/3] END criterion=entropy, max_depth=90, max_features=auto, splitter=random;, score=nan total time=   0.0s\n",
      "[CV 2/3] END criterion=entropy, max_depth=90, max_features=auto, splitter=random;, score=nan total time=   0.0s\n",
      "[CV 3/3] END criterion=entropy, max_depth=90, max_features=auto, splitter=random;, score=nan total time=   0.0s\n",
      "[CV 1/3] END criterion=entropy, max_depth=90, max_features=sqrt, splitter=best;, score=0.924 total time=   0.0s\n",
      "[CV 2/3] END criterion=entropy, max_depth=90, max_features=sqrt, splitter=best;, score=0.907 total time=   0.0s\n",
      "[CV 3/3] END criterion=entropy, max_depth=90, max_features=sqrt, splitter=best;, score=0.917 total time=   0.0s\n",
      "[CV 1/3] END criterion=entropy, max_depth=90, max_features=sqrt, splitter=random;, score=0.918 total time=   0.0s\n",
      "[CV 2/3] END criterion=entropy, max_depth=90, max_features=sqrt, splitter=random;, score=0.923 total time=   0.0s\n",
      "[CV 3/3] END criterion=entropy, max_depth=90, max_features=sqrt, splitter=random;, score=0.924 total time=   0.0s\n",
      "[CV 1/3] END criterion=entropy, max_depth=90, max_features=log2, splitter=best;, score=0.905 total time=   0.0s\n",
      "[CV 2/3] END criterion=entropy, max_depth=90, max_features=log2, splitter=best;, score=0.918 total time=   0.0s\n",
      "[CV 3/3] END criterion=entropy, max_depth=90, max_features=log2, splitter=best;, score=0.922 total time=   0.0s\n",
      "[CV 1/3] END criterion=entropy, max_depth=90, max_features=log2, splitter=random;, score=0.907 total time=   0.0s\n",
      "[CV 2/3] END criterion=entropy, max_depth=90, max_features=log2, splitter=random;, score=0.913 total time=   0.0s\n",
      "[CV 3/3] END criterion=entropy, max_depth=90, max_features=log2, splitter=random;, score=0.921 total time=   0.0s\n",
      "[CV 1/3] END criterion=entropy, max_depth=100, max_features=auto, splitter=best;, score=nan total time=   0.0s\n",
      "[CV 2/3] END criterion=entropy, max_depth=100, max_features=auto, splitter=best;, score=nan total time=   0.0s\n",
      "[CV 3/3] END criterion=entropy, max_depth=100, max_features=auto, splitter=best;, score=nan total time=   0.0s\n",
      "[CV 1/3] END criterion=entropy, max_depth=100, max_features=auto, splitter=random;, score=nan total time=   0.0s\n",
      "[CV 2/3] END criterion=entropy, max_depth=100, max_features=auto, splitter=random;, score=nan total time=   0.0s\n",
      "[CV 3/3] END criterion=entropy, max_depth=100, max_features=auto, splitter=random;, score=nan total time=   0.0s\n",
      "[CV 1/3] END criterion=entropy, max_depth=100, max_features=sqrt, splitter=best;, score=0.924 total time=   0.0s\n",
      "[CV 2/3] END criterion=entropy, max_depth=100, max_features=sqrt, splitter=best;, score=0.907 total time=   0.0s\n",
      "[CV 3/3] END criterion=entropy, max_depth=100, max_features=sqrt, splitter=best;, score=0.917 total time=   0.0s\n",
      "[CV 1/3] END criterion=entropy, max_depth=100, max_features=sqrt, splitter=random;, score=0.918 total time=   0.0s\n",
      "[CV 2/3] END criterion=entropy, max_depth=100, max_features=sqrt, splitter=random;, score=0.923 total time=   0.0s\n",
      "[CV 3/3] END criterion=entropy, max_depth=100, max_features=sqrt, splitter=random;, score=0.924 total time=   0.0s\n",
      "[CV 1/3] END criterion=entropy, max_depth=100, max_features=log2, splitter=best;, score=0.905 total time=   0.0s\n",
      "[CV 2/3] END criterion=entropy, max_depth=100, max_features=log2, splitter=best;, score=0.918 total time=   0.0s\n",
      "[CV 3/3] END criterion=entropy, max_depth=100, max_features=log2, splitter=best;, score=0.922 total time=   0.0s\n",
      "[CV 1/3] END criterion=entropy, max_depth=100, max_features=log2, splitter=random;, score=0.907 total time=   0.0s\n",
      "[CV 2/3] END criterion=entropy, max_depth=100, max_features=log2, splitter=random;, score=0.913 total time=   0.0s\n",
      "[CV 3/3] END criterion=entropy, max_depth=100, max_features=log2, splitter=random;, score=0.921 total time=   0.0s\n"
     ]
    },
    {
     "data": {
      "text/plain": [
       "{'criterion': 'entropy',\n",
       " 'max_depth': 20,\n",
       " 'max_features': 'sqrt',\n",
       " 'splitter': 'best'}"
      ]
     },
     "execution_count": 56,
     "metadata": {},
     "output_type": "execute_result"
    }
   ],
   "source": [
    "param_grid = {\n",
    "  'splitter' : ['best', 'random'],\n",
    "  'max_features': ['auto', 'sqrt', 'log2'],\n",
    "  'max_depth' : [10, 20, 30, 40, 50, 60, 70, 80, 90, 100],\n",
    "  'criterion' :['gini', 'entropy']\n",
    "}\n",
    "\n",
    "dfc=DecisionTreeClassifier(random_state=0)\n",
    "CV_dfc = GridSearchCV(estimator=dfc, verbose=3, param_grid=param_grid, cv = 3)\n",
    "CV_dfc.fit(X_trains, y_trains)\n",
    "CV_dfc.best_params_"
   ]
  },
  {
   "cell_type": "code",
   "execution_count": 59,
   "id": "2c5609f0-1e49-48b4-b902-6f223de2f0aa",
   "metadata": {
    "tags": []
   },
   "outputs": [],
   "source": [
    "clf_smt = DecisionTreeClassifier(splitter='best', criterion='entropy', max_depth=20, max_features='sqrt', random_state=0)\n",
    "\n",
    "#Train the model using the training sets y_pred=clf.predict(X_test)\n",
    "dfc_smt = clf_smt.fit(X_trains,y_trains)\n",
    "y_pred_df = dfc_smt.predict(X_tests)"
   ]
  },
  {
   "cell_type": "code",
   "execution_count": 60,
   "id": "7deca57e-2af6-4ab8-b8ad-a1927c8ad9f0",
   "metadata": {
    "tags": []
   },
   "outputs": [
    {
     "data": {
      "text/html": [
       "<style>#sk-container-id-7 {color: black;}#sk-container-id-7 pre{padding: 0;}#sk-container-id-7 div.sk-toggleable {background-color: white;}#sk-container-id-7 label.sk-toggleable__label {cursor: pointer;display: block;width: 100%;margin-bottom: 0;padding: 0.3em;box-sizing: border-box;text-align: center;}#sk-container-id-7 label.sk-toggleable__label-arrow:before {content: \"▸\";float: left;margin-right: 0.25em;color: #696969;}#sk-container-id-7 label.sk-toggleable__label-arrow:hover:before {color: black;}#sk-container-id-7 div.sk-estimator:hover label.sk-toggleable__label-arrow:before {color: black;}#sk-container-id-7 div.sk-toggleable__content {max-height: 0;max-width: 0;overflow: hidden;text-align: left;background-color: #f0f8ff;}#sk-container-id-7 div.sk-toggleable__content pre {margin: 0.2em;color: black;border-radius: 0.25em;background-color: #f0f8ff;}#sk-container-id-7 input.sk-toggleable__control:checked~div.sk-toggleable__content {max-height: 200px;max-width: 100%;overflow: auto;}#sk-container-id-7 input.sk-toggleable__control:checked~label.sk-toggleable__label-arrow:before {content: \"▾\";}#sk-container-id-7 div.sk-estimator input.sk-toggleable__control:checked~label.sk-toggleable__label {background-color: #d4ebff;}#sk-container-id-7 div.sk-label input.sk-toggleable__control:checked~label.sk-toggleable__label {background-color: #d4ebff;}#sk-container-id-7 input.sk-hidden--visually {border: 0;clip: rect(1px 1px 1px 1px);clip: rect(1px, 1px, 1px, 1px);height: 1px;margin: -1px;overflow: hidden;padding: 0;position: absolute;width: 1px;}#sk-container-id-7 div.sk-estimator {font-family: monospace;background-color: #f0f8ff;border: 1px dotted black;border-radius: 0.25em;box-sizing: border-box;margin-bottom: 0.5em;}#sk-container-id-7 div.sk-estimator:hover {background-color: #d4ebff;}#sk-container-id-7 div.sk-parallel-item::after {content: \"\";width: 100%;border-bottom: 1px solid gray;flex-grow: 1;}#sk-container-id-7 div.sk-label:hover label.sk-toggleable__label {background-color: #d4ebff;}#sk-container-id-7 div.sk-serial::before {content: \"\";position: absolute;border-left: 1px solid gray;box-sizing: border-box;top: 0;bottom: 0;left: 50%;z-index: 0;}#sk-container-id-7 div.sk-serial {display: flex;flex-direction: column;align-items: center;background-color: white;padding-right: 0.2em;padding-left: 0.2em;position: relative;}#sk-container-id-7 div.sk-item {position: relative;z-index: 1;}#sk-container-id-7 div.sk-parallel {display: flex;align-items: stretch;justify-content: center;background-color: white;position: relative;}#sk-container-id-7 div.sk-item::before, #sk-container-id-7 div.sk-parallel-item::before {content: \"\";position: absolute;border-left: 1px solid gray;box-sizing: border-box;top: 0;bottom: 0;left: 50%;z-index: -1;}#sk-container-id-7 div.sk-parallel-item {display: flex;flex-direction: column;z-index: 1;position: relative;background-color: white;}#sk-container-id-7 div.sk-parallel-item:first-child::after {align-self: flex-end;width: 50%;}#sk-container-id-7 div.sk-parallel-item:last-child::after {align-self: flex-start;width: 50%;}#sk-container-id-7 div.sk-parallel-item:only-child::after {width: 0;}#sk-container-id-7 div.sk-dashed-wrapped {border: 1px dashed gray;margin: 0 0.4em 0.5em 0.4em;box-sizing: border-box;padding-bottom: 0.4em;background-color: white;}#sk-container-id-7 div.sk-label label {font-family: monospace;font-weight: bold;display: inline-block;line-height: 1.2em;}#sk-container-id-7 div.sk-label-container {text-align: center;}#sk-container-id-7 div.sk-container {/* jupyter's `normalize.less` sets `[hidden] { display: none; }` but bootstrap.min.css set `[hidden] { display: none !important; }` so we also need the `!important` here to be able to override the default hidden behavior on the sphinx rendered scikit-learn.org. See: https://github.com/scikit-learn/scikit-learn/issues/21755 */display: inline-block !important;position: relative;}#sk-container-id-7 div.sk-text-repr-fallback {display: none;}</style><div id=\"sk-container-id-7\" class=\"sk-top-container\"><div class=\"sk-text-repr-fallback\"><pre>DecisionTreeClassifier(criterion=&#x27;entropy&#x27;, max_depth=20, max_features=&#x27;sqrt&#x27;,\n",
       "                       random_state=0)</pre><b>In a Jupyter environment, please rerun this cell to show the HTML representation or trust the notebook. <br />On GitHub, the HTML representation is unable to render, please try loading this page with nbviewer.org.</b></div><div class=\"sk-container\" hidden><div class=\"sk-item\"><div class=\"sk-estimator sk-toggleable\"><input class=\"sk-toggleable__control sk-hidden--visually\" id=\"sk-estimator-id-7\" type=\"checkbox\" checked><label for=\"sk-estimator-id-7\" class=\"sk-toggleable__label sk-toggleable__label-arrow\">DecisionTreeClassifier</label><div class=\"sk-toggleable__content\"><pre>DecisionTreeClassifier(criterion=&#x27;entropy&#x27;, max_depth=20, max_features=&#x27;sqrt&#x27;,\n",
       "                       random_state=0)</pre></div></div></div></div></div>"
      ],
      "text/plain": [
       "DecisionTreeClassifier(criterion='entropy', max_depth=20, max_features='sqrt',\n",
       "                       random_state=0)"
      ]
     },
     "execution_count": 60,
     "metadata": {},
     "output_type": "execute_result"
    }
   ],
   "source": [
    "# Training Model\n",
    "dfc_smt.fit(X_trains, y_trains)"
   ]
  },
  {
   "cell_type": "code",
   "execution_count": 62,
   "id": "0cad9e5c-35b6-40d3-9594-8e48dcac4e63",
   "metadata": {
    "tags": []
   },
   "outputs": [],
   "source": [
    "# Making Prediction\n",
    "pred_dt_smt = dfc_smt.predict(X_tests)"
   ]
  },
  {
   "cell_type": "code",
   "execution_count": 63,
   "id": "ab4b1df0-56ea-4cb5-920b-ea8c87e5c63e",
   "metadata": {
    "tags": []
   },
   "outputs": [
    {
     "name": "stdout",
     "output_type": "stream",
     "text": [
      "Accuracy : 92.71 %\n",
      "Precision : 92.73 %\n",
      "Recall : 92.71 %\n",
      "f1-score : 92.7 %\n"
     ]
    }
   ],
   "source": [
    "from sklearn.metrics import confusion_matrix # algorithm for confusion matrix\n",
    "from sklearn.metrics import classification_report # algorithm for classification report\n",
    "from sklearn.metrics import accuracy_score, precision_score, recall_score, f1_score # algorithm for call accuracy_score, precision_score, recall score and f1-score\n",
    "\n",
    "# Calculating Accuracy Score\n",
    "print('Accuracy :', round(accuracy_score(y_tests, pred_dt_smt)*100,2),\"%\")\n",
    "print('Precision :', round(precision_score(y_tests, pred_dt_smt, average='weighted', zero_division=0)*100,2),\"%\")\n",
    "print('Recall :', round(recall_score(y_tests, pred_dt_smt, average='weighted', zero_division=0)*100,2),\"%\")\n",
    "print('f1-score :', round(f1_score(y_tests,\tpred_dt_smt, average='weighted', zero_division=0)*100,2), \"%\")"
   ]
  },
  {
   "cell_type": "code",
   "execution_count": 65,
   "id": "1cbe6069-af42-4af5-a0d9-a67c04ea1af1",
   "metadata": {
    "tags": []
   },
   "outputs": [
    {
     "name": "stdout",
     "output_type": "stream",
     "text": [
      "              precision    recall  f1-score   support\n",
      "\n",
      "           0       0.93      0.90      0.92       533\n",
      "           1       0.92      0.95      0.93       647\n",
      "\n",
      "    accuracy                           0.93      1180\n",
      "   macro avg       0.93      0.92      0.93      1180\n",
      "weighted avg       0.93      0.93      0.93      1180\n",
      "\n"
     ]
    }
   ],
   "source": [
    "print(classification_report(y_tests,pred_dt_smt))"
   ]
  },
  {
   "cell_type": "code",
   "execution_count": 66,
   "id": "e2f8365e-73fb-49da-a61d-8805f5006e6f",
   "metadata": {
    "tags": []
   },
   "outputs": [
    {
     "data": {
      "image/png": "[encoded data removed]",
      "text/plain": [
       "<Figure size 640x480 with 2 Axes>"
      ]
     },
     "metadata": {},
     "output_type": "display_data"
    }
   ],
   "source": [
    "# confusion Maxtrix\n",
    "cm3 = confusion_matrix(y_tests, pred_dt_smt)\n",
    "sns.heatmap(cm3/np.sum(cm3), annot = True, fmt=  '0.2%', cmap = 'Reds')\n",
    "plt.title(\"RandomForest Classifier Confusion Matrix\",fontsize=12)\n",
    "plt.show()"
   ]
  },
  {
   "cell_type": "markdown",
   "id": "cc1d2e51-e51f-4026-84ff-9817f3926942",
   "metadata": {},
   "source": [
    "## SVM USING SMOOTE"
   ]
  },
  {
   "cell_type": "code",
   "execution_count": 69,
   "id": "44bf86e3-a5ea-454d-9b2e-be6e4a9307ce",
   "metadata": {
    "tags": []
   },
   "outputs": [
    {
     "name": "stdout",
     "output_type": "stream",
     "text": [
      "Fitting 3 folds for each of 25 candidates, totalling 75 fits\n",
      "[CV 1/3] END ........C=0.1, gamma=1, kernel=rbf;, score=0.555 total time=   2.6s\n",
      "[CV 2/3] END ........C=0.1, gamma=1, kernel=rbf;, score=0.555 total time=   2.4s\n",
      "[CV 3/3] END ........C=0.1, gamma=1, kernel=rbf;, score=0.554 total time=   2.5s\n",
      "[CV 1/3] END ......C=0.1, gamma=0.1, kernel=rbf;, score=0.555 total time=   2.3s\n",
      "[CV 2/3] END ......C=0.1, gamma=0.1, kernel=rbf;, score=0.555 total time=   2.3s\n",
      "[CV 3/3] END ......C=0.1, gamma=0.1, kernel=rbf;, score=0.554 total time=   2.2s\n",
      "[CV 1/3] END .....C=0.1, gamma=0.01, kernel=rbf;, score=0.866 total time=   2.1s\n",
      "[CV 2/3] END .....C=0.1, gamma=0.01, kernel=rbf;, score=0.870 total time=   2.1s\n",
      "[CV 3/3] END .....C=0.1, gamma=0.01, kernel=rbf;, score=0.870 total time=   2.1s\n",
      "[CV 1/3] END ....C=0.1, gamma=0.001, kernel=rbf;, score=0.895 total time=   1.5s\n",
      "[CV 2/3] END ....C=0.1, gamma=0.001, kernel=rbf;, score=0.896 total time=   1.5s\n",
      "[CV 3/3] END ....C=0.1, gamma=0.001, kernel=rbf;, score=0.905 total time=   1.6s\n",
      "[CV 1/3] END ...C=0.1, gamma=0.0001, kernel=rbf;, score=0.853 total time=   1.0s\n",
      "[CV 2/3] END ...C=0.1, gamma=0.0001, kernel=rbf;, score=0.864 total time=   1.1s\n",
      "[CV 3/3] END ...C=0.1, gamma=0.0001, kernel=rbf;, score=0.864 total time=   1.1s\n",
      "[CV 1/3] END ..........C=1, gamma=1, kernel=rbf;, score=0.572 total time=   2.5s\n",
      "[CV 2/3] END ..........C=1, gamma=1, kernel=rbf;, score=0.570 total time=   2.6s\n",
      "[CV 3/3] END ..........C=1, gamma=1, kernel=rbf;, score=0.573 total time=   2.5s\n",
      "[CV 1/3] END ........C=1, gamma=0.1, kernel=rbf;, score=0.914 total time=   2.5s\n",
      "[CV 2/3] END ........C=1, gamma=0.1, kernel=rbf;, score=0.902 total time=   2.3s\n",
      "[CV 3/3] END ........C=1, gamma=0.1, kernel=rbf;, score=0.904 total time=   2.3s\n",
      "[CV 1/3] END .......C=1, gamma=0.01, kernel=rbf;, score=0.977 total time=   2.1s\n",
      "[CV 2/3] END .......C=1, gamma=0.01, kernel=rbf;, score=0.978 total time=   2.0s\n",
      "[CV 3/3] END .......C=1, gamma=0.01, kernel=rbf;, score=0.969 total time=   2.1s\n",
      "[CV 1/3] END ......C=1, gamma=0.001, kernel=rbf;, score=0.947 total time=   0.7s\n",
      "[CV 2/3] END ......C=1, gamma=0.001, kernel=rbf;, score=0.943 total time=   0.7s\n",
      "[CV 3/3] END ......C=1, gamma=0.001, kernel=rbf;, score=0.946 total time=   0.8s\n",
      "[CV 1/3] END .....C=1, gamma=0.0001, kernel=rbf;, score=0.903 total time=   0.7s\n",
      "[CV 2/3] END .....C=1, gamma=0.0001, kernel=rbf;, score=0.909 total time=   0.8s\n",
      "[CV 3/3] END .....C=1, gamma=0.0001, kernel=rbf;, score=0.910 total time=   0.7s\n",
      "[CV 1/3] END .........C=10, gamma=1, kernel=rbf;, score=0.576 total time=   2.6s\n",
      "[CV 2/3] END .........C=10, gamma=1, kernel=rbf;, score=0.573 total time=   2.5s\n",
      "[CV 3/3] END .........C=10, gamma=1, kernel=rbf;, score=0.577 total time=   2.5s\n",
      "[CV 1/3] END .......C=10, gamma=0.1, kernel=rbf;, score=0.923 total time=   2.3s\n",
      "[CV 2/3] END .......C=10, gamma=0.1, kernel=rbf;, score=0.910 total time=   2.4s\n",
      "[CV 3/3] END .......C=10, gamma=0.1, kernel=rbf;, score=0.913 total time=   2.4s\n",
      "[CV 1/3] END ......C=10, gamma=0.01, kernel=rbf;, score=0.982 total time=   2.1s\n",
      "[CV 2/3] END ......C=10, gamma=0.01, kernel=rbf;, score=0.981 total time=   2.1s\n",
      "[CV 3/3] END ......C=10, gamma=0.01, kernel=rbf;, score=0.974 total time=   1.9s\n",
      "[CV 1/3] END .....C=10, gamma=0.001, kernel=rbf;, score=0.969 total time=   0.6s\n",
      "[CV 2/3] END .....C=10, gamma=0.001, kernel=rbf;, score=0.970 total time=   0.6s\n",
      "[CV 3/3] END .....C=10, gamma=0.001, kernel=rbf;, score=0.971 total time=   0.5s\n",
      "[CV 1/3] END ....C=10, gamma=0.0001, kernel=rbf;, score=0.934 total time=   0.5s\n",
      "[CV 2/3] END ....C=10, gamma=0.0001, kernel=rbf;, score=0.936 total time=   0.5s\n",
      "[CV 3/3] END ....C=10, gamma=0.0001, kernel=rbf;, score=0.930 total time=   0.5s\n",
      "[CV 1/3] END ........C=100, gamma=1, kernel=rbf;, score=0.576 total time=   2.5s\n",
      "[CV 2/3] END ........C=100, gamma=1, kernel=rbf;, score=0.573 total time=   2.6s\n",
      "[CV 3/3] END ........C=100, gamma=1, kernel=rbf;, score=0.577 total time=   2.5s\n",
      "[CV 1/3] END ......C=100, gamma=0.1, kernel=rbf;, score=0.921 total time=   2.4s\n",
      "[CV 2/3] END ......C=100, gamma=0.1, kernel=rbf;, score=0.910 total time=   2.3s\n",
      "[CV 3/3] END ......C=100, gamma=0.1, kernel=rbf;, score=0.912 total time=   2.4s\n",
      "[CV 1/3] END .....C=100, gamma=0.01, kernel=rbf;, score=0.984 total time=   2.1s\n",
      "[CV 2/3] END .....C=100, gamma=0.01, kernel=rbf;, score=0.982 total time=   2.2s\n",
      "[CV 3/3] END .....C=100, gamma=0.01, kernel=rbf;, score=0.975 total time=   2.2s\n",
      "[CV 1/3] END ....C=100, gamma=0.001, kernel=rbf;, score=0.974 total time=   0.5s\n",
      "[CV 2/3] END ....C=100, gamma=0.001, kernel=rbf;, score=0.975 total time=   0.6s\n",
      "[CV 3/3] END ....C=100, gamma=0.001, kernel=rbf;, score=0.976 total time=   0.5s\n",
      "[CV 1/3] END ...C=100, gamma=0.0001, kernel=rbf;, score=0.952 total time=   0.6s\n",
      "[CV 2/3] END ...C=100, gamma=0.0001, kernel=rbf;, score=0.944 total time=   0.5s\n",
      "[CV 3/3] END ...C=100, gamma=0.0001, kernel=rbf;, score=0.947 total time=   0.5s\n",
      "[CV 1/3] END .......C=1000, gamma=1, kernel=rbf;, score=0.576 total time=   2.5s\n",
      "[CV 2/3] END .......C=1000, gamma=1, kernel=rbf;, score=0.573 total time=   2.4s\n",
      "[CV 3/3] END .......C=1000, gamma=1, kernel=rbf;, score=0.577 total time=   2.6s\n",
      "[CV 1/3] END .....C=1000, gamma=0.1, kernel=rbf;, score=0.921 total time=   2.3s\n",
      "[CV 2/3] END .....C=1000, gamma=0.1, kernel=rbf;, score=0.910 total time=   2.4s\n",
      "[CV 3/3] END .....C=1000, gamma=0.1, kernel=rbf;, score=0.913 total time=   2.3s\n",
      "[CV 1/3] END ....C=1000, gamma=0.01, kernel=rbf;, score=0.980 total time=   1.8s\n",
      "[CV 2/3] END ....C=1000, gamma=0.01, kernel=rbf;, score=0.982 total time=   1.9s\n",
      "[CV 3/3] END ....C=1000, gamma=0.01, kernel=rbf;, score=0.975 total time=   2.0s\n",
      "[CV 1/3] END ...C=1000, gamma=0.001, kernel=rbf;, score=0.978 total time=   0.5s\n",
      "[CV 2/3] END ...C=1000, gamma=0.001, kernel=rbf;, score=0.977 total time=   0.6s\n",
      "[CV 3/3] END ...C=1000, gamma=0.001, kernel=rbf;, score=0.975 total time=   0.6s\n",
      "[CV 1/3] END ..C=1000, gamma=0.0001, kernel=rbf;, score=0.957 total time=   0.7s\n",
      "[CV 2/3] END ..C=1000, gamma=0.0001, kernel=rbf;, score=0.959 total time=   0.8s\n",
      "[CV 3/3] END ..C=1000, gamma=0.0001, kernel=rbf;, score=0.958 total time=   0.7s\n"
     ]
    },
    {
     "data": {
      "text/plain": [
       "{'C': 100, 'gamma': 0.01, 'kernel': 'rbf'}"
      ]
     },
     "execution_count": 69,
     "metadata": {},
     "output_type": "execute_result"
    }
   ],
   "source": [
    "param_grid = {\n",
    "    'C': [0.1, 1, 10, 100, 1000],  \n",
    "    'gamma': [1, 0.1, 0.01, 0.001, 0.0001], \n",
    "    'kernel': ['rbf']\n",
    "}\n",
    "\n",
    "sv_smt = SVC(random_state = 0)\n",
    "CV_sv_smt = GridSearchCV(estimator=sv_smt, verbose = 3, param_grid=param_grid, cv= 3)\n",
    "CV_sv_smt.fit(X_trains, y_trains)\n",
    "CV_sv_smt.best_params_"
   ]
  },
  {
   "cell_type": "code",
   "execution_count": 71,
   "id": "0b5fe747-2dc8-46ce-933f-52640a649676",
   "metadata": {
    "tags": []
   },
   "outputs": [
    {
     "data": {
      "text/html": [
       "<style>#sk-container-id-8 {color: black;}#sk-container-id-8 pre{padding: 0;}#sk-container-id-8 div.sk-toggleable {background-color: white;}#sk-container-id-8 label.sk-toggleable__label {cursor: pointer;display: block;width: 100%;margin-bottom: 0;padding: 0.3em;box-sizing: border-box;text-align: center;}#sk-container-id-8 label.sk-toggleable__label-arrow:before {content: \"▸\";float: left;margin-right: 0.25em;color: #696969;}#sk-container-id-8 label.sk-toggleable__label-arrow:hover:before {color: black;}#sk-container-id-8 div.sk-estimator:hover label.sk-toggleable__label-arrow:before {color: black;}#sk-container-id-8 div.sk-toggleable__content {max-height: 0;max-width: 0;overflow: hidden;text-align: left;background-color: #f0f8ff;}#sk-container-id-8 div.sk-toggleable__content pre {margin: 0.2em;color: black;border-radius: 0.25em;background-color: #f0f8ff;}#sk-container-id-8 input.sk-toggleable__control:checked~div.sk-toggleable__content {max-height: 200px;max-width: 100%;overflow: auto;}#sk-container-id-8 input.sk-toggleable__control:checked~label.sk-toggleable__label-arrow:before {content: \"▾\";}#sk-container-id-8 div.sk-estimator input.sk-toggleable__control:checked~label.sk-toggleable__label {background-color: #d4ebff;}#sk-container-id-8 div.sk-label input.sk-toggleable__control:checked~label.sk-toggleable__label {background-color: #d4ebff;}#sk-container-id-8 input.sk-hidden--visually {border: 0;clip: rect(1px 1px 1px 1px);clip: rect(1px, 1px, 1px, 1px);height: 1px;margin: -1px;overflow: hidden;padding: 0;position: absolute;width: 1px;}#sk-container-id-8 div.sk-estimator {font-family: monospace;background-color: #f0f8ff;border: 1px dotted black;border-radius: 0.25em;box-sizing: border-box;margin-bottom: 0.5em;}#sk-container-id-8 div.sk-estimator:hover {background-color: #d4ebff;}#sk-container-id-8 div.sk-parallel-item::after {content: \"\";width: 100%;border-bottom: 1px solid gray;flex-grow: 1;}#sk-container-id-8 div.sk-label:hover label.sk-toggleable__label {background-color: #d4ebff;}#sk-container-id-8 div.sk-serial::before {content: \"\";position: absolute;border-left: 1px solid gray;box-sizing: border-box;top: 0;bottom: 0;left: 50%;z-index: 0;}#sk-container-id-8 div.sk-serial {display: flex;flex-direction: column;align-items: center;background-color: white;padding-right: 0.2em;padding-left: 0.2em;position: relative;}#sk-container-id-8 div.sk-item {position: relative;z-index: 1;}#sk-container-id-8 div.sk-parallel {display: flex;align-items: stretch;justify-content: center;background-color: white;position: relative;}#sk-container-id-8 div.sk-item::before, #sk-container-id-8 div.sk-parallel-item::before {content: \"\";position: absolute;border-left: 1px solid gray;box-sizing: border-box;top: 0;bottom: 0;left: 50%;z-index: -1;}#sk-container-id-8 div.sk-parallel-item {display: flex;flex-direction: column;z-index: 1;position: relative;background-color: white;}#sk-container-id-8 div.sk-parallel-item:first-child::after {align-self: flex-end;width: 50%;}#sk-container-id-8 div.sk-parallel-item:last-child::after {align-self: flex-start;width: 50%;}#sk-container-id-8 div.sk-parallel-item:only-child::after {width: 0;}#sk-container-id-8 div.sk-dashed-wrapped {border: 1px dashed gray;margin: 0 0.4em 0.5em 0.4em;box-sizing: border-box;padding-bottom: 0.4em;background-color: white;}#sk-container-id-8 div.sk-label label {font-family: monospace;font-weight: bold;display: inline-block;line-height: 1.2em;}#sk-container-id-8 div.sk-label-container {text-align: center;}#sk-container-id-8 div.sk-container {/* jupyter's `normalize.less` sets `[hidden] { display: none; }` but bootstrap.min.css set `[hidden] { display: none !important; }` so we also need the `!important` here to be able to override the default hidden behavior on the sphinx rendered scikit-learn.org. See: https://github.com/scikit-learn/scikit-learn/issues/21755 */display: inline-block !important;position: relative;}#sk-container-id-8 div.sk-text-repr-fallback {display: none;}</style><div id=\"sk-container-id-8\" class=\"sk-top-container\"><div class=\"sk-text-repr-fallback\"><pre>SVC(C=100, gamma=0.01, random_state=0)</pre><b>In a Jupyter environment, please rerun this cell to show the HTML representation or trust the notebook. <br />On GitHub, the HTML representation is unable to render, please try loading this page with nbviewer.org.</b></div><div class=\"sk-container\" hidden><div class=\"sk-item\"><div class=\"sk-estimator sk-toggleable\"><input class=\"sk-toggleable__control sk-hidden--visually\" id=\"sk-estimator-id-8\" type=\"checkbox\" checked><label for=\"sk-estimator-id-8\" class=\"sk-toggleable__label sk-toggleable__label-arrow\">SVC</label><div class=\"sk-toggleable__content\"><pre>SVC(C=100, gamma=0.01, random_state=0)</pre></div></div></div></div></div>"
      ],
      "text/plain": [
       "SVC(C=100, gamma=0.01, random_state=0)"
      ]
     },
     "execution_count": 71,
     "metadata": {},
     "output_type": "execute_result"
    }
   ],
   "source": [
    "model_svm_smt = SVC(C = 100, gamma = 0.01, kernel='rbf', random_state = 0)\n",
    "model_svm_smt.fit(X_trains, y_trains)"
   ]
  },
  {
   "cell_type": "code",
   "execution_count": 72,
   "id": "5388ac04-a33b-4fe7-9a4d-5016a0b0b70a",
   "metadata": {
    "tags": []
   },
   "outputs": [],
   "source": [
    "# Making Prediction\n",
    "pred_svm_smt = model_svm_smt.predict(X_tests)"
   ]
  },
  {
   "cell_type": "code",
   "execution_count": 73,
   "id": "e5af5c15-b4ec-4298-ad0d-d6284b04a819",
   "metadata": {
    "tags": []
   },
   "outputs": [
    {
     "name": "stdout",
     "output_type": "stream",
     "text": [
      "Accuracy : 98.56 %\n",
      "Precision: 98.56 %\n",
      "Recall: 98.56 %\n",
      "f1-score: 98.56 %\n"
     ]
    }
   ],
   "source": [
    "from sklearn.metrics import accuracy_score, precision_score, recall_score, f1_score # algorithm for call accuracy_score, precision_score, recall score and f1-score\n",
    "\n",
    "print('Accuracy :', round(accuracy_score(y_tests, pred_svm_smt)*100,2),\"%\")\n",
    "print('Precision:', round(precision_score(y_tests, pred_svm_smt, average='weighted', zero_division=0)*100,2),\"%\")\n",
    "print('Recall:', round(recall_score(y_tests, pred_svm_smt, average='weighted', zero_division=0)*100,2), \"%\")\n",
    "print('f1-score:',round(f1_score(y_tests,pred_svm_smt, average='weighted', zero_division=0)*100,2), \"%\")"
   ]
  },
  {
   "cell_type": "code",
   "execution_count": 74,
   "id": "0914941e-5a9c-426f-acb0-fb81138196d6",
   "metadata": {
    "tags": []
   },
   "outputs": [
    {
     "name": "stdout",
     "output_type": "stream",
     "text": [
      "              precision    recall  f1-score   support\n",
      "\n",
      "           0       0.98      0.99      0.98       533\n",
      "           1       0.99      0.98      0.99       647\n",
      "\n",
      "    accuracy                           0.99      1180\n",
      "   macro avg       0.99      0.99      0.99      1180\n",
      "weighted avg       0.99      0.99      0.99      1180\n",
      "\n"
     ]
    }
   ],
   "source": [
    "print(classification_report(y_tests,pred_svm_smt))"
   ]
  },
  {
   "cell_type": "code",
   "execution_count": 75,
   "id": "5bdae0f0-cb1c-434d-b477-917c7d5b7cc6",
   "metadata": {
    "tags": []
   },
   "outputs": [
    {
     "data": {
      "image/png": "[encoded data removed]",
      "text/plain": [
       "<Figure size 640x480 with 2 Axes>"
      ]
     },
     "metadata": {},
     "output_type": "display_data"
    }
   ],
   "source": [
    "# confusion Maxtrix\n",
    "cm3 = confusion_matrix(y_tests, pred_svm_smt)\n",
    "sns.heatmap(cm3/np.sum(cm3), annot = True, fmt=  '0.2%', cmap = 'Reds')\n",
    "plt.title(\"RandomForest Classifier Confusion Matrix\",fontsize=12)\n",
    "plt.show()"
   ]
  },
  {
   "cell_type": "code",
   "execution_count": 76,
   "id": "d28340c6-d06f-491f-9979-cddb5b78d392",
   "metadata": {
    "tags": []
   },
   "outputs": [],
   "source": [
    "# save best model SVM\n",
    "import pickle\n",
    "\n",
    "filename = 'model.sav'\n",
    "pickle.dump(model_svm_smt, open(filename, 'wb'))"
   ]
  },
  {
   "cell_type": "code",
   "execution_count": 77,
   "id": "1f93d0f5-49db-4127-bb3e-66580e82a95e",
   "metadata": {
    "tags": []
   },
   "outputs": [],
   "source": [
    "load_model = pickle.load(open(filename, 'rb'))"
   ]
  },
  {
   "cell_type": "code",
   "execution_count": 78,
   "id": "040675d5-596a-4d56-b953-7f76a9a4f6cb",
   "metadata": {
    "tags": []
   },
   "outputs": [
    {
     "data": {
      "text/plain": [
       "0.985593220338983"
      ]
     },
     "execution_count": 78,
     "metadata": {},
     "output_type": "execute_result"
    }
   ],
   "source": [
    "load_model.score(X_tests, y_tests)"
   ]
  },
  {
   "cell_type": "code",
   "execution_count": null,
   "id": "4fcbf44a-67b6-4b2b-8b54-6d6fd541eb3a",
   "metadata": {},
   "outputs": [],
   "source": []
  }
 ],
 "metadata": {
  "kernelspec": {
   "display_name": "Python 3 (ipykernel)",
   "language": "python",
   "name": "python3"
  },
  "language_info": {
   "codemirror_mode": {
    "name": "ipython",
    "version": 3
   },
   "file_extension": ".py",
   "mimetype": "text/x-python",
   "name": "python",
   "nbconvert_exporter": "python",
   "pygments_lexer": "ipython3",
   "version": "3.11.5"
  }
 },
 "nbformat": 4,
 "nbformat_minor": 5
}
