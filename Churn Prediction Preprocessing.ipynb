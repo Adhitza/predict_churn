{
 "cells": [
  {
   "cell_type": "markdown",
   "id": "8d791280-7d28-48a3-ab34-62b821387912",
   "metadata": {},
   "source": [
    "# Import Library"
   ]
  },
  {
   "cell_type": "code",
   "execution_count": 1,
   "id": "58c56ca0-0227-4aca-8f7b-4974b03cb747",
   "metadata": {
    "tags": []
   },
   "outputs": [
    {
     "name": "stdout",
     "output_type": "stream",
     "text": [
      "Requirement already satisfied: missingno in c:\\users\\lenovo\\anaconda3\\lib\\site-packages (0.5.2)\n",
      "Requirement already satisfied: numpy in c:\\users\\lenovo\\anaconda3\\lib\\site-packages (from missingno) (1.24.3)\n",
      "Requirement already satisfied: matplotlib in c:\\users\\lenovo\\anaconda3\\lib\\site-packages (from missingno) (3.7.2)\n",
      "Requirement already satisfied: scipy in c:\\users\\lenovo\\anaconda3\\lib\\site-packages (from missingno) (1.11.1)\n",
      "Requirement already satisfied: seaborn in c:\\users\\lenovo\\anaconda3\\lib\\site-packages (from missingno) (0.12.2)\n",
      "Requirement already satisfied: contourpy>=1.0.1 in c:\\users\\lenovo\\anaconda3\\lib\\site-packages (from matplotlib->missingno) (1.0.5)\n",
      "Requirement already satisfied: cycler>=0.10 in c:\\users\\lenovo\\anaconda3\\lib\\site-packages (from matplotlib->missingno) (0.11.0)\n",
      "Requirement already satisfied: fonttools>=4.22.0 in c:\\users\\lenovo\\anaconda3\\lib\\site-packages (from matplotlib->missingno) (4.25.0)\n",
      "Requirement already satisfied: kiwisolver>=1.0.1 in c:\\users\\lenovo\\anaconda3\\lib\\site-packages (from matplotlib->missingno) (1.4.4)\n",
      "Requirement already satisfied: packaging>=20.0 in c:\\users\\lenovo\\anaconda3\\lib\\site-packages (from matplotlib->missingno) (23.1)\n",
      "Requirement already satisfied: pillow>=6.2.0 in c:\\users\\lenovo\\anaconda3\\lib\\site-packages (from matplotlib->missingno) (9.4.0)\n",
      "Requirement already satisfied: pyparsing<3.1,>=2.3.1 in c:\\users\\lenovo\\anaconda3\\lib\\site-packages (from matplotlib->missingno) (3.0.9)\n",
      "Requirement already satisfied: python-dateutil>=2.7 in c:\\users\\lenovo\\anaconda3\\lib\\site-packages (from matplotlib->missingno) (2.8.2)\n",
      "Requirement already satisfied: pandas>=0.25 in c:\\users\\lenovo\\anaconda3\\lib\\site-packages (from seaborn->missingno) (2.0.3)\n",
      "Requirement already satisfied: pytz>=2020.1 in c:\\users\\lenovo\\anaconda3\\lib\\site-packages (from pandas>=0.25->seaborn->missingno) (2023.3.post1)\n",
      "Requirement already satisfied: tzdata>=2022.1 in c:\\users\\lenovo\\anaconda3\\lib\\site-packages (from pandas>=0.25->seaborn->missingno) (2023.3)\n",
      "Requirement already satisfied: six>=1.5 in c:\\users\\lenovo\\anaconda3\\lib\\site-packages (from python-dateutil>=2.7->matplotlib->missingno) (1.16.0)\n"
     ]
    }
   ],
   "source": [
    "! pip install missingno"
   ]
  },
  {
   "cell_type": "code",
   "execution_count": 2,
   "id": "7bd6e944-00ee-4ca0-845d-6966f27bfadf",
   "metadata": {
    "tags": []
   },
   "outputs": [],
   "source": [
    "import pandas as pd\n",
    "import numpy as np\n",
    "import seaborn as sns\n",
    "import matplotlib.pyplot as plt\n",
    "\n",
    "import missingno as msno\n",
    "import warnings\n",
    "warnings.filterwarnings('ignore')\n",
    "import os"
   ]
  },
  {
   "cell_type": "markdown",
   "id": "d59ecb92-5b31-4ee1-8cef-610216794dff",
   "metadata": {},
   "source": [
    "# Import Data"
   ]
  },
  {
   "cell_type": "code",
   "execution_count": 3,
   "id": "c4b34c34-c2d1-4187-be91-c96705868cad",
   "metadata": {
    "tags": []
   },
   "outputs": [],
   "source": [
    "df = pd.read_csv('D:\\MyProject\\Project Churn Prediction Teleco\\WA_Fn-UseC_-Telco-Customer-Churn.csv')"
   ]
  },
  {
   "cell_type": "code",
   "execution_count": 4,
   "id": "848f3822-ea45-4f38-9639-d6a191d10d3b",
   "metadata": {
    "tags": []
   },
   "outputs": [
    {
     "data": {
      "text/html": [
       "<div>\n",
       "<style scoped>\n",
       "    .dataframe tbody tr th:only-of-type {\n",
       "        vertical-align: middle;\n",
       "    }\n",
       "\n",
       "    .dataframe tbody tr th {\n",
       "        vertical-align: top;\n",
       "    }\n",
       "\n",
       "    .dataframe thead th {\n",
       "        text-align: right;\n",
       "    }\n",
       "</style>\n",
       "<table border=\"1\" class=\"dataframe\">\n",
       "  <thead>\n",
       "    <tr style=\"text-align: right;\">\n",
       "      <th></th>\n",
       "      <th>customerID</th>\n",
       "      <th>gender</th>\n",
       "      <th>SeniorCitizen</th>\n",
       "      <th>Partner</th>\n",
       "      <th>Dependents</th>\n",
       "      <th>tenure</th>\n",
       "      <th>PhoneService</th>\n",
       "      <th>MultipleLines</th>\n",
       "      <th>InternetService</th>\n",
       "      <th>OnlineSecurity</th>\n",
       "      <th>...</th>\n",
       "      <th>DeviceProtection</th>\n",
       "      <th>TechSupport</th>\n",
       "      <th>StreamingTV</th>\n",
       "      <th>StreamingMovies</th>\n",
       "      <th>Contract</th>\n",
       "      <th>PaperlessBilling</th>\n",
       "      <th>PaymentMethod</th>\n",
       "      <th>MonthlyCharges</th>\n",
       "      <th>TotalCharges</th>\n",
       "      <th>Churn</th>\n",
       "    </tr>\n",
       "  </thead>\n",
       "  <tbody>\n",
       "    <tr>\n",
       "      <th>0</th>\n",
       "      <td>7590-VHVEG</td>\n",
       "      <td>Female</td>\n",
       "      <td>0</td>\n",
       "      <td>Yes</td>\n",
       "      <td>No</td>\n",
       "      <td>1</td>\n",
       "      <td>No</td>\n",
       "      <td>No phone service</td>\n",
       "      <td>DSL</td>\n",
       "      <td>No</td>\n",
       "      <td>...</td>\n",
       "      <td>No</td>\n",
       "      <td>No</td>\n",
       "      <td>No</td>\n",
       "      <td>No</td>\n",
       "      <td>Month-to-month</td>\n",
       "      <td>Yes</td>\n",
       "      <td>Electronic check</td>\n",
       "      <td>29.85</td>\n",
       "      <td>29.85</td>\n",
       "      <td>No</td>\n",
       "    </tr>\n",
       "    <tr>\n",
       "      <th>1</th>\n",
       "      <td>5575-GNVDE</td>\n",
       "      <td>Male</td>\n",
       "      <td>0</td>\n",
       "      <td>No</td>\n",
       "      <td>No</td>\n",
       "      <td>34</td>\n",
       "      <td>Yes</td>\n",
       "      <td>No</td>\n",
       "      <td>DSL</td>\n",
       "      <td>Yes</td>\n",
       "      <td>...</td>\n",
       "      <td>Yes</td>\n",
       "      <td>No</td>\n",
       "      <td>No</td>\n",
       "      <td>No</td>\n",
       "      <td>One year</td>\n",
       "      <td>No</td>\n",
       "      <td>Mailed check</td>\n",
       "      <td>56.95</td>\n",
       "      <td>1889.5</td>\n",
       "      <td>No</td>\n",
       "    </tr>\n",
       "    <tr>\n",
       "      <th>2</th>\n",
       "      <td>3668-QPYBK</td>\n",
       "      <td>Male</td>\n",
       "      <td>0</td>\n",
       "      <td>No</td>\n",
       "      <td>No</td>\n",
       "      <td>2</td>\n",
       "      <td>Yes</td>\n",
       "      <td>No</td>\n",
       "      <td>DSL</td>\n",
       "      <td>Yes</td>\n",
       "      <td>...</td>\n",
       "      <td>No</td>\n",
       "      <td>No</td>\n",
       "      <td>No</td>\n",
       "      <td>No</td>\n",
       "      <td>Month-to-month</td>\n",
       "      <td>Yes</td>\n",
       "      <td>Mailed check</td>\n",
       "      <td>53.85</td>\n",
       "      <td>108.15</td>\n",
       "      <td>Yes</td>\n",
       "    </tr>\n",
       "    <tr>\n",
       "      <th>3</th>\n",
       "      <td>7795-CFOCW</td>\n",
       "      <td>Male</td>\n",
       "      <td>0</td>\n",
       "      <td>No</td>\n",
       "      <td>No</td>\n",
       "      <td>45</td>\n",
       "      <td>No</td>\n",
       "      <td>No phone service</td>\n",
       "      <td>DSL</td>\n",
       "      <td>Yes</td>\n",
       "      <td>...</td>\n",
       "      <td>Yes</td>\n",
       "      <td>Yes</td>\n",
       "      <td>No</td>\n",
       "      <td>No</td>\n",
       "      <td>One year</td>\n",
       "      <td>No</td>\n",
       "      <td>Bank transfer (automatic)</td>\n",
       "      <td>42.30</td>\n",
       "      <td>1840.75</td>\n",
       "      <td>No</td>\n",
       "    </tr>\n",
       "    <tr>\n",
       "      <th>4</th>\n",
       "      <td>9237-HQITU</td>\n",
       "      <td>Female</td>\n",
       "      <td>0</td>\n",
       "      <td>No</td>\n",
       "      <td>No</td>\n",
       "      <td>2</td>\n",
       "      <td>Yes</td>\n",
       "      <td>No</td>\n",
       "      <td>Fiber optic</td>\n",
       "      <td>No</td>\n",
       "      <td>...</td>\n",
       "      <td>No</td>\n",
       "      <td>No</td>\n",
       "      <td>No</td>\n",
       "      <td>No</td>\n",
       "      <td>Month-to-month</td>\n",
       "      <td>Yes</td>\n",
       "      <td>Electronic check</td>\n",
       "      <td>70.70</td>\n",
       "      <td>151.65</td>\n",
       "      <td>Yes</td>\n",
       "    </tr>\n",
       "  </tbody>\n",
       "</table>\n",
       "<p>5 rows × 21 columns</p>\n",
       "</div>"
      ],
      "text/plain": [
       "   customerID  gender  SeniorCitizen Partner Dependents  tenure PhoneService  \\\n",
       "0  7590-VHVEG  Female              0     Yes         No       1           No   \n",
       "1  5575-GNVDE    Male              0      No         No      34          Yes   \n",
       "2  3668-QPYBK    Male              0      No         No       2          Yes   \n",
       "3  7795-CFOCW    Male              0      No         No      45           No   \n",
       "4  9237-HQITU  Female              0      No         No       2          Yes   \n",
       "\n",
       "      MultipleLines InternetService OnlineSecurity  ... DeviceProtection  \\\n",
       "0  No phone service             DSL             No  ...               No   \n",
       "1                No             DSL            Yes  ...              Yes   \n",
       "2                No             DSL            Yes  ...               No   \n",
       "3  No phone service             DSL            Yes  ...              Yes   \n",
       "4                No     Fiber optic             No  ...               No   \n",
       "\n",
       "  TechSupport StreamingTV StreamingMovies        Contract PaperlessBilling  \\\n",
       "0          No          No              No  Month-to-month              Yes   \n",
       "1          No          No              No        One year               No   \n",
       "2          No          No              No  Month-to-month              Yes   \n",
       "3         Yes          No              No        One year               No   \n",
       "4          No          No              No  Month-to-month              Yes   \n",
       "\n",
       "               PaymentMethod MonthlyCharges  TotalCharges Churn  \n",
       "0           Electronic check          29.85         29.85    No  \n",
       "1               Mailed check          56.95        1889.5    No  \n",
       "2               Mailed check          53.85        108.15   Yes  \n",
       "3  Bank transfer (automatic)          42.30       1840.75    No  \n",
       "4           Electronic check          70.70        151.65   Yes  \n",
       "\n",
       "[5 rows x 21 columns]"
      ]
     },
     "execution_count": 4,
     "metadata": {},
     "output_type": "execute_result"
    }
   ],
   "source": [
    "df.head()"
   ]
  },
  {
   "cell_type": "code",
   "execution_count": 5,
   "id": "96f6eb45-1712-4fcd-8adf-f6bdbaa876ee",
   "metadata": {
    "tags": []
   },
   "outputs": [
    {
     "name": "stdout",
     "output_type": "stream",
     "text": [
      "<class 'pandas.core.frame.DataFrame'>\n",
      "RangeIndex: 7043 entries, 0 to 7042\n",
      "Data columns (total 21 columns):\n",
      " #   Column            Non-Null Count  Dtype  \n",
      "---  ------            --------------  -----  \n",
      " 0   customerID        7043 non-null   object \n",
      " 1   gender            7043 non-null   object \n",
      " 2   SeniorCitizen     7043 non-null   int64  \n",
      " 3   Partner           7043 non-null   object \n",
      " 4   Dependents        7043 non-null   object \n",
      " 5   tenure            7043 non-null   int64  \n",
      " 6   PhoneService      7043 non-null   object \n",
      " 7   MultipleLines     7043 non-null   object \n",
      " 8   InternetService   7043 non-null   object \n",
      " 9   OnlineSecurity    7043 non-null   object \n",
      " 10  OnlineBackup      7043 non-null   object \n",
      " 11  DeviceProtection  7043 non-null   object \n",
      " 12  TechSupport       7043 non-null   object \n",
      " 13  StreamingTV       7043 non-null   object \n",
      " 14  StreamingMovies   7043 non-null   object \n",
      " 15  Contract          7043 non-null   object \n",
      " 16  PaperlessBilling  7043 non-null   object \n",
      " 17  PaymentMethod     7043 non-null   object \n",
      " 18  MonthlyCharges    7043 non-null   float64\n",
      " 19  TotalCharges      7043 non-null   object \n",
      " 20  Churn             7043 non-null   object \n",
      "dtypes: float64(1), int64(2), object(18)\n",
      "memory usage: 1.1+ MB\n"
     ]
    }
   ],
   "source": [
    "df.info()"
   ]
  },
  {
   "cell_type": "markdown",
   "id": "72f0bec6-fb36-4c6a-96ba-9d800d050252",
   "metadata": {},
   "source": [
    "### Drop Column not Important"
   ]
  },
  {
   "cell_type": "code",
   "execution_count": 6,
   "id": "f261ab30-bddd-4c38-a671-ac1686e80a4f",
   "metadata": {
    "tags": []
   },
   "outputs": [],
   "source": [
    "# Drop column customerID because not important\n",
    "df = df.drop(['customerID'], axis=1)"
   ]
  },
  {
   "cell_type": "code",
   "execution_count": 7,
   "id": "8a5ba0bf-e0c2-4b0f-822c-be3a0e8b485f",
   "metadata": {
    "tags": []
   },
   "outputs": [
    {
     "data": {
      "text/html": [
       "<div>\n",
       "<style scoped>\n",
       "    .dataframe tbody tr th:only-of-type {\n",
       "        vertical-align: middle;\n",
       "    }\n",
       "\n",
       "    .dataframe tbody tr th {\n",
       "        vertical-align: top;\n",
       "    }\n",
       "\n",
       "    .dataframe thead th {\n",
       "        text-align: right;\n",
       "    }\n",
       "</style>\n",
       "<table border=\"1\" class=\"dataframe\">\n",
       "  <thead>\n",
       "    <tr style=\"text-align: right;\">\n",
       "      <th></th>\n",
       "      <th>gender</th>\n",
       "      <th>SeniorCitizen</th>\n",
       "      <th>Partner</th>\n",
       "      <th>Dependents</th>\n",
       "      <th>tenure</th>\n",
       "      <th>PhoneService</th>\n",
       "      <th>MultipleLines</th>\n",
       "      <th>InternetService</th>\n",
       "      <th>OnlineSecurity</th>\n",
       "      <th>OnlineBackup</th>\n",
       "      <th>DeviceProtection</th>\n",
       "      <th>TechSupport</th>\n",
       "      <th>StreamingTV</th>\n",
       "      <th>StreamingMovies</th>\n",
       "      <th>Contract</th>\n",
       "      <th>PaperlessBilling</th>\n",
       "      <th>PaymentMethod</th>\n",
       "      <th>MonthlyCharges</th>\n",
       "      <th>TotalCharges</th>\n",
       "      <th>Churn</th>\n",
       "    </tr>\n",
       "  </thead>\n",
       "  <tbody>\n",
       "    <tr>\n",
       "      <th>0</th>\n",
       "      <td>Female</td>\n",
       "      <td>0</td>\n",
       "      <td>Yes</td>\n",
       "      <td>No</td>\n",
       "      <td>1</td>\n",
       "      <td>No</td>\n",
       "      <td>No phone service</td>\n",
       "      <td>DSL</td>\n",
       "      <td>No</td>\n",
       "      <td>Yes</td>\n",
       "      <td>No</td>\n",
       "      <td>No</td>\n",
       "      <td>No</td>\n",
       "      <td>No</td>\n",
       "      <td>Month-to-month</td>\n",
       "      <td>Yes</td>\n",
       "      <td>Electronic check</td>\n",
       "      <td>29.85</td>\n",
       "      <td>29.85</td>\n",
       "      <td>No</td>\n",
       "    </tr>\n",
       "    <tr>\n",
       "      <th>1</th>\n",
       "      <td>Male</td>\n",
       "      <td>0</td>\n",
       "      <td>No</td>\n",
       "      <td>No</td>\n",
       "      <td>34</td>\n",
       "      <td>Yes</td>\n",
       "      <td>No</td>\n",
       "      <td>DSL</td>\n",
       "      <td>Yes</td>\n",
       "      <td>No</td>\n",
       "      <td>Yes</td>\n",
       "      <td>No</td>\n",
       "      <td>No</td>\n",
       "      <td>No</td>\n",
       "      <td>One year</td>\n",
       "      <td>No</td>\n",
       "      <td>Mailed check</td>\n",
       "      <td>56.95</td>\n",
       "      <td>1889.5</td>\n",
       "      <td>No</td>\n",
       "    </tr>\n",
       "    <tr>\n",
       "      <th>2</th>\n",
       "      <td>Male</td>\n",
       "      <td>0</td>\n",
       "      <td>No</td>\n",
       "      <td>No</td>\n",
       "      <td>2</td>\n",
       "      <td>Yes</td>\n",
       "      <td>No</td>\n",
       "      <td>DSL</td>\n",
       "      <td>Yes</td>\n",
       "      <td>Yes</td>\n",
       "      <td>No</td>\n",
       "      <td>No</td>\n",
       "      <td>No</td>\n",
       "      <td>No</td>\n",
       "      <td>Month-to-month</td>\n",
       "      <td>Yes</td>\n",
       "      <td>Mailed check</td>\n",
       "      <td>53.85</td>\n",
       "      <td>108.15</td>\n",
       "      <td>Yes</td>\n",
       "    </tr>\n",
       "    <tr>\n",
       "      <th>3</th>\n",
       "      <td>Male</td>\n",
       "      <td>0</td>\n",
       "      <td>No</td>\n",
       "      <td>No</td>\n",
       "      <td>45</td>\n",
       "      <td>No</td>\n",
       "      <td>No phone service</td>\n",
       "      <td>DSL</td>\n",
       "      <td>Yes</td>\n",
       "      <td>No</td>\n",
       "      <td>Yes</td>\n",
       "      <td>Yes</td>\n",
       "      <td>No</td>\n",
       "      <td>No</td>\n",
       "      <td>One year</td>\n",
       "      <td>No</td>\n",
       "      <td>Bank transfer (automatic)</td>\n",
       "      <td>42.30</td>\n",
       "      <td>1840.75</td>\n",
       "      <td>No</td>\n",
       "    </tr>\n",
       "    <tr>\n",
       "      <th>4</th>\n",
       "      <td>Female</td>\n",
       "      <td>0</td>\n",
       "      <td>No</td>\n",
       "      <td>No</td>\n",
       "      <td>2</td>\n",
       "      <td>Yes</td>\n",
       "      <td>No</td>\n",
       "      <td>Fiber optic</td>\n",
       "      <td>No</td>\n",
       "      <td>No</td>\n",
       "      <td>No</td>\n",
       "      <td>No</td>\n",
       "      <td>No</td>\n",
       "      <td>No</td>\n",
       "      <td>Month-to-month</td>\n",
       "      <td>Yes</td>\n",
       "      <td>Electronic check</td>\n",
       "      <td>70.70</td>\n",
       "      <td>151.65</td>\n",
       "      <td>Yes</td>\n",
       "    </tr>\n",
       "  </tbody>\n",
       "</table>\n",
       "</div>"
      ],
      "text/plain": [
       "   gender  SeniorCitizen Partner Dependents  tenure PhoneService  \\\n",
       "0  Female              0     Yes         No       1           No   \n",
       "1    Male              0      No         No      34          Yes   \n",
       "2    Male              0      No         No       2          Yes   \n",
       "3    Male              0      No         No      45           No   \n",
       "4  Female              0      No         No       2          Yes   \n",
       "\n",
       "      MultipleLines InternetService OnlineSecurity OnlineBackup  \\\n",
       "0  No phone service             DSL             No          Yes   \n",
       "1                No             DSL            Yes           No   \n",
       "2                No             DSL            Yes          Yes   \n",
       "3  No phone service             DSL            Yes           No   \n",
       "4                No     Fiber optic             No           No   \n",
       "\n",
       "  DeviceProtection TechSupport StreamingTV StreamingMovies        Contract  \\\n",
       "0               No          No          No              No  Month-to-month   \n",
       "1              Yes          No          No              No        One year   \n",
       "2               No          No          No              No  Month-to-month   \n",
       "3              Yes         Yes          No              No        One year   \n",
       "4               No          No          No              No  Month-to-month   \n",
       "\n",
       "  PaperlessBilling              PaymentMethod  MonthlyCharges TotalCharges  \\\n",
       "0              Yes           Electronic check           29.85        29.85   \n",
       "1               No               Mailed check           56.95       1889.5   \n",
       "2              Yes               Mailed check           53.85       108.15   \n",
       "3               No  Bank transfer (automatic)           42.30      1840.75   \n",
       "4              Yes           Electronic check           70.70       151.65   \n",
       "\n",
       "  Churn  \n",
       "0    No  \n",
       "1    No  \n",
       "2   Yes  \n",
       "3    No  \n",
       "4   Yes  "
      ]
     },
     "execution_count": 7,
     "metadata": {},
     "output_type": "execute_result"
    }
   ],
   "source": [
    "df.head()"
   ]
  },
  {
   "cell_type": "code",
   "execution_count": 8,
   "id": "3a9bfb42-e061-4bbf-80cf-eddfd9cd9be7",
   "metadata": {
    "tags": []
   },
   "outputs": [],
   "source": [
    "# changing 'TotalCharges' object data type to float\n",
    "# changing 'SeniorCitizen' int data type to object\n",
    "\n",
    "df['TotalCharges'] = df['TotalCharges'].apply(pd.to_numeric, errors='coerce')"
   ]
  },
  {
   "cell_type": "code",
   "execution_count": 9,
   "id": "19cddd73-d121-4e67-8821-0b75ac1b1b18",
   "metadata": {
    "tags": []
   },
   "outputs": [
    {
     "name": "stdout",
     "output_type": "stream",
     "text": [
      "<class 'pandas.core.frame.DataFrame'>\n",
      "RangeIndex: 7043 entries, 0 to 7042\n",
      "Data columns (total 20 columns):\n",
      " #   Column            Non-Null Count  Dtype  \n",
      "---  ------            --------------  -----  \n",
      " 0   gender            7043 non-null   object \n",
      " 1   SeniorCitizen     7043 non-null   int64  \n",
      " 2   Partner           7043 non-null   object \n",
      " 3   Dependents        7043 non-null   object \n",
      " 4   tenure            7043 non-null   int64  \n",
      " 5   PhoneService      7043 non-null   object \n",
      " 6   MultipleLines     7043 non-null   object \n",
      " 7   InternetService   7043 non-null   object \n",
      " 8   OnlineSecurity    7043 non-null   object \n",
      " 9   OnlineBackup      7043 non-null   object \n",
      " 10  DeviceProtection  7043 non-null   object \n",
      " 11  TechSupport       7043 non-null   object \n",
      " 12  StreamingTV       7043 non-null   object \n",
      " 13  StreamingMovies   7043 non-null   object \n",
      " 14  Contract          7043 non-null   object \n",
      " 15  PaperlessBilling  7043 non-null   object \n",
      " 16  PaymentMethod     7043 non-null   object \n",
      " 17  MonthlyCharges    7043 non-null   float64\n",
      " 18  TotalCharges      7032 non-null   float64\n",
      " 19  Churn             7043 non-null   object \n",
      "dtypes: float64(2), int64(2), object(16)\n",
      "memory usage: 1.1+ MB\n"
     ]
    }
   ],
   "source": [
    "df.info()"
   ]
  },
  {
   "cell_type": "markdown",
   "id": "9039b217-2ed2-4046-9f2c-b5d681673fc1",
   "metadata": {
    "tags": []
   },
   "source": [
    "# EDA"
   ]
  },
  {
   "cell_type": "markdown",
   "id": "6953c7e5-2860-461b-a9dd-56d8551314b7",
   "metadata": {
    "jp-MarkdownHeadingCollapsed": true,
    "tags": []
   },
   "source": [
    "### Checking missing value"
   ]
  },
  {
   "cell_type": "code",
   "execution_count": 10,
   "id": "4aa7d4b6-0811-4a21-a077-0f7a84b60290",
   "metadata": {
    "tags": []
   },
   "outputs": [
    {
     "data": {
      "text/plain": [
       "gender               0\n",
       "SeniorCitizen        0\n",
       "Partner              0\n",
       "Dependents           0\n",
       "tenure               0\n",
       "PhoneService         0\n",
       "MultipleLines        0\n",
       "InternetService      0\n",
       "OnlineSecurity       0\n",
       "OnlineBackup         0\n",
       "DeviceProtection     0\n",
       "TechSupport          0\n",
       "StreamingTV          0\n",
       "StreamingMovies      0\n",
       "Contract             0\n",
       "PaperlessBilling     0\n",
       "PaymentMethod        0\n",
       "MonthlyCharges       0\n",
       "TotalCharges        11\n",
       "Churn                0\n",
       "dtype: int64"
      ]
     },
     "execution_count": 10,
     "metadata": {},
     "output_type": "execute_result"
    }
   ],
   "source": [
    "df.isnull().sum()"
   ]
  },
  {
   "cell_type": "code",
   "execution_count": 11,
   "id": "8bf558f4-12de-4242-859f-27959196c1c0",
   "metadata": {
    "tags": []
   },
   "outputs": [
    {
     "data": {
      "text/plain": [
       "<Axes: >"
      ]
     },
     "execution_count": 11,
     "metadata": {},
     "output_type": "execute_result"
    },
    {
     "data": {
      "image/png": "[encoded data removed]",
      "text/plain": [
       "<Figure size 2500x1000 with 2 Axes>"
      ]
     },
     "metadata": {},
     "output_type": "display_data"
    }
   ],
   "source": [
    "msno.matrix(df)"
   ]
  },
  {
   "cell_type": "code",
   "execution_count": 12,
   "id": "fa88608d-f688-4504-a5a1-35fa911bcd95",
   "metadata": {
    "tags": []
   },
   "outputs": [],
   "source": [
    "# after change datatype 'TotalCharges' from object to float, we have some missing value. Let's handling missing value with replace nan\n",
    "\n",
    "df['TotalCharges'] = df['TotalCharges'].fillna(method=\"ffill\")"
   ]
  },
  {
   "cell_type": "code",
   "execution_count": 13,
   "id": "18b5f4f3-5d05-4ad3-9de2-efe3159b4e83",
   "metadata": {
    "tags": []
   },
   "outputs": [
    {
     "data": {
      "text/plain": [
       "gender              0\n",
       "SeniorCitizen       0\n",
       "Partner             0\n",
       "Dependents          0\n",
       "tenure              0\n",
       "PhoneService        0\n",
       "MultipleLines       0\n",
       "InternetService     0\n",
       "OnlineSecurity      0\n",
       "OnlineBackup        0\n",
       "DeviceProtection    0\n",
       "TechSupport         0\n",
       "StreamingTV         0\n",
       "StreamingMovies     0\n",
       "Contract            0\n",
       "PaperlessBilling    0\n",
       "PaymentMethod       0\n",
       "MonthlyCharges      0\n",
       "TotalCharges        0\n",
       "Churn               0\n",
       "dtype: int64"
      ]
     },
     "execution_count": 13,
     "metadata": {},
     "output_type": "execute_result"
    }
   ],
   "source": [
    "# check more missing value\n",
    "\n",
    "df.isnull().sum()"
   ]
  },
  {
   "cell_type": "markdown",
   "id": "a9ac83f2-864b-48c9-ad46-09070c206409",
   "metadata": {
    "jp-MarkdownHeadingCollapsed": true,
    "tags": []
   },
   "source": [
    "### Get info about datatype of each column"
   ]
  },
  {
   "cell_type": "code",
   "execution_count": 14,
   "id": "11103f99-287f-4779-ba6b-d4c4aef91d05",
   "metadata": {
    "tags": []
   },
   "outputs": [
    {
     "name": "stdout",
     "output_type": "stream",
     "text": [
      "<class 'pandas.core.frame.DataFrame'>\n",
      "RangeIndex: 7043 entries, 0 to 7042\n",
      "Data columns (total 20 columns):\n",
      " #   Column            Non-Null Count  Dtype  \n",
      "---  ------            --------------  -----  \n",
      " 0   gender            7043 non-null   object \n",
      " 1   SeniorCitizen     7043 non-null   int64  \n",
      " 2   Partner           7043 non-null   object \n",
      " 3   Dependents        7043 non-null   object \n",
      " 4   tenure            7043 non-null   int64  \n",
      " 5   PhoneService      7043 non-null   object \n",
      " 6   MultipleLines     7043 non-null   object \n",
      " 7   InternetService   7043 non-null   object \n",
      " 8   OnlineSecurity    7043 non-null   object \n",
      " 9   OnlineBackup      7043 non-null   object \n",
      " 10  DeviceProtection  7043 non-null   object \n",
      " 11  TechSupport       7043 non-null   object \n",
      " 12  StreamingTV       7043 non-null   object \n",
      " 13  StreamingMovies   7043 non-null   object \n",
      " 14  Contract          7043 non-null   object \n",
      " 15  PaperlessBilling  7043 non-null   object \n",
      " 16  PaymentMethod     7043 non-null   object \n",
      " 17  MonthlyCharges    7043 non-null   float64\n",
      " 18  TotalCharges      7043 non-null   float64\n",
      " 19  Churn             7043 non-null   object \n",
      "dtypes: float64(2), int64(2), object(16)\n",
      "memory usage: 1.1+ MB\n"
     ]
    }
   ],
   "source": [
    "df.info()"
   ]
  },
  {
   "cell_type": "markdown",
   "id": "ac74b60d-caf1-44b2-819c-c0564fe517bf",
   "metadata": {},
   "source": [
    "**We have 20 columns and 7043 entries data**"
   ]
  },
  {
   "cell_type": "markdown",
   "id": "f015e2e0-5d40-4c3a-9e26-54ba69ad892d",
   "metadata": {},
   "source": [
    "- customerID: customer ID\n",
    "- gender: customer gender (Male/Female)\n",
    "- seniorCitizen: whether the customer is a senior citizen (1/0)\n",
    "- partner: whether the customer has a partner (Yes/No)\n",
    "- dependents: whether the customer has dependents (Yes/No)\n",
    "- tenure: number of months the customer has stayed with the company\n",
    "- phoneService: whether the customer has phone service (Yes/No)\n",
    "- multipleLines: whether the customer has multiple lines (Yes/No/No phone service)\n",
    "- internetService: customer’s internet service provider (DSL/Fiber optic/No)\n",
    "- onlineSecurity: whether the customer has online security (Yes/No/No internet service)\n",
    "- onlineBackup: whether the customer has online backup (Yes/No/No internet service)\n",
    "- deviceProtection: whether the customer has device protection (Yes/No/No internet service)\n",
    "- techSupport: whether the customer has tech support (Yes/No/No internet service)\n",
    "- streamingTV: whether the customer has streaming TV (Yes/No/No internet service)\n",
    "- streamingMovies: whether the customer has streaming movies (Yes/No/No internet service)\n",
    "- contract: the contract term of the customer (Month-to-month/One year/Two year)\n",
    "- paperlessBilling: whether the customer has paperless billing (Yes/No)\n",
    "- paymentMethod: the customer’s payment method (Electronic check/Mailed check/Bank transfer (automatic)/Credit card (automatic))\n",
    "- monthlyCharges: the amount charged to the customer monthly\n",
    "- totalCharges: the total amount charged to the customer\n",
    "- churn: whether the customer churned (Yes/No)"
   ]
  },
  {
   "cell_type": "markdown",
   "id": "a1839cfe-1a25-4759-a89f-8591941df274",
   "metadata": {
    "tags": []
   },
   "source": [
    "## Single Visualization Variable"
   ]
  },
  {
   "cell_type": "markdown",
   "id": "74330df4-2ec7-406b-a7fc-c1f50f182c86",
   "metadata": {
    "tags": []
   },
   "source": [
    "### Identify target data churn and all each single variable column"
   ]
  },
  {
   "cell_type": "markdown",
   "id": "74c586f7-d685-4f71-9ec8-cda8d07fd8cf",
   "metadata": {
    "jp-MarkdownHeadingCollapsed": true,
    "tags": []
   },
   "source": [
    "#### Churn"
   ]
  },
  {
   "cell_type": "code",
   "execution_count": 15,
   "id": "394bdf60-4712-4ee5-be17-4b9df9b6e099",
   "metadata": {
    "tags": []
   },
   "outputs": [
    {
     "name": "stdout",
     "output_type": "stream",
     "text": [
      "Churn\n",
      "No     5174\n",
      "Yes    1869\n",
      "Name: count, dtype: int64\n"
     ]
    }
   ],
   "source": [
    "print(df['Churn'].value_counts())"
   ]
  },
  {
   "cell_type": "markdown",
   "id": "3f877a59-9f67-4024-b8c1-f8fe690c4ec0",
   "metadata": {},
   "source": [
    "**There are 5709 No Churn labels and 1869 Yes Churn labels**"
   ]
  },
  {
   "cell_type": "code",
   "execution_count": 16,
   "id": "4a53271c-8a62-4e65-87e7-376d13e438bb",
   "metadata": {
    "tags": []
   },
   "outputs": [],
   "source": [
    "# pie plott\n",
    "\n",
    "# make function for category churn \n",
    "\n",
    "def Groupby_OneCol_comp_plot(df, col, plt_style = 'seaborn-ticks', color_palette = \"husl\"):\n",
    "    gr=pd.DataFrame()\n",
    "    gr['{} No'.format(col)] = df.groupby(col).size()\n",
    "    gr['{} Ratio'.format(col)] = np.round(gr['{} No'.format(col)].divide(gr['{} No'.format(col)].sum())*100,0)\n",
    "    fig = plt.figure(figsize= (20,5))\n",
    "    plt.style.use(plt_style)\n",
    "    sns.set_palette(sns.color_palette(color_palette))\n",
    "    \n",
    "    fig.add_subplot(122)\n",
    "    plt.axis('off')\n",
    "    gr.loc[:,'{} Ratio'.format(col)].plot(kind= 'pie',\n",
    "                                     autopct='%1.1f%%',shadow=False,\n",
    "                                     title='{} Ratio'.format(col), legend=False, labels=None);\n",
    "    sns.despine(top=True, right=True, left=True, bottom=False);"
   ]
  },
  {
   "cell_type": "code",
   "execution_count": 17,
   "id": "a721518a-2bc1-4e0e-a1ab-aa5f5a48823a",
   "metadata": {
    "tags": []
   },
   "outputs": [
    {
     "data": {
      "image/png": "[encoded data removed]",
      "text/plain": [
       "<Figure size 2000x500 with 1 Axes>"
      ]
     },
     "metadata": {},
     "output_type": "display_data"
    }
   ],
   "source": [
    "# call function for pie plott churn\n",
    "\n",
    "Groupby_OneCol_comp_plot(df, 'Churn')"
   ]
  },
  {
   "cell_type": "markdown",
   "id": "9bd593da-1aaf-40bc-a723-1599d2a337c6",
   "metadata": {
    "jp-MarkdownHeadingCollapsed": true,
    "tags": []
   },
   "source": [
    "#### Categorical variables"
   ]
  },
  {
   "cell_type": "code",
   "execution_count": 18,
   "id": "9528bd71-4508-4169-a043-3f1bc509e38f",
   "metadata": {
    "tags": []
   },
   "outputs": [
    {
     "name": "stdout",
     "output_type": "stream",
     "text": [
      "gender\n",
      "Male      3555\n",
      "Female    3488\n",
      "Name: count, dtype: int64\n"
     ]
    },
    {
     "data": {
      "image/png": "[encoded data removed]",
      "text/plain": [
       "<Figure size 640x480 with 1 Axes>"
      ]
     },
     "metadata": {},
     "output_type": "display_data"
    }
   ],
   "source": [
    "# @title gender\n",
    "\n",
    "print(df['gender'].value_counts())\n",
    "df.groupby('gender').size().plot(kind='barh', color=sns.palettes.mpl_palette('Dark2'))\n",
    "plt.gca().spines[['top', 'right',]].set_visible(False)"
   ]
  },
  {
   "cell_type": "code",
   "execution_count": 19,
   "id": "078abd4e-6b56-4ec3-b7df-d6e12b5ba929",
   "metadata": {
    "tags": []
   },
   "outputs": [
    {
     "name": "stdout",
     "output_type": "stream",
     "text": [
      "SeniorCitizen\n",
      "0    5901\n",
      "1    1142\n",
      "Name: count, dtype: int64\n"
     ]
    },
    {
     "data": {
      "image/png": "[encoded data removed]",
      "text/plain": [
       "<Figure size 640x480 with 1 Axes>"
      ]
     },
     "metadata": {},
     "output_type": "display_data"
    }
   ],
   "source": [
    "# @title senior citizen\n",
    "\n",
    "print(df['SeniorCitizen'].value_counts())\n",
    "df.groupby('SeniorCitizen').size().plot(kind='barh', color=sns.palettes.mpl_palette('Dark2'))\n",
    "plt.gca().spines[['top', 'right',]].set_visible(False)"
   ]
  },
  {
   "cell_type": "code",
   "execution_count": 20,
   "id": "d29ede20-8191-4ffa-b276-79374638ffb9",
   "metadata": {
    "tags": []
   },
   "outputs": [
    {
     "name": "stdout",
     "output_type": "stream",
     "text": [
      "Partner\n",
      "No     3641\n",
      "Yes    3402\n",
      "Name: count, dtype: int64\n"
     ]
    },
    {
     "data": {
      "image/png": "[encoded data removed]",
      "text/plain": [
       "<Figure size 640x480 with 1 Axes>"
      ]
     },
     "metadata": {},
     "output_type": "display_data"
    }
   ],
   "source": [
    "# @title partner\n",
    "\n",
    "print(df['Partner'].value_counts())\n",
    "df.groupby('Partner').size().plot(kind='barh', color=sns.palettes.mpl_palette('viridis'))\n",
    "plt.gca().spines[['top', 'right',]].set_visible(False)"
   ]
  },
  {
   "cell_type": "code",
   "execution_count": 21,
   "id": "c537ddb9-0ac5-4f42-a982-4237591a6bdf",
   "metadata": {
    "tags": []
   },
   "outputs": [
    {
     "name": "stdout",
     "output_type": "stream",
     "text": [
      "Dependents\n",
      "No     4933\n",
      "Yes    2110\n",
      "Name: count, dtype: int64\n"
     ]
    },
    {
     "data": {
      "image/png": "[encoded data removed]",
      "text/plain": [
       "<Figure size 640x480 with 1 Axes>"
      ]
     },
     "metadata": {},
     "output_type": "display_data"
    }
   ],
   "source": [
    "# @title dependents\n",
    "\n",
    "print(df['Dependents'].value_counts())\n",
    "df.groupby('Dependents').size().plot(kind='barh', color=sns.palettes.mpl_palette('viridis'))\n",
    "plt.gca().spines[['top', 'right',]].set_visible(False)"
   ]
  },
  {
   "cell_type": "code",
   "execution_count": 22,
   "id": "05a649ee-ab34-45aa-80b1-667fa7c8e77f",
   "metadata": {
    "tags": []
   },
   "outputs": [
    {
     "name": "stdout",
     "output_type": "stream",
     "text": [
      "PhoneService\n",
      "Yes    6361\n",
      "No      682\n",
      "Name: count, dtype: int64\n"
     ]
    },
    {
     "data": {
      "image/png": "[encoded data removed]",
      "text/plain": [
       "<Figure size 640x480 with 1 Axes>"
      ]
     },
     "metadata": {},
     "output_type": "display_data"
    }
   ],
   "source": [
    "# @title phoneService\n",
    "\n",
    "print(df['PhoneService'].value_counts())\n",
    "df.groupby('PhoneService').size().plot(kind='barh', color=sns.palettes.mpl_palette('Set2'))\n",
    "plt.gca().spines[['top', 'right',]].set_visible(False)"
   ]
  },
  {
   "cell_type": "code",
   "execution_count": 23,
   "id": "fae2dfb2-2238-4ec8-a587-d92d74aba27a",
   "metadata": {
    "tags": []
   },
   "outputs": [
    {
     "name": "stdout",
     "output_type": "stream",
     "text": [
      "MultipleLines\n",
      "No                  3390\n",
      "Yes                 2971\n",
      "No phone service     682\n",
      "Name: count, dtype: int64\n"
     ]
    },
    {
     "data": {
      "image/png": "[encoded data removed]",
      "text/plain": [
       "<Figure size 640x480 with 1 Axes>"
      ]
     },
     "metadata": {},
     "output_type": "display_data"
    }
   ],
   "source": [
    "# @title MultipleLines\n",
    "\n",
    "print(df['MultipleLines'].value_counts())\n",
    "df.groupby('MultipleLines').size().plot(kind='barh', color=sns.palettes.mpl_palette('viridis', 8))\n",
    "plt.gca().spines[['top', 'right',]].set_visible(False)"
   ]
  },
  {
   "cell_type": "code",
   "execution_count": 24,
   "id": "3e594e11-999b-4123-8e75-16141bf75151",
   "metadata": {
    "tags": []
   },
   "outputs": [
    {
     "name": "stdout",
     "output_type": "stream",
     "text": [
      "InternetService\n",
      "Fiber optic    3096\n",
      "DSL            2421\n",
      "No             1526\n",
      "Name: count, dtype: int64\n"
     ]
    },
    {
     "data": {
      "image/png": "[encoded data removed]",
      "text/plain": [
       "<Figure size 640x480 with 1 Axes>"
      ]
     },
     "metadata": {},
     "output_type": "display_data"
    }
   ],
   "source": [
    "# @title InternetService\n",
    "\n",
    "print(df['InternetService'].value_counts())\n",
    "df.groupby('InternetService').size().plot(kind='barh', color=sns.palettes.mpl_palette('Set2', 2))\n",
    "plt.gca().spines[['top', 'right',]].set_visible(False)"
   ]
  },
  {
   "cell_type": "code",
   "execution_count": 25,
   "id": "c6c37b36-d78b-44bf-8d25-7db9d089ede8",
   "metadata": {
    "tags": []
   },
   "outputs": [
    {
     "name": "stdout",
     "output_type": "stream",
     "text": [
      "OnlineSecurity\n",
      "No                     3498\n",
      "Yes                    2019\n",
      "No internet service    1526\n",
      "Name: count, dtype: int64\n"
     ]
    },
    {
     "data": {
      "image/png": "[encoded data removed]",
      "text/plain": [
       "<Figure size 640x480 with 1 Axes>"
      ]
     },
     "metadata": {},
     "output_type": "display_data"
    }
   ],
   "source": [
    "# @title OnlineSecurity\n",
    "\n",
    "print(df['OnlineSecurity'].value_counts())\n",
    "df.groupby('OnlineSecurity').size().plot(kind='barh', color=sns.palettes.mpl_palette('Set2',3))\n",
    "plt.gca().spines[['top', 'right',]].set_visible(False)"
   ]
  },
  {
   "cell_type": "code",
   "execution_count": 26,
   "id": "264299cd-8c5a-48b3-93de-6eca0f23a764",
   "metadata": {
    "tags": []
   },
   "outputs": [
    {
     "name": "stdout",
     "output_type": "stream",
     "text": [
      "OnlineBackup\n",
      "No                     3088\n",
      "Yes                    2429\n",
      "No internet service    1526\n",
      "Name: count, dtype: int64\n"
     ]
    },
    {
     "data": {
      "image/png": "[encoded data removed]",
      "text/plain": [
       "<Figure size 640x480 with 1 Axes>"
      ]
     },
     "metadata": {},
     "output_type": "display_data"
    }
   ],
   "source": [
    "# @title OnlineBackup\n",
    "\n",
    "print(df['OnlineBackup'].value_counts())\n",
    "df.groupby('OnlineBackup').size().plot(kind='barh', color=sns.palettes.mpl_palette('Set2', 4))\n",
    "plt.gca().spines[['top', 'right',]].set_visible(False)"
   ]
  },
  {
   "cell_type": "code",
   "execution_count": 27,
   "id": "ebc0493e-9e53-4b10-b725-d30f1c3d8b3f",
   "metadata": {
    "tags": []
   },
   "outputs": [
    {
     "name": "stdout",
     "output_type": "stream",
     "text": [
      "DeviceProtection\n",
      "No                     3095\n",
      "Yes                    2422\n",
      "No internet service    1526\n",
      "Name: count, dtype: int64\n"
     ]
    },
    {
     "data": {
      "image/png": "[encoded data removed]",
      "text/plain": [
       "<Figure size 640x480 with 1 Axes>"
      ]
     },
     "metadata": {},
     "output_type": "display_data"
    }
   ],
   "source": [
    "# @title DeviceProtection\n",
    "\n",
    "print(df['DeviceProtection'].value_counts())\n",
    "df.groupby('DeviceProtection').size().plot(kind='barh', color=sns.palettes.mpl_palette('Set2'))\n",
    "plt.gca().spines[['top', 'right',]].set_visible(False)"
   ]
  },
  {
   "cell_type": "code",
   "execution_count": 28,
   "id": "55cc98ec-ab79-4ce3-9bc8-486040d1fdd9",
   "metadata": {
    "tags": []
   },
   "outputs": [
    {
     "name": "stdout",
     "output_type": "stream",
     "text": [
      "TechSupport\n",
      "No                     3473\n",
      "Yes                    2044\n",
      "No internet service    1526\n",
      "Name: count, dtype: int64\n"
     ]
    },
    {
     "data": {
      "image/png": "[encoded data removed]",
      "text/plain": [
       "<Figure size 640x480 with 1 Axes>"
      ]
     },
     "metadata": {},
     "output_type": "display_data"
    }
   ],
   "source": [
    "# @title TechSupport\n",
    "\n",
    "print(df['TechSupport'].value_counts())\n",
    "df.groupby('TechSupport').size().plot(kind='barh', color=sns.palettes.mpl_palette('Set2'))\n",
    "plt.gca().spines[['top', 'right',]].set_visible(False)"
   ]
  },
  {
   "cell_type": "code",
   "execution_count": 29,
   "id": "296260bb-81be-4033-b9c4-cb6946c54409",
   "metadata": {
    "tags": []
   },
   "outputs": [
    {
     "name": "stdout",
     "output_type": "stream",
     "text": [
      "StreamingTV\n",
      "No                     2810\n",
      "Yes                    2707\n",
      "No internet service    1526\n",
      "Name: count, dtype: int64\n"
     ]
    },
    {
     "data": {
      "image/png": "[encoded data removed]",
      "text/plain": [
       "<Figure size 640x480 with 1 Axes>"
      ]
     },
     "metadata": {},
     "output_type": "display_data"
    }
   ],
   "source": [
    "# @title StreamingTV\n",
    "\n",
    "print(df['StreamingTV'].value_counts())\n",
    "df.groupby('StreamingTV').size().plot(kind='barh', color=sns.palettes.mpl_palette('Set2'))\n",
    "plt.gca().spines[['top', 'right',]].set_visible(False)"
   ]
  },
  {
   "cell_type": "code",
   "execution_count": 30,
   "id": "83c9077e-26f6-4635-9a55-64432376d42c",
   "metadata": {
    "tags": []
   },
   "outputs": [
    {
     "name": "stdout",
     "output_type": "stream",
     "text": [
      "StreamingMovies\n",
      "No                     2785\n",
      "Yes                    2732\n",
      "No internet service    1526\n",
      "Name: count, dtype: int64\n"
     ]
    },
    {
     "data": {
      "image/png": "[encoded data removed]",
      "text/plain": [
       "<Figure size 640x480 with 1 Axes>"
      ]
     },
     "metadata": {},
     "output_type": "display_data"
    }
   ],
   "source": [
    "# @title StreamingMovies\n",
    "\n",
    "print(df['StreamingMovies'].value_counts())\n",
    "df.groupby('StreamingMovies').size().plot(kind='barh', color=sns.palettes.mpl_palette('Set2'))\n",
    "plt.gca().spines[['top', 'right',]].set_visible(False)"
   ]
  },
  {
   "cell_type": "code",
   "execution_count": 31,
   "id": "d070e541-0284-41bc-80e1-a2d1e02ada22",
   "metadata": {
    "tags": []
   },
   "outputs": [
    {
     "name": "stdout",
     "output_type": "stream",
     "text": [
      "Contract\n",
      "Month-to-month    3875\n",
      "Two year          1695\n",
      "One year          1473\n",
      "Name: count, dtype: int64\n"
     ]
    },
    {
     "data": {
      "image/png": "[encoded data removed]",
      "text/plain": [
       "<Figure size 640x480 with 1 Axes>"
      ]
     },
     "metadata": {},
     "output_type": "display_data"
    }
   ],
   "source": [
    "# @title Contract\n",
    "\n",
    "print(df['Contract'].value_counts())\n",
    "df.groupby('Contract').size().plot(kind='barh', color=sns.palettes.mpl_palette('viridis'))\n",
    "plt.gca().spines[['top', 'right',]].set_visible(False)"
   ]
  },
  {
   "cell_type": "code",
   "execution_count": 32,
   "id": "3f47dc82-cb03-41df-a2bb-ee73c1c0d61b",
   "metadata": {
    "tags": []
   },
   "outputs": [
    {
     "name": "stdout",
     "output_type": "stream",
     "text": [
      "PaperlessBilling\n",
      "Yes    4171\n",
      "No     2872\n",
      "Name: count, dtype: int64\n"
     ]
    },
    {
     "data": {
      "image/png": "[encoded data removed]",
      "text/plain": [
       "<Figure size 640x480 with 1 Axes>"
      ]
     },
     "metadata": {},
     "output_type": "display_data"
    }
   ],
   "source": [
    "# @title PaperlessBilling\n",
    "\n",
    "print(df['PaperlessBilling'].value_counts())\n",
    "df.groupby('PaperlessBilling').size().plot(kind='barh', color=sns.palettes.mpl_palette('viridis'))\n",
    "plt.gca().spines[['top', 'right',]].set_visible(False)"
   ]
  },
  {
   "cell_type": "code",
   "execution_count": 33,
   "id": "831cc7d1-f046-4d67-ac08-9e3da1f05e8d",
   "metadata": {
    "tags": []
   },
   "outputs": [
    {
     "name": "stdout",
     "output_type": "stream",
     "text": [
      "PaymentMethod\n",
      "Electronic check             2365\n",
      "Mailed check                 1612\n",
      "Bank transfer (automatic)    1544\n",
      "Credit card (automatic)      1522\n",
      "Name: count, dtype: int64\n"
     ]
    },
    {
     "data": {
      "image/png": "[encoded data removed]",
      "text/plain": [
       "<Figure size 640x480 with 1 Axes>"
      ]
     },
     "metadata": {},
     "output_type": "display_data"
    }
   ],
   "source": [
    "# @title PaymentMethod\n",
    "\n",
    "print(df['PaymentMethod'].value_counts())\n",
    "df.groupby('PaymentMethod').size().plot(kind='barh', color=sns.palettes.mpl_palette('viridis'))\n",
    "plt.gca().spines[['top', 'right',]].set_visible(False)"
   ]
  },
  {
   "cell_type": "markdown",
   "id": "575c2f08-822f-4844-a1dc-8d2e18399724",
   "metadata": {
    "jp-MarkdownHeadingCollapsed": true,
    "tags": []
   },
   "source": [
    "#### Numerical variables"
   ]
  },
  {
   "cell_type": "code",
   "execution_count": 34,
   "id": "154e7435-2b44-4e5f-8caf-16cde864c5b9",
   "metadata": {
    "tags": []
   },
   "outputs": [
    {
     "name": "stdout",
     "output_type": "stream",
     "text": [
      "tenure            0.239540\n",
      "MonthlyCharges   -0.220524\n",
      "TotalCharges      0.959570\n",
      "dtype: float64\n"
     ]
    },
    {
     "data": {
      "image/png": "[encoded data removed]",
      "text/plain": [
       "<Figure size 640x480 with 1 Axes>"
      ]
     },
     "metadata": {},
     "output_type": "display_data"
    },
    {
     "data": {
      "image/png": "[encoded data removed]",
      "text/plain": [
       "<Figure size 640x480 with 1 Axes>"
      ]
     },
     "metadata": {},
     "output_type": "display_data"
    },
    {
     "data": {
      "image/png": "[encoded data removed]",
      "text/plain": [
       "<Figure size 640x480 with 1 Axes>"
      ]
     },
     "metadata": {},
     "output_type": "display_data"
    }
   ],
   "source": [
    "#Distribution of Numerical Columns\n",
    "n_columns = ['tenure','MonthlyCharges','TotalCharges']\n",
    "skew_df = df[n_columns].skew()\n",
    "print(skew_df)\n",
    "\n",
    "for col in n_columns:   \n",
    "    sns.histplot(df[col],kde=True)\n",
    "    plt.title(f'Distribution of {col}')\n",
    "    plt.xlabel(col)\n",
    "    plt.ylabel('frequency')\n",
    "    plt.show()"
   ]
  },
  {
   "cell_type": "markdown",
   "id": "7e6d1af4-ede6-4079-a953-2d2446afc4a8",
   "metadata": {
    "jp-MarkdownHeadingCollapsed": true,
    "tags": []
   },
   "source": [
    "### Between Relation variable"
   ]
  },
  {
   "cell_type": "code",
   "execution_count": 35,
   "id": "450a550c-604f-4686-860b-80d8738a4863",
   "metadata": {
    "tags": []
   },
   "outputs": [
    {
     "name": "stdout",
     "output_type": "stream",
     "text": [
      "gender\n",
      "Female    939\n",
      "Male      930\n",
      "Name: count, dtype: int64\n"
     ]
    },
    {
     "data": {
      "image/png": "[encoded data removed]",
      "text/plain": [
       "<Figure size 640x480 with 1 Axes>"
      ]
     },
     "metadata": {},
     "output_type": "display_data"
    }
   ],
   "source": [
    "#count of Churn & non Churn customer wrt Gender\n",
    "chur_gender = df[df['Churn'] == 'Yes']['gender'].value_counts()\n",
    "print(chur_gender)\n",
    "sns.countplot(x='gender',hue='Churn',data=df)\n",
    "plt.xlabel('gender')\n",
    "plt.ylabel('Count of Churn')\n",
    "plt.show()"
   ]
  },
  {
   "cell_type": "code",
   "execution_count": 36,
   "id": "d0081e08-f8b6-44f4-b4de-d4d56eb98171",
   "metadata": {
    "tags": []
   },
   "outputs": [
    {
     "name": "stdout",
     "output_type": "stream",
     "text": [
      "Contract\n",
      "Month-to-month    1655\n",
      "One year           166\n",
      "Two year            48\n",
      "Name: count, dtype: int64\n"
     ]
    },
    {
     "data": {
      "image/png": "[encoded data removed]",
      "text/plain": [
       "<Figure size 640x480 with 1 Axes>"
      ]
     },
     "metadata": {},
     "output_type": "display_data"
    }
   ],
   "source": [
    "#count of Churn & non Churn customer wrt Contract\n",
    "chur_contract = df[df['Churn'] == 'Yes']['Contract'].value_counts()\n",
    "print(chur_contract)\n",
    "sns.countplot(x='Contract',hue='Churn',data=df)\n",
    "plt.xlabel('Contract')\n",
    "plt.ylabel('Count of Churn')\n",
    "plt.show()"
   ]
  },
  {
   "cell_type": "code",
   "execution_count": 37,
   "id": "4d5f5421-1847-4731-bc91-19d597c2446a",
   "metadata": {
    "tags": []
   },
   "outputs": [
    {
     "name": "stdout",
     "output_type": "stream",
     "text": [
      "InternetService\n",
      "Fiber optic    1297\n",
      "DSL             459\n",
      "No              113\n",
      "Name: count, dtype: int64\n"
     ]
    },
    {
     "data": {
      "image/png": "[encoded data removed]",
      "text/plain": [
       "<Figure size 640x480 with 1 Axes>"
      ]
     },
     "metadata": {},
     "output_type": "display_data"
    }
   ],
   "source": [
    "#count of Churn & non Churn customer wrt InternetService\n",
    "chur_internet = df[df['Churn'] == 'Yes']['InternetService'].value_counts()\n",
    "print(chur_internet)\n",
    "sns.countplot(x='InternetService',hue='Churn',data=df)\n",
    "plt.xlabel('InternetService')\n",
    "plt.ylabel('Count of Churn')\n",
    "plt.show()"
   ]
  },
  {
   "cell_type": "markdown",
   "id": "b0ec6717-ac0f-4ff9-83f3-423864824367",
   "metadata": {},
   "source": [
    "# Prepocessing Data"
   ]
  },
  {
   "cell_type": "code",
   "execution_count": 38,
   "id": "3333de81-d788-4fa8-95c8-90fb3f5ef8dd",
   "metadata": {
    "tags": []
   },
   "outputs": [
    {
     "name": "stdout",
     "output_type": "stream",
     "text": [
      "Partner\n",
      "Yes    3402\n",
      "No     3641\n",
      "Name: count, dtype: int64\n"
     ]
    }
   ],
   "source": [
    "print (df['Partner'].value_counts(ascending=True))"
   ]
  },
  {
   "cell_type": "code",
   "execution_count": 39,
   "id": "8d01beab-879a-4edd-8d1f-3c318ec0bea1",
   "metadata": {
    "tags": []
   },
   "outputs": [
    {
     "name": "stdout",
     "output_type": "stream",
     "text": [
      "gender : ['Female' 'Male']\n",
      "****************************************************\n",
      "Partner : ['Yes' 'No']\n",
      "****************************************************\n",
      "Dependents : ['No' 'Yes']\n",
      "****************************************************\n",
      "PhoneService : ['No' 'Yes']\n",
      "****************************************************\n",
      "MultipleLines : ['No phone service' 'No' 'Yes']\n",
      "****************************************************\n",
      "InternetService : ['DSL' 'Fiber optic' 'No']\n",
      "****************************************************\n",
      "OnlineSecurity : ['No' 'Yes' 'No internet service']\n",
      "****************************************************\n",
      "OnlineBackup : ['Yes' 'No' 'No internet service']\n",
      "****************************************************\n",
      "DeviceProtection : ['No' 'Yes' 'No internet service']\n",
      "****************************************************\n",
      "TechSupport : ['No' 'Yes' 'No internet service']\n",
      "****************************************************\n",
      "StreamingTV : ['No' 'Yes' 'No internet service']\n",
      "****************************************************\n",
      "StreamingMovies : ['No' 'Yes' 'No internet service']\n",
      "****************************************************\n",
      "Contract : ['Month-to-month' 'One year' 'Two year']\n",
      "****************************************************\n",
      "PaperlessBilling : ['Yes' 'No']\n",
      "****************************************************\n",
      "PaymentMethod : ['Electronic check' 'Mailed check' 'Bank transfer (automatic)'\n",
      " 'Credit card (automatic)']\n",
      "****************************************************\n",
      "Churn : ['No' 'Yes']\n",
      "****************************************************\n"
     ]
    }
   ],
   "source": [
    "for i in df.columns:\n",
    "    if df[i].dtypes==\"object\":\n",
    "        print(f'{i} : {df[i].unique()}')\n",
    "        print(\"****************************************************\")"
   ]
  },
  {
   "cell_type": "markdown",
   "id": "b9d985c3-0446-416e-a01d-54bb578e4a80",
   "metadata": {},
   "source": [
    "**Sel di atas menunjukkan kepada kita daftar semua fitur dengan variabel kategori masing-masing**"
   ]
  },
  {
   "cell_type": "code",
   "execution_count": 40,
   "id": "cacc5946-929e-4451-a558-f49bc8161636",
   "metadata": {
    "tags": []
   },
   "outputs": [],
   "source": [
    "df.replace('No internet service', 'No', inplace=True)\n",
    "df.replace('No phone service', 'No', inplace=True)"
   ]
  },
  {
   "cell_type": "markdown",
   "id": "d491cfa6-f504-40e7-ac66-44a1b9d0808c",
   "metadata": {
    "tags": []
   },
   "source": [
    "**Replace long negative text by \"No\" for ease of access**"
   ]
  },
  {
   "cell_type": "code",
   "execution_count": 41,
   "id": "7b8e0a90-c1a6-4328-9137-260239cf3897",
   "metadata": {
    "tags": []
   },
   "outputs": [
    {
     "name": "stdout",
     "output_type": "stream",
     "text": [
      "gender : ['Female' 'Male']\n",
      "****************************************************\n",
      "Partner : ['Yes' 'No']\n",
      "****************************************************\n",
      "Dependents : ['No' 'Yes']\n",
      "****************************************************\n",
      "PhoneService : ['No' 'Yes']\n",
      "****************************************************\n",
      "MultipleLines : ['No' 'Yes']\n",
      "****************************************************\n",
      "InternetService : ['DSL' 'Fiber optic' 'No']\n",
      "****************************************************\n",
      "OnlineSecurity : ['No' 'Yes']\n",
      "****************************************************\n",
      "OnlineBackup : ['Yes' 'No']\n",
      "****************************************************\n",
      "DeviceProtection : ['No' 'Yes']\n",
      "****************************************************\n",
      "TechSupport : ['No' 'Yes']\n",
      "****************************************************\n",
      "StreamingTV : ['No' 'Yes']\n",
      "****************************************************\n",
      "StreamingMovies : ['No' 'Yes']\n",
      "****************************************************\n",
      "Contract : ['Month-to-month' 'One year' 'Two year']\n",
      "****************************************************\n",
      "PaperlessBilling : ['Yes' 'No']\n",
      "****************************************************\n",
      "PaymentMethod : ['Electronic check' 'Mailed check' 'Bank transfer (automatic)'\n",
      " 'Credit card (automatic)']\n",
      "****************************************************\n",
      "Churn : ['No' 'Yes']\n",
      "****************************************************\n"
     ]
    }
   ],
   "source": [
    "for i in df.columns:\n",
    "    if df[i].dtypes==\"object\":\n",
    "        print(f'{i} : {df[i].unique()}')\n",
    "        print(\"****************************************************\")"
   ]
  },
  {
   "cell_type": "markdown",
   "id": "0c844d5a-55d8-4c34-801d-5d52ab9f618e",
   "metadata": {},
   "source": [
    "### Gender"
   ]
  },
  {
   "cell_type": "code",
   "execution_count": 42,
   "id": "df5a1b30-4cc0-4e40-8721-6ce6cca0f0b8",
   "metadata": {
    "tags": []
   },
   "outputs": [
    {
     "name": "stdout",
     "output_type": "stream",
     "text": [
      "gender\n",
      "Female    3488\n",
      "Male      3555\n",
      "Name: count, dtype: int64\n"
     ]
    }
   ],
   "source": [
    "print(df['gender'].value_counts(ascending=True))"
   ]
  },
  {
   "cell_type": "code",
   "execution_count": 43,
   "id": "cc5e9ee4-5aca-4af1-b03e-18b521f31cc1",
   "metadata": {
    "tags": []
   },
   "outputs": [
    {
     "data": {
      "text/plain": [
       "0    1\n",
       "1    0\n",
       "2    0\n",
       "3    0\n",
       "4    1\n",
       "Name: gender, dtype: int64"
      ]
     },
     "execution_count": 43,
     "metadata": {},
     "output_type": "execute_result"
    }
   ],
   "source": [
    "# Replacing Male be 0 and Female by 1\n",
    "\n",
    "df['gender'].replace({'Female':1,'Male':0},inplace=True)\n",
    "df['gender'].head()"
   ]
  },
  {
   "cell_type": "code",
   "execution_count": 44,
   "id": "92c37ddb-1450-49a2-b2bd-f34a70d64497",
   "metadata": {
    "tags": []
   },
   "outputs": [
    {
     "name": "stdout",
     "output_type": "stream",
     "text": [
      "InternetService\n",
      "No             1526\n",
      "DSL            2421\n",
      "Fiber optic    3096\n",
      "Name: count, dtype: int64\n"
     ]
    }
   ],
   "source": [
    "print(df['InternetService'].value_counts(ascending=True))"
   ]
  },
  {
   "cell_type": "markdown",
   "id": "9f22299f-564f-43c9-bbdb-ab6d6799bd8e",
   "metadata": {},
   "source": [
    "**There are few features in which categorical variables are more than two and they are not \"Yes\" or \"No\" types**"
   ]
  },
  {
   "cell_type": "code",
   "execution_count": 45,
   "id": "977fb826-5b9b-44ba-8c52-ef3e1aacf170",
   "metadata": {
    "tags": []
   },
   "outputs": [
    {
     "name": "stdout",
     "output_type": "stream",
     "text": [
      "InternetService\n",
      "Contract\n",
      "PaymentMethod\n"
     ]
    }
   ],
   "source": [
    "for i in df.columns:\n",
    "    if (len(df[i].unique()) >2) & (df[i].dtypes != \"int64\") &(df[i].dtypes!= \"float64\"):\n",
    "        print(i)"
   ]
  },
  {
   "cell_type": "markdown",
   "id": "b8a2df3e-ef57-4831-9bd1-938be4d80872",
   "metadata": {},
   "source": [
    "**Di atas 3 kolom Fitur dalam kumpulan data memiliki lebih dari 2 nilai kategorikal**"
   ]
  },
  {
   "cell_type": "code",
   "execution_count": 46,
   "id": "e5b8fc27-8f1b-435e-a2d8-4958ba78949f",
   "metadata": {
    "tags": []
   },
   "outputs": [
    {
     "name": "stdout",
     "output_type": "stream",
     "text": [
      "InternetService\n",
      "No             1526\n",
      "DSL            2421\n",
      "Fiber optic    3096\n",
      "Name: count, dtype: int64\n"
     ]
    }
   ],
   "source": [
    "print(df['InternetService'].value_counts(ascending=True))"
   ]
  },
  {
   "cell_type": "code",
   "execution_count": 47,
   "id": "c625dac1-a394-4d5e-8e87-56c5fbcfde87",
   "metadata": {
    "tags": []
   },
   "outputs": [
    {
     "name": "stdout",
     "output_type": "stream",
     "text": [
      "Contract\n",
      "One year          1473\n",
      "Two year          1695\n",
      "Month-to-month    3875\n",
      "Name: count, dtype: int64\n"
     ]
    }
   ],
   "source": [
    "print(df['Contract'].value_counts(ascending=True))"
   ]
  },
  {
   "cell_type": "code",
   "execution_count": 48,
   "id": "73171cbd-bf37-4db1-bc7b-476d6b2fd8dc",
   "metadata": {
    "tags": []
   },
   "outputs": [
    {
     "name": "stdout",
     "output_type": "stream",
     "text": [
      "PaymentMethod\n",
      "Credit card (automatic)      1522\n",
      "Bank transfer (automatic)    1544\n",
      "Mailed check                 1612\n",
      "Electronic check             2365\n",
      "Name: count, dtype: int64\n"
     ]
    }
   ],
   "source": [
    "print(df['PaymentMethod'].value_counts(ascending=True))"
   ]
  },
  {
   "cell_type": "code",
   "execution_count": 49,
   "id": "87bc9915-2f7f-4b7a-bd4c-4828579470a0",
   "metadata": {
    "tags": []
   },
   "outputs": [
    {
     "data": {
      "text/plain": [
       "4"
      ]
     },
     "execution_count": 49,
     "metadata": {},
     "output_type": "execute_result"
    }
   ],
   "source": [
    "len(df['PaymentMethod'].unique())"
   ]
  },
  {
   "cell_type": "code",
   "execution_count": 50,
   "id": "6a0d8dcb-7fb0-4634-8ff9-52d46ed1be22",
   "metadata": {
    "tags": []
   },
   "outputs": [
    {
     "data": {
      "text/plain": [
       "(7043, 20)"
      ]
     },
     "execution_count": 50,
     "metadata": {},
     "output_type": "execute_result"
    }
   ],
   "source": [
    "df.shape"
   ]
  },
  {
   "cell_type": "code",
   "execution_count": 51,
   "id": "7333190b-4d8d-4f03-893f-fd56995a0c93",
   "metadata": {
    "tags": []
   },
   "outputs": [
    {
     "data": {
      "text/plain": [
       "Index(['gender', 'SeniorCitizen', 'Partner', 'Dependents', 'tenure',\n",
       "       'PhoneService', 'MultipleLines', 'InternetService', 'OnlineSecurity',\n",
       "       'OnlineBackup', 'DeviceProtection', 'TechSupport', 'StreamingTV',\n",
       "       'StreamingMovies', 'Contract', 'PaperlessBilling', 'PaymentMethod',\n",
       "       'MonthlyCharges', 'TotalCharges', 'Churn'],\n",
       "      dtype='object')"
      ]
     },
     "execution_count": 51,
     "metadata": {},
     "output_type": "execute_result"
    }
   ],
   "source": [
    "df.columns"
   ]
  },
  {
   "cell_type": "code",
   "execution_count": 52,
   "id": "711b4e43-d0ea-4075-b63d-6e31d8a8ceb6",
   "metadata": {
    "tags": []
   },
   "outputs": [
    {
     "name": "stdout",
     "output_type": "stream",
     "text": [
      "gender\n",
      "SeniorCitizen\n",
      "tenure\n",
      "MonthlyCharges\n",
      "TotalCharges\n"
     ]
    }
   ],
   "source": [
    "for i in df.columns:\n",
    "    if (df[i].dtypes == \"int64\")  | (df[i].dtypes== \"float64\"):\n",
    "        print(i)"
   ]
  },
  {
   "cell_type": "markdown",
   "id": "b87a3a9b-b766-4a44-bca7-f82376a3110b",
   "metadata": {},
   "source": [
    "**Kolom fitur di atas memiliki data numerik sehingga kita perlu membawanya ke rentang tertentu jika datanya sangat bervariasi**"
   ]
  },
  {
   "cell_type": "code",
   "execution_count": 53,
   "id": "037aa99c-9857-4c4a-8f5a-20326d861a4d",
   "metadata": {
    "tags": []
   },
   "outputs": [],
   "source": [
    "# Using MinMaxScaler of Feature Scaling\n",
    "\n",
    "from sklearn.preprocessing import MinMaxScaler\n",
    "scaler = MinMaxScaler()"
   ]
  },
  {
   "cell_type": "markdown",
   "id": "fb181c3e-7c96-41fd-851c-3962560f3197",
   "metadata": {},
   "source": [
    "- Here we will consider gender and seniorcitizen because because their values already present in a small scale of 0 or 1\n",
    "- So we will consider only \"tenure\", \"MonthlyCharges\", \"TotalCharges\""
   ]
  },
  {
   "cell_type": "code",
   "execution_count": 54,
   "id": "36814014-bf6e-4a46-8be2-166efaef7309",
   "metadata": {
    "tags": []
   },
   "outputs": [
    {
     "data": {
      "text/html": [
       "<div>\n",
       "<style scoped>\n",
       "    .dataframe tbody tr th:only-of-type {\n",
       "        vertical-align: middle;\n",
       "    }\n",
       "\n",
       "    .dataframe tbody tr th {\n",
       "        vertical-align: top;\n",
       "    }\n",
       "\n",
       "    .dataframe thead th {\n",
       "        text-align: right;\n",
       "    }\n",
       "</style>\n",
       "<table border=\"1\" class=\"dataframe\">\n",
       "  <thead>\n",
       "    <tr style=\"text-align: right;\">\n",
       "      <th></th>\n",
       "      <th>tenure</th>\n",
       "      <th>MonthlyCharges</th>\n",
       "      <th>TotalCharges</th>\n",
       "    </tr>\n",
       "  </thead>\n",
       "  <tbody>\n",
       "    <tr>\n",
       "      <th>0</th>\n",
       "      <td>0.013889</td>\n",
       "      <td>0.115423</td>\n",
       "      <td>0.001275</td>\n",
       "    </tr>\n",
       "    <tr>\n",
       "      <th>1</th>\n",
       "      <td>0.472222</td>\n",
       "      <td>0.385075</td>\n",
       "      <td>0.215867</td>\n",
       "    </tr>\n",
       "    <tr>\n",
       "      <th>2</th>\n",
       "      <td>0.027778</td>\n",
       "      <td>0.354229</td>\n",
       "      <td>0.010310</td>\n",
       "    </tr>\n",
       "    <tr>\n",
       "      <th>3</th>\n",
       "      <td>0.625000</td>\n",
       "      <td>0.239303</td>\n",
       "      <td>0.210241</td>\n",
       "    </tr>\n",
       "    <tr>\n",
       "      <th>4</th>\n",
       "      <td>0.027778</td>\n",
       "      <td>0.521891</td>\n",
       "      <td>0.015330</td>\n",
       "    </tr>\n",
       "  </tbody>\n",
       "</table>\n",
       "</div>"
      ],
      "text/plain": [
       "     tenure  MonthlyCharges  TotalCharges\n",
       "0  0.013889        0.115423      0.001275\n",
       "1  0.472222        0.385075      0.215867\n",
       "2  0.027778        0.354229      0.010310\n",
       "3  0.625000        0.239303      0.210241\n",
       "4  0.027778        0.521891      0.015330"
      ]
     },
     "execution_count": 54,
     "metadata": {},
     "output_type": "execute_result"
    }
   ],
   "source": [
    "large_cols = [\"tenure\", \"MonthlyCharges\", \"TotalCharges\"]\n",
    "df[large_cols] = scaler.fit_transform(df[large_cols])\n",
    "df[large_cols].head()"
   ]
  },
  {
   "cell_type": "code",
   "execution_count": 55,
   "id": "5f570a45-a896-4a5b-9676-d0a2e30a7e8a",
   "metadata": {
    "tags": []
   },
   "outputs": [
    {
     "data": {
      "text/html": [
       "<div>\n",
       "<style scoped>\n",
       "    .dataframe tbody tr th:only-of-type {\n",
       "        vertical-align: middle;\n",
       "    }\n",
       "\n",
       "    .dataframe tbody tr th {\n",
       "        vertical-align: top;\n",
       "    }\n",
       "\n",
       "    .dataframe thead th {\n",
       "        text-align: right;\n",
       "    }\n",
       "</style>\n",
       "<table border=\"1\" class=\"dataframe\">\n",
       "  <thead>\n",
       "    <tr style=\"text-align: right;\">\n",
       "      <th></th>\n",
       "      <th>gender</th>\n",
       "      <th>SeniorCitizen</th>\n",
       "      <th>Partner</th>\n",
       "      <th>Dependents</th>\n",
       "      <th>tenure</th>\n",
       "      <th>PhoneService</th>\n",
       "      <th>MultipleLines</th>\n",
       "      <th>InternetService</th>\n",
       "      <th>OnlineSecurity</th>\n",
       "      <th>OnlineBackup</th>\n",
       "      <th>DeviceProtection</th>\n",
       "      <th>TechSupport</th>\n",
       "      <th>StreamingTV</th>\n",
       "      <th>StreamingMovies</th>\n",
       "      <th>Contract</th>\n",
       "      <th>PaperlessBilling</th>\n",
       "      <th>PaymentMethod</th>\n",
       "      <th>MonthlyCharges</th>\n",
       "      <th>TotalCharges</th>\n",
       "      <th>Churn</th>\n",
       "    </tr>\n",
       "  </thead>\n",
       "  <tbody>\n",
       "    <tr>\n",
       "      <th>0</th>\n",
       "      <td>1</td>\n",
       "      <td>0</td>\n",
       "      <td>Yes</td>\n",
       "      <td>No</td>\n",
       "      <td>0.013889</td>\n",
       "      <td>No</td>\n",
       "      <td>No</td>\n",
       "      <td>DSL</td>\n",
       "      <td>No</td>\n",
       "      <td>Yes</td>\n",
       "      <td>No</td>\n",
       "      <td>No</td>\n",
       "      <td>No</td>\n",
       "      <td>No</td>\n",
       "      <td>Month-to-month</td>\n",
       "      <td>Yes</td>\n",
       "      <td>Electronic check</td>\n",
       "      <td>0.115423</td>\n",
       "      <td>0.001275</td>\n",
       "      <td>No</td>\n",
       "    </tr>\n",
       "    <tr>\n",
       "      <th>1</th>\n",
       "      <td>0</td>\n",
       "      <td>0</td>\n",
       "      <td>No</td>\n",
       "      <td>No</td>\n",
       "      <td>0.472222</td>\n",
       "      <td>Yes</td>\n",
       "      <td>No</td>\n",
       "      <td>DSL</td>\n",
       "      <td>Yes</td>\n",
       "      <td>No</td>\n",
       "      <td>Yes</td>\n",
       "      <td>No</td>\n",
       "      <td>No</td>\n",
       "      <td>No</td>\n",
       "      <td>One year</td>\n",
       "      <td>No</td>\n",
       "      <td>Mailed check</td>\n",
       "      <td>0.385075</td>\n",
       "      <td>0.215867</td>\n",
       "      <td>No</td>\n",
       "    </tr>\n",
       "    <tr>\n",
       "      <th>2</th>\n",
       "      <td>0</td>\n",
       "      <td>0</td>\n",
       "      <td>No</td>\n",
       "      <td>No</td>\n",
       "      <td>0.027778</td>\n",
       "      <td>Yes</td>\n",
       "      <td>No</td>\n",
       "      <td>DSL</td>\n",
       "      <td>Yes</td>\n",
       "      <td>Yes</td>\n",
       "      <td>No</td>\n",
       "      <td>No</td>\n",
       "      <td>No</td>\n",
       "      <td>No</td>\n",
       "      <td>Month-to-month</td>\n",
       "      <td>Yes</td>\n",
       "      <td>Mailed check</td>\n",
       "      <td>0.354229</td>\n",
       "      <td>0.010310</td>\n",
       "      <td>Yes</td>\n",
       "    </tr>\n",
       "    <tr>\n",
       "      <th>3</th>\n",
       "      <td>0</td>\n",
       "      <td>0</td>\n",
       "      <td>No</td>\n",
       "      <td>No</td>\n",
       "      <td>0.625000</td>\n",
       "      <td>No</td>\n",
       "      <td>No</td>\n",
       "      <td>DSL</td>\n",
       "      <td>Yes</td>\n",
       "      <td>No</td>\n",
       "      <td>Yes</td>\n",
       "      <td>Yes</td>\n",
       "      <td>No</td>\n",
       "      <td>No</td>\n",
       "      <td>One year</td>\n",
       "      <td>No</td>\n",
       "      <td>Bank transfer (automatic)</td>\n",
       "      <td>0.239303</td>\n",
       "      <td>0.210241</td>\n",
       "      <td>No</td>\n",
       "    </tr>\n",
       "    <tr>\n",
       "      <th>4</th>\n",
       "      <td>1</td>\n",
       "      <td>0</td>\n",
       "      <td>No</td>\n",
       "      <td>No</td>\n",
       "      <td>0.027778</td>\n",
       "      <td>Yes</td>\n",
       "      <td>No</td>\n",
       "      <td>Fiber optic</td>\n",
       "      <td>No</td>\n",
       "      <td>No</td>\n",
       "      <td>No</td>\n",
       "      <td>No</td>\n",
       "      <td>No</td>\n",
       "      <td>No</td>\n",
       "      <td>Month-to-month</td>\n",
       "      <td>Yes</td>\n",
       "      <td>Electronic check</td>\n",
       "      <td>0.521891</td>\n",
       "      <td>0.015330</td>\n",
       "      <td>Yes</td>\n",
       "    </tr>\n",
       "  </tbody>\n",
       "</table>\n",
       "</div>"
      ],
      "text/plain": [
       "   gender  SeniorCitizen Partner Dependents    tenure PhoneService  \\\n",
       "0       1              0     Yes         No  0.013889           No   \n",
       "1       0              0      No         No  0.472222          Yes   \n",
       "2       0              0      No         No  0.027778          Yes   \n",
       "3       0              0      No         No  0.625000           No   \n",
       "4       1              0      No         No  0.027778          Yes   \n",
       "\n",
       "  MultipleLines InternetService OnlineSecurity OnlineBackup DeviceProtection  \\\n",
       "0            No             DSL             No          Yes               No   \n",
       "1            No             DSL            Yes           No              Yes   \n",
       "2            No             DSL            Yes          Yes               No   \n",
       "3            No             DSL            Yes           No              Yes   \n",
       "4            No     Fiber optic             No           No               No   \n",
       "\n",
       "  TechSupport StreamingTV StreamingMovies        Contract PaperlessBilling  \\\n",
       "0          No          No              No  Month-to-month              Yes   \n",
       "1          No          No              No        One year               No   \n",
       "2          No          No              No  Month-to-month              Yes   \n",
       "3         Yes          No              No        One year               No   \n",
       "4          No          No              No  Month-to-month              Yes   \n",
       "\n",
       "               PaymentMethod  MonthlyCharges  TotalCharges Churn  \n",
       "0           Electronic check        0.115423      0.001275    No  \n",
       "1               Mailed check        0.385075      0.215867    No  \n",
       "2               Mailed check        0.354229      0.010310   Yes  \n",
       "3  Bank transfer (automatic)        0.239303      0.210241    No  \n",
       "4           Electronic check        0.521891      0.015330   Yes  "
      ]
     },
     "execution_count": 55,
     "metadata": {},
     "output_type": "execute_result"
    }
   ],
   "source": [
    "# After feature scaling we have following dataset\n",
    "\n",
    "df.head()"
   ]
  },
  {
   "cell_type": "code",
   "execution_count": 56,
   "id": "e870389a-dadd-4ba4-a44d-0e7bdf4c61ea",
   "metadata": {
    "tags": []
   },
   "outputs": [
    {
     "name": "stdout",
     "output_type": "stream",
     "text": [
      "Partner\n",
      "Dependents\n",
      "PhoneService\n",
      "MultipleLines\n",
      "InternetService\n",
      "OnlineSecurity\n",
      "OnlineBackup\n",
      "DeviceProtection\n",
      "TechSupport\n",
      "StreamingTV\n",
      "StreamingMovies\n",
      "Contract\n",
      "PaperlessBilling\n",
      "PaymentMethod\n",
      "Churn\n"
     ]
    }
   ],
   "source": [
    "for i in df.columns:\n",
    "    if (df[i].dtypes == \"object\"):\n",
    "        print(i)"
   ]
  },
  {
   "cell_type": "code",
   "execution_count": 67,
   "id": "c9991d34-e67f-4306-ad69-c6c43a966287",
   "metadata": {
    "tags": []
   },
   "outputs": [
    {
     "data": {
      "text/plain": [
       "0    0\n",
       "1    1\n",
       "2    0\n",
       "3    1\n",
       "4    0\n",
       "Name: Contract, dtype: int64"
      ]
     },
     "execution_count": 67,
     "metadata": {},
     "output_type": "execute_result"
    }
   ],
   "source": [
    "df['Contract'].replace({'Month-to-month':0,'One year':1, 'Two year':2},inplace=True)\n",
    "df['Contract'].head()"
   ]
  },
  {
   "cell_type": "code",
   "execution_count": 68,
   "id": "8a06e3f8-519d-455d-b19e-5ebf1aad5d56",
   "metadata": {},
   "outputs": [
    {
     "data": {
      "text/plain": [
       "0    2\n",
       "1    2\n",
       "2    2\n",
       "3    2\n",
       "4    1\n",
       "Name: InternetService, dtype: int64"
      ]
     },
     "execution_count": 68,
     "metadata": {},
     "output_type": "execute_result"
    }
   ],
   "source": [
    "df['InternetService'].replace({'No':0,'Fiber optic':1, 'DSL':2},inplace=True)\n",
    "df['InternetService'].head()"
   ]
  },
  {
   "cell_type": "code",
   "execution_count": 78,
   "id": "3c0ca7bf-1613-4947-9d4f-62dd05278173",
   "metadata": {},
   "outputs": [
    {
     "data": {
      "text/plain": [
       "0    2\n",
       "1    3\n",
       "2    3\n",
       "3    0\n",
       "4    2\n",
       "Name: PaymentMethod, dtype: int64"
      ]
     },
     "execution_count": 78,
     "metadata": {},
     "output_type": "execute_result"
    }
   ],
   "source": [
    "df['PaymentMethod'].replace({'Bank transfer (automatic)':0,'Credit card (automatic)':1, 'Electronic check':2, 'Mailed check':3},inplace=True)\n",
    "df['PaymentMethod'].head()"
   ]
  },
  {
   "cell_type": "markdown",
   "id": "56d3c28d-e690-4184-a06e-b309ad6a3440",
   "metadata": {},
   "source": [
    "**All the column present above have object type of dataset in them i.e here only \"Yes\" or \"No\"**"
   ]
  },
  {
   "cell_type": "code",
   "execution_count": 79,
   "id": "f6de0008-81ce-43ba-9e8b-9774914a5ffa",
   "metadata": {
    "tags": []
   },
   "outputs": [
    {
     "data": {
      "text/html": [
       "<div>\n",
       "<style scoped>\n",
       "    .dataframe tbody tr th:only-of-type {\n",
       "        vertical-align: middle;\n",
       "    }\n",
       "\n",
       "    .dataframe tbody tr th {\n",
       "        vertical-align: top;\n",
       "    }\n",
       "\n",
       "    .dataframe thead th {\n",
       "        text-align: right;\n",
       "    }\n",
       "</style>\n",
       "<table border=\"1\" class=\"dataframe\">\n",
       "  <thead>\n",
       "    <tr style=\"text-align: right;\">\n",
       "      <th></th>\n",
       "      <th>gender</th>\n",
       "      <th>SeniorCitizen</th>\n",
       "      <th>Partner</th>\n",
       "      <th>Dependents</th>\n",
       "      <th>tenure</th>\n",
       "      <th>PhoneService</th>\n",
       "      <th>MultipleLines</th>\n",
       "      <th>InternetService</th>\n",
       "      <th>OnlineSecurity</th>\n",
       "      <th>OnlineBackup</th>\n",
       "      <th>DeviceProtection</th>\n",
       "      <th>TechSupport</th>\n",
       "      <th>StreamingTV</th>\n",
       "      <th>StreamingMovies</th>\n",
       "      <th>Contract</th>\n",
       "      <th>PaperlessBilling</th>\n",
       "      <th>PaymentMethod</th>\n",
       "      <th>MonthlyCharges</th>\n",
       "      <th>TotalCharges</th>\n",
       "      <th>Churn</th>\n",
       "    </tr>\n",
       "  </thead>\n",
       "  <tbody>\n",
       "    <tr>\n",
       "      <th>0</th>\n",
       "      <td>1</td>\n",
       "      <td>0</td>\n",
       "      <td>1</td>\n",
       "      <td>0</td>\n",
       "      <td>0.013889</td>\n",
       "      <td>0</td>\n",
       "      <td>0</td>\n",
       "      <td>2</td>\n",
       "      <td>0</td>\n",
       "      <td>1</td>\n",
       "      <td>0</td>\n",
       "      <td>0</td>\n",
       "      <td>0</td>\n",
       "      <td>0</td>\n",
       "      <td>0</td>\n",
       "      <td>1</td>\n",
       "      <td>2</td>\n",
       "      <td>0.115423</td>\n",
       "      <td>0.001275</td>\n",
       "      <td>0</td>\n",
       "    </tr>\n",
       "    <tr>\n",
       "      <th>1</th>\n",
       "      <td>0</td>\n",
       "      <td>0</td>\n",
       "      <td>0</td>\n",
       "      <td>0</td>\n",
       "      <td>0.472222</td>\n",
       "      <td>1</td>\n",
       "      <td>0</td>\n",
       "      <td>2</td>\n",
       "      <td>1</td>\n",
       "      <td>0</td>\n",
       "      <td>1</td>\n",
       "      <td>0</td>\n",
       "      <td>0</td>\n",
       "      <td>0</td>\n",
       "      <td>1</td>\n",
       "      <td>0</td>\n",
       "      <td>3</td>\n",
       "      <td>0.385075</td>\n",
       "      <td>0.215867</td>\n",
       "      <td>0</td>\n",
       "    </tr>\n",
       "    <tr>\n",
       "      <th>2</th>\n",
       "      <td>0</td>\n",
       "      <td>0</td>\n",
       "      <td>0</td>\n",
       "      <td>0</td>\n",
       "      <td>0.027778</td>\n",
       "      <td>1</td>\n",
       "      <td>0</td>\n",
       "      <td>2</td>\n",
       "      <td>1</td>\n",
       "      <td>1</td>\n",
       "      <td>0</td>\n",
       "      <td>0</td>\n",
       "      <td>0</td>\n",
       "      <td>0</td>\n",
       "      <td>0</td>\n",
       "      <td>1</td>\n",
       "      <td>3</td>\n",
       "      <td>0.354229</td>\n",
       "      <td>0.010310</td>\n",
       "      <td>1</td>\n",
       "    </tr>\n",
       "    <tr>\n",
       "      <th>3</th>\n",
       "      <td>0</td>\n",
       "      <td>0</td>\n",
       "      <td>0</td>\n",
       "      <td>0</td>\n",
       "      <td>0.625000</td>\n",
       "      <td>0</td>\n",
       "      <td>0</td>\n",
       "      <td>2</td>\n",
       "      <td>1</td>\n",
       "      <td>0</td>\n",
       "      <td>1</td>\n",
       "      <td>1</td>\n",
       "      <td>0</td>\n",
       "      <td>0</td>\n",
       "      <td>1</td>\n",
       "      <td>0</td>\n",
       "      <td>0</td>\n",
       "      <td>0.239303</td>\n",
       "      <td>0.210241</td>\n",
       "      <td>0</td>\n",
       "    </tr>\n",
       "    <tr>\n",
       "      <th>4</th>\n",
       "      <td>1</td>\n",
       "      <td>0</td>\n",
       "      <td>0</td>\n",
       "      <td>0</td>\n",
       "      <td>0.027778</td>\n",
       "      <td>1</td>\n",
       "      <td>0</td>\n",
       "      <td>1</td>\n",
       "      <td>0</td>\n",
       "      <td>0</td>\n",
       "      <td>0</td>\n",
       "      <td>0</td>\n",
       "      <td>0</td>\n",
       "      <td>0</td>\n",
       "      <td>0</td>\n",
       "      <td>1</td>\n",
       "      <td>2</td>\n",
       "      <td>0.521891</td>\n",
       "      <td>0.015330</td>\n",
       "      <td>1</td>\n",
       "    </tr>\n",
       "  </tbody>\n",
       "</table>\n",
       "</div>"
      ],
      "text/plain": [
       "   gender  SeniorCitizen  Partner  Dependents    tenure  PhoneService  \\\n",
       "0       1              0        1           0  0.013889             0   \n",
       "1       0              0        0           0  0.472222             1   \n",
       "2       0              0        0           0  0.027778             1   \n",
       "3       0              0        0           0  0.625000             0   \n",
       "4       1              0        0           0  0.027778             1   \n",
       "\n",
       "   MultipleLines  InternetService  OnlineSecurity  OnlineBackup  \\\n",
       "0              0                2               0             1   \n",
       "1              0                2               1             0   \n",
       "2              0                2               1             1   \n",
       "3              0                2               1             0   \n",
       "4              0                1               0             0   \n",
       "\n",
       "   DeviceProtection  TechSupport  StreamingTV  StreamingMovies  Contract  \\\n",
       "0                 0            0            0                0         0   \n",
       "1                 1            0            0                0         1   \n",
       "2                 0            0            0                0         0   \n",
       "3                 1            1            0                0         1   \n",
       "4                 0            0            0                0         0   \n",
       "\n",
       "   PaperlessBilling  PaymentMethod  MonthlyCharges  TotalCharges  Churn  \n",
       "0                 1              2        0.115423      0.001275      0  \n",
       "1                 0              3        0.385075      0.215867      0  \n",
       "2                 1              3        0.354229      0.010310      1  \n",
       "3                 0              0        0.239303      0.210241      0  \n",
       "4                 1              2        0.521891      0.015330      1  "
      ]
     },
     "execution_count": 79,
     "metadata": {},
     "output_type": "execute_result"
    }
   ],
   "source": [
    "two_cate_string = ['Partner', 'Dependents', 'PhoneService', 'MultipleLines', 'OnlineSecurity', 'OnlineBackup', 'DeviceProtection', 'TechSupport', 'StreamingTV', 'StreamingMovies', 'PaperlessBilling' , 'Churn']\n",
    "for i in two_cate_string:\n",
    "    df[i].replace({\"No\":0, \"Yes\":1}, inplace=True)\n",
    "df.head()"
   ]
  },
  {
   "cell_type": "markdown",
   "id": "1dc550bb-4f8e-4087-9c0d-055c29be5cd6",
   "metadata": {},
   "source": [
    "# Splitting Data"
   ]
  },
  {
   "cell_type": "code",
   "execution_count": 273,
   "id": "b22c1769-42f6-4668-9f42-ef35fc045aea",
   "metadata": {
    "tags": []
   },
   "outputs": [],
   "source": [
    "# Splitting Dataset into train and test set\n",
    "\n",
    "X = df.drop('Churn', axis=1)\n",
    "y = df['Churn']"
   ]
  },
  {
   "cell_type": "code",
   "execution_count": 274,
   "id": "ec1d4c6c-745b-4577-927a-d223d9d9d362",
   "metadata": {
    "tags": []
   },
   "outputs": [
    {
     "data": {
      "text/plain": [
       "((7043, 19), (7043,))"
      ]
     },
     "execution_count": 274,
     "metadata": {},
     "output_type": "execute_result"
    }
   ],
   "source": [
    "X.shape, y.shape"
   ]
  },
  {
   "cell_type": "code",
   "execution_count": 275,
   "id": "b512fe39-84b4-4e9b-aaf7-46b257070457",
   "metadata": {
    "tags": []
   },
   "outputs": [],
   "source": [
    "# Train Test Splitt\n",
    "from sklearn.model_selection import train_test_split\n",
    "\n",
    "X_train, X_test, y_train, y_test = train_test_split( X, y, test_size=0.2, random_state=0, stratify=y)"
   ]
  },
  {
   "cell_type": "markdown",
   "id": "b8111863-9ab8-44af-8c94-b797f4cc784f",
   "metadata": {},
   "source": [
    "# Modelling"
   ]
  },
  {
   "cell_type": "markdown",
   "id": "6b7e41c2-251c-46b7-ac4f-67f0de54b457",
   "metadata": {
    "tags": []
   },
   "source": [
    "## Logistic Regression"
   ]
  },
  {
   "cell_type": "code",
   "execution_count": 276,
   "id": "95eb284f-61e6-4685-810c-901808637099",
   "metadata": {
    "tags": []
   },
   "outputs": [],
   "source": [
    "# Importing Logistic Regression\n",
    "\n",
    "from sklearn.linear_model import LogisticRegression\n",
    "from sklearn.metrics import confusion_matrix, accuracy_score, classification_report"
   ]
  },
  {
   "cell_type": "code",
   "execution_count": 277,
   "id": "145528a8-44a5-46df-b7dc-66405c8096ed",
   "metadata": {
    "tags": []
   },
   "outputs": [
    {
     "data": {
      "text/plain": [
       "{'C': 1, 'penalty': 'none', 'solver': 'newton-cg'}"
      ]
     },
     "execution_count": 277,
     "metadata": {},
     "output_type": "execute_result"
    }
   ],
   "source": [
    "param_grid = {\n",
    "  'penalty':['l1','l2', 'elasticnet', 'none'],\n",
    "  'C':[1, 10, 100, 1000],\n",
    "  'solver': ['newton-cg', 'lbfgs', 'liblinear', 'sag', 'saga'],\n",
    "}\n",
    "\n",
    "lgc=LogisticRegression()\n",
    "CV_lgc = GridSearchCV(estimator=lgc, param_grid=param_grid, cv = 5)\n",
    "CV_lgc.fit(X_train, y_train)\n",
    "CV_lgc.best_params_"
   ]
  },
  {
   "cell_type": "code",
   "execution_count": 278,
   "id": "b3af7884-a30b-4212-9190-8b243bf5b4ee",
   "metadata": {
    "tags": []
   },
   "outputs": [],
   "source": [
    "# creating object for model\n",
    "model_lg = LogisticRegression(C = 1, penalty= 'none', solver= 'newton-cg')"
   ]
  },
  {
   "cell_type": "code",
   "execution_count": 279,
   "id": "25ab208c-6796-4763-90dd-145027fdd0b6",
   "metadata": {
    "tags": []
   },
   "outputs": [
    {
     "data": {
      "text/html": [
       "<style>#sk-container-id-27 {color: black;}#sk-container-id-27 pre{padding: 0;}#sk-container-id-27 div.sk-toggleable {background-color: white;}#sk-container-id-27 label.sk-toggleable__label {cursor: pointer;display: block;width: 100%;margin-bottom: 0;padding: 0.3em;box-sizing: border-box;text-align: center;}#sk-container-id-27 label.sk-toggleable__label-arrow:before {content: \"▸\";float: left;margin-right: 0.25em;color: #696969;}#sk-container-id-27 label.sk-toggleable__label-arrow:hover:before {color: black;}#sk-container-id-27 div.sk-estimator:hover label.sk-toggleable__label-arrow:before {color: black;}#sk-container-id-27 div.sk-toggleable__content {max-height: 0;max-width: 0;overflow: hidden;text-align: left;background-color: #f0f8ff;}#sk-container-id-27 div.sk-toggleable__content pre {margin: 0.2em;color: black;border-radius: 0.25em;background-color: #f0f8ff;}#sk-container-id-27 input.sk-toggleable__control:checked~div.sk-toggleable__content {max-height: 200px;max-width: 100%;overflow: auto;}#sk-container-id-27 input.sk-toggleable__control:checked~label.sk-toggleable__label-arrow:before {content: \"▾\";}#sk-container-id-27 div.sk-estimator input.sk-toggleable__control:checked~label.sk-toggleable__label {background-color: #d4ebff;}#sk-container-id-27 div.sk-label input.sk-toggleable__control:checked~label.sk-toggleable__label {background-color: #d4ebff;}#sk-container-id-27 input.sk-hidden--visually {border: 0;clip: rect(1px 1px 1px 1px);clip: rect(1px, 1px, 1px, 1px);height: 1px;margin: -1px;overflow: hidden;padding: 0;position: absolute;width: 1px;}#sk-container-id-27 div.sk-estimator {font-family: monospace;background-color: #f0f8ff;border: 1px dotted black;border-radius: 0.25em;box-sizing: border-box;margin-bottom: 0.5em;}#sk-container-id-27 div.sk-estimator:hover {background-color: #d4ebff;}#sk-container-id-27 div.sk-parallel-item::after {content: \"\";width: 100%;border-bottom: 1px solid gray;flex-grow: 1;}#sk-container-id-27 div.sk-label:hover label.sk-toggleable__label {background-color: #d4ebff;}#sk-container-id-27 div.sk-serial::before {content: \"\";position: absolute;border-left: 1px solid gray;box-sizing: border-box;top: 0;bottom: 0;left: 50%;z-index: 0;}#sk-container-id-27 div.sk-serial {display: flex;flex-direction: column;align-items: center;background-color: white;padding-right: 0.2em;padding-left: 0.2em;position: relative;}#sk-container-id-27 div.sk-item {position: relative;z-index: 1;}#sk-container-id-27 div.sk-parallel {display: flex;align-items: stretch;justify-content: center;background-color: white;position: relative;}#sk-container-id-27 div.sk-item::before, #sk-container-id-27 div.sk-parallel-item::before {content: \"\";position: absolute;border-left: 1px solid gray;box-sizing: border-box;top: 0;bottom: 0;left: 50%;z-index: -1;}#sk-container-id-27 div.sk-parallel-item {display: flex;flex-direction: column;z-index: 1;position: relative;background-color: white;}#sk-container-id-27 div.sk-parallel-item:first-child::after {align-self: flex-end;width: 50%;}#sk-container-id-27 div.sk-parallel-item:last-child::after {align-self: flex-start;width: 50%;}#sk-container-id-27 div.sk-parallel-item:only-child::after {width: 0;}#sk-container-id-27 div.sk-dashed-wrapped {border: 1px dashed gray;margin: 0 0.4em 0.5em 0.4em;box-sizing: border-box;padding-bottom: 0.4em;background-color: white;}#sk-container-id-27 div.sk-label label {font-family: monospace;font-weight: bold;display: inline-block;line-height: 1.2em;}#sk-container-id-27 div.sk-label-container {text-align: center;}#sk-container-id-27 div.sk-container {/* jupyter's `normalize.less` sets `[hidden] { display: none; }` but bootstrap.min.css set `[hidden] { display: none !important; }` so we also need the `!important` here to be able to override the default hidden behavior on the sphinx rendered scikit-learn.org. See: https://github.com/scikit-learn/scikit-learn/issues/21755 */display: inline-block !important;position: relative;}#sk-container-id-27 div.sk-text-repr-fallback {display: none;}</style><div id=\"sk-container-id-27\" class=\"sk-top-container\"><div class=\"sk-text-repr-fallback\"><pre>LogisticRegression(C=1, penalty=&#x27;none&#x27;, solver=&#x27;newton-cg&#x27;)</pre><b>In a Jupyter environment, please rerun this cell to show the HTML representation or trust the notebook. <br />On GitHub, the HTML representation is unable to render, please try loading this page with nbviewer.org.</b></div><div class=\"sk-container\" hidden><div class=\"sk-item\"><div class=\"sk-estimator sk-toggleable\"><input class=\"sk-toggleable__control sk-hidden--visually\" id=\"sk-estimator-id-27\" type=\"checkbox\" checked><label for=\"sk-estimator-id-27\" class=\"sk-toggleable__label sk-toggleable__label-arrow\">LogisticRegression</label><div class=\"sk-toggleable__content\"><pre>LogisticRegression(C=1, penalty=&#x27;none&#x27;, solver=&#x27;newton-cg&#x27;)</pre></div></div></div></div></div>"
      ],
      "text/plain": [
       "LogisticRegression(C=1, penalty='none', solver='newton-cg')"
      ]
     },
     "execution_count": 279,
     "metadata": {},
     "output_type": "execute_result"
    }
   ],
   "source": [
    "# Model Training\n",
    "\n",
    "model_lg.fit(X_train, y_train)"
   ]
  },
  {
   "cell_type": "code",
   "execution_count": 280,
   "id": "a3c33c44-b051-4179-9998-3bdc004f1eea",
   "metadata": {
    "tags": []
   },
   "outputs": [],
   "source": [
    "# Making Predictions\n",
    "pred_lg = model_lg.predict(X_test)"
   ]
  },
  {
   "cell_type": "code",
   "execution_count": 281,
   "id": "44f8e1ca-2711-41ba-be56-efe363bd3af8",
   "metadata": {
    "tags": []
   },
   "outputs": [
    {
     "name": "stdout",
     "output_type": "stream",
     "text": [
      "80.41\n"
     ]
    }
   ],
   "source": [
    "# Calculating Accuracy of the model\n",
    "\n",
    "lg = round(accuracy_score(y_test, pred_lg)*100,2)\n",
    "print(lg)"
   ]
  },
  {
   "cell_type": "code",
   "execution_count": 282,
   "id": "165cdd54-c84f-41f1-aeff-2013d3f0dd86",
   "metadata": {
    "tags": []
   },
   "outputs": [
    {
     "name": "stdout",
     "output_type": "stream",
     "text": [
      "              precision    recall  f1-score   support\n",
      "\n",
      "           0       0.85      0.89      0.87      1035\n",
      "           1       0.66      0.55      0.60       374\n",
      "\n",
      "    accuracy                           0.80      1409\n",
      "   macro avg       0.75      0.72      0.74      1409\n",
      "weighted avg       0.80      0.80      0.80      1409\n",
      "\n"
     ]
    }
   ],
   "source": [
    "# Classification Report\n",
    "\n",
    "print(classification_report(y_test, pred_lg))"
   ]
  },
  {
   "cell_type": "code",
   "execution_count": 283,
   "id": "aa204f74-abb2-4977-aaa6-5f3f64777c4f",
   "metadata": {
    "tags": []
   },
   "outputs": [
    {
     "data": {
      "image/png": "[encoded data removed]",
      "text/plain": [
       "<Figure size 640x480 with 2 Axes>"
      ]
     },
     "metadata": {},
     "output_type": "display_data"
    }
   ],
   "source": [
    "# confusion Matrix\n",
    "\n",
    "cm1 = confusion_matrix(y_test, pred_lg)\n",
    "sns.heatmap(cm1/np.sum(cm1), annot=True, fmt='0.2%', cmap=\"Reds\")\n",
    "plt.title(\"Logistic Regression Confusion Matrix\",fontsize=12)\n",
    "plt.show()"
   ]
  },
  {
   "cell_type": "markdown",
   "id": "cc20246b-efc8-452a-9cd3-86725fe0e4e2",
   "metadata": {},
   "source": [
    "## Random Forest"
   ]
  },
  {
   "cell_type": "code",
   "execution_count": 285,
   "id": "24f2a37e-10af-4c0a-bb02-ce7aa4d3b8c3",
   "metadata": {
    "tags": []
   },
   "outputs": [
    {
     "name": "stdout",
     "output_type": "stream",
     "text": [
      "Fitting 5 folds for each of 60 candidates, totalling 300 fits\n",
      "[CV 1/5] END criterion=gini, max_depth=4, max_features=sqrt, n_estimators=200;, score=0.800 total time=   1.0s\n",
      "[CV 2/5] END criterion=gini, max_depth=4, max_features=sqrt, n_estimators=200;, score=0.787 total time=   1.4s\n",
      "[CV 3/5] END criterion=gini, max_depth=4, max_features=sqrt, n_estimators=200;, score=0.807 total time=   2.2s\n",
      "[CV 4/5] END criterion=gini, max_depth=4, max_features=sqrt, n_estimators=200;, score=0.792 total time=   1.8s\n",
      "[CV 5/5] END criterion=gini, max_depth=4, max_features=sqrt, n_estimators=200;, score=0.774 total time=   3.0s\n",
      "[CV 1/5] END criterion=gini, max_depth=4, max_features=sqrt, n_estimators=500;, score=0.803 total time=   4.8s\n",
      "[CV 2/5] END criterion=gini, max_depth=4, max_features=sqrt, n_estimators=500;, score=0.787 total time=   3.9s\n",
      "[CV 3/5] END criterion=gini, max_depth=4, max_features=sqrt, n_estimators=500;, score=0.806 total time=   3.3s\n",
      "[CV 4/5] END criterion=gini, max_depth=4, max_features=sqrt, n_estimators=500;, score=0.796 total time=   4.1s\n",
      "[CV 5/5] END criterion=gini, max_depth=4, max_features=sqrt, n_estimators=500;, score=0.773 total time=   3.9s\n",
      "[CV 1/5] END criterion=gini, max_depth=4, max_features=sqrt, n_estimators=700;, score=0.805 total time=   4.7s\n",
      "[CV 2/5] END criterion=gini, max_depth=4, max_features=sqrt, n_estimators=700;, score=0.788 total time=   5.6s\n",
      "[CV 3/5] END criterion=gini, max_depth=4, max_features=sqrt, n_estimators=700;, score=0.808 total time=   5.5s\n",
      "[CV 4/5] END criterion=gini, max_depth=4, max_features=sqrt, n_estimators=700;, score=0.793 total time=   5.1s\n",
      "[CV 5/5] END criterion=gini, max_depth=4, max_features=sqrt, n_estimators=700;, score=0.773 total time=   5.7s\n",
      "[CV 1/5] END criterion=gini, max_depth=4, max_features=log2, n_estimators=200;, score=0.800 total time=   1.9s\n",
      "[CV 2/5] END criterion=gini, max_depth=4, max_features=log2, n_estimators=200;, score=0.787 total time=   1.7s\n",
      "[CV 3/5] END criterion=gini, max_depth=4, max_features=log2, n_estimators=200;, score=0.807 total time=   1.4s\n",
      "[CV 4/5] END criterion=gini, max_depth=4, max_features=log2, n_estimators=200;, score=0.792 total time=   1.7s\n",
      "[CV 5/5] END criterion=gini, max_depth=4, max_features=log2, n_estimators=200;, score=0.774 total time=   2.2s\n",
      "[CV 1/5] END criterion=gini, max_depth=4, max_features=log2, n_estimators=500;, score=0.803 total time=   4.5s\n",
      "[CV 2/5] END criterion=gini, max_depth=4, max_features=log2, n_estimators=500;, score=0.787 total time=   4.4s\n",
      "[CV 3/5] END criterion=gini, max_depth=4, max_features=log2, n_estimators=500;, score=0.806 total time=   3.6s\n",
      "[CV 4/5] END criterion=gini, max_depth=4, max_features=log2, n_estimators=500;, score=0.796 total time=   4.3s\n",
      "[CV 5/5] END criterion=gini, max_depth=4, max_features=log2, n_estimators=500;, score=0.773 total time=   4.7s\n",
      "[CV 1/5] END criterion=gini, max_depth=4, max_features=log2, n_estimators=700;, score=0.805 total time=   5.9s\n",
      "[CV 2/5] END criterion=gini, max_depth=4, max_features=log2, n_estimators=700;, score=0.788 total time=   4.7s\n",
      "[CV 3/5] END criterion=gini, max_depth=4, max_features=log2, n_estimators=700;, score=0.808 total time=   5.1s\n",
      "[CV 4/5] END criterion=gini, max_depth=4, max_features=log2, n_estimators=700;, score=0.793 total time=   5.4s\n",
      "[CV 5/5] END criterion=gini, max_depth=4, max_features=log2, n_estimators=700;, score=0.773 total time=   4.8s\n",
      "[CV 1/5] END criterion=gini, max_depth=5, max_features=sqrt, n_estimators=200;, score=0.804 total time=   1.6s\n",
      "[CV 2/5] END criterion=gini, max_depth=5, max_features=sqrt, n_estimators=200;, score=0.794 total time=   1.5s\n",
      "[CV 3/5] END criterion=gini, max_depth=5, max_features=sqrt, n_estimators=200;, score=0.814 total time=   1.9s\n",
      "[CV 4/5] END criterion=gini, max_depth=5, max_features=sqrt, n_estimators=200;, score=0.804 total time=   2.3s\n",
      "[CV 5/5] END criterion=gini, max_depth=5, max_features=sqrt, n_estimators=200;, score=0.775 total time=   1.7s\n",
      "[CV 1/5] END criterion=gini, max_depth=5, max_features=sqrt, n_estimators=500;, score=0.803 total time=   4.3s\n",
      "[CV 2/5] END criterion=gini, max_depth=5, max_features=sqrt, n_estimators=500;, score=0.790 total time=   3.7s\n",
      "[CV 3/5] END criterion=gini, max_depth=5, max_features=sqrt, n_estimators=500;, score=0.815 total time=   4.3s\n",
      "[CV 4/5] END criterion=gini, max_depth=5, max_features=sqrt, n_estimators=500;, score=0.806 total time=   4.6s\n",
      "[CV 5/5] END criterion=gini, max_depth=5, max_features=sqrt, n_estimators=500;, score=0.774 total time=   3.9s\n",
      "[CV 1/5] END criterion=gini, max_depth=5, max_features=sqrt, n_estimators=700;, score=0.803 total time=   5.6s\n",
      "[CV 2/5] END criterion=gini, max_depth=5, max_features=sqrt, n_estimators=700;, score=0.790 total time=   6.7s\n",
      "[CV 3/5] END criterion=gini, max_depth=5, max_features=sqrt, n_estimators=700;, score=0.817 total time=   5.6s\n",
      "[CV 4/5] END criterion=gini, max_depth=5, max_features=sqrt, n_estimators=700;, score=0.806 total time=   6.5s\n",
      "[CV 5/5] END criterion=gini, max_depth=5, max_features=sqrt, n_estimators=700;, score=0.774 total time=   5.7s\n",
      "[CV 1/5] END criterion=gini, max_depth=5, max_features=log2, n_estimators=200;, score=0.804 total time=   1.5s\n",
      "[CV 2/5] END criterion=gini, max_depth=5, max_features=log2, n_estimators=200;, score=0.794 total time=   1.5s\n",
      "[CV 3/5] END criterion=gini, max_depth=5, max_features=log2, n_estimators=200;, score=0.814 total time=   1.5s\n",
      "[CV 4/5] END criterion=gini, max_depth=5, max_features=log2, n_estimators=200;, score=0.804 total time=   1.6s\n",
      "[CV 5/5] END criterion=gini, max_depth=5, max_features=log2, n_estimators=200;, score=0.775 total time=   2.0s\n",
      "[CV 1/5] END criterion=gini, max_depth=5, max_features=log2, n_estimators=500;, score=0.803 total time=   4.9s\n",
      "[CV 2/5] END criterion=gini, max_depth=5, max_features=log2, n_estimators=500;, score=0.790 total time=   4.0s\n",
      "[CV 3/5] END criterion=gini, max_depth=5, max_features=log2, n_estimators=500;, score=0.815 total time=   3.8s\n",
      "[CV 4/5] END criterion=gini, max_depth=5, max_features=log2, n_estimators=500;, score=0.806 total time=   5.8s\n",
      "[CV 5/5] END criterion=gini, max_depth=5, max_features=log2, n_estimators=500;, score=0.774 total time=   4.1s\n",
      "[CV 1/5] END criterion=gini, max_depth=5, max_features=log2, n_estimators=700;, score=0.803 total time=   5.2s\n",
      "[CV 2/5] END criterion=gini, max_depth=5, max_features=log2, n_estimators=700;, score=0.790 total time=   6.0s\n",
      "[CV 3/5] END criterion=gini, max_depth=5, max_features=log2, n_estimators=700;, score=0.817 total time=   6.1s\n",
      "[CV 4/5] END criterion=gini, max_depth=5, max_features=log2, n_estimators=700;, score=0.806 total time=   5.1s\n",
      "[CV 5/5] END criterion=gini, max_depth=5, max_features=log2, n_estimators=700;, score=0.774 total time=   6.3s\n",
      "[CV 1/5] END criterion=gini, max_depth=6, max_features=sqrt, n_estimators=200;, score=0.811 total time=   1.6s\n",
      "[CV 2/5] END criterion=gini, max_depth=6, max_features=sqrt, n_estimators=200;, score=0.791 total time=   1.7s\n",
      "[CV 3/5] END criterion=gini, max_depth=6, max_features=sqrt, n_estimators=200;, score=0.813 total time=   1.6s\n",
      "[CV 4/5] END criterion=gini, max_depth=6, max_features=sqrt, n_estimators=200;, score=0.807 total time=   1.6s\n",
      "[CV 5/5] END criterion=gini, max_depth=6, max_features=sqrt, n_estimators=200;, score=0.774 total time=   1.5s\n",
      "[CV 1/5] END criterion=gini, max_depth=6, max_features=sqrt, n_estimators=500;, score=0.808 total time=   4.9s\n",
      "[CV 2/5] END criterion=gini, max_depth=6, max_features=sqrt, n_estimators=500;, score=0.790 total time=   4.3s\n",
      "[CV 3/5] END criterion=gini, max_depth=6, max_features=sqrt, n_estimators=500;, score=0.815 total time=   4.0s\n",
      "[CV 4/5] END criterion=gini, max_depth=6, max_features=sqrt, n_estimators=500;, score=0.806 total time=   4.5s\n",
      "[CV 5/5] END criterion=gini, max_depth=6, max_features=sqrt, n_estimators=500;, score=0.778 total time=   4.9s\n",
      "[CV 1/5] END criterion=gini, max_depth=6, max_features=sqrt, n_estimators=700;, score=0.807 total time=   7.1s\n",
      "[CV 2/5] END criterion=gini, max_depth=6, max_features=sqrt, n_estimators=700;, score=0.790 total time=   7.1s\n",
      "[CV 3/5] END criterion=gini, max_depth=6, max_features=sqrt, n_estimators=700;, score=0.816 total time=   5.8s\n",
      "[CV 4/5] END criterion=gini, max_depth=6, max_features=sqrt, n_estimators=700;, score=0.805 total time=   5.9s\n",
      "[CV 5/5] END criterion=gini, max_depth=6, max_features=sqrt, n_estimators=700;, score=0.776 total time=   6.7s\n",
      "[CV 1/5] END criterion=gini, max_depth=6, max_features=log2, n_estimators=200;, score=0.811 total time=   1.7s\n",
      "[CV 2/5] END criterion=gini, max_depth=6, max_features=log2, n_estimators=200;, score=0.791 total time=   1.5s\n",
      "[CV 3/5] END criterion=gini, max_depth=6, max_features=log2, n_estimators=200;, score=0.813 total time=   1.6s\n",
      "[CV 4/5] END criterion=gini, max_depth=6, max_features=log2, n_estimators=200;, score=0.807 total time=   1.8s\n",
      "[CV 5/5] END criterion=gini, max_depth=6, max_features=log2, n_estimators=200;, score=0.774 total time=   1.7s\n",
      "[CV 1/5] END criterion=gini, max_depth=6, max_features=log2, n_estimators=500;, score=0.808 total time=   5.0s\n",
      "[CV 2/5] END criterion=gini, max_depth=6, max_features=log2, n_estimators=500;, score=0.790 total time=   4.2s\n",
      "[CV 3/5] END criterion=gini, max_depth=6, max_features=log2, n_estimators=500;, score=0.815 total time=   4.1s\n",
      "[CV 4/5] END criterion=gini, max_depth=6, max_features=log2, n_estimators=500;, score=0.806 total time=   4.5s\n",
      "[CV 5/5] END criterion=gini, max_depth=6, max_features=log2, n_estimators=500;, score=0.778 total time=   4.6s\n",
      "[CV 1/5] END criterion=gini, max_depth=6, max_features=log2, n_estimators=700;, score=0.807 total time=   5.7s\n",
      "[CV 2/5] END criterion=gini, max_depth=6, max_features=log2, n_estimators=700;, score=0.790 total time=   6.3s\n",
      "[CV 3/5] END criterion=gini, max_depth=6, max_features=log2, n_estimators=700;, score=0.816 total time=   6.3s\n",
      "[CV 4/5] END criterion=gini, max_depth=6, max_features=log2, n_estimators=700;, score=0.805 total time=   5.7s\n",
      "[CV 5/5] END criterion=gini, max_depth=6, max_features=log2, n_estimators=700;, score=0.776 total time=   9.1s\n",
      "[CV 1/5] END criterion=gini, max_depth=7, max_features=sqrt, n_estimators=200;, score=0.809 total time=   2.0s\n",
      "[CV 2/5] END criterion=gini, max_depth=7, max_features=sqrt, n_estimators=200;, score=0.802 total time=   1.8s\n",
      "[CV 3/5] END criterion=gini, max_depth=7, max_features=sqrt, n_estimators=200;, score=0.814 total time=   1.8s\n",
      "[CV 4/5] END criterion=gini, max_depth=7, max_features=sqrt, n_estimators=200;, score=0.807 total time=   1.8s\n",
      "[CV 5/5] END criterion=gini, max_depth=7, max_features=sqrt, n_estimators=200;, score=0.781 total time=   2.2s\n",
      "[CV 1/5] END criterion=gini, max_depth=7, max_features=sqrt, n_estimators=500;, score=0.810 total time=   5.7s\n",
      "[CV 2/5] END criterion=gini, max_depth=7, max_features=sqrt, n_estimators=500;, score=0.795 total time=   5.1s\n",
      "[CV 3/5] END criterion=gini, max_depth=7, max_features=sqrt, n_estimators=500;, score=0.817 total time=   6.2s\n",
      "[CV 4/5] END criterion=gini, max_depth=7, max_features=sqrt, n_estimators=500;, score=0.807 total time=   5.7s\n",
      "[CV 5/5] END criterion=gini, max_depth=7, max_features=sqrt, n_estimators=500;, score=0.781 total time=   7.0s\n",
      "[CV 1/5] END criterion=gini, max_depth=7, max_features=sqrt, n_estimators=700;, score=0.810 total time=   9.8s\n",
      "[CV 2/5] END criterion=gini, max_depth=7, max_features=sqrt, n_estimators=700;, score=0.798 total time=   7.8s\n",
      "[CV 3/5] END criterion=gini, max_depth=7, max_features=sqrt, n_estimators=700;, score=0.818 total time=   8.4s\n",
      "[CV 4/5] END criterion=gini, max_depth=7, max_features=sqrt, n_estimators=700;, score=0.810 total time=   7.9s\n",
      "[CV 5/5] END criterion=gini, max_depth=7, max_features=sqrt, n_estimators=700;, score=0.782 total time=   8.4s\n",
      "[CV 1/5] END criterion=gini, max_depth=7, max_features=log2, n_estimators=200;, score=0.809 total time=   3.0s\n",
      "[CV 2/5] END criterion=gini, max_depth=7, max_features=log2, n_estimators=200;, score=0.802 total time=   3.5s\n",
      "[CV 3/5] END criterion=gini, max_depth=7, max_features=log2, n_estimators=200;, score=0.814 total time=   2.7s\n",
      "[CV 4/5] END criterion=gini, max_depth=7, max_features=log2, n_estimators=200;, score=0.807 total time=   2.2s\n",
      "[CV 5/5] END criterion=gini, max_depth=7, max_features=log2, n_estimators=200;, score=0.781 total time=   2.0s\n",
      "[CV 1/5] END criterion=gini, max_depth=7, max_features=log2, n_estimators=500;, score=0.810 total time=   5.0s\n",
      "[CV 2/5] END criterion=gini, max_depth=7, max_features=log2, n_estimators=500;, score=0.795 total time=   6.1s\n",
      "[CV 3/5] END criterion=gini, max_depth=7, max_features=log2, n_estimators=500;, score=0.817 total time=   5.1s\n",
      "[CV 4/5] END criterion=gini, max_depth=7, max_features=log2, n_estimators=500;, score=0.807 total time=   5.3s\n",
      "[CV 5/5] END criterion=gini, max_depth=7, max_features=log2, n_estimators=500;, score=0.781 total time=   6.3s\n",
      "[CV 1/5] END criterion=gini, max_depth=7, max_features=log2, n_estimators=700;, score=0.810 total time=  12.6s\n",
      "[CV 2/5] END criterion=gini, max_depth=7, max_features=log2, n_estimators=700;, score=0.798 total time=   9.9s\n",
      "[CV 3/5] END criterion=gini, max_depth=7, max_features=log2, n_estimators=700;, score=0.818 total time=  10.2s\n",
      "[CV 4/5] END criterion=gini, max_depth=7, max_features=log2, n_estimators=700;, score=0.810 total time=   8.0s\n",
      "[CV 5/5] END criterion=gini, max_depth=7, max_features=log2, n_estimators=700;, score=0.782 total time=   8.8s\n",
      "[CV 1/5] END criterion=gini, max_depth=8, max_features=sqrt, n_estimators=200;, score=0.806 total time=   2.4s\n",
      "[CV 2/5] END criterion=gini, max_depth=8, max_features=sqrt, n_estimators=200;, score=0.799 total time=   3.2s\n",
      "[CV 3/5] END criterion=gini, max_depth=8, max_features=sqrt, n_estimators=200;, score=0.817 total time=   3.3s\n",
      "[CV 4/5] END criterion=gini, max_depth=8, max_features=sqrt, n_estimators=200;, score=0.801 total time=   3.0s\n",
      "[CV 5/5] END criterion=gini, max_depth=8, max_features=sqrt, n_estimators=200;, score=0.776 total time=   2.4s\n",
      "[CV 1/5] END criterion=gini, max_depth=8, max_features=sqrt, n_estimators=500;, score=0.809 total time=   5.7s\n",
      "[CV 2/5] END criterion=gini, max_depth=8, max_features=sqrt, n_estimators=500;, score=0.799 total time=   5.5s\n",
      "[CV 3/5] END criterion=gini, max_depth=8, max_features=sqrt, n_estimators=500;, score=0.820 total time=   5.7s\n",
      "[CV 4/5] END criterion=gini, max_depth=8, max_features=sqrt, n_estimators=500;, score=0.806 total time=   5.1s\n",
      "[CV 5/5] END criterion=gini, max_depth=8, max_features=sqrt, n_estimators=500;, score=0.780 total time=   5.8s\n",
      "[CV 1/5] END criterion=gini, max_depth=8, max_features=sqrt, n_estimators=700;, score=0.807 total time=   7.7s\n",
      "[CV 2/5] END criterion=gini, max_depth=8, max_features=sqrt, n_estimators=700;, score=0.798 total time=   8.0s\n",
      "[CV 3/5] END criterion=gini, max_depth=8, max_features=sqrt, n_estimators=700;, score=0.819 total time=   7.7s\n",
      "[CV 4/5] END criterion=gini, max_depth=8, max_features=sqrt, n_estimators=700;, score=0.805 total time=   8.3s\n",
      "[CV 5/5] END criterion=gini, max_depth=8, max_features=sqrt, n_estimators=700;, score=0.782 total time=   7.8s\n",
      "[CV 1/5] END criterion=gini, max_depth=8, max_features=log2, n_estimators=200;, score=0.806 total time=   2.1s\n",
      "[CV 2/5] END criterion=gini, max_depth=8, max_features=log2, n_estimators=200;, score=0.799 total time=   2.0s\n",
      "[CV 3/5] END criterion=gini, max_depth=8, max_features=log2, n_estimators=200;, score=0.817 total time=   2.3s\n",
      "[CV 4/5] END criterion=gini, max_depth=8, max_features=log2, n_estimators=200;, score=0.801 total time=   2.5s\n",
      "[CV 5/5] END criterion=gini, max_depth=8, max_features=log2, n_estimators=200;, score=0.776 total time=   2.1s\n",
      "[CV 1/5] END criterion=gini, max_depth=8, max_features=log2, n_estimators=500;, score=0.809 total time=   5.2s\n",
      "[CV 2/5] END criterion=gini, max_depth=8, max_features=log2, n_estimators=500;, score=0.799 total time=   5.3s\n",
      "[CV 3/5] END criterion=gini, max_depth=8, max_features=log2, n_estimators=500;, score=0.820 total time=   5.8s\n",
      "[CV 4/5] END criterion=gini, max_depth=8, max_features=log2, n_estimators=500;, score=0.806 total time=   5.2s\n",
      "[CV 5/5] END criterion=gini, max_depth=8, max_features=log2, n_estimators=500;, score=0.780 total time=   5.8s\n",
      "[CV 1/5] END criterion=gini, max_depth=8, max_features=log2, n_estimators=700;, score=0.807 total time=   9.0s\n",
      "[CV 2/5] END criterion=gini, max_depth=8, max_features=log2, n_estimators=700;, score=0.798 total time=   9.7s\n",
      "[CV 3/5] END criterion=gini, max_depth=8, max_features=log2, n_estimators=700;, score=0.819 total time=   8.1s\n",
      "[CV 4/5] END criterion=gini, max_depth=8, max_features=log2, n_estimators=700;, score=0.805 total time=   8.3s\n",
      "[CV 5/5] END criterion=gini, max_depth=8, max_features=log2, n_estimators=700;, score=0.782 total time=   7.2s\n",
      "[CV 1/5] END criterion=entropy, max_depth=4, max_features=sqrt, n_estimators=200;, score=0.804 total time=   1.2s\n",
      "[CV 2/5] END criterion=entropy, max_depth=4, max_features=sqrt, n_estimators=200;, score=0.788 total time=   1.3s\n",
      "[CV 3/5] END criterion=entropy, max_depth=4, max_features=sqrt, n_estimators=200;, score=0.807 total time=   1.7s\n",
      "[CV 4/5] END criterion=entropy, max_depth=4, max_features=sqrt, n_estimators=200;, score=0.791 total time=   1.6s\n",
      "[CV 5/5] END criterion=entropy, max_depth=4, max_features=sqrt, n_estimators=200;, score=0.771 total time=   1.5s\n",
      "[CV 1/5] END criterion=entropy, max_depth=4, max_features=sqrt, n_estimators=500;, score=0.803 total time=   3.4s\n",
      "[CV 2/5] END criterion=entropy, max_depth=4, max_features=sqrt, n_estimators=500;, score=0.788 total time=   3.4s\n",
      "[CV 3/5] END criterion=entropy, max_depth=4, max_features=sqrt, n_estimators=500;, score=0.803 total time=   3.6s\n",
      "[CV 4/5] END criterion=entropy, max_depth=4, max_features=sqrt, n_estimators=500;, score=0.793 total time=   4.5s\n",
      "[CV 5/5] END criterion=entropy, max_depth=4, max_features=sqrt, n_estimators=500;, score=0.771 total time=   3.5s\n",
      "[CV 1/5] END criterion=entropy, max_depth=4, max_features=sqrt, n_estimators=700;, score=0.806 total time=   4.8s\n",
      "[CV 2/5] END criterion=entropy, max_depth=4, max_features=sqrt, n_estimators=700;, score=0.787 total time=   5.6s\n",
      "[CV 3/5] END criterion=entropy, max_depth=4, max_features=sqrt, n_estimators=700;, score=0.802 total time=   5.7s\n",
      "[CV 4/5] END criterion=entropy, max_depth=4, max_features=sqrt, n_estimators=700;, score=0.793 total time=   5.2s\n",
      "[CV 5/5] END criterion=entropy, max_depth=4, max_features=sqrt, n_estimators=700;, score=0.772 total time=   5.9s\n",
      "[CV 1/5] END criterion=entropy, max_depth=4, max_features=log2, n_estimators=200;, score=0.804 total time=   1.8s\n",
      "[CV 2/5] END criterion=entropy, max_depth=4, max_features=log2, n_estimators=200;, score=0.788 total time=   1.5s\n",
      "[CV 3/5] END criterion=entropy, max_depth=4, max_features=log2, n_estimators=200;, score=0.807 total time=   1.4s\n",
      "[CV 4/5] END criterion=entropy, max_depth=4, max_features=log2, n_estimators=200;, score=0.791 total time=   1.5s\n",
      "[CV 5/5] END criterion=entropy, max_depth=4, max_features=log2, n_estimators=200;, score=0.771 total time=   1.4s\n",
      "[CV 1/5] END criterion=entropy, max_depth=4, max_features=log2, n_estimators=500;, score=0.803 total time=   4.0s\n",
      "[CV 2/5] END criterion=entropy, max_depth=4, max_features=log2, n_estimators=500;, score=0.788 total time=   4.7s\n",
      "[CV 3/5] END criterion=entropy, max_depth=4, max_features=log2, n_estimators=500;, score=0.803 total time=   3.8s\n",
      "[CV 4/5] END criterion=entropy, max_depth=4, max_features=log2, n_estimators=500;, score=0.793 total time=   3.6s\n",
      "[CV 5/5] END criterion=entropy, max_depth=4, max_features=log2, n_estimators=500;, score=0.771 total time=   4.2s\n",
      "[CV 1/5] END criterion=entropy, max_depth=4, max_features=log2, n_estimators=700;, score=0.806 total time=   7.0s\n",
      "[CV 2/5] END criterion=entropy, max_depth=4, max_features=log2, n_estimators=700;, score=0.787 total time=   5.1s\n",
      "[CV 3/5] END criterion=entropy, max_depth=4, max_features=log2, n_estimators=700;, score=0.802 total time=   7.0s\n",
      "[CV 4/5] END criterion=entropy, max_depth=4, max_features=log2, n_estimators=700;, score=0.793 total time=   8.1s\n",
      "[CV 5/5] END criterion=entropy, max_depth=4, max_features=log2, n_estimators=700;, score=0.772 total time=   6.2s\n",
      "[CV 1/5] END criterion=entropy, max_depth=5, max_features=sqrt, n_estimators=200;, score=0.803 total time=   2.0s\n",
      "[CV 2/5] END criterion=entropy, max_depth=5, max_features=sqrt, n_estimators=200;, score=0.792 total time=   1.9s\n",
      "[CV 3/5] END criterion=entropy, max_depth=5, max_features=sqrt, n_estimators=200;, score=0.811 total time=   1.7s\n",
      "[CV 4/5] END criterion=entropy, max_depth=5, max_features=sqrt, n_estimators=200;, score=0.802 total time=   2.2s\n",
      "[CV 5/5] END criterion=entropy, max_depth=5, max_features=sqrt, n_estimators=200;, score=0.772 total time=   1.8s\n",
      "[CV 1/5] END criterion=entropy, max_depth=5, max_features=sqrt, n_estimators=500;, score=0.801 total time=   6.2s\n",
      "[CV 2/5] END criterion=entropy, max_depth=5, max_features=sqrt, n_estimators=500;, score=0.790 total time=   5.3s\n",
      "[CV 3/5] END criterion=entropy, max_depth=5, max_features=sqrt, n_estimators=500;, score=0.815 total time=   4.1s\n",
      "[CV 4/5] END criterion=entropy, max_depth=5, max_features=sqrt, n_estimators=500;, score=0.804 total time=   5.3s\n",
      "[CV 5/5] END criterion=entropy, max_depth=5, max_features=sqrt, n_estimators=500;, score=0.774 total time=   5.3s\n",
      "[CV 1/5] END criterion=entropy, max_depth=5, max_features=sqrt, n_estimators=700;, score=0.803 total time=   7.2s\n",
      "[CV 2/5] END criterion=entropy, max_depth=5, max_features=sqrt, n_estimators=700;, score=0.791 total time=   7.3s\n",
      "[CV 3/5] END criterion=entropy, max_depth=5, max_features=sqrt, n_estimators=700;, score=0.816 total time=   6.1s\n",
      "[CV 4/5] END criterion=entropy, max_depth=5, max_features=sqrt, n_estimators=700;, score=0.804 total time=   6.4s\n",
      "[CV 5/5] END criterion=entropy, max_depth=5, max_features=sqrt, n_estimators=700;, score=0.774 total time=   6.6s\n",
      "[CV 1/5] END criterion=entropy, max_depth=5, max_features=log2, n_estimators=200;, score=0.803 total time=   1.6s\n",
      "[CV 2/5] END criterion=entropy, max_depth=5, max_features=log2, n_estimators=200;, score=0.792 total time=   2.2s\n",
      "[CV 3/5] END criterion=entropy, max_depth=5, max_features=log2, n_estimators=200;, score=0.811 total time=   3.1s\n",
      "[CV 4/5] END criterion=entropy, max_depth=5, max_features=log2, n_estimators=200;, score=0.802 total time=   3.1s\n",
      "[CV 5/5] END criterion=entropy, max_depth=5, max_features=log2, n_estimators=200;, score=0.772 total time=   2.3s\n",
      "[CV 1/5] END criterion=entropy, max_depth=5, max_features=log2, n_estimators=500;, score=0.801 total time=   6.1s\n",
      "[CV 2/5] END criterion=entropy, max_depth=5, max_features=log2, n_estimators=500;, score=0.790 total time=   4.0s\n",
      "[CV 3/5] END criterion=entropy, max_depth=5, max_features=log2, n_estimators=500;, score=0.815 total time=   4.8s\n",
      "[CV 4/5] END criterion=entropy, max_depth=5, max_features=log2, n_estimators=500;, score=0.804 total time=   3.9s\n",
      "[CV 5/5] END criterion=entropy, max_depth=5, max_features=log2, n_estimators=500;, score=0.774 total time=   3.9s\n",
      "[CV 1/5] END criterion=entropy, max_depth=5, max_features=log2, n_estimators=700;, score=0.803 total time=   6.1s\n",
      "[CV 2/5] END criterion=entropy, max_depth=5, max_features=log2, n_estimators=700;, score=0.791 total time=   7.7s\n",
      "[CV 3/5] END criterion=entropy, max_depth=5, max_features=log2, n_estimators=700;, score=0.816 total time=   5.5s\n",
      "[CV 4/5] END criterion=entropy, max_depth=5, max_features=log2, n_estimators=700;, score=0.804 total time=   7.1s\n",
      "[CV 5/5] END criterion=entropy, max_depth=5, max_features=log2, n_estimators=700;, score=0.774 total time=   5.3s\n",
      "[CV 1/5] END criterion=entropy, max_depth=6, max_features=sqrt, n_estimators=200;, score=0.808 total time=   1.7s\n",
      "[CV 2/5] END criterion=entropy, max_depth=6, max_features=sqrt, n_estimators=200;, score=0.794 total time=   2.0s\n",
      "[CV 3/5] END criterion=entropy, max_depth=6, max_features=sqrt, n_estimators=200;, score=0.813 total time=   2.3s\n",
      "[CV 4/5] END criterion=entropy, max_depth=6, max_features=sqrt, n_estimators=200;, score=0.806 total time=   1.9s\n",
      "[CV 5/5] END criterion=entropy, max_depth=6, max_features=sqrt, n_estimators=200;, score=0.774 total time=   7.3s\n",
      "[CV 1/5] END criterion=entropy, max_depth=6, max_features=sqrt, n_estimators=500;, score=0.807 total time=   4.2s\n",
      "[CV 2/5] END criterion=entropy, max_depth=6, max_features=sqrt, n_estimators=500;, score=0.798 total time=   6.6s\n",
      "[CV 3/5] END criterion=entropy, max_depth=6, max_features=sqrt, n_estimators=500;, score=0.815 total time=   7.6s\n",
      "[CV 4/5] END criterion=entropy, max_depth=6, max_features=sqrt, n_estimators=500;, score=0.805 total time=   5.4s\n",
      "[CV 5/5] END criterion=entropy, max_depth=6, max_features=sqrt, n_estimators=500;, score=0.777 total time=   4.4s\n",
      "[CV 1/5] END criterion=entropy, max_depth=6, max_features=sqrt, n_estimators=700;, score=0.808 total time=   6.2s\n",
      "[CV 2/5] END criterion=entropy, max_depth=6, max_features=sqrt, n_estimators=700;, score=0.796 total time=   7.1s\n",
      "[CV 3/5] END criterion=entropy, max_depth=6, max_features=sqrt, n_estimators=700;, score=0.815 total time=   6.6s\n",
      "[CV 4/5] END criterion=entropy, max_depth=6, max_features=sqrt, n_estimators=700;, score=0.807 total time=   7.7s\n",
      "[CV 5/5] END criterion=entropy, max_depth=6, max_features=sqrt, n_estimators=700;, score=0.777 total time=   6.2s\n",
      "[CV 1/5] END criterion=entropy, max_depth=6, max_features=log2, n_estimators=200;, score=0.808 total time=   1.8s\n",
      "[CV 2/5] END criterion=entropy, max_depth=6, max_features=log2, n_estimators=200;, score=0.794 total time=   1.8s\n",
      "[CV 3/5] END criterion=entropy, max_depth=6, max_features=log2, n_estimators=200;, score=0.813 total time=   2.0s\n",
      "[CV 4/5] END criterion=entropy, max_depth=6, max_features=log2, n_estimators=200;, score=0.806 total time=   2.3s\n",
      "[CV 5/5] END criterion=entropy, max_depth=6, max_features=log2, n_estimators=200;, score=0.774 total time=   1.9s\n",
      "[CV 1/5] END criterion=entropy, max_depth=6, max_features=log2, n_estimators=500;, score=0.807 total time=   4.7s\n",
      "[CV 2/5] END criterion=entropy, max_depth=6, max_features=log2, n_estimators=500;, score=0.798 total time=   4.5s\n",
      "[CV 3/5] END criterion=entropy, max_depth=6, max_features=log2, n_estimators=500;, score=0.815 total time=   5.3s\n",
      "[CV 4/5] END criterion=entropy, max_depth=6, max_features=log2, n_estimators=500;, score=0.805 total time=   4.7s\n",
      "[CV 5/5] END criterion=entropy, max_depth=6, max_features=log2, n_estimators=500;, score=0.777 total time=   4.4s\n",
      "[CV 1/5] END criterion=entropy, max_depth=6, max_features=log2, n_estimators=700;, score=0.808 total time=   7.2s\n",
      "[CV 2/5] END criterion=entropy, max_depth=6, max_features=log2, n_estimators=700;, score=0.796 total time=   6.4s\n",
      "[CV 3/5] END criterion=entropy, max_depth=6, max_features=log2, n_estimators=700;, score=0.815 total time=   7.0s\n",
      "[CV 4/5] END criterion=entropy, max_depth=6, max_features=log2, n_estimators=700;, score=0.807 total time=   6.3s\n",
      "[CV 5/5] END criterion=entropy, max_depth=6, max_features=log2, n_estimators=700;, score=0.777 total time=   6.2s\n",
      "[CV 1/5] END criterion=entropy, max_depth=7, max_features=sqrt, n_estimators=200;, score=0.811 total time=   2.4s\n",
      "[CV 2/5] END criterion=entropy, max_depth=7, max_features=sqrt, n_estimators=200;, score=0.800 total time=   2.3s\n",
      "[CV 3/5] END criterion=entropy, max_depth=7, max_features=sqrt, n_estimators=200;, score=0.815 total time=   1.9s\n",
      "[CV 4/5] END criterion=entropy, max_depth=7, max_features=sqrt, n_estimators=200;, score=0.805 total time=   1.9s\n",
      "[CV 5/5] END criterion=entropy, max_depth=7, max_features=sqrt, n_estimators=200;, score=0.779 total time=   1.8s\n",
      "[CV 1/5] END criterion=entropy, max_depth=7, max_features=sqrt, n_estimators=500;, score=0.812 total time=   4.8s\n",
      "[CV 2/5] END criterion=entropy, max_depth=7, max_features=sqrt, n_estimators=500;, score=0.799 total time=   5.6s\n",
      "[CV 3/5] END criterion=entropy, max_depth=7, max_features=sqrt, n_estimators=500;, score=0.818 total time=   4.8s\n",
      "[CV 4/5] END criterion=entropy, max_depth=7, max_features=sqrt, n_estimators=500;, score=0.807 total time=   4.8s\n",
      "[CV 5/5] END criterion=entropy, max_depth=7, max_features=sqrt, n_estimators=500;, score=0.783 total time=   5.6s\n",
      "[CV 1/5] END criterion=entropy, max_depth=7, max_features=sqrt, n_estimators=700;, score=0.812 total time=   6.6s\n",
      "[CV 2/5] END criterion=entropy, max_depth=7, max_features=sqrt, n_estimators=700;, score=0.796 total time=   7.7s\n",
      "[CV 3/5] END criterion=entropy, max_depth=7, max_features=sqrt, n_estimators=700;, score=0.815 total time=   7.0s\n",
      "[CV 4/5] END criterion=entropy, max_depth=7, max_features=sqrt, n_estimators=700;, score=0.807 total time=   7.0s\n",
      "[CV 5/5] END criterion=entropy, max_depth=7, max_features=sqrt, n_estimators=700;, score=0.781 total time=   7.8s\n",
      "[CV 1/5] END criterion=entropy, max_depth=7, max_features=log2, n_estimators=200;, score=0.811 total time=   2.2s\n",
      "[CV 2/5] END criterion=entropy, max_depth=7, max_features=log2, n_estimators=200;, score=0.800 total time=   1.7s\n",
      "[CV 3/5] END criterion=entropy, max_depth=7, max_features=log2, n_estimators=200;, score=0.815 total time=   1.8s\n",
      "[CV 4/5] END criterion=entropy, max_depth=7, max_features=log2, n_estimators=200;, score=0.805 total time=   2.2s\n",
      "[CV 5/5] END criterion=entropy, max_depth=7, max_features=log2, n_estimators=200;, score=0.779 total time=   2.7s\n",
      "[CV 1/5] END criterion=entropy, max_depth=7, max_features=log2, n_estimators=500;, score=0.812 total time=   5.4s\n",
      "[CV 2/5] END criterion=entropy, max_depth=7, max_features=log2, n_estimators=500;, score=0.799 total time=   4.7s\n",
      "[CV 3/5] END criterion=entropy, max_depth=7, max_features=log2, n_estimators=500;, score=0.818 total time=   5.6s\n",
      "[CV 4/5] END criterion=entropy, max_depth=7, max_features=log2, n_estimators=500;, score=0.807 total time=   4.8s\n",
      "[CV 5/5] END criterion=entropy, max_depth=7, max_features=log2, n_estimators=500;, score=0.783 total time=   4.7s\n",
      "[CV 1/5] END criterion=entropy, max_depth=7, max_features=log2, n_estimators=700;, score=0.812 total time=   7.8s\n",
      "[CV 2/5] END criterion=entropy, max_depth=7, max_features=log2, n_estimators=700;, score=0.796 total time=   6.6s\n",
      "[CV 3/5] END criterion=entropy, max_depth=7, max_features=log2, n_estimators=700;, score=0.815 total time=   7.3s\n",
      "[CV 4/5] END criterion=entropy, max_depth=7, max_features=log2, n_estimators=700;, score=0.807 total time=   6.6s\n",
      "[CV 5/5] END criterion=entropy, max_depth=7, max_features=log2, n_estimators=700;, score=0.781 total time=   7.0s\n",
      "[CV 1/5] END criterion=entropy, max_depth=8, max_features=sqrt, n_estimators=200;, score=0.803 total time=   2.6s\n",
      "[CV 2/5] END criterion=entropy, max_depth=8, max_features=sqrt, n_estimators=200;, score=0.797 total time=   2.3s\n",
      "[CV 3/5] END criterion=entropy, max_depth=8, max_features=sqrt, n_estimators=200;, score=0.814 total time=   2.0s\n",
      "[CV 4/5] END criterion=entropy, max_depth=8, max_features=sqrt, n_estimators=200;, score=0.804 total time=   2.8s\n",
      "[CV 5/5] END criterion=entropy, max_depth=8, max_features=sqrt, n_estimators=200;, score=0.782 total time=   2.2s\n",
      "[CV 1/5] END criterion=entropy, max_depth=8, max_features=sqrt, n_estimators=500;, score=0.806 total time=   6.4s\n",
      "[CV 2/5] END criterion=entropy, max_depth=8, max_features=sqrt, n_estimators=500;, score=0.795 total time=   7.6s\n",
      "[CV 3/5] END criterion=entropy, max_depth=8, max_features=sqrt, n_estimators=500;, score=0.815 total time=   6.4s\n",
      "[CV 4/5] END criterion=entropy, max_depth=8, max_features=sqrt, n_estimators=500;, score=0.804 total time=   5.9s\n",
      "[CV 5/5] END criterion=entropy, max_depth=8, max_features=sqrt, n_estimators=500;, score=0.779 total time=   5.5s\n",
      "[CV 1/5] END criterion=entropy, max_depth=8, max_features=sqrt, n_estimators=700;, score=0.809 total time=   8.9s\n",
      "[CV 2/5] END criterion=entropy, max_depth=8, max_features=sqrt, n_estimators=700;, score=0.796 total time=   8.1s\n",
      "[CV 3/5] END criterion=entropy, max_depth=8, max_features=sqrt, n_estimators=700;, score=0.816 total time=   9.1s\n",
      "[CV 4/5] END criterion=entropy, max_depth=8, max_features=sqrt, n_estimators=700;, score=0.804 total time=   9.0s\n",
      "[CV 5/5] END criterion=entropy, max_depth=8, max_features=sqrt, n_estimators=700;, score=0.780 total time=   8.3s\n",
      "[CV 1/5] END criterion=entropy, max_depth=8, max_features=log2, n_estimators=200;, score=0.803 total time=   2.8s\n",
      "[CV 2/5] END criterion=entropy, max_depth=8, max_features=log2, n_estimators=200;, score=0.797 total time=   2.4s\n",
      "[CV 3/5] END criterion=entropy, max_depth=8, max_features=log2, n_estimators=200;, score=0.814 total time=   2.8s\n",
      "[CV 4/5] END criterion=entropy, max_depth=8, max_features=log2, n_estimators=200;, score=0.804 total time=   2.5s\n",
      "[CV 5/5] END criterion=entropy, max_depth=8, max_features=log2, n_estimators=200;, score=0.782 total time=   2.6s\n",
      "[CV 1/5] END criterion=entropy, max_depth=8, max_features=log2, n_estimators=500;, score=0.806 total time=   5.6s\n",
      "[CV 2/5] END criterion=entropy, max_depth=8, max_features=log2, n_estimators=500;, score=0.795 total time=   6.9s\n",
      "[CV 3/5] END criterion=entropy, max_depth=8, max_features=log2, n_estimators=500;, score=0.815 total time=   6.6s\n",
      "[CV 4/5] END criterion=entropy, max_depth=8, max_features=log2, n_estimators=500;, score=0.804 total time=   6.8s\n",
      "[CV 5/5] END criterion=entropy, max_depth=8, max_features=log2, n_estimators=500;, score=0.779 total time=   6.1s\n",
      "[CV 1/5] END criterion=entropy, max_depth=8, max_features=log2, n_estimators=700;, score=0.809 total time=   8.4s\n",
      "[CV 2/5] END criterion=entropy, max_depth=8, max_features=log2, n_estimators=700;, score=0.796 total time=   9.4s\n",
      "[CV 3/5] END criterion=entropy, max_depth=8, max_features=log2, n_estimators=700;, score=0.816 total time=   8.8s\n",
      "[CV 4/5] END criterion=entropy, max_depth=8, max_features=log2, n_estimators=700;, score=0.804 total time=   8.4s\n",
      "[CV 5/5] END criterion=entropy, max_depth=8, max_features=log2, n_estimators=700;, score=0.780 total time=   8.9s\n"
     ]
    },
    {
     "data": {
      "text/plain": [
       "{'criterion': 'entropy',\n",
       " 'max_depth': 7,\n",
       " 'max_features': 'sqrt',\n",
       " 'n_estimators': 500}"
      ]
     },
     "execution_count": 285,
     "metadata": {},
     "output_type": "execute_result"
    }
   ],
   "source": [
    "from sklearn.ensemble import RandomForestClassifier\n",
    "from sklearn.model_selection import GridSearchCV\n",
    "# hypertuning paramater menggunakan  GridSearch\n",
    "\n",
    "param_grid = {\n",
    "  'n_estimators': [200, 500, 700],\n",
    "  'max_features': ['sqrt', 'log2'],\n",
    "  'max_depth' : [4,5,6,7,8],\n",
    "  'criterion' :['gini', 'entropy']\n",
    "}\n",
    "\n",
    "rfc=RandomForestClassifier(random_state=0)\n",
    "CV_rfc = GridSearchCV(estimator=rfc, verbose=3, param_grid=param_grid, cv = 5)\n",
    "CV_rfc.fit(X_train, y_train)\n",
    "CV_rfc.best_params_"
   ]
  },
  {
   "cell_type": "code",
   "execution_count": 286,
   "id": "6b33e624-dc82-437e-a907-873b6b2d60ed",
   "metadata": {
    "tags": []
   },
   "outputs": [],
   "source": [
    "# Creating model object\n",
    "model_rf = RandomForestClassifier(n_estimators=500,criterion='entropy', max_depth=7, max_features='sqrt', random_state=0)"
   ]
  },
  {
   "cell_type": "code",
   "execution_count": 287,
   "id": "5078b64e-d844-41dc-8c14-03bb7d086687",
   "metadata": {
    "tags": []
   },
   "outputs": [
    {
     "data": {
      "text/html": [
       "<style>#sk-container-id-28 {color: black;}#sk-container-id-28 pre{padding: 0;}#sk-container-id-28 div.sk-toggleable {background-color: white;}#sk-container-id-28 label.sk-toggleable__label {cursor: pointer;display: block;width: 100%;margin-bottom: 0;padding: 0.3em;box-sizing: border-box;text-align: center;}#sk-container-id-28 label.sk-toggleable__label-arrow:before {content: \"▸\";float: left;margin-right: 0.25em;color: #696969;}#sk-container-id-28 label.sk-toggleable__label-arrow:hover:before {color: black;}#sk-container-id-28 div.sk-estimator:hover label.sk-toggleable__label-arrow:before {color: black;}#sk-container-id-28 div.sk-toggleable__content {max-height: 0;max-width: 0;overflow: hidden;text-align: left;background-color: #f0f8ff;}#sk-container-id-28 div.sk-toggleable__content pre {margin: 0.2em;color: black;border-radius: 0.25em;background-color: #f0f8ff;}#sk-container-id-28 input.sk-toggleable__control:checked~div.sk-toggleable__content {max-height: 200px;max-width: 100%;overflow: auto;}#sk-container-id-28 input.sk-toggleable__control:checked~label.sk-toggleable__label-arrow:before {content: \"▾\";}#sk-container-id-28 div.sk-estimator input.sk-toggleable__control:checked~label.sk-toggleable__label {background-color: #d4ebff;}#sk-container-id-28 div.sk-label input.sk-toggleable__control:checked~label.sk-toggleable__label {background-color: #d4ebff;}#sk-container-id-28 input.sk-hidden--visually {border: 0;clip: rect(1px 1px 1px 1px);clip: rect(1px, 1px, 1px, 1px);height: 1px;margin: -1px;overflow: hidden;padding: 0;position: absolute;width: 1px;}#sk-container-id-28 div.sk-estimator {font-family: monospace;background-color: #f0f8ff;border: 1px dotted black;border-radius: 0.25em;box-sizing: border-box;margin-bottom: 0.5em;}#sk-container-id-28 div.sk-estimator:hover {background-color: #d4ebff;}#sk-container-id-28 div.sk-parallel-item::after {content: \"\";width: 100%;border-bottom: 1px solid gray;flex-grow: 1;}#sk-container-id-28 div.sk-label:hover label.sk-toggleable__label {background-color: #d4ebff;}#sk-container-id-28 div.sk-serial::before {content: \"\";position: absolute;border-left: 1px solid gray;box-sizing: border-box;top: 0;bottom: 0;left: 50%;z-index: 0;}#sk-container-id-28 div.sk-serial {display: flex;flex-direction: column;align-items: center;background-color: white;padding-right: 0.2em;padding-left: 0.2em;position: relative;}#sk-container-id-28 div.sk-item {position: relative;z-index: 1;}#sk-container-id-28 div.sk-parallel {display: flex;align-items: stretch;justify-content: center;background-color: white;position: relative;}#sk-container-id-28 div.sk-item::before, #sk-container-id-28 div.sk-parallel-item::before {content: \"\";position: absolute;border-left: 1px solid gray;box-sizing: border-box;top: 0;bottom: 0;left: 50%;z-index: -1;}#sk-container-id-28 div.sk-parallel-item {display: flex;flex-direction: column;z-index: 1;position: relative;background-color: white;}#sk-container-id-28 div.sk-parallel-item:first-child::after {align-self: flex-end;width: 50%;}#sk-container-id-28 div.sk-parallel-item:last-child::after {align-self: flex-start;width: 50%;}#sk-container-id-28 div.sk-parallel-item:only-child::after {width: 0;}#sk-container-id-28 div.sk-dashed-wrapped {border: 1px dashed gray;margin: 0 0.4em 0.5em 0.4em;box-sizing: border-box;padding-bottom: 0.4em;background-color: white;}#sk-container-id-28 div.sk-label label {font-family: monospace;font-weight: bold;display: inline-block;line-height: 1.2em;}#sk-container-id-28 div.sk-label-container {text-align: center;}#sk-container-id-28 div.sk-container {/* jupyter's `normalize.less` sets `[hidden] { display: none; }` but bootstrap.min.css set `[hidden] { display: none !important; }` so we also need the `!important` here to be able to override the default hidden behavior on the sphinx rendered scikit-learn.org. See: https://github.com/scikit-learn/scikit-learn/issues/21755 */display: inline-block !important;position: relative;}#sk-container-id-28 div.sk-text-repr-fallback {display: none;}</style><div id=\"sk-container-id-28\" class=\"sk-top-container\"><div class=\"sk-text-repr-fallback\"><pre>RandomForestClassifier(criterion=&#x27;entropy&#x27;, max_depth=7, n_estimators=500,\n",
       "                       random_state=0)</pre><b>In a Jupyter environment, please rerun this cell to show the HTML representation or trust the notebook. <br />On GitHub, the HTML representation is unable to render, please try loading this page with nbviewer.org.</b></div><div class=\"sk-container\" hidden><div class=\"sk-item\"><div class=\"sk-estimator sk-toggleable\"><input class=\"sk-toggleable__control sk-hidden--visually\" id=\"sk-estimator-id-28\" type=\"checkbox\" checked><label for=\"sk-estimator-id-28\" class=\"sk-toggleable__label sk-toggleable__label-arrow\">RandomForestClassifier</label><div class=\"sk-toggleable__content\"><pre>RandomForestClassifier(criterion=&#x27;entropy&#x27;, max_depth=7, n_estimators=500,\n",
       "                       random_state=0)</pre></div></div></div></div></div>"
      ],
      "text/plain": [
       "RandomForestClassifier(criterion='entropy', max_depth=7, n_estimators=500,\n",
       "                       random_state=0)"
      ]
     },
     "execution_count": 287,
     "metadata": {},
     "output_type": "execute_result"
    }
   ],
   "source": [
    "# Training Model\n",
    "model_rf.fit(X_train, y_train)"
   ]
  },
  {
   "cell_type": "code",
   "execution_count": 288,
   "id": "3f018744-7d31-4a96-b9d0-b4607851ca42",
   "metadata": {
    "tags": []
   },
   "outputs": [],
   "source": [
    "# Making Prediction\n",
    "pred_rf = model_rf.predict(X_test)"
   ]
  },
  {
   "cell_type": "code",
   "execution_count": 289,
   "id": "bd406b69-b96e-4da0-8e2f-221b2a62eb04",
   "metadata": {
    "tags": []
   },
   "outputs": [
    {
     "name": "stdout",
     "output_type": "stream",
     "text": [
      "80.62\n"
     ]
    }
   ],
   "source": [
    "# Calculating Accuracy Score\n",
    "rf = round(accuracy_score(y_test, pred_rf)*100, 2)\n",
    "print(rf)"
   ]
  },
  {
   "cell_type": "code",
   "execution_count": 290,
   "id": "efde1bd7-2779-4913-85cf-c3f0fc28f4e6",
   "metadata": {
    "tags": []
   },
   "outputs": [
    {
     "name": "stdout",
     "output_type": "stream",
     "text": [
      "              precision    recall  f1-score   support\n",
      "\n",
      "           0       0.83      0.93      0.88      1035\n",
      "           1       0.70      0.48      0.57       374\n",
      "\n",
      "    accuracy                           0.81      1409\n",
      "   macro avg       0.76      0.70      0.72      1409\n",
      "weighted avg       0.80      0.81      0.79      1409\n",
      "\n"
     ]
    }
   ],
   "source": [
    "print(classification_report(y_test,pred_rf))"
   ]
  },
  {
   "cell_type": "code",
   "execution_count": 291,
   "id": "33496df5-eb2c-4972-a1e8-91ff9d4462d4",
   "metadata": {
    "tags": []
   },
   "outputs": [
    {
     "data": {
      "image/png": "[encoded data removed]",
      "text/plain": [
       "<Figure size 640x480 with 2 Axes>"
      ]
     },
     "metadata": {},
     "output_type": "display_data"
    }
   ],
   "source": [
    "# confusion Maxtrix\n",
    "cm3 = confusion_matrix(y_test, pred_rf)\n",
    "sns.heatmap(cm3/np.sum(cm3), annot = True, fmt=  '0.2%', cmap = 'Reds')\n",
    "plt.title(\"RandomForest Classifier Confusion Matrix\",fontsize=12)\n",
    "plt.show()"
   ]
  },
  {
   "cell_type": "markdown",
   "id": "8d5de7c0-c423-414e-8f0e-9c56654f976f",
   "metadata": {},
   "source": [
    "## SVM"
   ]
  },
  {
   "cell_type": "code",
   "execution_count": 292,
   "id": "cd389c2d-126e-40ac-afdb-47397380b681",
   "metadata": {
    "tags": []
   },
   "outputs": [],
   "source": [
    "from sklearn.svm import SVC, LinearSVC"
   ]
  },
  {
   "cell_type": "code",
   "execution_count": 293,
   "id": "170bfd48-1a29-4f93-99c5-66a3328e4022",
   "metadata": {
    "tags": []
   },
   "outputs": [
    {
     "name": "stdout",
     "output_type": "stream",
     "text": [
      "Fitting 5 folds for each of 12 candidates, totalling 60 fits\n",
      "[CV 1/5] END .................C=0.1, kernel=rbf;, score=0.791 total time=   1.3s\n",
      "[CV 2/5] END .................C=0.1, kernel=rbf;, score=0.780 total time=   1.6s\n",
      "[CV 3/5] END .................C=0.1, kernel=rbf;, score=0.800 total time=   1.4s\n",
      "[CV 4/5] END .................C=0.1, kernel=rbf;, score=0.800 total time=   1.4s\n",
      "[CV 5/5] END .................C=0.1, kernel=rbf;, score=0.781 total time=   2.3s\n",
      "[CV 1/5] END ................C=0.1, kernel=poly;, score=0.792 total time=   0.8s\n",
      "[CV 2/5] END ................C=0.1, kernel=poly;, score=0.776 total time=   0.9s\n",
      "[CV 3/5] END ................C=0.1, kernel=poly;, score=0.797 total time=   0.7s\n",
      "[CV 4/5] END ................C=0.1, kernel=poly;, score=0.791 total time=   0.8s\n",
      "[CV 5/5] END ................C=0.1, kernel=poly;, score=0.771 total time=   0.9s\n",
      "[CV 1/5] END .............C=0.1, kernel=sigmoid;, score=0.645 total time=   1.2s\n",
      "[CV 2/5] END .............C=0.1, kernel=sigmoid;, score=0.670 total time=   1.5s\n",
      "[CV 3/5] END .............C=0.1, kernel=sigmoid;, score=0.680 total time=   1.6s\n",
      "[CV 4/5] END .............C=0.1, kernel=sigmoid;, score=0.695 total time=   1.5s\n",
      "[CV 5/5] END .............C=0.1, kernel=sigmoid;, score=0.677 total time=   1.4s\n",
      "[CV 1/5] END ...................C=1, kernel=rbf;, score=0.800 total time=   3.3s\n",
      "[CV 2/5] END ...................C=1, kernel=rbf;, score=0.807 total time=   1.2s\n",
      "[CV 3/5] END ...................C=1, kernel=rbf;, score=0.807 total time=   1.4s\n",
      "[CV 4/5] END ...................C=1, kernel=rbf;, score=0.807 total time=   2.1s\n",
      "[CV 5/5] END ...................C=1, kernel=rbf;, score=0.779 total time=   2.2s\n",
      "[CV 1/5] END ..................C=1, kernel=poly;, score=0.795 total time=   1.8s\n",
      "[CV 2/5] END ..................C=1, kernel=poly;, score=0.800 total time=   1.7s\n",
      "[CV 3/5] END ..................C=1, kernel=poly;, score=0.797 total time=   1.4s\n",
      "[CV 4/5] END ..................C=1, kernel=poly;, score=0.804 total time=   1.8s\n",
      "[CV 5/5] END ..................C=1, kernel=poly;, score=0.775 total time=   1.2s\n",
      "[CV 1/5] END ...............C=1, kernel=sigmoid;, score=0.628 total time=   2.4s\n",
      "[CV 2/5] END ...............C=1, kernel=sigmoid;, score=0.657 total time=   0.8s\n",
      "[CV 3/5] END ...............C=1, kernel=sigmoid;, score=0.656 total time=   0.8s\n",
      "[CV 4/5] END ...............C=1, kernel=sigmoid;, score=0.680 total time=   1.0s\n",
      "[CV 5/5] END ...............C=1, kernel=sigmoid;, score=0.658 total time=   1.5s\n",
      "[CV 1/5] END ..................C=10, kernel=rbf;, score=0.791 total time=   2.0s\n",
      "[CV 2/5] END ..................C=10, kernel=rbf;, score=0.795 total time=   1.8s\n",
      "[CV 3/5] END ..................C=10, kernel=rbf;, score=0.809 total time=   1.7s\n",
      "[CV 4/5] END ..................C=10, kernel=rbf;, score=0.786 total time=   2.2s\n",
      "[CV 5/5] END ..................C=10, kernel=rbf;, score=0.769 total time=   2.0s\n",
      "[CV 1/5] END .................C=10, kernel=poly;, score=0.794 total time=   2.8s\n",
      "[CV 2/5] END .................C=10, kernel=poly;, score=0.795 total time=   3.4s\n",
      "[CV 3/5] END .................C=10, kernel=poly;, score=0.808 total time=   3.3s\n",
      "[CV 4/5] END .................C=10, kernel=poly;, score=0.789 total time=   4.0s\n",
      "[CV 5/5] END .................C=10, kernel=poly;, score=0.771 total time=   2.9s\n",
      "[CV 1/5] END ..............C=10, kernel=sigmoid;, score=0.626 total time=   1.5s\n",
      "[CV 2/5] END ..............C=10, kernel=sigmoid;, score=0.654 total time=   1.0s\n",
      "[CV 3/5] END ..............C=10, kernel=sigmoid;, score=0.655 total time=   1.3s\n",
      "[CV 4/5] END ..............C=10, kernel=sigmoid;, score=0.635 total time=   1.3s\n",
      "[CV 5/5] END ..............C=10, kernel=sigmoid;, score=0.646 total time=   1.2s\n",
      "[CV 1/5] END .................C=100, kernel=rbf;, score=0.756 total time=   4.5s\n",
      "[CV 2/5] END .................C=100, kernel=rbf;, score=0.772 total time=   6.3s\n",
      "[CV 3/5] END .................C=100, kernel=rbf;, score=0.768 total time=   4.6s\n",
      "[CV 4/5] END .................C=100, kernel=rbf;, score=0.742 total time=   4.3s\n",
      "[CV 5/5] END .................C=100, kernel=rbf;, score=0.743 total time=   3.9s\n",
      "[CV 1/5] END ................C=100, kernel=poly;, score=0.763 total time=  20.4s\n",
      "[CV 2/5] END ................C=100, kernel=poly;, score=0.783 total time=  43.9s\n",
      "[CV 3/5] END ................C=100, kernel=poly;, score=0.774 total time=  21.9s\n",
      "[CV 4/5] END ................C=100, kernel=poly;, score=0.754 total time=  55.8s\n",
      "[CV 5/5] END ................C=100, kernel=poly;, score=0.746 total time=  33.9s\n",
      "[CV 1/5] END .............C=100, kernel=sigmoid;, score=0.626 total time=   1.8s\n",
      "[CV 2/5] END .............C=100, kernel=sigmoid;, score=0.655 total time=   1.7s\n",
      "[CV 3/5] END .............C=100, kernel=sigmoid;, score=0.656 total time=   1.5s\n",
      "[CV 4/5] END .............C=100, kernel=sigmoid;, score=0.634 total time=   1.3s\n",
      "[CV 5/5] END .............C=100, kernel=sigmoid;, score=0.646 total time=   1.8s\n"
     ]
    },
    {
     "data": {
      "text/plain": [
       "{'C': 1, 'kernel': 'rbf'}"
      ]
     },
     "execution_count": 293,
     "metadata": {},
     "output_type": "execute_result"
    }
   ],
   "source": [
    "param_grid = {\n",
    " 'C' : [0.1,1, 10, 100],\n",
    " 'kernel' : ['rbf','poly', 'sigmoid'],\n",
    "}\n",
    "\n",
    "sv = SVC(random_state=0)\n",
    "CV_sv = GridSearchCV(estimator=sv, verbose = 3, param_grid=param_grid, cv= 5)\n",
    "CV_sv.fit(X_train, y_train)\n",
    "CV_sv.best_params_"
   ]
  },
  {
   "cell_type": "code",
   "execution_count": 294,
   "id": "912a935d-73e4-4497-b4ba-ccf75e7eed53",
   "metadata": {
    "tags": []
   },
   "outputs": [],
   "source": [
    "model_svm = SVC(C = 1, kernel='rbf', random_state=0)"
   ]
  },
  {
   "cell_type": "code",
   "execution_count": 295,
   "id": "790f323e-b6e0-4587-997c-0ddc7f2524d1",
   "metadata": {
    "tags": []
   },
   "outputs": [
    {
     "data": {
      "text/html": [
       "<style>#sk-container-id-29 {color: black;}#sk-container-id-29 pre{padding: 0;}#sk-container-id-29 div.sk-toggleable {background-color: white;}#sk-container-id-29 label.sk-toggleable__label {cursor: pointer;display: block;width: 100%;margin-bottom: 0;padding: 0.3em;box-sizing: border-box;text-align: center;}#sk-container-id-29 label.sk-toggleable__label-arrow:before {content: \"▸\";float: left;margin-right: 0.25em;color: #696969;}#sk-container-id-29 label.sk-toggleable__label-arrow:hover:before {color: black;}#sk-container-id-29 div.sk-estimator:hover label.sk-toggleable__label-arrow:before {color: black;}#sk-container-id-29 div.sk-toggleable__content {max-height: 0;max-width: 0;overflow: hidden;text-align: left;background-color: #f0f8ff;}#sk-container-id-29 div.sk-toggleable__content pre {margin: 0.2em;color: black;border-radius: 0.25em;background-color: #f0f8ff;}#sk-container-id-29 input.sk-toggleable__control:checked~div.sk-toggleable__content {max-height: 200px;max-width: 100%;overflow: auto;}#sk-container-id-29 input.sk-toggleable__control:checked~label.sk-toggleable__label-arrow:before {content: \"▾\";}#sk-container-id-29 div.sk-estimator input.sk-toggleable__control:checked~label.sk-toggleable__label {background-color: #d4ebff;}#sk-container-id-29 div.sk-label input.sk-toggleable__control:checked~label.sk-toggleable__label {background-color: #d4ebff;}#sk-container-id-29 input.sk-hidden--visually {border: 0;clip: rect(1px 1px 1px 1px);clip: rect(1px, 1px, 1px, 1px);height: 1px;margin: -1px;overflow: hidden;padding: 0;position: absolute;width: 1px;}#sk-container-id-29 div.sk-estimator {font-family: monospace;background-color: #f0f8ff;border: 1px dotted black;border-radius: 0.25em;box-sizing: border-box;margin-bottom: 0.5em;}#sk-container-id-29 div.sk-estimator:hover {background-color: #d4ebff;}#sk-container-id-29 div.sk-parallel-item::after {content: \"\";width: 100%;border-bottom: 1px solid gray;flex-grow: 1;}#sk-container-id-29 div.sk-label:hover label.sk-toggleable__label {background-color: #d4ebff;}#sk-container-id-29 div.sk-serial::before {content: \"\";position: absolute;border-left: 1px solid gray;box-sizing: border-box;top: 0;bottom: 0;left: 50%;z-index: 0;}#sk-container-id-29 div.sk-serial {display: flex;flex-direction: column;align-items: center;background-color: white;padding-right: 0.2em;padding-left: 0.2em;position: relative;}#sk-container-id-29 div.sk-item {position: relative;z-index: 1;}#sk-container-id-29 div.sk-parallel {display: flex;align-items: stretch;justify-content: center;background-color: white;position: relative;}#sk-container-id-29 div.sk-item::before, #sk-container-id-29 div.sk-parallel-item::before {content: \"\";position: absolute;border-left: 1px solid gray;box-sizing: border-box;top: 0;bottom: 0;left: 50%;z-index: -1;}#sk-container-id-29 div.sk-parallel-item {display: flex;flex-direction: column;z-index: 1;position: relative;background-color: white;}#sk-container-id-29 div.sk-parallel-item:first-child::after {align-self: flex-end;width: 50%;}#sk-container-id-29 div.sk-parallel-item:last-child::after {align-self: flex-start;width: 50%;}#sk-container-id-29 div.sk-parallel-item:only-child::after {width: 0;}#sk-container-id-29 div.sk-dashed-wrapped {border: 1px dashed gray;margin: 0 0.4em 0.5em 0.4em;box-sizing: border-box;padding-bottom: 0.4em;background-color: white;}#sk-container-id-29 div.sk-label label {font-family: monospace;font-weight: bold;display: inline-block;line-height: 1.2em;}#sk-container-id-29 div.sk-label-container {text-align: center;}#sk-container-id-29 div.sk-container {/* jupyter's `normalize.less` sets `[hidden] { display: none; }` but bootstrap.min.css set `[hidden] { display: none !important; }` so we also need the `!important` here to be able to override the default hidden behavior on the sphinx rendered scikit-learn.org. See: https://github.com/scikit-learn/scikit-learn/issues/21755 */display: inline-block !important;position: relative;}#sk-container-id-29 div.sk-text-repr-fallback {display: none;}</style><div id=\"sk-container-id-29\" class=\"sk-top-container\"><div class=\"sk-text-repr-fallback\"><pre>SVC(C=1, random_state=0)</pre><b>In a Jupyter environment, please rerun this cell to show the HTML representation or trust the notebook. <br />On GitHub, the HTML representation is unable to render, please try loading this page with nbviewer.org.</b></div><div class=\"sk-container\" hidden><div class=\"sk-item\"><div class=\"sk-estimator sk-toggleable\"><input class=\"sk-toggleable__control sk-hidden--visually\" id=\"sk-estimator-id-29\" type=\"checkbox\" checked><label for=\"sk-estimator-id-29\" class=\"sk-toggleable__label sk-toggleable__label-arrow\">SVC</label><div class=\"sk-toggleable__content\"><pre>SVC(C=1, random_state=0)</pre></div></div></div></div></div>"
      ],
      "text/plain": [
       "SVC(C=1, random_state=0)"
      ]
     },
     "execution_count": 295,
     "metadata": {},
     "output_type": "execute_result"
    }
   ],
   "source": [
    "model_svm.fit(X_train, y_train)"
   ]
  },
  {
   "cell_type": "code",
   "execution_count": 296,
   "id": "c9128110-a47c-4355-85bf-f2ce9f7e9758",
   "metadata": {
    "tags": []
   },
   "outputs": [],
   "source": [
    "# Making Prediction\n",
    "pred_svm = model_svm.predict(X_test)"
   ]
  },
  {
   "cell_type": "code",
   "execution_count": 297,
   "id": "b6fed964-6bb1-44d3-a6d3-c08c6a0a3394",
   "metadata": {
    "tags": []
   },
   "outputs": [
    {
     "name": "stdout",
     "output_type": "stream",
     "text": [
      "78.92\n"
     ]
    }
   ],
   "source": [
    "# Calculating Accuracy Score\n",
    "sv = round(accuracy_score(y_test, pred_svm)*100, 2)\n",
    "print(sv)"
   ]
  },
  {
   "cell_type": "code",
   "execution_count": 298,
   "id": "907bf621-5cdf-4b73-9a4e-0778c3848eda",
   "metadata": {
    "tags": []
   },
   "outputs": [
    {
     "name": "stdout",
     "output_type": "stream",
     "text": [
      "              precision    recall  f1-score   support\n",
      "\n",
      "           0       0.82      0.91      0.86      1035\n",
      "           1       0.64      0.46      0.54       374\n",
      "\n",
      "    accuracy                           0.79      1409\n",
      "   macro avg       0.73      0.68      0.70      1409\n",
      "weighted avg       0.78      0.79      0.78      1409\n",
      "\n"
     ]
    }
   ],
   "source": [
    "print(classification_report(y_test,pred_svm))"
   ]
  },
  {
   "cell_type": "code",
   "execution_count": 299,
   "id": "01eb9d7c-dce5-42c3-88f5-bf7cd009355a",
   "metadata": {
    "tags": []
   },
   "outputs": [
    {
     "data": {
      "image/png": "[encoded data removed]",
      "text/plain": [
       "<Figure size 640x480 with 2 Axes>"
      ]
     },
     "metadata": {},
     "output_type": "display_data"
    }
   ],
   "source": [
    "# confusion Maxtrix\n",
    "cm6 = confusion_matrix(y_test, pred_svm)\n",
    "sns.heatmap(cm6/np.sum(cm6), annot = True, fmt=  '0.2%', cmap = 'Reds')\n",
    "plt.title(\"SVM Classifier Confusion Matrix\",fontsize=12)\n",
    "plt.show()"
   ]
  },
  {
   "cell_type": "markdown",
   "id": "063a08f3-8dc8-4b10-bce8-5bc0ce9f390b",
   "metadata": {},
   "source": [
    "# Handling Imbalance dataset Using SMOTE"
   ]
  },
  {
   "cell_type": "code",
   "execution_count": 300,
   "id": "58b795e0-e344-4d65-a0bb-7910a0da0d6d",
   "metadata": {
    "tags": []
   },
   "outputs": [
    {
     "data": {
      "text/html": [
       "<div>\n",
       "<style scoped>\n",
       "    .dataframe tbody tr th:only-of-type {\n",
       "        vertical-align: middle;\n",
       "    }\n",
       "\n",
       "    .dataframe tbody tr th {\n",
       "        vertical-align: top;\n",
       "    }\n",
       "\n",
       "    .dataframe thead th {\n",
       "        text-align: right;\n",
       "    }\n",
       "</style>\n",
       "<table border=\"1\" class=\"dataframe\">\n",
       "  <thead>\n",
       "    <tr style=\"text-align: right;\">\n",
       "      <th></th>\n",
       "      <th>gender</th>\n",
       "      <th>SeniorCitizen</th>\n",
       "      <th>Partner</th>\n",
       "      <th>Dependents</th>\n",
       "      <th>tenure</th>\n",
       "      <th>PhoneService</th>\n",
       "      <th>MultipleLines</th>\n",
       "      <th>InternetService</th>\n",
       "      <th>OnlineSecurity</th>\n",
       "      <th>OnlineBackup</th>\n",
       "      <th>DeviceProtection</th>\n",
       "      <th>TechSupport</th>\n",
       "      <th>StreamingTV</th>\n",
       "      <th>StreamingMovies</th>\n",
       "      <th>Contract</th>\n",
       "      <th>PaperlessBilling</th>\n",
       "      <th>PaymentMethod</th>\n",
       "      <th>MonthlyCharges</th>\n",
       "      <th>TotalCharges</th>\n",
       "      <th>Churn</th>\n",
       "    </tr>\n",
       "  </thead>\n",
       "  <tbody>\n",
       "    <tr>\n",
       "      <th>0</th>\n",
       "      <td>1</td>\n",
       "      <td>0</td>\n",
       "      <td>1</td>\n",
       "      <td>0</td>\n",
       "      <td>0.013889</td>\n",
       "      <td>0</td>\n",
       "      <td>0</td>\n",
       "      <td>2</td>\n",
       "      <td>0</td>\n",
       "      <td>1</td>\n",
       "      <td>0</td>\n",
       "      <td>0</td>\n",
       "      <td>0</td>\n",
       "      <td>0</td>\n",
       "      <td>0</td>\n",
       "      <td>1</td>\n",
       "      <td>2</td>\n",
       "      <td>0.115423</td>\n",
       "      <td>0.001275</td>\n",
       "      <td>0</td>\n",
       "    </tr>\n",
       "    <tr>\n",
       "      <th>1</th>\n",
       "      <td>0</td>\n",
       "      <td>0</td>\n",
       "      <td>0</td>\n",
       "      <td>0</td>\n",
       "      <td>0.472222</td>\n",
       "      <td>1</td>\n",
       "      <td>0</td>\n",
       "      <td>2</td>\n",
       "      <td>1</td>\n",
       "      <td>0</td>\n",
       "      <td>1</td>\n",
       "      <td>0</td>\n",
       "      <td>0</td>\n",
       "      <td>0</td>\n",
       "      <td>1</td>\n",
       "      <td>0</td>\n",
       "      <td>3</td>\n",
       "      <td>0.385075</td>\n",
       "      <td>0.215867</td>\n",
       "      <td>0</td>\n",
       "    </tr>\n",
       "    <tr>\n",
       "      <th>2</th>\n",
       "      <td>0</td>\n",
       "      <td>0</td>\n",
       "      <td>0</td>\n",
       "      <td>0</td>\n",
       "      <td>0.027778</td>\n",
       "      <td>1</td>\n",
       "      <td>0</td>\n",
       "      <td>2</td>\n",
       "      <td>1</td>\n",
       "      <td>1</td>\n",
       "      <td>0</td>\n",
       "      <td>0</td>\n",
       "      <td>0</td>\n",
       "      <td>0</td>\n",
       "      <td>0</td>\n",
       "      <td>1</td>\n",
       "      <td>3</td>\n",
       "      <td>0.354229</td>\n",
       "      <td>0.010310</td>\n",
       "      <td>1</td>\n",
       "    </tr>\n",
       "    <tr>\n",
       "      <th>3</th>\n",
       "      <td>0</td>\n",
       "      <td>0</td>\n",
       "      <td>0</td>\n",
       "      <td>0</td>\n",
       "      <td>0.625000</td>\n",
       "      <td>0</td>\n",
       "      <td>0</td>\n",
       "      <td>2</td>\n",
       "      <td>1</td>\n",
       "      <td>0</td>\n",
       "      <td>1</td>\n",
       "      <td>1</td>\n",
       "      <td>0</td>\n",
       "      <td>0</td>\n",
       "      <td>1</td>\n",
       "      <td>0</td>\n",
       "      <td>0</td>\n",
       "      <td>0.239303</td>\n",
       "      <td>0.210241</td>\n",
       "      <td>0</td>\n",
       "    </tr>\n",
       "    <tr>\n",
       "      <th>4</th>\n",
       "      <td>1</td>\n",
       "      <td>0</td>\n",
       "      <td>0</td>\n",
       "      <td>0</td>\n",
       "      <td>0.027778</td>\n",
       "      <td>1</td>\n",
       "      <td>0</td>\n",
       "      <td>1</td>\n",
       "      <td>0</td>\n",
       "      <td>0</td>\n",
       "      <td>0</td>\n",
       "      <td>0</td>\n",
       "      <td>0</td>\n",
       "      <td>0</td>\n",
       "      <td>0</td>\n",
       "      <td>1</td>\n",
       "      <td>2</td>\n",
       "      <td>0.521891</td>\n",
       "      <td>0.015330</td>\n",
       "      <td>1</td>\n",
       "    </tr>\n",
       "  </tbody>\n",
       "</table>\n",
       "</div>"
      ],
      "text/plain": [
       "   gender  SeniorCitizen  Partner  Dependents    tenure  PhoneService  \\\n",
       "0       1              0        1           0  0.013889             0   \n",
       "1       0              0        0           0  0.472222             1   \n",
       "2       0              0        0           0  0.027778             1   \n",
       "3       0              0        0           0  0.625000             0   \n",
       "4       1              0        0           0  0.027778             1   \n",
       "\n",
       "   MultipleLines  InternetService  OnlineSecurity  OnlineBackup  \\\n",
       "0              0                2               0             1   \n",
       "1              0                2               1             0   \n",
       "2              0                2               1             1   \n",
       "3              0                2               1             0   \n",
       "4              0                1               0             0   \n",
       "\n",
       "   DeviceProtection  TechSupport  StreamingTV  StreamingMovies  Contract  \\\n",
       "0                 0            0            0                0         0   \n",
       "1                 1            0            0                0         1   \n",
       "2                 0            0            0                0         0   \n",
       "3                 1            1            0                0         1   \n",
       "4                 0            0            0                0         0   \n",
       "\n",
       "   PaperlessBilling  PaymentMethod  MonthlyCharges  TotalCharges  Churn  \n",
       "0                 1              2        0.115423      0.001275      0  \n",
       "1                 0              3        0.385075      0.215867      0  \n",
       "2                 1              3        0.354229      0.010310      1  \n",
       "3                 0              0        0.239303      0.210241      0  \n",
       "4                 1              2        0.521891      0.015330      1  "
      ]
     },
     "execution_count": 300,
     "metadata": {},
     "output_type": "execute_result"
    }
   ],
   "source": [
    "df.head()"
   ]
  },
  {
   "cell_type": "code",
   "execution_count": 311,
   "id": "de812432-c4ef-49e3-b22b-d80215393668",
   "metadata": {
    "tags": []
   },
   "outputs": [],
   "source": [
    "from imblearn.over_sampling import SMOTE\n",
    "\n",
    "oversample = SMOTE()"
   ]
  },
  {
   "cell_type": "code",
   "execution_count": 312,
   "id": "1abb3cd2-283a-41fd-93b4-ee5db6e86db2",
   "metadata": {
    "tags": []
   },
   "outputs": [],
   "source": [
    "X1, y1 = oversample.fit_resample(X,y)"
   ]
  },
  {
   "cell_type": "code",
   "execution_count": 313,
   "id": "6a68d58d-e47c-46b7-bbc2-122f1c55af91",
   "metadata": {
    "tags": []
   },
   "outputs": [
    {
     "data": {
      "text/plain": [
       "((10348, 19), (10348,))"
      ]
     },
     "execution_count": 313,
     "metadata": {},
     "output_type": "execute_result"
    }
   ],
   "source": [
    "X1.shape, y1.shape"
   ]
  },
  {
   "cell_type": "code",
   "execution_count": 314,
   "id": "c0aaaf73-0125-411a-b2b4-f988b703b486",
   "metadata": {
    "tags": []
   },
   "outputs": [],
   "source": [
    "X_trains, X_tests, y_trains, y_tests = train_test_split(X1, y1, test_size=0.2, random_state=0)"
   ]
  },
  {
   "cell_type": "markdown",
   "id": "d0a880c6-bb66-47c0-b0ce-e2161cbc285f",
   "metadata": {
    "tags": []
   },
   "source": [
    "## Logistic Regression"
   ]
  },
  {
   "cell_type": "code",
   "execution_count": 315,
   "id": "97db4573-32c2-40a6-93d6-f29b62f0548b",
   "metadata": {
    "tags": []
   },
   "outputs": [
    {
     "name": "stdout",
     "output_type": "stream",
     "text": [
      "Fitting 5 folds for each of 40 candidates, totalling 200 fits\n",
      "[CV 1/5] END ...C=1, penalty=l1, solver=newton-cg;, score=nan total time=   0.0s\n",
      "[CV 2/5] END ...C=1, penalty=l1, solver=newton-cg;, score=nan total time=   0.0s\n",
      "[CV 3/5] END ...C=1, penalty=l1, solver=newton-cg;, score=nan total time=   0.0s\n",
      "[CV 4/5] END ...C=1, penalty=l1, solver=newton-cg;, score=nan total time=   0.0s\n",
      "[CV 5/5] END ...C=1, penalty=l1, solver=newton-cg;, score=nan total time=   0.0s\n",
      "[CV 1/5] END .......C=1, penalty=l1, solver=lbfgs;, score=nan total time=   0.0s\n",
      "[CV 2/5] END .......C=1, penalty=l1, solver=lbfgs;, score=nan total time=   0.0s\n",
      "[CV 3/5] END .......C=1, penalty=l1, solver=lbfgs;, score=nan total time=   0.0s\n",
      "[CV 4/5] END .......C=1, penalty=l1, solver=lbfgs;, score=nan total time=   0.0s\n",
      "[CV 5/5] END .......C=1, penalty=l1, solver=lbfgs;, score=nan total time=   0.0s\n",
      "[CV 1/5] END .C=1, penalty=l1, solver=liblinear;, score=0.786 total time=   0.0s\n",
      "[CV 2/5] END .C=1, penalty=l1, solver=liblinear;, score=0.786 total time=   0.1s\n",
      "[CV 3/5] END .C=1, penalty=l1, solver=liblinear;, score=0.790 total time=   0.1s\n",
      "[CV 4/5] END .C=1, penalty=l1, solver=liblinear;, score=0.779 total time=   0.1s\n",
      "[CV 5/5] END .C=1, penalty=l1, solver=liblinear;, score=0.781 total time=   0.1s\n",
      "[CV 1/5] END .........C=1, penalty=l1, solver=sag;, score=nan total time=   0.0s\n",
      "[CV 2/5] END .........C=1, penalty=l1, solver=sag;, score=nan total time=   0.0s\n",
      "[CV 3/5] END .........C=1, penalty=l1, solver=sag;, score=nan total time=   0.0s\n",
      "[CV 4/5] END .........C=1, penalty=l1, solver=sag;, score=nan total time=   0.0s\n",
      "[CV 5/5] END .........C=1, penalty=l1, solver=sag;, score=nan total time=   0.0s\n",
      "[CV 1/5] END ......C=1, penalty=l1, solver=saga;, score=0.786 total time=   0.2s\n",
      "[CV 2/5] END ......C=1, penalty=l1, solver=saga;, score=0.786 total time=   0.2s\n",
      "[CV 3/5] END ......C=1, penalty=l1, solver=saga;, score=0.790 total time=   0.3s\n",
      "[CV 4/5] END ......C=1, penalty=l1, solver=saga;, score=0.778 total time=   0.3s\n",
      "[CV 5/5] END ......C=1, penalty=l1, solver=saga;, score=0.781 total time=   0.3s\n",
      "[CV 1/5] END .C=1, penalty=l2, solver=newton-cg;, score=0.785 total time=   0.1s\n",
      "[CV 2/5] END .C=1, penalty=l2, solver=newton-cg;, score=0.789 total time=   0.0s\n",
      "[CV 3/5] END .C=1, penalty=l2, solver=newton-cg;, score=0.790 total time=   0.0s\n",
      "[CV 4/5] END .C=1, penalty=l2, solver=newton-cg;, score=0.779 total time=   0.0s\n",
      "[CV 5/5] END .C=1, penalty=l2, solver=newton-cg;, score=0.784 total time=   0.0s\n",
      "[CV 1/5] END .....C=1, penalty=l2, solver=lbfgs;, score=0.785 total time=   0.0s\n",
      "[CV 2/5] END .....C=1, penalty=l2, solver=lbfgs;, score=0.789 total time=   0.0s\n",
      "[CV 3/5] END .....C=1, penalty=l2, solver=lbfgs;, score=0.790 total time=   0.0s\n",
      "[CV 4/5] END .....C=1, penalty=l2, solver=lbfgs;, score=0.779 total time=   0.0s\n",
      "[CV 5/5] END .....C=1, penalty=l2, solver=lbfgs;, score=0.784 total time=   0.0s\n",
      "[CV 1/5] END .C=1, penalty=l2, solver=liblinear;, score=0.784 total time=   0.0s\n",
      "[CV 2/5] END .C=1, penalty=l2, solver=liblinear;, score=0.789 total time=   0.0s\n",
      "[CV 3/5] END .C=1, penalty=l2, solver=liblinear;, score=0.790 total time=   0.0s\n",
      "[CV 4/5] END .C=1, penalty=l2, solver=liblinear;, score=0.778 total time=   0.0s\n",
      "[CV 5/5] END .C=1, penalty=l2, solver=liblinear;, score=0.783 total time=   0.0s\n",
      "[CV 1/5] END .......C=1, penalty=l2, solver=sag;, score=0.785 total time=   0.1s\n",
      "[CV 2/5] END .......C=1, penalty=l2, solver=sag;, score=0.789 total time=   0.1s\n",
      "[CV 3/5] END .......C=1, penalty=l2, solver=sag;, score=0.790 total time=   0.0s\n",
      "[CV 4/5] END .......C=1, penalty=l2, solver=sag;, score=0.779 total time=   0.1s\n",
      "[CV 5/5] END .......C=1, penalty=l2, solver=sag;, score=0.784 total time=   0.0s\n",
      "[CV 1/5] END ......C=1, penalty=l2, solver=saga;, score=0.785 total time=   0.1s\n",
      "[CV 2/5] END ......C=1, penalty=l2, solver=saga;, score=0.789 total time=   0.1s\n",
      "[CV 3/5] END ......C=1, penalty=l2, solver=saga;, score=0.790 total time=   0.1s\n",
      "[CV 4/5] END ......C=1, penalty=l2, solver=saga;, score=0.779 total time=   0.1s\n",
      "[CV 5/5] END ......C=1, penalty=l2, solver=saga;, score=0.784 total time=   0.1s\n",
      "[CV 1/5] END ..C=10, penalty=l1, solver=newton-cg;, score=nan total time=   0.0s\n",
      "[CV 2/5] END ..C=10, penalty=l1, solver=newton-cg;, score=nan total time=   0.0s\n",
      "[CV 3/5] END ..C=10, penalty=l1, solver=newton-cg;, score=nan total time=   0.0s\n",
      "[CV 4/5] END ..C=10, penalty=l1, solver=newton-cg;, score=nan total time=   0.0s\n",
      "[CV 5/5] END ..C=10, penalty=l1, solver=newton-cg;, score=nan total time=   0.0s\n",
      "[CV 1/5] END ......C=10, penalty=l1, solver=lbfgs;, score=nan total time=   0.0s\n",
      "[CV 2/5] END ......C=10, penalty=l1, solver=lbfgs;, score=nan total time=   0.0s\n",
      "[CV 3/5] END ......C=10, penalty=l1, solver=lbfgs;, score=nan total time=   0.0s\n",
      "[CV 4/5] END ......C=10, penalty=l1, solver=lbfgs;, score=nan total time=   0.0s\n",
      "[CV 5/5] END ......C=10, penalty=l1, solver=lbfgs;, score=nan total time=   0.0s\n",
      "[CV 1/5] END C=10, penalty=l1, solver=liblinear;, score=0.787 total time=   0.1s\n",
      "[CV 2/5] END C=10, penalty=l1, solver=liblinear;, score=0.786 total time=   0.1s\n",
      "[CV 3/5] END C=10, penalty=l1, solver=liblinear;, score=0.790 total time=   0.1s\n",
      "[CV 4/5] END C=10, penalty=l1, solver=liblinear;, score=0.779 total time=   0.1s\n",
      "[CV 5/5] END C=10, penalty=l1, solver=liblinear;, score=0.781 total time=   0.2s\n",
      "[CV 1/5] END ........C=10, penalty=l1, solver=sag;, score=nan total time=   0.0s\n",
      "[CV 2/5] END ........C=10, penalty=l1, solver=sag;, score=nan total time=   0.0s\n",
      "[CV 3/5] END ........C=10, penalty=l1, solver=sag;, score=nan total time=   0.0s\n",
      "[CV 4/5] END ........C=10, penalty=l1, solver=sag;, score=nan total time=   0.0s\n",
      "[CV 5/5] END ........C=10, penalty=l1, solver=sag;, score=nan total time=   0.0s\n",
      "[CV 1/5] END .....C=10, penalty=l1, solver=saga;, score=0.787 total time=   0.3s\n",
      "[CV 2/5] END .....C=10, penalty=l1, solver=saga;, score=0.786 total time=   0.3s\n",
      "[CV 3/5] END .....C=10, penalty=l1, solver=saga;, score=0.790 total time=   0.2s\n",
      "[CV 4/5] END .....C=10, penalty=l1, solver=saga;, score=0.779 total time=   0.4s\n",
      "[CV 5/5] END .....C=10, penalty=l1, solver=saga;, score=0.781 total time=   0.3s\n",
      "[CV 1/5] END C=10, penalty=l2, solver=newton-cg;, score=0.787 total time=   0.1s\n",
      "[CV 2/5] END C=10, penalty=l2, solver=newton-cg;, score=0.786 total time=   0.0s\n",
      "[CV 3/5] END C=10, penalty=l2, solver=newton-cg;, score=0.790 total time=   0.0s\n",
      "[CV 4/5] END C=10, penalty=l2, solver=newton-cg;, score=0.779 total time=   0.0s\n",
      "[CV 5/5] END C=10, penalty=l2, solver=newton-cg;, score=0.781 total time=   0.0s\n",
      "[CV 1/5] END ....C=10, penalty=l2, solver=lbfgs;, score=0.787 total time=   0.0s\n",
      "[CV 2/5] END ....C=10, penalty=l2, solver=lbfgs;, score=0.786 total time=   0.0s\n",
      "[CV 3/5] END ....C=10, penalty=l2, solver=lbfgs;, score=0.790 total time=   0.0s\n",
      "[CV 4/5] END ....C=10, penalty=l2, solver=lbfgs;, score=0.779 total time=   0.0s\n",
      "[CV 5/5] END ....C=10, penalty=l2, solver=lbfgs;, score=0.781 total time=   0.1s\n",
      "[CV 1/5] END C=10, penalty=l2, solver=liblinear;, score=0.787 total time=   0.0s\n",
      "[CV 2/5] END C=10, penalty=l2, solver=liblinear;, score=0.787 total time=   0.0s\n",
      "[CV 3/5] END C=10, penalty=l2, solver=liblinear;, score=0.790 total time=   0.0s\n",
      "[CV 4/5] END C=10, penalty=l2, solver=liblinear;, score=0.779 total time=   0.0s\n",
      "[CV 5/5] END C=10, penalty=l2, solver=liblinear;, score=0.781 total time=   0.0s\n",
      "[CV 1/5] END ......C=10, penalty=l2, solver=sag;, score=0.787 total time=   0.1s\n",
      "[CV 2/5] END ......C=10, penalty=l2, solver=sag;, score=0.787 total time=   0.1s\n",
      "[CV 3/5] END ......C=10, penalty=l2, solver=sag;, score=0.790 total time=   0.1s\n",
      "[CV 4/5] END ......C=10, penalty=l2, solver=sag;, score=0.779 total time=   0.1s\n",
      "[CV 5/5] END ......C=10, penalty=l2, solver=sag;, score=0.781 total time=   0.1s\n",
      "[CV 1/5] END .....C=10, penalty=l2, solver=saga;, score=0.787 total time=   0.2s\n",
      "[CV 2/5] END .....C=10, penalty=l2, solver=saga;, score=0.786 total time=   0.2s\n",
      "[CV 3/5] END .....C=10, penalty=l2, solver=saga;, score=0.790 total time=   0.2s\n",
      "[CV 4/5] END .....C=10, penalty=l2, solver=saga;, score=0.779 total time=   0.3s\n",
      "[CV 5/5] END .....C=10, penalty=l2, solver=saga;, score=0.781 total time=   0.2s\n",
      "[CV 1/5] END .C=100, penalty=l1, solver=newton-cg;, score=nan total time=   0.0s\n",
      "[CV 2/5] END .C=100, penalty=l1, solver=newton-cg;, score=nan total time=   0.0s\n",
      "[CV 3/5] END .C=100, penalty=l1, solver=newton-cg;, score=nan total time=   0.0s\n",
      "[CV 4/5] END .C=100, penalty=l1, solver=newton-cg;, score=nan total time=   0.0s\n",
      "[CV 5/5] END .C=100, penalty=l1, solver=newton-cg;, score=nan total time=   0.0s\n",
      "[CV 1/5] END .....C=100, penalty=l1, solver=lbfgs;, score=nan total time=   0.0s\n",
      "[CV 2/5] END .....C=100, penalty=l1, solver=lbfgs;, score=nan total time=   0.0s\n",
      "[CV 3/5] END .....C=100, penalty=l1, solver=lbfgs;, score=nan total time=   0.0s\n",
      "[CV 4/5] END .....C=100, penalty=l1, solver=lbfgs;, score=nan total time=   0.0s\n",
      "[CV 5/5] END .....C=100, penalty=l1, solver=lbfgs;, score=nan total time=   0.0s\n",
      "[CV 1/5] END C=100, penalty=l1, solver=liblinear;, score=0.788 total time=   0.1s\n",
      "[CV 2/5] END C=100, penalty=l1, solver=liblinear;, score=0.786 total time=   0.2s\n",
      "[CV 3/5] END C=100, penalty=l1, solver=liblinear;, score=0.790 total time=   0.2s\n",
      "[CV 4/5] END C=100, penalty=l1, solver=liblinear;, score=0.779 total time=   0.1s\n",
      "[CV 5/5] END C=100, penalty=l1, solver=liblinear;, score=0.781 total time=   0.1s\n",
      "[CV 1/5] END .......C=100, penalty=l1, solver=sag;, score=nan total time=   0.0s\n",
      "[CV 2/5] END .......C=100, penalty=l1, solver=sag;, score=nan total time=   0.0s\n",
      "[CV 3/5] END .......C=100, penalty=l1, solver=sag;, score=nan total time=   0.0s\n",
      "[CV 4/5] END .......C=100, penalty=l1, solver=sag;, score=nan total time=   0.0s\n",
      "[CV 5/5] END .......C=100, penalty=l1, solver=sag;, score=nan total time=   0.0s\n",
      "[CV 1/5] END ....C=100, penalty=l1, solver=saga;, score=0.788 total time=   0.2s\n",
      "[CV 2/5] END ....C=100, penalty=l1, solver=saga;, score=0.786 total time=   0.3s\n",
      "[CV 3/5] END ....C=100, penalty=l1, solver=saga;, score=0.790 total time=   0.3s\n",
      "[CV 4/5] END ....C=100, penalty=l1, solver=saga;, score=0.779 total time=   0.3s\n",
      "[CV 5/5] END ....C=100, penalty=l1, solver=saga;, score=0.781 total time=   0.2s\n",
      "[CV 1/5] END C=100, penalty=l2, solver=newton-cg;, score=0.788 total time=   0.0s\n",
      "[CV 2/5] END C=100, penalty=l2, solver=newton-cg;, score=0.786 total time=   0.1s\n",
      "[CV 3/5] END C=100, penalty=l2, solver=newton-cg;, score=0.790 total time=   0.0s\n",
      "[CV 4/5] END C=100, penalty=l2, solver=newton-cg;, score=0.779 total time=   0.1s\n",
      "[CV 5/5] END C=100, penalty=l2, solver=newton-cg;, score=0.781 total time=   0.0s\n",
      "[CV 1/5] END ...C=100, penalty=l2, solver=lbfgs;, score=0.788 total time=   0.0s\n",
      "[CV 2/5] END ...C=100, penalty=l2, solver=lbfgs;, score=0.786 total time=   0.0s\n",
      "[CV 3/5] END ...C=100, penalty=l2, solver=lbfgs;, score=0.790 total time=   0.0s\n",
      "[CV 4/5] END ...C=100, penalty=l2, solver=lbfgs;, score=0.779 total time=   0.0s\n",
      "[CV 5/5] END ...C=100, penalty=l2, solver=lbfgs;, score=0.781 total time=   0.0s\n",
      "[CV 1/5] END C=100, penalty=l2, solver=liblinear;, score=0.788 total time=   0.0s\n",
      "[CV 2/5] END C=100, penalty=l2, solver=liblinear;, score=0.786 total time=   0.0s\n",
      "[CV 3/5] END C=100, penalty=l2, solver=liblinear;, score=0.790 total time=   0.0s\n",
      "[CV 4/5] END C=100, penalty=l2, solver=liblinear;, score=0.779 total time=   0.0s\n",
      "[CV 5/5] END C=100, penalty=l2, solver=liblinear;, score=0.781 total time=   0.0s\n",
      "[CV 1/5] END .....C=100, penalty=l2, solver=sag;, score=0.788 total time=   0.1s\n",
      "[CV 2/5] END .....C=100, penalty=l2, solver=sag;, score=0.786 total time=   0.1s\n",
      "[CV 3/5] END .....C=100, penalty=l2, solver=sag;, score=0.790 total time=   0.1s\n",
      "[CV 4/5] END .....C=100, penalty=l2, solver=sag;, score=0.779 total time=   0.0s\n",
      "[CV 5/5] END .....C=100, penalty=l2, solver=sag;, score=0.781 total time=   0.0s\n",
      "[CV 1/5] END ....C=100, penalty=l2, solver=saga;, score=0.788 total time=   0.1s\n",
      "[CV 2/5] END ....C=100, penalty=l2, solver=saga;, score=0.786 total time=   0.1s\n",
      "[CV 3/5] END ....C=100, penalty=l2, solver=saga;, score=0.790 total time=   0.2s\n",
      "[CV 4/5] END ....C=100, penalty=l2, solver=saga;, score=0.779 total time=   0.2s\n",
      "[CV 5/5] END ....C=100, penalty=l2, solver=saga;, score=0.781 total time=   0.2s\n",
      "[CV 1/5] END C=1000, penalty=l1, solver=newton-cg;, score=nan total time=   0.0s\n",
      "[CV 2/5] END C=1000, penalty=l1, solver=newton-cg;, score=nan total time=   0.0s\n",
      "[CV 3/5] END C=1000, penalty=l1, solver=newton-cg;, score=nan total time=   0.0s\n",
      "[CV 4/5] END C=1000, penalty=l1, solver=newton-cg;, score=nan total time=   0.0s\n",
      "[CV 5/5] END C=1000, penalty=l1, solver=newton-cg;, score=nan total time=   0.0s\n",
      "[CV 1/5] END ....C=1000, penalty=l1, solver=lbfgs;, score=nan total time=   0.0s\n",
      "[CV 2/5] END ....C=1000, penalty=l1, solver=lbfgs;, score=nan total time=   0.0s\n",
      "[CV 3/5] END ....C=1000, penalty=l1, solver=lbfgs;, score=nan total time=   0.0s\n",
      "[CV 4/5] END ....C=1000, penalty=l1, solver=lbfgs;, score=nan total time=   0.0s\n",
      "[CV 5/5] END ....C=1000, penalty=l1, solver=lbfgs;, score=nan total time=   0.0s\n",
      "[CV 1/5] END C=1000, penalty=l1, solver=liblinear;, score=0.788 total time=   0.1s\n",
      "[CV 2/5] END C=1000, penalty=l1, solver=liblinear;, score=0.786 total time=   0.1s\n",
      "[CV 3/5] END C=1000, penalty=l1, solver=liblinear;, score=0.790 total time=   0.1s\n",
      "[CV 4/5] END C=1000, penalty=l1, solver=liblinear;, score=0.779 total time=   0.1s\n",
      "[CV 5/5] END C=1000, penalty=l1, solver=liblinear;, score=0.781 total time=   0.1s\n",
      "[CV 1/5] END ......C=1000, penalty=l1, solver=sag;, score=nan total time=   0.0s\n",
      "[CV 2/5] END ......C=1000, penalty=l1, solver=sag;, score=nan total time=   0.0s\n",
      "[CV 3/5] END ......C=1000, penalty=l1, solver=sag;, score=nan total time=   0.0s\n",
      "[CV 4/5] END ......C=1000, penalty=l1, solver=sag;, score=nan total time=   0.0s\n",
      "[CV 5/5] END ......C=1000, penalty=l1, solver=sag;, score=nan total time=   0.0s\n",
      "[CV 1/5] END ...C=1000, penalty=l1, solver=saga;, score=0.788 total time=   0.2s\n",
      "[CV 2/5] END ...C=1000, penalty=l1, solver=saga;, score=0.786 total time=   0.2s\n",
      "[CV 3/5] END ...C=1000, penalty=l1, solver=saga;, score=0.790 total time=   0.3s\n",
      "[CV 4/5] END ...C=1000, penalty=l1, solver=saga;, score=0.779 total time=   0.3s\n",
      "[CV 5/5] END ...C=1000, penalty=l1, solver=saga;, score=0.781 total time=   0.3s\n",
      "[CV 1/5] END C=1000, penalty=l2, solver=newton-cg;, score=0.788 total time=   0.0s\n",
      "[CV 2/5] END C=1000, penalty=l2, solver=newton-cg;, score=0.786 total time=   0.0s\n",
      "[CV 3/5] END C=1000, penalty=l2, solver=newton-cg;, score=0.790 total time=   0.0s\n",
      "[CV 4/5] END C=1000, penalty=l2, solver=newton-cg;, score=0.779 total time=   0.1s\n",
      "[CV 5/5] END C=1000, penalty=l2, solver=newton-cg;, score=0.781 total time=   0.0s\n",
      "[CV 1/5] END ..C=1000, penalty=l2, solver=lbfgs;, score=0.788 total time=   0.0s\n",
      "[CV 2/5] END ..C=1000, penalty=l2, solver=lbfgs;, score=0.786 total time=   0.0s\n",
      "[CV 3/5] END ..C=1000, penalty=l2, solver=lbfgs;, score=0.790 total time=   0.0s\n",
      "[CV 4/5] END ..C=1000, penalty=l2, solver=lbfgs;, score=0.779 total time=   0.0s\n",
      "[CV 5/5] END ..C=1000, penalty=l2, solver=lbfgs;, score=0.781 total time=   0.1s\n",
      "[CV 1/5] END C=1000, penalty=l2, solver=liblinear;, score=0.788 total time=   0.0s\n",
      "[CV 2/5] END C=1000, penalty=l2, solver=liblinear;, score=0.786 total time=   0.0s\n",
      "[CV 3/5] END C=1000, penalty=l2, solver=liblinear;, score=0.790 total time=   0.0s\n",
      "[CV 4/5] END C=1000, penalty=l2, solver=liblinear;, score=0.779 total time=   0.0s\n",
      "[CV 5/5] END C=1000, penalty=l2, solver=liblinear;, score=0.781 total time=   0.0s\n",
      "[CV 1/5] END ....C=1000, penalty=l2, solver=sag;, score=0.788 total time=   0.1s\n",
      "[CV 2/5] END ....C=1000, penalty=l2, solver=sag;, score=0.786 total time=   0.1s\n",
      "[CV 3/5] END ....C=1000, penalty=l2, solver=sag;, score=0.790 total time=   0.1s\n",
      "[CV 4/5] END ....C=1000, penalty=l2, solver=sag;, score=0.779 total time=   0.1s\n",
      "[CV 5/5] END ....C=1000, penalty=l2, solver=sag;, score=0.781 total time=   0.1s\n",
      "[CV 1/5] END ...C=1000, penalty=l2, solver=saga;, score=0.788 total time=   0.2s\n",
      "[CV 2/5] END ...C=1000, penalty=l2, solver=saga;, score=0.786 total time=   0.2s\n",
      "[CV 3/5] END ...C=1000, penalty=l2, solver=saga;, score=0.790 total time=   0.2s\n",
      "[CV 4/5] END ...C=1000, penalty=l2, solver=saga;, score=0.779 total time=   0.2s\n",
      "[CV 5/5] END ...C=1000, penalty=l2, solver=saga;, score=0.781 total time=   0.2s\n"
     ]
    },
    {
     "data": {
      "text/plain": [
       "{'C': 1, 'penalty': 'l2', 'solver': 'newton-cg'}"
      ]
     },
     "execution_count": 315,
     "metadata": {},
     "output_type": "execute_result"
    }
   ],
   "source": [
    "# Grid search\n",
    "\n",
    "param_grid = {\n",
    "  'penalty':['l1','l2'],\n",
    "  'C':[1, 10, 100, 1000],\n",
    "  'solver': ['newton-cg', 'lbfgs', 'liblinear', 'sag', 'saga'],\n",
    "}\n",
    "\n",
    "lgc=LogisticRegression(random_state=0)\n",
    "CV_lgc = GridSearchCV(estimator=lgc, verbose=3, param_grid=param_grid, cv = 5)\n",
    "CV_lgc.fit(X_trains, y_trains)\n",
    "CV_lgc.best_params_"
   ]
  },
  {
   "cell_type": "code",
   "execution_count": 328,
   "id": "8a19d995-c8bc-499e-ae00-ac1853bebfad",
   "metadata": {
    "tags": []
   },
   "outputs": [],
   "source": [
    "model_lgc_smt=LogisticRegression(C = 1, penalty= 'l2', solver= 'newton-cg')"
   ]
  },
  {
   "cell_type": "code",
   "execution_count": 329,
   "id": "b6097e5c-41ab-47ca-be3a-a57bdddd892d",
   "metadata": {
    "tags": []
   },
   "outputs": [
    {
     "data": {
      "text/html": [
       "<style>#sk-container-id-33 {color: black;}#sk-container-id-33 pre{padding: 0;}#sk-container-id-33 div.sk-toggleable {background-color: white;}#sk-container-id-33 label.sk-toggleable__label {cursor: pointer;display: block;width: 100%;margin-bottom: 0;padding: 0.3em;box-sizing: border-box;text-align: center;}#sk-container-id-33 label.sk-toggleable__label-arrow:before {content: \"▸\";float: left;margin-right: 0.25em;color: #696969;}#sk-container-id-33 label.sk-toggleable__label-arrow:hover:before {color: black;}#sk-container-id-33 div.sk-estimator:hover label.sk-toggleable__label-arrow:before {color: black;}#sk-container-id-33 div.sk-toggleable__content {max-height: 0;max-width: 0;overflow: hidden;text-align: left;background-color: #f0f8ff;}#sk-container-id-33 div.sk-toggleable__content pre {margin: 0.2em;color: black;border-radius: 0.25em;background-color: #f0f8ff;}#sk-container-id-33 input.sk-toggleable__control:checked~div.sk-toggleable__content {max-height: 200px;max-width: 100%;overflow: auto;}#sk-container-id-33 input.sk-toggleable__control:checked~label.sk-toggleable__label-arrow:before {content: \"▾\";}#sk-container-id-33 div.sk-estimator input.sk-toggleable__control:checked~label.sk-toggleable__label {background-color: #d4ebff;}#sk-container-id-33 div.sk-label input.sk-toggleable__control:checked~label.sk-toggleable__label {background-color: #d4ebff;}#sk-container-id-33 input.sk-hidden--visually {border: 0;clip: rect(1px 1px 1px 1px);clip: rect(1px, 1px, 1px, 1px);height: 1px;margin: -1px;overflow: hidden;padding: 0;position: absolute;width: 1px;}#sk-container-id-33 div.sk-estimator {font-family: monospace;background-color: #f0f8ff;border: 1px dotted black;border-radius: 0.25em;box-sizing: border-box;margin-bottom: 0.5em;}#sk-container-id-33 div.sk-estimator:hover {background-color: #d4ebff;}#sk-container-id-33 div.sk-parallel-item::after {content: \"\";width: 100%;border-bottom: 1px solid gray;flex-grow: 1;}#sk-container-id-33 div.sk-label:hover label.sk-toggleable__label {background-color: #d4ebff;}#sk-container-id-33 div.sk-serial::before {content: \"\";position: absolute;border-left: 1px solid gray;box-sizing: border-box;top: 0;bottom: 0;left: 50%;z-index: 0;}#sk-container-id-33 div.sk-serial {display: flex;flex-direction: column;align-items: center;background-color: white;padding-right: 0.2em;padding-left: 0.2em;position: relative;}#sk-container-id-33 div.sk-item {position: relative;z-index: 1;}#sk-container-id-33 div.sk-parallel {display: flex;align-items: stretch;justify-content: center;background-color: white;position: relative;}#sk-container-id-33 div.sk-item::before, #sk-container-id-33 div.sk-parallel-item::before {content: \"\";position: absolute;border-left: 1px solid gray;box-sizing: border-box;top: 0;bottom: 0;left: 50%;z-index: -1;}#sk-container-id-33 div.sk-parallel-item {display: flex;flex-direction: column;z-index: 1;position: relative;background-color: white;}#sk-container-id-33 div.sk-parallel-item:first-child::after {align-self: flex-end;width: 50%;}#sk-container-id-33 div.sk-parallel-item:last-child::after {align-self: flex-start;width: 50%;}#sk-container-id-33 div.sk-parallel-item:only-child::after {width: 0;}#sk-container-id-33 div.sk-dashed-wrapped {border: 1px dashed gray;margin: 0 0.4em 0.5em 0.4em;box-sizing: border-box;padding-bottom: 0.4em;background-color: white;}#sk-container-id-33 div.sk-label label {font-family: monospace;font-weight: bold;display: inline-block;line-height: 1.2em;}#sk-container-id-33 div.sk-label-container {text-align: center;}#sk-container-id-33 div.sk-container {/* jupyter's `normalize.less` sets `[hidden] { display: none; }` but bootstrap.min.css set `[hidden] { display: none !important; }` so we also need the `!important` here to be able to override the default hidden behavior on the sphinx rendered scikit-learn.org. See: https://github.com/scikit-learn/scikit-learn/issues/21755 */display: inline-block !important;position: relative;}#sk-container-id-33 div.sk-text-repr-fallback {display: none;}</style><div id=\"sk-container-id-33\" class=\"sk-top-container\"><div class=\"sk-text-repr-fallback\"><pre>LogisticRegression(C=1, solver=&#x27;newton-cg&#x27;)</pre><b>In a Jupyter environment, please rerun this cell to show the HTML representation or trust the notebook. <br />On GitHub, the HTML representation is unable to render, please try loading this page with nbviewer.org.</b></div><div class=\"sk-container\" hidden><div class=\"sk-item\"><div class=\"sk-estimator sk-toggleable\"><input class=\"sk-toggleable__control sk-hidden--visually\" id=\"sk-estimator-id-33\" type=\"checkbox\" checked><label for=\"sk-estimator-id-33\" class=\"sk-toggleable__label sk-toggleable__label-arrow\">LogisticRegression</label><div class=\"sk-toggleable__content\"><pre>LogisticRegression(C=1, solver=&#x27;newton-cg&#x27;)</pre></div></div></div></div></div>"
      ],
      "text/plain": [
       "LogisticRegression(C=1, solver='newton-cg')"
      ]
     },
     "execution_count": 329,
     "metadata": {},
     "output_type": "execute_result"
    }
   ],
   "source": [
    "model_lgc_smt.fit(X_trains,y_trains)"
   ]
  },
  {
   "cell_type": "code",
   "execution_count": 330,
   "id": "9297f048-d2df-4ad7-baa1-77eda8a8f241",
   "metadata": {
    "tags": []
   },
   "outputs": [],
   "source": [
    "pred_lgc_smt = model_lgc_smt.predict(X_tests)"
   ]
  },
  {
   "cell_type": "code",
   "execution_count": 331,
   "id": "cb292b55-1a9a-4fea-bd5f-dd1ea6d73cc4",
   "metadata": {
    "tags": []
   },
   "outputs": [
    {
     "name": "stdout",
     "output_type": "stream",
     "text": [
      "Accuracy : 78.5 %\n",
      "Precision: 78.69 %\n",
      "Recall: 78.5 %\n",
      "f1-score: 78.46 %\n"
     ]
    }
   ],
   "source": [
    "from sklearn.metrics import accuracy_score, precision_score, recall_score, f1_score # algorithm for call accuracy_score, precision_score, recall score and f1-score\n",
    "\n",
    "print('Accuracy :', round(accuracy_score(y_tests, pred_lgc_smt)*100,2),\"%\")\n",
    "print('Precision:', round(precision_score(y_tests, pred_lgc_smt, average='weighted', zero_division=0)*100,2),\"%\")\n",
    "print('Recall:', round(recall_score(y_tests, pred_lgc_smt, average='weighted', zero_division=0)*100,2), \"%\")\n",
    "print('f1-score:',round(f1_score(y_tests,pred_lgc_smt, average='weighted', zero_division=0)*100,2), \"%\")"
   ]
  },
  {
   "cell_type": "code",
   "execution_count": 332,
   "id": "131c2c2c-a8af-45da-8463-357bfbeb9c1a",
   "metadata": {
    "tags": []
   },
   "outputs": [
    {
     "data": {
      "image/png": "[encoded data removed]",
      "text/plain": [
       "<Figure size 640x480 with 2 Axes>"
      ]
     },
     "metadata": {},
     "output_type": "display_data"
    }
   ],
   "source": [
    "# confusion Matrix\n",
    "\n",
    "cm1 = confusion_matrix(y_tests, pred_lgc_smt)\n",
    "sns.heatmap(cm1/np.sum(cm1), annot=True, fmt='0.2%', cmap=\"Reds\")\n",
    "plt.title(\"Logistic Regression Confusion Matrix\",fontsize=12)\n",
    "plt.show()"
   ]
  },
  {
   "cell_type": "markdown",
   "id": "60531251-8e0f-4c5f-bac5-a8777b9132db",
   "metadata": {},
   "source": [
    "## Random Forest"
   ]
  },
  {
   "cell_type": "code",
   "execution_count": 321,
   "id": "4dfce0f0-4f1b-452f-960d-e3f4e269a5bf",
   "metadata": {
    "tags": []
   },
   "outputs": [
    {
     "name": "stdout",
     "output_type": "stream",
     "text": [
      "Fitting 5 folds for each of 60 candidates, totalling 300 fits\n",
      "[CV 1/5] END criterion=gini, max_depth=4, max_features=sqrt, n_estimators=200;, score=0.777 total time=   2.4s\n",
      "[CV 2/5] END criterion=gini, max_depth=4, max_features=sqrt, n_estimators=200;, score=0.779 total time=   2.3s\n",
      "[CV 3/5] END criterion=gini, max_depth=4, max_features=sqrt, n_estimators=200;, score=0.782 total time=   2.5s\n",
      "[CV 4/5] END criterion=gini, max_depth=4, max_features=sqrt, n_estimators=200;, score=0.784 total time=   2.8s\n",
      "[CV 5/5] END criterion=gini, max_depth=4, max_features=sqrt, n_estimators=200;, score=0.787 total time=   2.7s\n",
      "[CV 1/5] END criterion=gini, max_depth=4, max_features=sqrt, n_estimators=500;, score=0.779 total time=   6.3s\n",
      "[CV 2/5] END criterion=gini, max_depth=4, max_features=sqrt, n_estimators=500;, score=0.778 total time=   5.7s\n",
      "[CV 3/5] END criterion=gini, max_depth=4, max_features=sqrt, n_estimators=500;, score=0.784 total time=   6.6s\n",
      "[CV 4/5] END criterion=gini, max_depth=4, max_features=sqrt, n_estimators=500;, score=0.782 total time=   6.5s\n",
      "[CV 5/5] END criterion=gini, max_depth=4, max_features=sqrt, n_estimators=500;, score=0.789 total time=   6.6s\n",
      "[CV 1/5] END criterion=gini, max_depth=4, max_features=sqrt, n_estimators=700;, score=0.778 total time=   8.7s\n",
      "[CV 2/5] END criterion=gini, max_depth=4, max_features=sqrt, n_estimators=700;, score=0.778 total time=   8.1s\n",
      "[CV 3/5] END criterion=gini, max_depth=4, max_features=sqrt, n_estimators=700;, score=0.784 total time=   8.4s\n",
      "[CV 4/5] END criterion=gini, max_depth=4, max_features=sqrt, n_estimators=700;, score=0.782 total time=   8.0s\n",
      "[CV 5/5] END criterion=gini, max_depth=4, max_features=sqrt, n_estimators=700;, score=0.785 total time=   8.3s\n",
      "[CV 1/5] END criterion=gini, max_depth=4, max_features=log2, n_estimators=200;, score=0.777 total time=   2.3s\n",
      "[CV 2/5] END criterion=gini, max_depth=4, max_features=log2, n_estimators=200;, score=0.779 total time=   2.3s\n",
      "[CV 3/5] END criterion=gini, max_depth=4, max_features=log2, n_estimators=200;, score=0.782 total time=   2.3s\n",
      "[CV 4/5] END criterion=gini, max_depth=4, max_features=log2, n_estimators=200;, score=0.784 total time=   2.3s\n",
      "[CV 5/5] END criterion=gini, max_depth=4, max_features=log2, n_estimators=200;, score=0.787 total time=   2.4s\n",
      "[CV 1/5] END criterion=gini, max_depth=4, max_features=log2, n_estimators=500;, score=0.779 total time=   6.0s\n",
      "[CV 2/5] END criterion=gini, max_depth=4, max_features=log2, n_estimators=500;, score=0.778 total time=   5.6s\n",
      "[CV 3/5] END criterion=gini, max_depth=4, max_features=log2, n_estimators=500;, score=0.784 total time=   5.9s\n",
      "[CV 4/5] END criterion=gini, max_depth=4, max_features=log2, n_estimators=500;, score=0.782 total time=   5.9s\n",
      "[CV 5/5] END criterion=gini, max_depth=4, max_features=log2, n_estimators=500;, score=0.789 total time=   5.8s\n",
      "[CV 1/5] END criterion=gini, max_depth=4, max_features=log2, n_estimators=700;, score=0.778 total time=   8.1s\n",
      "[CV 2/5] END criterion=gini, max_depth=4, max_features=log2, n_estimators=700;, score=0.778 total time=   8.5s\n",
      "[CV 3/5] END criterion=gini, max_depth=4, max_features=log2, n_estimators=700;, score=0.784 total time=   8.6s\n",
      "[CV 4/5] END criterion=gini, max_depth=4, max_features=log2, n_estimators=700;, score=0.782 total time=  10.3s\n",
      "[CV 5/5] END criterion=gini, max_depth=4, max_features=log2, n_estimators=700;, score=0.785 total time=  10.6s\n",
      "[CV 1/5] END criterion=gini, max_depth=5, max_features=sqrt, n_estimators=200;, score=0.785 total time=   3.3s\n",
      "[CV 2/5] END criterion=gini, max_depth=5, max_features=sqrt, n_estimators=200;, score=0.786 total time=   3.3s\n",
      "[CV 3/5] END criterion=gini, max_depth=5, max_features=sqrt, n_estimators=200;, score=0.793 total time=   3.5s\n",
      "[CV 4/5] END criterion=gini, max_depth=5, max_features=sqrt, n_estimators=200;, score=0.782 total time=   3.3s\n",
      "[CV 5/5] END criterion=gini, max_depth=5, max_features=sqrt, n_estimators=200;, score=0.785 total time=   3.5s\n",
      "[CV 1/5] END criterion=gini, max_depth=5, max_features=sqrt, n_estimators=500;, score=0.784 total time=   8.2s\n",
      "[CV 2/5] END criterion=gini, max_depth=5, max_features=sqrt, n_estimators=500;, score=0.786 total time=   8.4s\n",
      "[CV 3/5] END criterion=gini, max_depth=5, max_features=sqrt, n_estimators=500;, score=0.795 total time=   8.2s\n",
      "[CV 4/5] END criterion=gini, max_depth=5, max_features=sqrt, n_estimators=500;, score=0.781 total time=   8.2s\n",
      "[CV 5/5] END criterion=gini, max_depth=5, max_features=sqrt, n_estimators=500;, score=0.788 total time=   8.6s\n",
      "[CV 1/5] END criterion=gini, max_depth=5, max_features=sqrt, n_estimators=700;, score=0.784 total time=  11.7s\n",
      "[CV 2/5] END criterion=gini, max_depth=5, max_features=sqrt, n_estimators=700;, score=0.786 total time=  12.4s\n",
      "[CV 3/5] END criterion=gini, max_depth=5, max_features=sqrt, n_estimators=700;, score=0.795 total time=  11.1s\n",
      "[CV 4/5] END criterion=gini, max_depth=5, max_features=sqrt, n_estimators=700;, score=0.782 total time=   9.9s\n",
      "[CV 5/5] END criterion=gini, max_depth=5, max_features=sqrt, n_estimators=700;, score=0.787 total time=   9.6s\n",
      "[CV 1/5] END criterion=gini, max_depth=5, max_features=log2, n_estimators=200;, score=0.785 total time=   2.8s\n",
      "[CV 2/5] END criterion=gini, max_depth=5, max_features=log2, n_estimators=200;, score=0.786 total time=   2.7s\n",
      "[CV 3/5] END criterion=gini, max_depth=5, max_features=log2, n_estimators=200;, score=0.793 total time=   2.7s\n",
      "[CV 4/5] END criterion=gini, max_depth=5, max_features=log2, n_estimators=200;, score=0.782 total time=   2.7s\n",
      "[CV 5/5] END criterion=gini, max_depth=5, max_features=log2, n_estimators=200;, score=0.785 total time=   2.8s\n",
      "[CV 1/5] END criterion=gini, max_depth=5, max_features=log2, n_estimators=500;, score=0.784 total time=   7.0s\n",
      "[CV 2/5] END criterion=gini, max_depth=5, max_features=log2, n_estimators=500;, score=0.786 total time=   7.2s\n",
      "[CV 3/5] END criterion=gini, max_depth=5, max_features=log2, n_estimators=500;, score=0.795 total time=   7.2s\n",
      "[CV 4/5] END criterion=gini, max_depth=5, max_features=log2, n_estimators=500;, score=0.781 total time=   7.1s\n",
      "[CV 5/5] END criterion=gini, max_depth=5, max_features=log2, n_estimators=500;, score=0.788 total time=   7.0s\n",
      "[CV 1/5] END criterion=gini, max_depth=5, max_features=log2, n_estimators=700;, score=0.784 total time=   9.6s\n",
      "[CV 2/5] END criterion=gini, max_depth=5, max_features=log2, n_estimators=700;, score=0.786 total time=  10.3s\n",
      "[CV 3/5] END criterion=gini, max_depth=5, max_features=log2, n_estimators=700;, score=0.795 total time=   9.7s\n",
      "[CV 4/5] END criterion=gini, max_depth=5, max_features=log2, n_estimators=700;, score=0.782 total time=   9.7s\n",
      "[CV 5/5] END criterion=gini, max_depth=5, max_features=log2, n_estimators=700;, score=0.787 total time=   9.7s\n",
      "[CV 1/5] END criterion=gini, max_depth=6, max_features=sqrt, n_estimators=200;, score=0.790 total time=   3.2s\n",
      "[CV 2/5] END criterion=gini, max_depth=6, max_features=sqrt, n_estimators=200;, score=0.793 total time=   3.1s\n",
      "[CV 3/5] END criterion=gini, max_depth=6, max_features=sqrt, n_estimators=200;, score=0.800 total time=   3.1s\n",
      "[CV 4/5] END criterion=gini, max_depth=6, max_features=sqrt, n_estimators=200;, score=0.786 total time=   3.0s\n",
      "[CV 5/5] END criterion=gini, max_depth=6, max_features=sqrt, n_estimators=200;, score=0.789 total time=   3.1s\n",
      "[CV 1/5] END criterion=gini, max_depth=6, max_features=sqrt, n_estimators=500;, score=0.790 total time=   7.8s\n",
      "[CV 2/5] END criterion=gini, max_depth=6, max_features=sqrt, n_estimators=500;, score=0.789 total time=   8.6s\n",
      "[CV 3/5] END criterion=gini, max_depth=6, max_features=sqrt, n_estimators=500;, score=0.802 total time=   9.7s\n",
      "[CV 4/5] END criterion=gini, max_depth=6, max_features=sqrt, n_estimators=500;, score=0.783 total time=   9.3s\n",
      "[CV 5/5] END criterion=gini, max_depth=6, max_features=sqrt, n_estimators=500;, score=0.789 total time=   9.7s\n",
      "[CV 1/5] END criterion=gini, max_depth=6, max_features=sqrt, n_estimators=700;, score=0.790 total time=  12.4s\n",
      "[CV 2/5] END criterion=gini, max_depth=6, max_features=sqrt, n_estimators=700;, score=0.792 total time=  13.4s\n",
      "[CV 3/5] END criterion=gini, max_depth=6, max_features=sqrt, n_estimators=700;, score=0.803 total time=  12.8s\n",
      "[CV 4/5] END criterion=gini, max_depth=6, max_features=sqrt, n_estimators=700;, score=0.782 total time=  12.1s\n",
      "[CV 5/5] END criterion=gini, max_depth=6, max_features=sqrt, n_estimators=700;, score=0.788 total time=  12.9s\n",
      "[CV 1/5] END criterion=gini, max_depth=6, max_features=log2, n_estimators=200;, score=0.790 total time=   3.7s\n",
      "[CV 2/5] END criterion=gini, max_depth=6, max_features=log2, n_estimators=200;, score=0.793 total time=   3.3s\n",
      "[CV 3/5] END criterion=gini, max_depth=6, max_features=log2, n_estimators=200;, score=0.800 total time=   3.9s\n",
      "[CV 4/5] END criterion=gini, max_depth=6, max_features=log2, n_estimators=200;, score=0.786 total time=   3.2s\n",
      "[CV 5/5] END criterion=gini, max_depth=6, max_features=log2, n_estimators=200;, score=0.789 total time=   3.1s\n",
      "[CV 1/5] END criterion=gini, max_depth=6, max_features=log2, n_estimators=500;, score=0.790 total time=   9.2s\n",
      "[CV 2/5] END criterion=gini, max_depth=6, max_features=log2, n_estimators=500;, score=0.789 total time=   8.0s\n",
      "[CV 3/5] END criterion=gini, max_depth=6, max_features=log2, n_estimators=500;, score=0.802 total time=   8.8s\n",
      "[CV 4/5] END criterion=gini, max_depth=6, max_features=log2, n_estimators=500;, score=0.783 total time=   9.4s\n",
      "[CV 5/5] END criterion=gini, max_depth=6, max_features=log2, n_estimators=500;, score=0.789 total time=   8.8s\n",
      "[CV 1/5] END criterion=gini, max_depth=6, max_features=log2, n_estimators=700;, score=0.790 total time=  13.9s\n",
      "[CV 2/5] END criterion=gini, max_depth=6, max_features=log2, n_estimators=700;, score=0.792 total time=  12.9s\n",
      "[CV 3/5] END criterion=gini, max_depth=6, max_features=log2, n_estimators=700;, score=0.803 total time=  11.6s\n",
      "[CV 4/5] END criterion=gini, max_depth=6, max_features=log2, n_estimators=700;, score=0.782 total time=  12.2s\n",
      "[CV 5/5] END criterion=gini, max_depth=6, max_features=log2, n_estimators=700;, score=0.788 total time=  13.2s\n",
      "[CV 1/5] END criterion=gini, max_depth=7, max_features=sqrt, n_estimators=200;, score=0.800 total time=   4.1s\n",
      "[CV 2/5] END criterion=gini, max_depth=7, max_features=sqrt, n_estimators=200;, score=0.793 total time=   4.6s\n",
      "[CV 3/5] END criterion=gini, max_depth=7, max_features=sqrt, n_estimators=200;, score=0.802 total time=   4.3s\n",
      "[CV 4/5] END criterion=gini, max_depth=7, max_features=sqrt, n_estimators=200;, score=0.787 total time=   4.2s\n",
      "[CV 5/5] END criterion=gini, max_depth=7, max_features=sqrt, n_estimators=200;, score=0.793 total time=   3.6s\n",
      "[CV 1/5] END criterion=gini, max_depth=7, max_features=sqrt, n_estimators=500;, score=0.803 total time=  11.8s\n",
      "[CV 2/5] END criterion=gini, max_depth=7, max_features=sqrt, n_estimators=500;, score=0.794 total time=  10.1s\n",
      "[CV 3/5] END criterion=gini, max_depth=7, max_features=sqrt, n_estimators=500;, score=0.806 total time=  10.2s\n",
      "[CV 4/5] END criterion=gini, max_depth=7, max_features=sqrt, n_estimators=500;, score=0.788 total time=   9.6s\n",
      "[CV 5/5] END criterion=gini, max_depth=7, max_features=sqrt, n_estimators=500;, score=0.793 total time=  11.8s\n",
      "[CV 1/5] END criterion=gini, max_depth=7, max_features=sqrt, n_estimators=700;, score=0.801 total time=  14.9s\n",
      "[CV 2/5] END criterion=gini, max_depth=7, max_features=sqrt, n_estimators=700;, score=0.793 total time=  14.5s\n",
      "[CV 3/5] END criterion=gini, max_depth=7, max_features=sqrt, n_estimators=700;, score=0.805 total time=  15.3s\n",
      "[CV 4/5] END criterion=gini, max_depth=7, max_features=sqrt, n_estimators=700;, score=0.788 total time=  13.8s\n",
      "[CV 5/5] END criterion=gini, max_depth=7, max_features=sqrt, n_estimators=700;, score=0.792 total time=  14.9s\n",
      "[CV 1/5] END criterion=gini, max_depth=7, max_features=log2, n_estimators=200;, score=0.800 total time=   4.3s\n",
      "[CV 2/5] END criterion=gini, max_depth=7, max_features=log2, n_estimators=200;, score=0.793 total time=   3.8s\n",
      "[CV 3/5] END criterion=gini, max_depth=7, max_features=log2, n_estimators=200;, score=0.802 total time=   3.7s\n",
      "[CV 4/5] END criterion=gini, max_depth=7, max_features=log2, n_estimators=200;, score=0.787 total time=   4.4s\n",
      "[CV 5/5] END criterion=gini, max_depth=7, max_features=log2, n_estimators=200;, score=0.793 total time=   4.2s\n",
      "[CV 1/5] END criterion=gini, max_depth=7, max_features=log2, n_estimators=500;, score=0.803 total time=  12.1s\n",
      "[CV 2/5] END criterion=gini, max_depth=7, max_features=log2, n_estimators=500;, score=0.794 total time=  10.3s\n",
      "[CV 3/5] END criterion=gini, max_depth=7, max_features=log2, n_estimators=500;, score=0.806 total time=  12.5s\n",
      "[CV 4/5] END criterion=gini, max_depth=7, max_features=log2, n_estimators=500;, score=0.788 total time=  10.2s\n",
      "[CV 5/5] END criterion=gini, max_depth=7, max_features=log2, n_estimators=500;, score=0.793 total time=  11.1s\n",
      "[CV 1/5] END criterion=gini, max_depth=7, max_features=log2, n_estimators=700;, score=0.801 total time=  14.3s\n",
      "[CV 2/5] END criterion=gini, max_depth=7, max_features=log2, n_estimators=700;, score=0.793 total time=  14.7s\n",
      "[CV 3/5] END criterion=gini, max_depth=7, max_features=log2, n_estimators=700;, score=0.805 total time=  16.1s\n",
      "[CV 4/5] END criterion=gini, max_depth=7, max_features=log2, n_estimators=700;, score=0.788 total time=  15.7s\n",
      "[CV 5/5] END criterion=gini, max_depth=7, max_features=log2, n_estimators=700;, score=0.792 total time=  15.8s\n",
      "[CV 1/5] END criterion=gini, max_depth=8, max_features=sqrt, n_estimators=200;, score=0.810 total time=   4.8s\n",
      "[CV 2/5] END criterion=gini, max_depth=8, max_features=sqrt, n_estimators=200;, score=0.801 total time=   6.1s\n",
      "[CV 3/5] END criterion=gini, max_depth=8, max_features=sqrt, n_estimators=200;, score=0.813 total time=   4.8s\n",
      "[CV 4/5] END criterion=gini, max_depth=8, max_features=sqrt, n_estimators=200;, score=0.795 total time=   4.1s\n",
      "[CV 5/5] END criterion=gini, max_depth=8, max_features=sqrt, n_estimators=200;, score=0.806 total time=   4.9s\n",
      "[CV 1/5] END criterion=gini, max_depth=8, max_features=sqrt, n_estimators=500;, score=0.812 total time=  11.4s\n",
      "[CV 2/5] END criterion=gini, max_depth=8, max_features=sqrt, n_estimators=500;, score=0.802 total time=  11.6s\n",
      "[CV 3/5] END criterion=gini, max_depth=8, max_features=sqrt, n_estimators=500;, score=0.812 total time=  12.8s\n",
      "[CV 4/5] END criterion=gini, max_depth=8, max_features=sqrt, n_estimators=500;, score=0.796 total time=  12.2s\n",
      "[CV 5/5] END criterion=gini, max_depth=8, max_features=sqrt, n_estimators=500;, score=0.804 total time=  11.9s\n",
      "[CV 1/5] END criterion=gini, max_depth=8, max_features=sqrt, n_estimators=700;, score=0.811 total time=  17.9s\n",
      "[CV 2/5] END criterion=gini, max_depth=8, max_features=sqrt, n_estimators=700;, score=0.801 total time=  16.7s\n",
      "[CV 3/5] END criterion=gini, max_depth=8, max_features=sqrt, n_estimators=700;, score=0.812 total time=  18.2s\n",
      "[CV 4/5] END criterion=gini, max_depth=8, max_features=sqrt, n_estimators=700;, score=0.795 total time=  20.7s\n",
      "[CV 5/5] END criterion=gini, max_depth=8, max_features=sqrt, n_estimators=700;, score=0.803 total time=  15.7s\n",
      "[CV 1/5] END criterion=gini, max_depth=8, max_features=log2, n_estimators=200;, score=0.810 total time=   4.2s\n",
      "[CV 2/5] END criterion=gini, max_depth=8, max_features=log2, n_estimators=200;, score=0.801 total time=   4.2s\n",
      "[CV 3/5] END criterion=gini, max_depth=8, max_features=log2, n_estimators=200;, score=0.813 total time=   5.9s\n",
      "[CV 4/5] END criterion=gini, max_depth=8, max_features=log2, n_estimators=200;, score=0.795 total time=   4.2s\n",
      "[CV 5/5] END criterion=gini, max_depth=8, max_features=log2, n_estimators=200;, score=0.806 total time=   3.7s\n",
      "[CV 1/5] END criterion=gini, max_depth=8, max_features=log2, n_estimators=500;, score=0.812 total time=  12.4s\n",
      "[CV 2/5] END criterion=gini, max_depth=8, max_features=log2, n_estimators=500;, score=0.802 total time=  14.5s\n",
      "[CV 3/5] END criterion=gini, max_depth=8, max_features=log2, n_estimators=500;, score=0.812 total time=  12.0s\n",
      "[CV 4/5] END criterion=gini, max_depth=8, max_features=log2, n_estimators=500;, score=0.796 total time=  11.1s\n",
      "[CV 5/5] END criterion=gini, max_depth=8, max_features=log2, n_estimators=500;, score=0.804 total time=  11.8s\n",
      "[CV 1/5] END criterion=gini, max_depth=8, max_features=log2, n_estimators=700;, score=0.811 total time=  17.7s\n",
      "[CV 2/5] END criterion=gini, max_depth=8, max_features=log2, n_estimators=700;, score=0.801 total time=  21.6s\n",
      "[CV 3/5] END criterion=gini, max_depth=8, max_features=log2, n_estimators=700;, score=0.812 total time=  16.3s\n",
      "[CV 4/5] END criterion=gini, max_depth=8, max_features=log2, n_estimators=700;, score=0.795 total time=  17.6s\n",
      "[CV 5/5] END criterion=gini, max_depth=8, max_features=log2, n_estimators=700;, score=0.803 total time=  18.7s\n",
      "[CV 1/5] END criterion=entropy, max_depth=4, max_features=sqrt, n_estimators=200;, score=0.776 total time=   3.3s\n",
      "[CV 2/5] END criterion=entropy, max_depth=4, max_features=sqrt, n_estimators=200;, score=0.779 total time=   2.6s\n",
      "[CV 3/5] END criterion=entropy, max_depth=4, max_features=sqrt, n_estimators=200;, score=0.784 total time=   2.5s\n",
      "[CV 4/5] END criterion=entropy, max_depth=4, max_features=sqrt, n_estimators=200;, score=0.780 total time=   2.9s\n",
      "[CV 5/5] END criterion=entropy, max_depth=4, max_features=sqrt, n_estimators=200;, score=0.784 total time=   3.0s\n",
      "[CV 1/5] END criterion=entropy, max_depth=4, max_features=sqrt, n_estimators=500;, score=0.779 total time=   6.0s\n",
      "[CV 2/5] END criterion=entropy, max_depth=4, max_features=sqrt, n_estimators=500;, score=0.777 total time=   5.0s\n",
      "[CV 3/5] END criterion=entropy, max_depth=4, max_features=sqrt, n_estimators=500;, score=0.781 total time=   4.5s\n",
      "[CV 4/5] END criterion=entropy, max_depth=4, max_features=sqrt, n_estimators=500;, score=0.781 total time=   5.1s\n",
      "[CV 5/5] END criterion=entropy, max_depth=4, max_features=sqrt, n_estimators=500;, score=0.785 total time=   5.0s\n",
      "[CV 1/5] END criterion=entropy, max_depth=4, max_features=sqrt, n_estimators=700;, score=0.779 total time=   5.9s\n",
      "[CV 2/5] END criterion=entropy, max_depth=4, max_features=sqrt, n_estimators=700;, score=0.777 total time=   7.4s\n",
      "[CV 3/5] END criterion=entropy, max_depth=4, max_features=sqrt, n_estimators=700;, score=0.781 total time=   7.2s\n",
      "[CV 4/5] END criterion=entropy, max_depth=4, max_features=sqrt, n_estimators=700;, score=0.782 total time=   7.2s\n",
      "[CV 5/5] END criterion=entropy, max_depth=4, max_features=sqrt, n_estimators=700;, score=0.785 total time=   7.6s\n",
      "[CV 1/5] END criterion=entropy, max_depth=4, max_features=log2, n_estimators=200;, score=0.776 total time=   1.9s\n",
      "[CV 2/5] END criterion=entropy, max_depth=4, max_features=log2, n_estimators=200;, score=0.779 total time=   2.0s\n",
      "[CV 3/5] END criterion=entropy, max_depth=4, max_features=log2, n_estimators=200;, score=0.784 total time=   2.2s\n",
      "[CV 4/5] END criterion=entropy, max_depth=4, max_features=log2, n_estimators=200;, score=0.780 total time=   1.9s\n",
      "[CV 5/5] END criterion=entropy, max_depth=4, max_features=log2, n_estimators=200;, score=0.784 total time=   1.6s\n",
      "[CV 1/5] END criterion=entropy, max_depth=4, max_features=log2, n_estimators=500;, score=0.779 total time=   5.2s\n",
      "[CV 2/5] END criterion=entropy, max_depth=4, max_features=log2, n_estimators=500;, score=0.777 total time=   4.1s\n",
      "[CV 3/5] END criterion=entropy, max_depth=4, max_features=log2, n_estimators=500;, score=0.781 total time=   5.1s\n",
      "[CV 4/5] END criterion=entropy, max_depth=4, max_features=log2, n_estimators=500;, score=0.781 total time=   4.7s\n",
      "[CV 5/5] END criterion=entropy, max_depth=4, max_features=log2, n_estimators=500;, score=0.785 total time=   4.6s\n",
      "[CV 1/5] END criterion=entropy, max_depth=4, max_features=log2, n_estimators=700;, score=0.779 total time=   6.6s\n",
      "[CV 2/5] END criterion=entropy, max_depth=4, max_features=log2, n_estimators=700;, score=0.777 total time=   7.0s\n",
      "[CV 3/5] END criterion=entropy, max_depth=4, max_features=log2, n_estimators=700;, score=0.781 total time=   6.8s\n",
      "[CV 4/5] END criterion=entropy, max_depth=4, max_features=log2, n_estimators=700;, score=0.782 total time=   8.5s\n",
      "[CV 5/5] END criterion=entropy, max_depth=4, max_features=log2, n_estimators=700;, score=0.785 total time=   7.9s\n",
      "[CV 1/5] END criterion=entropy, max_depth=5, max_features=sqrt, n_estimators=200;, score=0.786 total time=   2.5s\n",
      "[CV 2/5] END criterion=entropy, max_depth=5, max_features=sqrt, n_estimators=200;, score=0.784 total time=   2.4s\n",
      "[CV 3/5] END criterion=entropy, max_depth=5, max_features=sqrt, n_estimators=200;, score=0.790 total time=   2.2s\n",
      "[CV 4/5] END criterion=entropy, max_depth=5, max_features=sqrt, n_estimators=200;, score=0.783 total time=   2.4s\n",
      "[CV 5/5] END criterion=entropy, max_depth=5, max_features=sqrt, n_estimators=200;, score=0.787 total time=   3.9s\n",
      "[CV 1/5] END criterion=entropy, max_depth=5, max_features=sqrt, n_estimators=500;, score=0.785 total time=   7.2s\n",
      "[CV 2/5] END criterion=entropy, max_depth=5, max_features=sqrt, n_estimators=500;, score=0.783 total time=   6.6s\n",
      "[CV 3/5] END criterion=entropy, max_depth=5, max_features=sqrt, n_estimators=500;, score=0.793 total time=   7.3s\n",
      "[CV 4/5] END criterion=entropy, max_depth=5, max_features=sqrt, n_estimators=500;, score=0.782 total time=   6.2s\n",
      "[CV 5/5] END criterion=entropy, max_depth=5, max_features=sqrt, n_estimators=500;, score=0.788 total time=   7.5s\n",
      "[CV 1/5] END criterion=entropy, max_depth=5, max_features=sqrt, n_estimators=700;, score=0.784 total time=   9.0s\n",
      "[CV 2/5] END criterion=entropy, max_depth=5, max_features=sqrt, n_estimators=700;, score=0.786 total time=  12.1s\n",
      "[CV 3/5] END criterion=entropy, max_depth=5, max_features=sqrt, n_estimators=700;, score=0.795 total time=  14.3s\n",
      "[CV 4/5] END criterion=entropy, max_depth=5, max_features=sqrt, n_estimators=700;, score=0.781 total time=  10.2s\n",
      "[CV 5/5] END criterion=entropy, max_depth=5, max_features=sqrt, n_estimators=700;, score=0.786 total time=   7.8s\n",
      "[CV 1/5] END criterion=entropy, max_depth=5, max_features=log2, n_estimators=200;, score=0.786 total time=   2.8s\n",
      "[CV 2/5] END criterion=entropy, max_depth=5, max_features=log2, n_estimators=200;, score=0.784 total time=   3.3s\n",
      "[CV 3/5] END criterion=entropy, max_depth=5, max_features=log2, n_estimators=200;, score=0.790 total time=   2.8s\n",
      "[CV 4/5] END criterion=entropy, max_depth=5, max_features=log2, n_estimators=200;, score=0.783 total time=   2.4s\n",
      "[CV 5/5] END criterion=entropy, max_depth=5, max_features=log2, n_estimators=200;, score=0.787 total time=   2.0s\n",
      "[CV 1/5] END criterion=entropy, max_depth=5, max_features=log2, n_estimators=500;, score=0.785 total time=   6.7s\n",
      "[CV 2/5] END criterion=entropy, max_depth=5, max_features=log2, n_estimators=500;, score=0.783 total time=   7.7s\n",
      "[CV 3/5] END criterion=entropy, max_depth=5, max_features=log2, n_estimators=500;, score=0.793 total time=   7.4s\n",
      "[CV 4/5] END criterion=entropy, max_depth=5, max_features=log2, n_estimators=500;, score=0.782 total time=   8.9s\n",
      "[CV 5/5] END criterion=entropy, max_depth=5, max_features=log2, n_estimators=500;, score=0.788 total time=   4.2s\n",
      "[CV 1/5] END criterion=entropy, max_depth=5, max_features=log2, n_estimators=700;, score=0.784 total time=   6.2s\n",
      "[CV 2/5] END criterion=entropy, max_depth=5, max_features=log2, n_estimators=700;, score=0.786 total time=   5.5s\n",
      "[CV 3/5] END criterion=entropy, max_depth=5, max_features=log2, n_estimators=700;, score=0.795 total time=   6.5s\n",
      "[CV 4/5] END criterion=entropy, max_depth=5, max_features=log2, n_estimators=700;, score=0.781 total time=   5.8s\n",
      "[CV 5/5] END criterion=entropy, max_depth=5, max_features=log2, n_estimators=700;, score=0.786 total time=   8.1s\n",
      "[CV 1/5] END criterion=entropy, max_depth=6, max_features=sqrt, n_estimators=200;, score=0.790 total time=   2.3s\n",
      "[CV 2/5] END criterion=entropy, max_depth=6, max_features=sqrt, n_estimators=200;, score=0.787 total time=   2.1s\n",
      "[CV 3/5] END criterion=entropy, max_depth=6, max_features=sqrt, n_estimators=200;, score=0.802 total time=   1.9s\n",
      "[CV 4/5] END criterion=entropy, max_depth=6, max_features=sqrt, n_estimators=200;, score=0.784 total time=   2.3s\n",
      "[CV 5/5] END criterion=entropy, max_depth=6, max_features=sqrt, n_estimators=200;, score=0.789 total time=   2.1s\n",
      "[CV 1/5] END criterion=entropy, max_depth=6, max_features=sqrt, n_estimators=500;, score=0.793 total time=   5.1s\n",
      "[CV 2/5] END criterion=entropy, max_depth=6, max_features=sqrt, n_estimators=500;, score=0.789 total time=   5.9s\n",
      "[CV 3/5] END criterion=entropy, max_depth=6, max_features=sqrt, n_estimators=500;, score=0.801 total time=   6.1s\n",
      "[CV 4/5] END criterion=entropy, max_depth=6, max_features=sqrt, n_estimators=500;, score=0.782 total time=   6.3s\n",
      "[CV 5/5] END criterion=entropy, max_depth=6, max_features=sqrt, n_estimators=500;, score=0.788 total time=   6.7s\n",
      "[CV 1/5] END criterion=entropy, max_depth=6, max_features=sqrt, n_estimators=700;, score=0.792 total time=   9.4s\n",
      "[CV 2/5] END criterion=entropy, max_depth=6, max_features=sqrt, n_estimators=700;, score=0.789 total time=   9.5s\n",
      "[CV 3/5] END criterion=entropy, max_depth=6, max_features=sqrt, n_estimators=700;, score=0.801 total time=   9.1s\n",
      "[CV 4/5] END criterion=entropy, max_depth=6, max_features=sqrt, n_estimators=700;, score=0.781 total time=   8.2s\n",
      "[CV 5/5] END criterion=entropy, max_depth=6, max_features=sqrt, n_estimators=700;, score=0.789 total time=  14.6s\n",
      "[CV 1/5] END criterion=entropy, max_depth=6, max_features=log2, n_estimators=200;, score=0.790 total time=   2.9s\n",
      "[CV 2/5] END criterion=entropy, max_depth=6, max_features=log2, n_estimators=200;, score=0.787 total time=   3.5s\n",
      "[CV 3/5] END criterion=entropy, max_depth=6, max_features=log2, n_estimators=200;, score=0.802 total time=   3.3s\n",
      "[CV 4/5] END criterion=entropy, max_depth=6, max_features=log2, n_estimators=200;, score=0.784 total time=   3.3s\n",
      "[CV 5/5] END criterion=entropy, max_depth=6, max_features=log2, n_estimators=200;, score=0.789 total time=   2.7s\n",
      "[CV 1/5] END criterion=entropy, max_depth=6, max_features=log2, n_estimators=500;, score=0.793 total time=   6.2s\n",
      "[CV 2/5] END criterion=entropy, max_depth=6, max_features=log2, n_estimators=500;, score=0.789 total time=   5.9s\n",
      "[CV 3/5] END criterion=entropy, max_depth=6, max_features=log2, n_estimators=500;, score=0.801 total time=   5.6s\n",
      "[CV 4/5] END criterion=entropy, max_depth=6, max_features=log2, n_estimators=500;, score=0.782 total time=   6.1s\n",
      "[CV 5/5] END criterion=entropy, max_depth=6, max_features=log2, n_estimators=500;, score=0.788 total time=   5.6s\n",
      "[CV 1/5] END criterion=entropy, max_depth=6, max_features=log2, n_estimators=700;, score=0.792 total time=  10.9s\n",
      "[CV 2/5] END criterion=entropy, max_depth=6, max_features=log2, n_estimators=700;, score=0.789 total time=  12.5s\n",
      "[CV 3/5] END criterion=entropy, max_depth=6, max_features=log2, n_estimators=700;, score=0.801 total time=   9.8s\n",
      "[CV 4/5] END criterion=entropy, max_depth=6, max_features=log2, n_estimators=700;, score=0.781 total time=  10.5s\n",
      "[CV 5/5] END criterion=entropy, max_depth=6, max_features=log2, n_estimators=700;, score=0.789 total time=   8.8s\n",
      "[CV 1/5] END criterion=entropy, max_depth=7, max_features=sqrt, n_estimators=200;, score=0.799 total time=   2.9s\n",
      "[CV 2/5] END criterion=entropy, max_depth=7, max_features=sqrt, n_estimators=200;, score=0.793 total time=   2.8s\n",
      "[CV 3/5] END criterion=entropy, max_depth=7, max_features=sqrt, n_estimators=200;, score=0.804 total time=   3.5s\n",
      "[CV 4/5] END criterion=entropy, max_depth=7, max_features=sqrt, n_estimators=200;, score=0.789 total time=   2.5s\n",
      "[CV 5/5] END criterion=entropy, max_depth=7, max_features=sqrt, n_estimators=200;, score=0.793 total time=   4.5s\n",
      "[CV 1/5] END criterion=entropy, max_depth=7, max_features=sqrt, n_estimators=500;, score=0.802 total time=  10.5s\n",
      "[CV 2/5] END criterion=entropy, max_depth=7, max_features=sqrt, n_estimators=500;, score=0.794 total time=  10.2s\n",
      "[CV 3/5] END criterion=entropy, max_depth=7, max_features=sqrt, n_estimators=500;, score=0.807 total time=   7.0s\n",
      "[CV 4/5] END criterion=entropy, max_depth=7, max_features=sqrt, n_estimators=500;, score=0.789 total time=   7.0s\n",
      "[CV 5/5] END criterion=entropy, max_depth=7, max_features=sqrt, n_estimators=500;, score=0.792 total time=   7.0s\n",
      "[CV 1/5] END criterion=entropy, max_depth=7, max_features=sqrt, n_estimators=700;, score=0.801 total time=   7.9s\n",
      "[CV 2/5] END criterion=entropy, max_depth=7, max_features=sqrt, n_estimators=700;, score=0.793 total time=   9.5s\n",
      "[CV 3/5] END criterion=entropy, max_depth=7, max_features=sqrt, n_estimators=700;, score=0.805 total time=   9.1s\n",
      "[CV 4/5] END criterion=entropy, max_depth=7, max_features=sqrt, n_estimators=700;, score=0.789 total time=   9.0s\n",
      "[CV 5/5] END criterion=entropy, max_depth=7, max_features=sqrt, n_estimators=700;, score=0.791 total time=   9.8s\n",
      "[CV 1/5] END criterion=entropy, max_depth=7, max_features=log2, n_estimators=200;, score=0.799 total time=   3.8s\n",
      "[CV 2/5] END criterion=entropy, max_depth=7, max_features=log2, n_estimators=200;, score=0.793 total time=   2.4s\n",
      "[CV 3/5] END criterion=entropy, max_depth=7, max_features=log2, n_estimators=200;, score=0.804 total time=   2.9s\n",
      "[CV 4/5] END criterion=entropy, max_depth=7, max_features=log2, n_estimators=200;, score=0.789 total time=   2.9s\n",
      "[CV 5/5] END criterion=entropy, max_depth=7, max_features=log2, n_estimators=200;, score=0.793 total time=   2.4s\n",
      "[CV 1/5] END criterion=entropy, max_depth=7, max_features=log2, n_estimators=500;, score=0.802 total time=   6.4s\n",
      "[CV 2/5] END criterion=entropy, max_depth=7, max_features=log2, n_estimators=500;, score=0.794 total time=   7.1s\n",
      "[CV 3/5] END criterion=entropy, max_depth=7, max_features=log2, n_estimators=500;, score=0.807 total time=   7.0s\n",
      "[CV 4/5] END criterion=entropy, max_depth=7, max_features=log2, n_estimators=500;, score=0.789 total time=   6.0s\n",
      "[CV 5/5] END criterion=entropy, max_depth=7, max_features=log2, n_estimators=500;, score=0.792 total time=   5.9s\n",
      "[CV 1/5] END criterion=entropy, max_depth=7, max_features=log2, n_estimators=700;, score=0.801 total time=   8.0s\n",
      "[CV 2/5] END criterion=entropy, max_depth=7, max_features=log2, n_estimators=700;, score=0.793 total time=   8.4s\n",
      "[CV 3/5] END criterion=entropy, max_depth=7, max_features=log2, n_estimators=700;, score=0.805 total time=   7.6s\n",
      "[CV 4/5] END criterion=entropy, max_depth=7, max_features=log2, n_estimators=700;, score=0.789 total time=   8.9s\n",
      "[CV 5/5] END criterion=entropy, max_depth=7, max_features=log2, n_estimators=700;, score=0.791 total time=  10.8s\n",
      "[CV 1/5] END criterion=entropy, max_depth=8, max_features=sqrt, n_estimators=200;, score=0.810 total time=   3.7s\n",
      "[CV 2/5] END criterion=entropy, max_depth=8, max_features=sqrt, n_estimators=200;, score=0.802 total time=   3.2s\n",
      "[CV 3/5] END criterion=entropy, max_depth=8, max_features=sqrt, n_estimators=200;, score=0.816 total time=   3.6s\n",
      "[CV 4/5] END criterion=entropy, max_depth=8, max_features=sqrt, n_estimators=200;, score=0.798 total time=   3.7s\n",
      "[CV 5/5] END criterion=entropy, max_depth=8, max_features=sqrt, n_estimators=200;, score=0.798 total time=   3.0s\n",
      "[CV 1/5] END criterion=entropy, max_depth=8, max_features=sqrt, n_estimators=500;, score=0.810 total time=   8.6s\n",
      "[CV 2/5] END criterion=entropy, max_depth=8, max_features=sqrt, n_estimators=500;, score=0.803 total time=   8.7s\n",
      "[CV 3/5] END criterion=entropy, max_depth=8, max_features=sqrt, n_estimators=500;, score=0.813 total time=   8.4s\n",
      "[CV 4/5] END criterion=entropy, max_depth=8, max_features=sqrt, n_estimators=500;, score=0.792 total time=   8.8s\n",
      "[CV 5/5] END criterion=entropy, max_depth=8, max_features=sqrt, n_estimators=500;, score=0.802 total time=   8.2s\n",
      "[CV 1/5] END criterion=entropy, max_depth=8, max_features=sqrt, n_estimators=700;, score=0.811 total time=  19.9s\n",
      "[CV 2/5] END criterion=entropy, max_depth=8, max_features=sqrt, n_estimators=700;, score=0.800 total time=  11.3s\n",
      "[CV 3/5] END criterion=entropy, max_depth=8, max_features=sqrt, n_estimators=700;, score=0.815 total time=  10.8s\n",
      "[CV 4/5] END criterion=entropy, max_depth=8, max_features=sqrt, n_estimators=700;, score=0.794 total time=  11.8s\n",
      "[CV 5/5] END criterion=entropy, max_depth=8, max_features=sqrt, n_estimators=700;, score=0.801 total time=  12.0s\n",
      "[CV 1/5] END criterion=entropy, max_depth=8, max_features=log2, n_estimators=200;, score=0.810 total time=   3.7s\n",
      "[CV 2/5] END criterion=entropy, max_depth=8, max_features=log2, n_estimators=200;, score=0.802 total time=   2.8s\n",
      "[CV 3/5] END criterion=entropy, max_depth=8, max_features=log2, n_estimators=200;, score=0.816 total time=   3.1s\n",
      "[CV 4/5] END criterion=entropy, max_depth=8, max_features=log2, n_estimators=200;, score=0.798 total time=   2.7s\n",
      "[CV 5/5] END criterion=entropy, max_depth=8, max_features=log2, n_estimators=200;, score=0.798 total time=   5.3s\n",
      "[CV 1/5] END criterion=entropy, max_depth=8, max_features=log2, n_estimators=500;, score=0.810 total time=   8.6s\n",
      "[CV 2/5] END criterion=entropy, max_depth=8, max_features=log2, n_estimators=500;, score=0.803 total time=  10.5s\n",
      "[CV 3/5] END criterion=entropy, max_depth=8, max_features=log2, n_estimators=500;, score=0.813 total time=   7.8s\n",
      "[CV 4/5] END criterion=entropy, max_depth=8, max_features=log2, n_estimators=500;, score=0.792 total time=   8.5s\n",
      "[CV 5/5] END criterion=entropy, max_depth=8, max_features=log2, n_estimators=500;, score=0.802 total time=   8.4s\n",
      "[CV 1/5] END criterion=entropy, max_depth=8, max_features=log2, n_estimators=700;, score=0.811 total time=  12.0s\n",
      "[CV 2/5] END criterion=entropy, max_depth=8, max_features=log2, n_estimators=700;, score=0.800 total time=  10.8s\n",
      "[CV 3/5] END criterion=entropy, max_depth=8, max_features=log2, n_estimators=700;, score=0.815 total time=  11.3s\n",
      "[CV 4/5] END criterion=entropy, max_depth=8, max_features=log2, n_estimators=700;, score=0.794 total time=  11.6s\n",
      "[CV 5/5] END criterion=entropy, max_depth=8, max_features=log2, n_estimators=700;, score=0.801 total time=   9.8s\n"
     ]
    },
    {
     "data": {
      "text/plain": [
       "{'criterion': 'gini',\n",
       " 'max_depth': 8,\n",
       " 'max_features': 'sqrt',\n",
       " 'n_estimators': 500}"
      ]
     },
     "execution_count": 321,
     "metadata": {},
     "output_type": "execute_result"
    }
   ],
   "source": [
    "param_grid = {\n",
    "  'n_estimators': [200, 500, 700],\n",
    "  'max_features': ['sqrt', 'log2'],\n",
    "  'max_depth' : [4,5,6,7,8],\n",
    "  'criterion' :['gini', 'entropy'],\n",
    "}\n",
    "\n",
    "rfc=RandomForestClassifier(random_state=0)\n",
    "CV_rfc = GridSearchCV(estimator=rfc, verbose=3, param_grid=param_grid, cv = 5)\n",
    "CV_rfc.fit(X_trains, y_trains)\n",
    "CV_rfc.best_params_"
   ]
  },
  {
   "cell_type": "code",
   "execution_count": 333,
   "id": "a7f05946-6eab-4a0d-ab81-c32efc7fe9b9",
   "metadata": {
    "tags": []
   },
   "outputs": [],
   "source": [
    "# Creating model object\n",
    "model_rf_smt = RandomForestClassifier(criterion='gini',max_depth=8, max_features='sqrt', n_estimators=500, random_state=0)"
   ]
  },
  {
   "cell_type": "code",
   "execution_count": 334,
   "id": "3e1b3286-538e-4d96-afd6-b76a173499b3",
   "metadata": {
    "tags": []
   },
   "outputs": [
    {
     "data": {
      "text/html": [
       "<style>#sk-container-id-34 {color: black;}#sk-container-id-34 pre{padding: 0;}#sk-container-id-34 div.sk-toggleable {background-color: white;}#sk-container-id-34 label.sk-toggleable__label {cursor: pointer;display: block;width: 100%;margin-bottom: 0;padding: 0.3em;box-sizing: border-box;text-align: center;}#sk-container-id-34 label.sk-toggleable__label-arrow:before {content: \"▸\";float: left;margin-right: 0.25em;color: #696969;}#sk-container-id-34 label.sk-toggleable__label-arrow:hover:before {color: black;}#sk-container-id-34 div.sk-estimator:hover label.sk-toggleable__label-arrow:before {color: black;}#sk-container-id-34 div.sk-toggleable__content {max-height: 0;max-width: 0;overflow: hidden;text-align: left;background-color: #f0f8ff;}#sk-container-id-34 div.sk-toggleable__content pre {margin: 0.2em;color: black;border-radius: 0.25em;background-color: #f0f8ff;}#sk-container-id-34 input.sk-toggleable__control:checked~div.sk-toggleable__content {max-height: 200px;max-width: 100%;overflow: auto;}#sk-container-id-34 input.sk-toggleable__control:checked~label.sk-toggleable__label-arrow:before {content: \"▾\";}#sk-container-id-34 div.sk-estimator input.sk-toggleable__control:checked~label.sk-toggleable__label {background-color: #d4ebff;}#sk-container-id-34 div.sk-label input.sk-toggleable__control:checked~label.sk-toggleable__label {background-color: #d4ebff;}#sk-container-id-34 input.sk-hidden--visually {border: 0;clip: rect(1px 1px 1px 1px);clip: rect(1px, 1px, 1px, 1px);height: 1px;margin: -1px;overflow: hidden;padding: 0;position: absolute;width: 1px;}#sk-container-id-34 div.sk-estimator {font-family: monospace;background-color: #f0f8ff;border: 1px dotted black;border-radius: 0.25em;box-sizing: border-box;margin-bottom: 0.5em;}#sk-container-id-34 div.sk-estimator:hover {background-color: #d4ebff;}#sk-container-id-34 div.sk-parallel-item::after {content: \"\";width: 100%;border-bottom: 1px solid gray;flex-grow: 1;}#sk-container-id-34 div.sk-label:hover label.sk-toggleable__label {background-color: #d4ebff;}#sk-container-id-34 div.sk-serial::before {content: \"\";position: absolute;border-left: 1px solid gray;box-sizing: border-box;top: 0;bottom: 0;left: 50%;z-index: 0;}#sk-container-id-34 div.sk-serial {display: flex;flex-direction: column;align-items: center;background-color: white;padding-right: 0.2em;padding-left: 0.2em;position: relative;}#sk-container-id-34 div.sk-item {position: relative;z-index: 1;}#sk-container-id-34 div.sk-parallel {display: flex;align-items: stretch;justify-content: center;background-color: white;position: relative;}#sk-container-id-34 div.sk-item::before, #sk-container-id-34 div.sk-parallel-item::before {content: \"\";position: absolute;border-left: 1px solid gray;box-sizing: border-box;top: 0;bottom: 0;left: 50%;z-index: -1;}#sk-container-id-34 div.sk-parallel-item {display: flex;flex-direction: column;z-index: 1;position: relative;background-color: white;}#sk-container-id-34 div.sk-parallel-item:first-child::after {align-self: flex-end;width: 50%;}#sk-container-id-34 div.sk-parallel-item:last-child::after {align-self: flex-start;width: 50%;}#sk-container-id-34 div.sk-parallel-item:only-child::after {width: 0;}#sk-container-id-34 div.sk-dashed-wrapped {border: 1px dashed gray;margin: 0 0.4em 0.5em 0.4em;box-sizing: border-box;padding-bottom: 0.4em;background-color: white;}#sk-container-id-34 div.sk-label label {font-family: monospace;font-weight: bold;display: inline-block;line-height: 1.2em;}#sk-container-id-34 div.sk-label-container {text-align: center;}#sk-container-id-34 div.sk-container {/* jupyter's `normalize.less` sets `[hidden] { display: none; }` but bootstrap.min.css set `[hidden] { display: none !important; }` so we also need the `!important` here to be able to override the default hidden behavior on the sphinx rendered scikit-learn.org. See: https://github.com/scikit-learn/scikit-learn/issues/21755 */display: inline-block !important;position: relative;}#sk-container-id-34 div.sk-text-repr-fallback {display: none;}</style><div id=\"sk-container-id-34\" class=\"sk-top-container\"><div class=\"sk-text-repr-fallback\"><pre>RandomForestClassifier(max_depth=8, n_estimators=500, random_state=0)</pre><b>In a Jupyter environment, please rerun this cell to show the HTML representation or trust the notebook. <br />On GitHub, the HTML representation is unable to render, please try loading this page with nbviewer.org.</b></div><div class=\"sk-container\" hidden><div class=\"sk-item\"><div class=\"sk-estimator sk-toggleable\"><input class=\"sk-toggleable__control sk-hidden--visually\" id=\"sk-estimator-id-34\" type=\"checkbox\" checked><label for=\"sk-estimator-id-34\" class=\"sk-toggleable__label sk-toggleable__label-arrow\">RandomForestClassifier</label><div class=\"sk-toggleable__content\"><pre>RandomForestClassifier(max_depth=8, n_estimators=500, random_state=0)</pre></div></div></div></div></div>"
      ],
      "text/plain": [
       "RandomForestClassifier(max_depth=8, n_estimators=500, random_state=0)"
      ]
     },
     "execution_count": 334,
     "metadata": {},
     "output_type": "execute_result"
    }
   ],
   "source": [
    "model_rf_smt.fit(X_trains,y_trains)"
   ]
  },
  {
   "cell_type": "code",
   "execution_count": 335,
   "id": "de0bc6ad-6fb5-4ee8-a2a5-ce53b097ffcc",
   "metadata": {
    "tags": []
   },
   "outputs": [],
   "source": [
    "pred_rf_smt = model_rf_smt.predict(X_tests)"
   ]
  },
  {
   "cell_type": "code",
   "execution_count": 336,
   "id": "e3bd5a11-f4d5-4ef6-ac9b-41f5170d587c",
   "metadata": {
    "tags": []
   },
   "outputs": [
    {
     "name": "stdout",
     "output_type": "stream",
     "text": [
      "80.0\n"
     ]
    }
   ],
   "source": [
    "rf_smt  = round(accuracy_score(y_tests, pred_rf_smt)*100, 2)\n",
    "print(rf_smt)"
   ]
  },
  {
   "cell_type": "code",
   "execution_count": 344,
   "id": "0589f4c5-b1c6-4999-a917-337e9e87e68e",
   "metadata": {
    "tags": []
   },
   "outputs": [
    {
     "name": "stdout",
     "output_type": "stream",
     "text": [
      "Accuracy : 80.0 %\n",
      "Precision: 80.42 %\n",
      "Recall: 80.0 %\n",
      "f1-score: 79.93 %\n"
     ]
    }
   ],
   "source": [
    "from sklearn.metrics import accuracy_score, precision_score, recall_score, f1_score # algorithm for call accuracy_score, precision_score, recall score and f1-score\n",
    "\n",
    "print('Accuracy :', round(accuracy_score(y_tests, pred_rf_smt)*100,2),\"%\")\n",
    "print('Precision:', round(precision_score(y_tests, pred_rf_smt, average='weighted', zero_division=0)*100,2),\"%\")\n",
    "print('Recall:', round(recall_score(y_tests, pred_rf_smt, average='weighted', zero_division=0)*100,2), \"%\")\n",
    "print('f1-score:',round(f1_score(y_tests,pred_rf_smt, average='weighted', zero_division=0)*100,2), \"%\")"
   ]
  },
  {
   "cell_type": "markdown",
   "id": "f8aeee70-64ca-4f2f-b42f-24158e11e436",
   "metadata": {
    "tags": []
   },
   "source": [
    "## SVM"
   ]
  },
  {
   "cell_type": "code",
   "execution_count": 338,
   "id": "1067bfd2-6113-45bb-91af-d614fae6e954",
   "metadata": {
    "tags": []
   },
   "outputs": [
    {
     "name": "stdout",
     "output_type": "stream",
     "text": [
      "Fitting 5 folds for each of 12 candidates, totalling 60 fits\n",
      "[CV 1/5] END .................C=0.1, kernel=rbf;, score=0.768 total time=   3.7s\n",
      "[CV 2/5] END .................C=0.1, kernel=rbf;, score=0.772 total time=   3.7s\n",
      "[CV 3/5] END .................C=0.1, kernel=rbf;, score=0.782 total time=   3.2s\n",
      "[CV 4/5] END .................C=0.1, kernel=rbf;, score=0.770 total time=   2.9s\n",
      "[CV 5/5] END .................C=0.1, kernel=rbf;, score=0.779 total time=   3.3s\n",
      "[CV 1/5] END ................C=0.1, kernel=poly;, score=0.764 total time=   2.1s\n",
      "[CV 2/5] END ................C=0.1, kernel=poly;, score=0.778 total time=   2.6s\n",
      "[CV 3/5] END ................C=0.1, kernel=poly;, score=0.778 total time=   2.2s\n",
      "[CV 4/5] END ................C=0.1, kernel=poly;, score=0.763 total time=   2.3s\n",
      "[CV 5/5] END ................C=0.1, kernel=poly;, score=0.770 total time=   2.0s\n",
      "[CV 1/5] END .............C=0.1, kernel=sigmoid;, score=0.656 total time=   3.4s\n",
      "[CV 2/5] END .............C=0.1, kernel=sigmoid;, score=0.642 total time=   3.7s\n",
      "[CV 3/5] END .............C=0.1, kernel=sigmoid;, score=0.658 total time=   3.2s\n",
      "[CV 4/5] END .............C=0.1, kernel=sigmoid;, score=0.647 total time=   3.1s\n",
      "[CV 5/5] END .............C=0.1, kernel=sigmoid;, score=0.666 total time=   3.1s\n",
      "[CV 1/5] END ...................C=1, kernel=rbf;, score=0.781 total time=   3.6s\n",
      "[CV 2/5] END ...................C=1, kernel=rbf;, score=0.783 total time=   3.5s\n",
      "[CV 3/5] END ...................C=1, kernel=rbf;, score=0.790 total time=   3.2s\n",
      "[CV 4/5] END ...................C=1, kernel=rbf;, score=0.786 total time=   2.9s\n",
      "[CV 5/5] END ...................C=1, kernel=rbf;, score=0.788 total time=   3.8s\n",
      "[CV 1/5] END ..................C=1, kernel=poly;, score=0.786 total time=   2.3s\n",
      "[CV 2/5] END ..................C=1, kernel=poly;, score=0.783 total time=   2.5s\n",
      "[CV 3/5] END ..................C=1, kernel=poly;, score=0.790 total time=   2.9s\n",
      "[CV 4/5] END ..................C=1, kernel=poly;, score=0.790 total time=   2.3s\n",
      "[CV 5/5] END ..................C=1, kernel=poly;, score=0.792 total time=   2.1s\n",
      "[CV 1/5] END ...............C=1, kernel=sigmoid;, score=0.634 total time=   2.2s\n",
      "[CV 2/5] END ...............C=1, kernel=sigmoid;, score=0.611 total time=   2.1s\n",
      "[CV 3/5] END ...............C=1, kernel=sigmoid;, score=0.623 total time=   2.9s\n",
      "[CV 4/5] END ...............C=1, kernel=sigmoid;, score=0.616 total time=   3.5s\n",
      "[CV 5/5] END ...............C=1, kernel=sigmoid;, score=0.635 total time=   2.6s\n",
      "[CV 1/5] END ..................C=10, kernel=rbf;, score=0.803 total time=   3.5s\n",
      "[CV 2/5] END ..................C=10, kernel=rbf;, score=0.792 total time=   4.0s\n",
      "[CV 3/5] END ..................C=10, kernel=rbf;, score=0.797 total time=   4.2s\n",
      "[CV 4/5] END ..................C=10, kernel=rbf;, score=0.803 total time=   3.5s\n",
      "[CV 5/5] END ..................C=10, kernel=rbf;, score=0.789 total time=   3.5s\n",
      "[CV 1/5] END .................C=10, kernel=poly;, score=0.787 total time=   6.2s\n",
      "[CV 2/5] END .................C=10, kernel=poly;, score=0.777 total time=   5.5s\n",
      "[CV 3/5] END .................C=10, kernel=poly;, score=0.794 total time=   5.5s\n",
      "[CV 4/5] END .................C=10, kernel=poly;, score=0.796 total time=   5.9s\n",
      "[CV 5/5] END .................C=10, kernel=poly;, score=0.784 total time=   4.5s\n",
      "[CV 1/5] END ..............C=10, kernel=sigmoid;, score=0.621 total time=   1.8s\n",
      "[CV 2/5] END ..............C=10, kernel=sigmoid;, score=0.609 total time=   2.3s\n",
      "[CV 3/5] END ..............C=10, kernel=sigmoid;, score=0.634 total time=   1.6s\n",
      "[CV 4/5] END ..............C=10, kernel=sigmoid;, score=0.616 total time=   3.5s\n",
      "[CV 5/5] END ..............C=10, kernel=sigmoid;, score=0.631 total time=   3.0s\n",
      "[CV 1/5] END .................C=100, kernel=rbf;, score=0.794 total time=   7.1s\n",
      "[CV 2/5] END .................C=100, kernel=rbf;, score=0.789 total time=   7.5s\n",
      "[CV 3/5] END .................C=100, kernel=rbf;, score=0.798 total time=   6.6s\n",
      "[CV 4/5] END .................C=100, kernel=rbf;, score=0.805 total time=   7.3s\n",
      "[CV 5/5] END .................C=100, kernel=rbf;, score=0.799 total time=   6.3s\n",
      "[CV 1/5] END ................C=100, kernel=poly;, score=0.793 total time=  36.3s\n",
      "[CV 2/5] END ................C=100, kernel=poly;, score=0.772 total time=  35.0s\n",
      "[CV 3/5] END ................C=100, kernel=poly;, score=0.793 total time=  49.7s\n",
      "[CV 4/5] END ................C=100, kernel=poly;, score=0.802 total time=  38.0s\n",
      "[CV 5/5] END ................C=100, kernel=poly;, score=0.784 total time=  45.8s\n",
      "[CV 1/5] END .............C=100, kernel=sigmoid;, score=0.621 total time=   1.8s\n",
      "[CV 2/5] END .............C=100, kernel=sigmoid;, score=0.609 total time=   5.8s\n",
      "[CV 3/5] END .............C=100, kernel=sigmoid;, score=0.620 total time=   2.0s\n",
      "[CV 4/5] END .............C=100, kernel=sigmoid;, score=0.625 total time=   2.1s\n",
      "[CV 5/5] END .............C=100, kernel=sigmoid;, score=0.631 total time=   3.3s\n"
     ]
    },
    {
     "data": {
      "text/plain": [
       "{'C': 100, 'kernel': 'rbf'}"
      ]
     },
     "execution_count": 338,
     "metadata": {},
     "output_type": "execute_result"
    }
   ],
   "source": [
    "param_grid = {\n",
    " 'C' : [0.1,1, 10, 100],\n",
    " 'kernel' : ['rbf','poly', 'sigmoid'],\n",
    "}\n",
    "\n",
    "sv_smt = SVC(random_state = 0)\n",
    "CV_sv_smt = GridSearchCV(estimator=sv_smt, verbose = 3, param_grid=param_grid, cv= 5)\n",
    "CV_sv_smt.fit(X_trains, y_trains)\n",
    "CV_sv_smt.best_params_"
   ]
  },
  {
   "cell_type": "code",
   "execution_count": 339,
   "id": "2e8c7f4e-9770-4101-a4e0-63bbdb0b61a3",
   "metadata": {
    "tags": []
   },
   "outputs": [],
   "source": [
    "model_svm_smt = SVC(C = 100, kernel='rbf', random_state = 0)"
   ]
  },
  {
   "cell_type": "code",
   "execution_count": 340,
   "id": "25e81a8a-04b4-4a78-ac53-e8690c08f015",
   "metadata": {
    "tags": []
   },
   "outputs": [
    {
     "data": {
      "text/html": [
       "<style>#sk-container-id-35 {color: black;}#sk-container-id-35 pre{padding: 0;}#sk-container-id-35 div.sk-toggleable {background-color: white;}#sk-container-id-35 label.sk-toggleable__label {cursor: pointer;display: block;width: 100%;margin-bottom: 0;padding: 0.3em;box-sizing: border-box;text-align: center;}#sk-container-id-35 label.sk-toggleable__label-arrow:before {content: \"▸\";float: left;margin-right: 0.25em;color: #696969;}#sk-container-id-35 label.sk-toggleable__label-arrow:hover:before {color: black;}#sk-container-id-35 div.sk-estimator:hover label.sk-toggleable__label-arrow:before {color: black;}#sk-container-id-35 div.sk-toggleable__content {max-height: 0;max-width: 0;overflow: hidden;text-align: left;background-color: #f0f8ff;}#sk-container-id-35 div.sk-toggleable__content pre {margin: 0.2em;color: black;border-radius: 0.25em;background-color: #f0f8ff;}#sk-container-id-35 input.sk-toggleable__control:checked~div.sk-toggleable__content {max-height: 200px;max-width: 100%;overflow: auto;}#sk-container-id-35 input.sk-toggleable__control:checked~label.sk-toggleable__label-arrow:before {content: \"▾\";}#sk-container-id-35 div.sk-estimator input.sk-toggleable__control:checked~label.sk-toggleable__label {background-color: #d4ebff;}#sk-container-id-35 div.sk-label input.sk-toggleable__control:checked~label.sk-toggleable__label {background-color: #d4ebff;}#sk-container-id-35 input.sk-hidden--visually {border: 0;clip: rect(1px 1px 1px 1px);clip: rect(1px, 1px, 1px, 1px);height: 1px;margin: -1px;overflow: hidden;padding: 0;position: absolute;width: 1px;}#sk-container-id-35 div.sk-estimator {font-family: monospace;background-color: #f0f8ff;border: 1px dotted black;border-radius: 0.25em;box-sizing: border-box;margin-bottom: 0.5em;}#sk-container-id-35 div.sk-estimator:hover {background-color: #d4ebff;}#sk-container-id-35 div.sk-parallel-item::after {content: \"\";width: 100%;border-bottom: 1px solid gray;flex-grow: 1;}#sk-container-id-35 div.sk-label:hover label.sk-toggleable__label {background-color: #d4ebff;}#sk-container-id-35 div.sk-serial::before {content: \"\";position: absolute;border-left: 1px solid gray;box-sizing: border-box;top: 0;bottom: 0;left: 50%;z-index: 0;}#sk-container-id-35 div.sk-serial {display: flex;flex-direction: column;align-items: center;background-color: white;padding-right: 0.2em;padding-left: 0.2em;position: relative;}#sk-container-id-35 div.sk-item {position: relative;z-index: 1;}#sk-container-id-35 div.sk-parallel {display: flex;align-items: stretch;justify-content: center;background-color: white;position: relative;}#sk-container-id-35 div.sk-item::before, #sk-container-id-35 div.sk-parallel-item::before {content: \"\";position: absolute;border-left: 1px solid gray;box-sizing: border-box;top: 0;bottom: 0;left: 50%;z-index: -1;}#sk-container-id-35 div.sk-parallel-item {display: flex;flex-direction: column;z-index: 1;position: relative;background-color: white;}#sk-container-id-35 div.sk-parallel-item:first-child::after {align-self: flex-end;width: 50%;}#sk-container-id-35 div.sk-parallel-item:last-child::after {align-self: flex-start;width: 50%;}#sk-container-id-35 div.sk-parallel-item:only-child::after {width: 0;}#sk-container-id-35 div.sk-dashed-wrapped {border: 1px dashed gray;margin: 0 0.4em 0.5em 0.4em;box-sizing: border-box;padding-bottom: 0.4em;background-color: white;}#sk-container-id-35 div.sk-label label {font-family: monospace;font-weight: bold;display: inline-block;line-height: 1.2em;}#sk-container-id-35 div.sk-label-container {text-align: center;}#sk-container-id-35 div.sk-container {/* jupyter's `normalize.less` sets `[hidden] { display: none; }` but bootstrap.min.css set `[hidden] { display: none !important; }` so we also need the `!important` here to be able to override the default hidden behavior on the sphinx rendered scikit-learn.org. See: https://github.com/scikit-learn/scikit-learn/issues/21755 */display: inline-block !important;position: relative;}#sk-container-id-35 div.sk-text-repr-fallback {display: none;}</style><div id=\"sk-container-id-35\" class=\"sk-top-container\"><div class=\"sk-text-repr-fallback\"><pre>SVC(C=100, random_state=0)</pre><b>In a Jupyter environment, please rerun this cell to show the HTML representation or trust the notebook. <br />On GitHub, the HTML representation is unable to render, please try loading this page with nbviewer.org.</b></div><div class=\"sk-container\" hidden><div class=\"sk-item\"><div class=\"sk-estimator sk-toggleable\"><input class=\"sk-toggleable__control sk-hidden--visually\" id=\"sk-estimator-id-35\" type=\"checkbox\" checked><label for=\"sk-estimator-id-35\" class=\"sk-toggleable__label sk-toggleable__label-arrow\">SVC</label><div class=\"sk-toggleable__content\"><pre>SVC(C=100, random_state=0)</pre></div></div></div></div></div>"
      ],
      "text/plain": [
       "SVC(C=100, random_state=0)"
      ]
     },
     "execution_count": 340,
     "metadata": {},
     "output_type": "execute_result"
    }
   ],
   "source": [
    "model_svm_smt.fit(X_trains, y_trains)"
   ]
  },
  {
   "cell_type": "code",
   "execution_count": 341,
   "id": "5bc93b3c-7bdb-42ff-875c-1ecd0f6bf5f6",
   "metadata": {
    "tags": []
   },
   "outputs": [],
   "source": [
    "# Making Prediction\n",
    "pred_svm_smt = model_svm_smt.predict(X_tests)"
   ]
  },
  {
   "cell_type": "code",
   "execution_count": 342,
   "id": "b6fc73b2-a17b-4cd7-9d5b-94afdd076282",
   "metadata": {
    "tags": []
   },
   "outputs": [
    {
     "name": "stdout",
     "output_type": "stream",
     "text": [
      "81.01\n"
     ]
    }
   ],
   "source": [
    "# Calculating Accuracy Score\n",
    "sv_smt = round(accuracy_score(y_tests, pred_svm_smt)*100, 2)\n",
    "print(sv_smt)"
   ]
  },
  {
   "cell_type": "code",
   "execution_count": 343,
   "id": "c41aacae-0510-442a-985f-e18ead3d56eb",
   "metadata": {
    "tags": []
   },
   "outputs": [
    {
     "name": "stdout",
     "output_type": "stream",
     "text": [
      "Accuracy : 81.01 %\n",
      "Precision: 81.7 %\n",
      "Recall: 81.01 %\n",
      "f1-score: 80.91 %\n"
     ]
    }
   ],
   "source": [
    "from sklearn.metrics import accuracy_score, precision_score, recall_score, f1_score # algorithm for call accuracy_score, precision_score, recall score and f1-score\n",
    "\n",
    "print('Accuracy :', round(accuracy_score(y_tests, pred_svm_smt)*100,2),\"%\")\n",
    "print('Precision:', round(precision_score(y_tests, pred_svm_smt, average='weighted', zero_division=0)*100,2),\"%\")\n",
    "print('Recall:', round(recall_score(y_tests, pred_svm_smt, average='weighted', zero_division=0)*100,2), \"%\")\n",
    "print('f1-score:',round(f1_score(y_tests,pred_svm_smt, average='weighted', zero_division=0)*100,2), \"%\")"
   ]
  },
  {
   "cell_type": "code",
   "execution_count": 345,
   "id": "c2d1663d-dae9-49c8-b55b-d33d28d9ea6f",
   "metadata": {
    "tags": []
   },
   "outputs": [
    {
     "data": {
      "text/plain": [
       "['svm.joblib']"
      ]
     },
     "execution_count": 345,
     "metadata": {},
     "output_type": "execute_result"
    }
   ],
   "source": [
    "import joblib\n",
    "\n",
    "# Simpan model dalam format joblib\n",
    "joblib.dump(model_svm_smt, 'svm.joblib')"
   ]
  },
  {
   "cell_type": "code",
   "execution_count": 347,
   "id": "08cea6a8-7999-4964-9ce1-96868f89030f",
   "metadata": {
    "tags": []
   },
   "outputs": [],
   "source": [
    "import pickle\n",
    "\n",
    "filename = 'churn_model.sav'\n",
    "pickle.dump(model_svm_smt, open(filename, 'wb'))"
   ]
  },
  {
   "cell_type": "code",
   "execution_count": null,
   "id": "1f84fbc8-b7fd-4c19-962a-937e21fa5904",
   "metadata": {},
   "outputs": [],
   "source": []
  }
 ],
 "metadata": {
  "kernelspec": {
   "display_name": "Python 3 (ipykernel)",
   "language": "python",
   "name": "python3"
  },
  "language_info": {
   "codemirror_mode": {
    "name": "ipython",
    "version": 3
   },
   "file_extension": ".py",
   "mimetype": "text/x-python",
   "name": "python",
   "nbconvert_exporter": "python",
   "pygments_lexer": "ipython3",
   "version": "3.11.5"
  }
 },
 "nbformat": 4,
 "nbformat_minor": 5
}
